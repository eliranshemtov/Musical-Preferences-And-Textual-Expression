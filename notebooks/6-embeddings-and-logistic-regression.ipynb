{
 "cells": [
  {
   "cell_type": "markdown",
   "metadata": {},
   "source": [
    "# SentenceTransformer example taken from [original docs](https://www.sbert.net/examples/applications/computing-embeddings/README.html)\n"
   ]
  },
  {
   "cell_type": "code",
   "execution_count": 1,
   "metadata": {},
   "outputs": [
    {
     "name": "stderr",
     "output_type": "stream",
     "text": [
      "/Users/eliran/Personal/dev/Musical-Preferences-And-Textual-Expression/.venv/lib/python3.11/site-packages/tqdm/auto.py:21: TqdmWarning: IProgress not found. Please update jupyter and ipywidgets. See https://ipywidgets.readthedocs.io/en/stable/user_install.html\n",
      "  from .autonotebook import tqdm as notebook_tqdm\n"
     ]
    }
   ],
   "source": [
    "from sentence_transformers import SentenceTransformer\n",
    "\n",
    "model = SentenceTransformer(\"all-MiniLM-L6-v2\")\n",
    "sentences = [\n",
    "    \"This framework generates embeddings for each input sentence\",\n",
    "    \"Sentences are passed as a list of string.\",\n",
    "    \"The quick brown fox jumps over the lazy dog.\",\n",
    "]\n",
    "embeddings = model.encode(sentences)"
   ]
  },
  {
   "cell_type": "markdown",
   "metadata": {},
   "source": [
    "# Extract texts & labels and generate doc-embedding per text\n",
    "\n",
    "Return list of [doc-embedding-vector, list-of-true-labels-by-attribute]\n"
   ]
  },
  {
   "cell_type": "code",
   "execution_count": 2,
   "metadata": {},
   "outputs": [
    {
     "name": "stdout",
     "output_type": "stream",
     "text": [
      "Here's a sample of the embeddings_with_labels data (1 item).\n",
      " \n",
      "      As you can see, the item is a tuple of doc-embedding-vector and a list of the true labels of the Big Five traits:\n",
      "(array([ 1.18929811e-03, -3.41515988e-02,  1.45341754e-02,  7.72646861e-03,\n",
      "        1.16681702e-01,  5.39377555e-02,  6.08672351e-02,  2.26857010e-02,\n",
      "       -4.65348288e-02, -1.89967435e-02, -3.88598652e-03,  8.06692094e-02,\n",
      "        1.47118038e-02,  3.55075449e-02, -3.67502160e-02, -1.04212342e-02,\n",
      "        1.79847740e-02,  1.83973350e-02, -4.96940054e-02, -2.24592742e-02,\n",
      "        4.12261672e-02, -5.77117503e-02, -2.36110520e-02,  6.25444725e-02,\n",
      "        3.60451266e-02,  1.63510010e-01, -5.74698625e-03, -9.83862281e-02,\n",
      "       -4.59853075e-02, -5.94336428e-02,  4.70443964e-02,  2.40970794e-02,\n",
      "       -3.37781757e-02, -3.90312672e-02,  4.54586372e-03,  1.72685795e-02,\n",
      "       -3.23326811e-02,  8.55467767e-02,  7.84962699e-02, -2.98641436e-02,\n",
      "       -4.21924720e-04,  1.85214765e-02,  3.63461711e-02,  5.97724766e-02,\n",
      "       -5.60135720e-03, -7.50913844e-02,  4.07864079e-02, -1.34991370e-02,\n",
      "        2.47353055e-02, -4.63704914e-02, -3.66821401e-02,  1.13711534e-02,\n",
      "       -2.85379458e-02, -3.76476832e-02,  4.52511087e-02,  7.78461024e-02,\n",
      "        7.09594488e-02,  6.97994456e-02,  2.30758209e-02,  5.98636689e-04,\n",
      "       -2.57532056e-02, -3.14833224e-02,  6.24735877e-02, -5.45700267e-02,\n",
      "       -4.62139919e-02,  7.92825073e-02,  2.34943554e-02,  2.59324093e-03,\n",
      "       -3.45767289e-02,  7.63678402e-02, -9.99235641e-03,  4.04389873e-02,\n",
      "        1.90974064e-02, -4.29620966e-02,  1.20700732e-01,  1.74362883e-02,\n",
      "        2.46080589e-02, -2.69944780e-02,  7.81995580e-02,  2.77728122e-02,\n",
      "        3.94252315e-02,  1.20036062e-02, -2.49846093e-02, -2.96665505e-02,\n",
      "       -5.72686791e-02, -3.13187279e-02,  1.38920015e-02,  4.53233495e-02,\n",
      "        1.10097088e-01, -6.73033297e-02,  2.43001319e-02, -7.37154707e-02,\n",
      "       -7.55135808e-03, -2.35249642e-02,  9.09849033e-02, -6.02620142e-03,\n",
      "       -4.80091432e-03,  3.92656513e-02,  3.29172909e-02,  2.87567661e-03,\n",
      "        2.04831250e-02,  5.32884486e-02, -1.29804667e-02, -2.82827206e-02,\n",
      "        8.07764940e-03, -1.40819922e-02,  3.36126462e-02,  7.33934939e-02,\n",
      "        1.14227952e-02, -4.09415402e-02,  1.76631194e-02, -3.56826223e-02,\n",
      "       -3.98502983e-02,  6.90563768e-02, -1.45604564e-02,  2.66430387e-03,\n",
      "       -3.36342258e-03,  5.57984924e-03,  2.98021864e-02,  5.14564477e-02,\n",
      "        3.46184485e-02,  5.16931899e-02,  4.39810529e-02, -7.30197970e-03,\n",
      "        3.17768753e-02,  2.68629752e-02,  6.87813736e-04,  1.68333326e-33,\n",
      "        2.15284936e-02, -2.93892715e-02, -3.82744484e-02,  1.29177030e-02,\n",
      "       -5.57606518e-02, -7.41762146e-02, -1.01563074e-02,  9.84521210e-02,\n",
      "        1.27903577e-02,  4.98313420e-02,  7.33390003e-02, -3.56864072e-02,\n",
      "       -2.39386838e-02, -2.92142830e-03,  6.61106631e-02, -6.88310489e-02,\n",
      "       -8.29340965e-02, -3.74348313e-02, -2.45355326e-03,  3.66467610e-02,\n",
      "        1.43571645e-02, -5.10657914e-02, -3.70328128e-03, -1.54964834e-01,\n",
      "        1.39185432e-02,  3.30110837e-04, -1.02168722e-02, -1.88586023e-02,\n",
      "       -4.38793302e-02, -1.02115015e-03,  4.45725955e-03,  3.05944066e-02,\n",
      "       -4.92864400e-02, -3.19990590e-02, -1.66225135e-02, -7.23561570e-02,\n",
      "        5.94271757e-02, -3.21155856e-03,  4.59456183e-02, -7.95320347e-02,\n",
      "       -4.45556603e-02,  9.86978486e-02,  4.31307331e-02,  4.32197638e-02,\n",
      "        2.16900110e-02, -3.72653408e-03,  3.17534208e-02, -1.14384503e-03,\n",
      "       -8.59385282e-02,  3.42534669e-02, -2.96090748e-02, -2.21181614e-03,\n",
      "        4.89591435e-03, -1.69877559e-01, -7.91076869e-02, -6.88980371e-02,\n",
      "        2.80770403e-03,  3.30261923e-02, -1.32708317e-02,  1.68697555e-02,\n",
      "        7.78029785e-02, -4.01467364e-03, -5.40610068e-02,  2.54359674e-02,\n",
      "        5.07369302e-02,  5.68870502e-03, -5.27706593e-02,  6.52451590e-02,\n",
      "        1.02416411e-01,  2.78563015e-02,  3.60936448e-02, -3.46771888e-02,\n",
      "        2.22912952e-02,  7.17629911e-03,  1.15602933e-01,  6.92520365e-02,\n",
      "        5.05147735e-03, -1.25198066e-01, -1.18979260e-01, -5.73899001e-02,\n",
      "        1.25117242e-01, -1.13370242e-02, -6.92323893e-02, -5.60592413e-02,\n",
      "       -3.38793062e-02, -1.58209335e-02,  3.06793917e-02,  3.15152429e-04,\n",
      "       -5.18293232e-02,  4.42163758e-02, -4.39523160e-03,  2.04713885e-02,\n",
      "        6.38590008e-02, -1.85264815e-02, -9.33955163e-02, -9.45145213e-34,\n",
      "        4.83800136e-02, -1.47547442e-02,  6.37698323e-02, -6.37225136e-02,\n",
      "        6.25640620e-04,  5.04447380e-03, -5.76028659e-04, -9.51809511e-02,\n",
      "       -7.12736994e-02, -2.26171389e-02, -1.08854854e-02, -2.02836692e-02,\n",
      "       -1.24735795e-02,  2.28360258e-02, -5.49080931e-02, -3.25691700e-02,\n",
      "       -1.25899483e-02,  6.49812818e-02, -1.10132761e-01,  2.70577148e-02,\n",
      "       -1.11273043e-01, -3.54537740e-02, -4.26395275e-02, -1.77538805e-02,\n",
      "       -2.72679469e-03,  6.34691045e-02, -1.49067435e-02,  4.92627621e-02,\n",
      "       -4.96445335e-02, -1.87631007e-02, -4.94787171e-02,  3.53553589e-03,\n",
      "        6.52521923e-02, -6.58666939e-02, -3.23605090e-02,  1.00028981e-02,\n",
      "       -4.85431477e-02, -1.55574102e-02, -7.11353496e-02, -4.30981768e-03,\n",
      "       -1.33246428e-03,  1.11652343e-02, -2.19429210e-02, -5.76395653e-02,\n",
      "        1.18427780e-02,  4.40439694e-02, -2.22005751e-02,  4.78154607e-02,\n",
      "       -5.00742532e-02,  8.11757594e-02,  5.45881502e-02, -1.91358998e-02,\n",
      "        1.06330272e-02, -3.11457869e-02,  3.68344933e-02,  2.39711422e-02,\n",
      "        3.17422450e-02, -6.78777024e-02, -2.22976170e-02,  4.71534394e-02,\n",
      "       -5.27518019e-02, -3.98142338e-02,  3.74613032e-02, -3.91331203e-02,\n",
      "        1.68137960e-02, -5.08929677e-02, -5.30670173e-02, -7.94691965e-03,\n",
      "        6.02384172e-02,  5.09708747e-02, -9.09284595e-03,  3.20602916e-02,\n",
      "       -3.02341729e-02, -5.77557832e-02,  6.50894567e-02, -3.14798467e-02,\n",
      "        3.73441465e-02,  4.74730060e-02, -3.27682868e-02,  1.15122078e-02,\n",
      "        2.07210262e-03, -2.46305484e-03, -3.79621022e-04, -8.60279649e-02,\n",
      "       -3.41863260e-02,  8.46698359e-02, -1.58763416e-02,  1.77132897e-02,\n",
      "        6.13043904e-02, -3.35559435e-02, -6.55728579e-02,  3.81876230e-02,\n",
      "       -3.86525840e-02, -1.74799282e-02, -1.33764837e-02, -5.41575105e-08,\n",
      "        3.41810770e-02, -5.70684373e-02, -3.70657220e-02,  7.15191886e-02,\n",
      "       -1.01545807e-02, -1.03685878e-01,  1.43754529e-02,  5.27777299e-02,\n",
      "       -1.90707482e-02,  7.45887086e-02,  9.92415380e-03, -5.63244447e-02,\n",
      "        3.19751799e-02,  2.20461115e-02,  3.84493545e-02,  6.06326154e-03,\n",
      "        1.13449968e-01,  6.59551891e-03, -2.99743619e-02, -1.75157264e-02,\n",
      "        3.94034758e-02, -6.43634126e-02, -1.15445822e-01,  1.24978498e-02,\n",
      "       -1.22686084e-02,  6.09526271e-03,  4.68864962e-02,  4.87492904e-02,\n",
      "        4.67495136e-02,  7.38243982e-02,  3.01619060e-02, -2.60099117e-03,\n",
      "       -1.18748456e-01, -7.56410658e-02, -2.12161317e-02, -1.64907962e-01,\n",
      "        1.14713579e-01,  9.90877766e-03,  1.93296392e-02,  1.09664902e-01,\n",
      "        1.23905139e-02, -5.47795407e-02,  5.23375832e-02,  6.54624701e-02,\n",
      "       -9.47426725e-03,  5.40039968e-03, -2.05488261e-02,  7.61006447e-03,\n",
      "        1.88717600e-02, -8.77932180e-03,  4.81732972e-02, -5.02741076e-02,\n",
      "        2.75612273e-03, -2.36145109e-02, -4.18310836e-02,  1.25061255e-02,\n",
      "        2.10830346e-02,  8.51792051e-04, -1.49628490e-01,  4.57613952e-02,\n",
      "        7.43571743e-02,  1.07416712e-01, -1.23416774e-01,  5.04479222e-02],\n",
      "      dtype=float32), [False, True, True, False, True])\n"
     ]
    }
   ],
   "source": [
    "from sentence_transformers import SentenceTransformer\n",
    "import pandas as pd\n",
    "\n",
    "\n",
    "def get_bool_labels(\n",
    "    df: pd.DataFrame, attr_names_list: list[str], current_row_index: int\n",
    ") -> list[bool]:\n",
    "    current_row_labels = [\n",
    "        df[attr_name][current_row_index] for attr_name in attr_names_list\n",
    "    ]\n",
    "    return [True if label == \"y\" else False for label in current_row_labels]\n",
    "\n",
    "\n",
    "def generate_embeddings_and_labels(\n",
    "    file_path: str,\n",
    "    encoding=\"ISO-8859-1\",\n",
    "    content_column_name=\"TEXT\",\n",
    "    attr_names_list=[\"cEXT\", \"cNEU\", \"cAGR\", \"cCON\", \"cOPN\"],\n",
    ") -> list[tuple[list[float], list[bool]]]:\n",
    "    \"\"\"\n",
    "    1. Generate embedding to every text in the given csv file.\n",
    "    2. Extract true labels for every text and convert to booleans.\n",
    "    3. Return list of tuples (embedding, labels). So every item in the list is a the text's vector and its true labels by order.\n",
    "    \"\"\"\n",
    "    df = pd.read_csv(file_path, encoding=encoding)\n",
    "    model = SentenceTransformer(\"all-MiniLM-L6-v2\")\n",
    "    embeddings = model.encode(df[content_column_name])\n",
    "    embeddings_with_labels = []\n",
    "    for i, vector in enumerate(embeddings):\n",
    "        row_labels = get_bool_labels(df, attr_names_list, i)\n",
    "        embeddings_with_labels.append((vector, row_labels))\n",
    "    return embeddings_with_labels\n",
    "\n",
    "\n",
    "essays_filepath = \"../data/essays.csv\"\n",
    "essays_attrs_names = [\"cEXT\", \"cNEU\", \"cAGR\", \"cCON\", \"cOPN\"]\n",
    "embeddings_with_labels = generate_embeddings_and_labels(\n",
    "    essays_filepath, attr_names_list=essays_attrs_names\n",
    ")\n",
    "print(\"\"\"Here's a sample of the embeddings_with_labels data (1 item).\\n \n",
    "      As you can see, the item is a tuple of doc-embedding-vector and a list of the true labels of the Big Five traits:\"\"\")\n",
    "print(embeddings_with_labels[0])"
   ]
  },
  {
   "cell_type": "markdown",
   "metadata": {},
   "source": [
    "# Split to train/test sets (0.8/0.2) and train 5 logistic regression models (1 per each of the Big Five traits)\n"
   ]
  },
  {
   "cell_type": "code",
   "execution_count": 3,
   "metadata": {},
   "outputs": [],
   "source": [
    "from sklearn.linear_model import LogisticRegression\n",
    "from sklearn.model_selection import train_test_split\n",
    "import numpy as np\n",
    "\n",
    "train_data, test_data = train_test_split(embeddings_with_labels, test_size=0.2)\n",
    "train_labels = np.array([x[1] for x in train_data])\n",
    "train_data = np.array([x[0] for x in train_data])\n",
    "clfs = []\n",
    "\n",
    "for i in range(len(essays_attrs_names)):\n",
    "    single_attr_true_labels = [row_labels[i] for row_labels in train_labels]\n",
    "    clfs.append(\n",
    "        LogisticRegression(random_state=0).fit(train_data, single_attr_true_labels)\n",
    "    )"
   ]
  },
  {
   "cell_type": "markdown",
   "metadata": {},
   "source": [
    "# Evaluate against the test set\n",
    "\n",
    "### As we can see, the logistic regression's model per trait provide accuracy scores that are not too far away from the baseline tools we've evaluated\n"
   ]
  },
  {
   "cell_type": "code",
   "execution_count": 4,
   "metadata": {},
   "outputs": [
    {
     "name": "stdout",
     "output_type": "stream",
     "text": [
      "cEXT 0.5566801619433198\n",
      "cNEU 0.5991902834008097\n",
      "cAGR 0.5506072874493927\n",
      "cCON 0.5141700404858299\n",
      "cOPN 0.6234817813765182\n"
     ]
    }
   ],
   "source": [
    "_test_labels = np.array([x[1] for x in test_data])\n",
    "_test_data = np.array([x[0] for x in test_data])\n",
    "\n",
    "for i in range(len(essays_attrs_names)):\n",
    "    single_attr_true_labels = [row_labels[i] for row_labels in _test_labels]\n",
    "    print(essays_attrs_names[i], clfs[i].score(_test_data, single_attr_true_labels))"
   ]
  }
 ],
 "metadata": {
  "kernelspec": {
   "display_name": ".venv",
   "language": "python",
   "name": "python3"
  },
  "language_info": {
   "codemirror_mode": {
    "name": "ipython",
    "version": 3
   },
   "file_extension": ".py",
   "mimetype": "text/x-python",
   "name": "python",
   "nbconvert_exporter": "python",
   "pygments_lexer": "ipython3",
   "version": "3.11.7"
  }
 },
 "nbformat": 4,
 "nbformat_minor": 2
}
