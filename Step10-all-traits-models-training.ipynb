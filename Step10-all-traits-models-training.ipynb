{
 "cells": [
  {
   "cell_type": "markdown",
   "metadata": {},
   "source": [
    "# Train all traits' models\n",
    "\n",
    "This notebook generalizes the processes done in notebooks 7 & 9 for OPN and EXT <br>\n",
    "Those steps were written in a patch-over-patch and to scale well to other traits, has to be re-written.\n"
   ]
  },
  {
   "cell_type": "markdown",
   "metadata": {},
   "source": [
    "## Read the dataset\n"
   ]
  },
  {
   "cell_type": "code",
   "execution_count": 1,
   "metadata": {},
   "outputs": [],
   "source": [
    "import pandas as pd\n",
    "\n",
    "file_path = \"analysis/llm-dataset-generation/traits-definitions.xlsx\"\n",
    "\n",
    "\n",
    "def read_dataset(file_path, sheet_name) -> list[str]:\n",
    "    df = pd.read_excel(file_path, sheet_name=sheet_name)\n",
    "    return df.iloc[:, 0].tolist()"
   ]
  },
  {
   "cell_type": "markdown",
   "metadata": {},
   "source": [
    "## Filter unique texts\n",
    "\n",
    "Embed the dataset and apply cosine similarity to filter out \"too similar\" texts\n"
   ]
  },
  {
   "cell_type": "code",
   "execution_count": 2,
   "metadata": {},
   "outputs": [],
   "source": [
    "from sentence_transformers import SentenceTransformer, util\n",
    "from tqdm import tqdm\n",
    "import openpyxl\n",
    "from torch.types import _TensorOrTensors\n",
    "\n",
    "SIMILARITY_THRESHOLD = 0.95\n",
    "MODEL = \"intfloat/e5-large-v2\"\n",
    "\n",
    "\n",
    "def overwrite_sheet(file_path: str, sheet_name: str, texts: list[str]) -> None:\n",
    "    workbook = openpyxl.load_workbook(file_path)\n",
    "    if sheet_name in workbook.sheetnames:\n",
    "        workbook.remove(workbook[sheet_name])\n",
    "    new_sheet = workbook.create_sheet(title=sheet_name)\n",
    "    for i, paragraph in enumerate(texts):\n",
    "        new_sheet.cell(row=i + 1, column=1, value=paragraph)\n",
    "    workbook.save(file_path)\n",
    "\n",
    "\n",
    "def get_unique_paragraphs(\n",
    "    texts: list[str], label: str, sheet_name: str\n",
    ") -> tuple[list[_TensorOrTensors], list[str]]:\n",
    "    model = SentenceTransformer(MODEL)\n",
    "    embeddings = model.encode(texts, convert_to_tensor=True)\n",
    "    similarities = util.pytorch_cos_sim(embeddings, embeddings)\n",
    "    unique_paragraphs = []\n",
    "    unique_embeddings = []\n",
    "    for i in tqdm(range(len(texts))):\n",
    "        is_dissimilar = all(\n",
    "            similarity < SIMILARITY_THRESHOLD\n",
    "            for j, similarity in enumerate(similarities[i])\n",
    "            if j != i\n",
    "        )\n",
    "        if is_dissimilar:\n",
    "            unique_paragraphs.append(texts[i])\n",
    "            unique_embeddings.append((embeddings[i], label))\n",
    "\n",
    "    print(f\"{label}: {len(unique_paragraphs)}/{len(texts)} Unique Paragraphs.\")\n",
    "    if not unique_paragraphs:\n",
    "        print(\"No unique paragraphs found.\")\n",
    "\n",
    "    overwrite_sheet(\n",
    "        file_path,\n",
    "        sheet_name,\n",
    "        unique_paragraphs,\n",
    "    )\n",
    "    return (unique_embeddings, unique_paragraphs)"
   ]
  },
  {
   "cell_type": "code",
   "execution_count": 3,
   "metadata": {},
   "outputs": [
    {
     "name": "stderr",
     "output_type": "stream",
     "text": [
      "100%|██████████| 176/176 [00:00<00:00, 2214.06it/s]\n"
     ]
    },
    {
     "name": "stdout",
     "output_type": "stream",
     "text": [
      "HIGH_EXT: 167/176 Unique Paragraphs.\n"
     ]
    },
    {
     "name": "stderr",
     "output_type": "stream",
     "text": [
      "100%|██████████| 359/359 [00:00<00:00, 1185.08it/s]\n"
     ]
    },
    {
     "name": "stdout",
     "output_type": "stream",
     "text": [
      "LOW_EXT: 286/359 Unique Paragraphs.\n"
     ]
    },
    {
     "name": "stderr",
     "output_type": "stream",
     "text": [
      "100%|██████████| 149/149 [00:00<00:00, 2600.40it/s]\n"
     ]
    },
    {
     "name": "stdout",
     "output_type": "stream",
     "text": [
      "HIGH_OPN: 143/149 Unique Paragraphs.\n"
     ]
    },
    {
     "name": "stderr",
     "output_type": "stream",
     "text": [
      "100%|██████████| 215/215 [00:00<00:00, 2223.07it/s]\n"
     ]
    },
    {
     "name": "stdout",
     "output_type": "stream",
     "text": [
      "LOW_OPN: 129/215 Unique Paragraphs.\n"
     ]
    }
   ],
   "source": [
    "HIGH_EXT_LABEL = \"HIGH_EXT\"\n",
    "LOW_EXT_LABEL = \"LOW_EXT\"\n",
    "HIGH_OPN_LABEL = \"HIGH_OPN\"\n",
    "LOW_OPN_LABEL = \"LOW_OPN\"\n",
    "labels = [HIGH_EXT_LABEL, LOW_EXT_LABEL, HIGH_OPN_LABEL, LOW_OPN_LABEL]\n",
    "\n",
    "unique_vectors_with_labels = {}\n",
    "unique_paragraphs = {}\n",
    "\n",
    "for label in labels:\n",
    "    texts = read_dataset(file_path, f\"{label}-GPT3.5\")\n",
    "    unique_vectors_with_labels[label], unique_paragraphs[label] = get_unique_paragraphs(\n",
    "        texts, label, f\"{label}-GPT3.5-filtered\"\n",
    "    )"
   ]
  },
  {
   "cell_type": "markdown",
   "metadata": {},
   "source": [
    "## Dataset Statistics\n"
   ]
  },
  {
   "cell_type": "code",
   "execution_count": 4,
   "metadata": {},
   "outputs": [
    {
     "data": {
      "text/plain": [
       "HIGH_EXT  count    167.000000\n",
       "          mean      80.922156\n",
       "          std       34.531284\n",
       "          min       38.000000\n",
       "          25%       52.000000\n",
       "          50%       77.000000\n",
       "          75%       98.000000\n",
       "          max      199.000000\n",
       "LOW_EXT   count    286.000000\n",
       "          mean      69.300699\n",
       "          std       21.085801\n",
       "          min       34.000000\n",
       "          25%       53.000000\n",
       "          50%       65.000000\n",
       "          75%       82.000000\n",
       "          max      142.000000\n",
       "HIGH_OPN  count    143.000000\n",
       "          mean      65.524476\n",
       "          std       10.643938\n",
       "          min       40.000000\n",
       "          25%       59.500000\n",
       "          50%       65.000000\n",
       "          75%       72.000000\n",
       "          max      105.000000\n",
       "LOW_OPN   count    129.000000\n",
       "          mean      60.302326\n",
       "          std       12.095715\n",
       "          min       39.000000\n",
       "          25%       53.000000\n",
       "          50%       59.000000\n",
       "          75%       65.000000\n",
       "          max      100.000000\n",
       "Name: Token Count, dtype: float64"
      ]
     },
     "execution_count": 4,
     "metadata": {},
     "output_type": "execute_result"
    }
   ],
   "source": [
    "dfs = []\n",
    "for label in labels:\n",
    "    df = pd.DataFrame(unique_paragraphs[label], columns=[\"Paragraph\"])\n",
    "    df[\"Token Count\"] = df[\"Paragraph\"].apply(lambda x: len(x.split()))\n",
    "    dfs.append(df[\"Token Count\"].describe())\n",
    "\n",
    "pd.concat(dfs, keys=labels)"
   ]
  },
  {
   "cell_type": "markdown",
   "metadata": {},
   "source": [
    "## Logistic Regression\n"
   ]
  },
  {
   "cell_type": "markdown",
   "metadata": {},
   "source": [
    "### Train\n"
   ]
  },
  {
   "cell_type": "code",
   "execution_count": 5,
   "metadata": {},
   "outputs": [],
   "source": [
    "from sklearn.linear_model import LogisticRegression\n",
    "import pickle\n",
    "\n",
    "\n",
    "def train_model(low_label, high_label):\n",
    "    vectors_with_labels = (\n",
    "        unique_vectors_with_labels[low_label] + unique_vectors_with_labels[high_label]\n",
    "    )\n",
    "    train_vectors = [t[0] for t in vectors_with_labels]\n",
    "    train_labels = [t[1] for t in vectors_with_labels]\n",
    "    return LogisticRegression(random_state=0).fit(train_vectors, train_labels)\n",
    "\n",
    "\n",
    "def persist_model(model, model_name):\n",
    "    with open(f\"models/step-10/{model_name}.pkl\", \"wb\") as f:\n",
    "        pickle.dump(model, f)"
   ]
  },
  {
   "cell_type": "code",
   "execution_count": 6,
   "metadata": {},
   "outputs": [],
   "source": [
    "import os\n",
    "\n",
    "\n",
    "def get_trained_trait_model(model_name, low_label, high_label):\n",
    "    model_path = f\"models/step-10/{model_name}.pkl\"\n",
    "    if os.path.exists(model_path):\n",
    "        with open(model_path, \"rb\") as f:\n",
    "            model = pickle.load(f)\n",
    "    else:\n",
    "        model = train_model(low_label, high_label)\n",
    "        persist_model(model, model_name)\n",
    "    return model\n",
    "\n",
    "\n",
    "gpt_ext = get_trained_trait_model(\"gpt_ext\", LOW_EXT_LABEL, HIGH_EXT_LABEL)\n",
    "gpt_opn = get_trained_trait_model(\"gpt_opn\", LOW_OPN_LABEL, HIGH_OPN_LABEL)"
   ]
  },
  {
   "cell_type": "markdown",
   "metadata": {},
   "source": [
    "### Test\n"
   ]
  },
  {
   "cell_type": "markdown",
   "metadata": {},
   "source": [
    "#### MyPersonality general processing\n"
   ]
  },
  {
   "cell_type": "code",
   "execution_count": 7,
   "metadata": {},
   "outputs": [],
   "source": [
    "import pandas as pd\n",
    "import pickle\n",
    "import os\n",
    "\n",
    "\n",
    "def process_my_personality_dataset(file_path, vectors_path):\n",
    "    MODEL = \"intfloat/e5-large-v2\"\n",
    "    model = SentenceTransformer(MODEL)\n",
    "    df = pd.read_csv(file_path, encoding=\"ISO-8859-1\")\n",
    "\n",
    "    if os.path.exists(vectors_path):\n",
    "        with open(vectors_path, \"rb\") as f:\n",
    "            vectors = pickle.load(f)\n",
    "    else:\n",
    "        vectors = model.encode(df[\"STATUS\"], convert_to_tensor=True)\n",
    "        with open(vectors_path, \"wb\") as f:\n",
    "            pickle.dump(vectors, f)\n",
    "\n",
    "    return vectors, df\n",
    "\n",
    "\n",
    "def evaluate_score_for_trait(model, vectors, df, trait_col, trait_value_map):\n",
    "    df[trait_col] = df[trait_col].map(trait_value_map)\n",
    "    print(\"Model score for\", trait_col, model.score(vectors, df[trait_col]))"
   ]
  },
  {
   "cell_type": "markdown",
   "metadata": {},
   "source": [
    "##### MyPersonality Concatenated\n"
   ]
  },
  {
   "cell_type": "code",
   "execution_count": 8,
   "metadata": {},
   "outputs": [
    {
     "name": "stdout",
     "output_type": "stream",
     "text": [
      "Model score for cEXT 0.484\n",
      "Model score for cOPN 0.464\n"
     ]
    }
   ],
   "source": [
    "vectors, df = process_my_personality_dataset(\n",
    "    file_path=\"./data/myPersonality-concatenated.csv\",\n",
    "    vectors_path=\"analysis/vectors/my_personality_concatenated.pkl\",\n",
    ")\n",
    "\n",
    "evaluate_score_for_trait(\n",
    "    gpt_ext, vectors, df, \"cEXT\", {\"y\": HIGH_EXT_LABEL, \"n\": LOW_EXT_LABEL}\n",
    ")\n",
    "evaluate_score_for_trait(\n",
    "    gpt_opn, vectors, df, \"cOPN\", {\"y\": HIGH_OPN_LABEL, \"n\": LOW_OPN_LABEL}\n",
    ")"
   ]
  },
  {
   "cell_type": "markdown",
   "metadata": {},
   "source": [
    "##### MyPersonality\n"
   ]
  },
  {
   "cell_type": "code",
   "execution_count": 9,
   "metadata": {},
   "outputs": [
    {
     "name": "stdout",
     "output_type": "stream",
     "text": [
      "Model score for cEXT 0.5005546032066149\n",
      "Model score for cOPN 0.5387718059897146\n"
     ]
    }
   ],
   "source": [
    "vectors, df = process_my_personality_dataset(\n",
    "    file_path=\"./data/myPersonality.csv\",\n",
    "    vectors_path=\"analysis/vectors/my_personality.pkl\",\n",
    ")\n",
    "\n",
    "evaluate_score_for_trait(\n",
    "    gpt_ext, vectors, df, \"cEXT\", {\"y\": HIGH_EXT_LABEL, \"n\": LOW_EXT_LABEL}\n",
    ")\n",
    "evaluate_score_for_trait(\n",
    "    gpt_opn, vectors, df, \"cOPN\", {\"y\": HIGH_OPN_LABEL, \"n\": LOW_OPN_LABEL}\n",
    ")"
   ]
  },
  {
   "cell_type": "markdown",
   "metadata": {},
   "source": [
    "#### Bard's unssen dataset\n"
   ]
  },
  {
   "cell_type": "code",
   "execution_count": 10,
   "metadata": {},
   "outputs": [],
   "source": [
    "import pandas as pd\n",
    "\n",
    "\n",
    "def load_and_encode_bard_dataset(file_path, low_label, high_label):\n",
    "    df = pd.read_excel(file_path, sheet_name=f\"{high_label}-Bard\")\n",
    "    high_texts = df.iloc[:, 0].tolist()\n",
    "    high_labels = [high_label for i in high_texts]\n",
    "\n",
    "    df = pd.read_excel(file_path, sheet_name=f\"{low_label}-Bard\")\n",
    "    low_texts = df.iloc[:, 0].tolist()\n",
    "    low_labels = [low_label for i in low_texts]\n",
    "\n",
    "    MODEL = \"intfloat/e5-large-v2\"\n",
    "    model = SentenceTransformer(MODEL)\n",
    "    embeddings = model.encode(low_texts + high_texts, convert_to_tensor=True)\n",
    "    labels = low_labels + high_labels\n",
    "    return embeddings, labels"
   ]
  },
  {
   "cell_type": "code",
   "execution_count": 12,
   "metadata": {},
   "outputs": [],
   "source": [
    "bard_ext_embeddings, bard_ext_labels = load_and_encode_bard_dataset(\n",
    "    file_path, LOW_EXT_LABEL, HIGH_EXT_LABEL\n",
    ")\n",
    "\n",
    "bard_opn_embeddings, bard_opn_labels = load_and_encode_bard_dataset(\n",
    "    file_path, LOW_OPN_LABEL, HIGH_OPN_LABEL\n",
    ")"
   ]
  },
  {
   "cell_type": "code",
   "execution_count": 13,
   "metadata": {},
   "outputs": [
    {
     "name": "stdout",
     "output_type": "stream",
     "text": [
      "GPT_EXT score on Bard's unseen test set: 0.963302752293578\n",
      "GPT_OPN score on Bard's unseen test set: 0.8723404255319149\n"
     ]
    }
   ],
   "source": [
    "gpt_ext_on_bard_score = gpt_ext.score(bard_ext_embeddings, bard_ext_labels)\n",
    "print(\"GPT_EXT score on Bard's unseen test set:\", gpt_ext_on_bard_score)\n",
    "\n",
    "gpt_opn_on_bard_score = gpt_opn.score(bard_opn_embeddings, bard_opn_labels)\n",
    "print(\"GPT_OPN score on Bard's unseen test set:\", gpt_opn_on_bard_score)"
   ]
  },
  {
   "cell_type": "markdown",
   "metadata": {},
   "source": [
    "### GPT & MyPerosnality Model\n",
    "\n",
    "Train a logistic regression model on GPT-Generated data combined with myPersonality data\n"
   ]
  },
  {
   "cell_type": "code",
   "execution_count": 14,
   "metadata": {},
   "outputs": [],
   "source": [
    "def train_my_personality_with_gpt(trait_column, low_label, high_label):\n",
    "    model_name = f\"my_personality_gpt_{trait_column}\"\n",
    "    model_path = f\"models/step-10/{model_name}.pkl\"\n",
    "    if os.path.exists(model_path):\n",
    "        with open(model_path, \"rb\") as f:\n",
    "            model = pickle.load(f)\n",
    "    else:\n",
    "        myPersonality_vecs, df = process_my_personality_dataset(\n",
    "            file_path=\"./data/myPersonality.csv\",\n",
    "            vectors_path=\"analysis/vectors/my_personality.pkl\",\n",
    "        )\n",
    "\n",
    "        value_map = {\"y\": high_label, \"n\": low_label}\n",
    "        df[trait_column] = df[trait_column].map(value_map)\n",
    "        my_personality_vectors_with_labels = list(\n",
    "            zip(myPersonality_vecs.tolist(), df[trait_column])\n",
    "        )\n",
    "\n",
    "        vectors_with_labels = (\n",
    "            unique_vectors_with_labels[high_label]\n",
    "            + unique_vectors_with_labels[low_label]\n",
    "            + my_personality_vectors_with_labels\n",
    "        )\n",
    "\n",
    "        train_vectors = [t[0] for t in vectors_with_labels]\n",
    "        train_labels = [t[1] for t in vectors_with_labels]\n",
    "\n",
    "        model = LogisticRegression(random_state=0).fit(train_vectors, train_labels)\n",
    "        persist_model(model, model_name)\n",
    "    return model"
   ]
  },
  {
   "cell_type": "code",
   "execution_count": 15,
   "metadata": {},
   "outputs": [],
   "source": [
    "gpt_and_my_personality_ext_model = train_my_personality_with_gpt(\n",
    "    \"cEXT\", LOW_EXT_LABEL, HIGH_EXT_LABEL\n",
    ")\n",
    "\n",
    "gpt_and_my_personality_opn_model = train_my_personality_with_gpt(\n",
    "    \"cOPN\", LOW_OPN_LABEL, HIGH_OPN_LABEL\n",
    ")"
   ]
  },
  {
   "cell_type": "code",
   "execution_count": 16,
   "metadata": {},
   "outputs": [
    {
     "name": "stdout",
     "output_type": "stream",
     "text": [
      "GPT_EXT + MyPersonality score on Bard's unseen test set: 0.8486238532110092\n",
      "GPT_OPN + MyPersonality score on Bard's unseen test set: 0.526595744680851\n"
     ]
    }
   ],
   "source": [
    "print(\n",
    "    \"GPT_EXT + MyPersonality score on Bard's unseen test set:\",\n",
    "    gpt_and_my_personality_ext_model.score(bard_ext_embeddings, bard_ext_labels),\n",
    ")\n",
    "print(\n",
    "    \"GPT_OPN + MyPersonality score on Bard's unseen test set:\",\n",
    "    gpt_and_my_personality_opn_model.score(bard_opn_embeddings, bard_opn_labels),\n",
    ")"
   ]
  }
 ],
 "metadata": {
  "kernelspec": {
   "display_name": ".venv",
   "language": "python",
   "name": "python3"
  },
  "language_info": {
   "codemirror_mode": {
    "name": "ipython",
    "version": 3
   },
   "file_extension": ".py",
   "mimetype": "text/x-python",
   "name": "python",
   "nbconvert_exporter": "python",
   "pygments_lexer": "ipython3",
   "version": "3.11.7"
  }
 },
 "nbformat": 4,
 "nbformat_minor": 2
}
