{
 "cells": [
  {
   "cell_type": "markdown",
   "metadata": {},
   "source": [
    "# Extroversion Analysis with LLM Generated Dataset"
   ]
  },
  {
   "cell_type": "markdown",
   "metadata": {},
   "source": [
    "## Read the dataset"
   ]
  },
  {
   "cell_type": "code",
   "execution_count": 1,
   "metadata": {},
   "outputs": [],
   "source": [
    "import pandas as pd\n",
    "\n",
    "file_path = \"analysis/llm-dataset-generation/traits-definitions.xlsx\"\n",
    "high_ext_sheet_name = \"High-EXT-GPT3.5\"\n",
    "low_ext_sheet_name = \"Low-EXT-GPT3.5\"\n",
    "\n",
    "df = pd.read_excel(file_path, sheet_name=high_ext_sheet_name)\n",
    "high_ext_texts_gpt = df.iloc[:, 0].tolist()\n",
    "\n",
    "df = pd.read_excel(file_path, sheet_name=low_ext_sheet_name)\n",
    "low_ext_texts_gpt = df.iloc[:, 0].tolist()"
   ]
  },
  {
   "cell_type": "markdown",
   "metadata": {},
   "source": [
    "## Filter unique texts\n",
    "Embed the dataset and apply cosine similarity to filter out \"too similar\" texts"
   ]
  },
  {
   "cell_type": "code",
   "execution_count": 2,
   "metadata": {},
   "outputs": [
    {
     "name": "stderr",
     "output_type": "stream",
     "text": [
      "/Users/eliran/Personal/dev/Musical-Preferences-And-Textual-Expression/.venv/lib/python3.11/site-packages/tqdm/auto.py:21: TqdmWarning: IProgress not found. Please update jupyter and ipywidgets. See https://ipywidgets.readthedocs.io/en/stable/user_install.html\n",
      "  from .autonotebook import tqdm as notebook_tqdm\n"
     ]
    }
   ],
   "source": [
    "from sentence_transformers import SentenceTransformer, util\n",
    "from tqdm import tqdm\n",
    "\n",
    "SIMILARITY_THRESHOLD = 0.9\n",
    "MODEL = \"intfloat/e5-large-v2\"\n",
    "\n",
    "\n",
    "def get_unique_paragraphs(texts: list[str], label: str):\n",
    "    model = SentenceTransformer(MODEL)\n",
    "    embeddings = model.encode(texts, convert_to_tensor=True)\n",
    "    similarities = util.pytorch_cos_sim(embeddings, embeddings)\n",
    "    unique_paragraphs = []\n",
    "    unique_embeddings = []\n",
    "    for i in tqdm(range(len(texts))):\n",
    "        is_dissimilar = all(\n",
    "            similarity < SIMILARITY_THRESHOLD\n",
    "            for j, similarity in enumerate(similarities[i])\n",
    "            if j != i\n",
    "        )\n",
    "        if is_dissimilar:\n",
    "            unique_paragraphs.append(texts[i])\n",
    "            unique_embeddings.append((embeddings[i], label))\n",
    "\n",
    "    print(f\"{len(unique_paragraphs)}/{len(texts)} Unique Paragraphs:\")\n",
    "    if not unique_paragraphs:\n",
    "        print(\"No unique paragraphs found.\")\n",
    "    else:\n",
    "        for i, paragraph in enumerate(unique_paragraphs):\n",
    "            print(f\"{i + 1}. {paragraph}\")\n",
    "    return unique_embeddings, unique_paragraphs"
   ]
  },
  {
   "cell_type": "markdown",
   "metadata": {},
   "source": [
    "### High Extroversion\n",
    "99/176 texts left"
   ]
  },
  {
   "cell_type": "code",
   "execution_count": 3,
   "metadata": {},
   "outputs": [
    {
     "name": "stderr",
     "output_type": "stream",
     "text": [
      "100%|██████████| 176/176 [00:00<00:00, 2768.00it/s]"
     ]
    },
    {
     "name": "stdout",
     "output_type": "stream",
     "text": [
      "99/176 Unique Paragraphs:\n",
      "1. You know what gets me going? Meeting new people! There's something so exhilarating about striking up a conversation with someone I've never met before. It's like every new connection opens up a world of possibilities and adventures. Plus, you never know who you might meet – a potential friend, a business partner, or even a soulmate!\n",
      "2. Socializing is my superpower! Whether it's a casual chat with a stranger or a deep conversation with a close friend, I'm all in. I love bouncing ideas off others, sharing my thoughts, and hearing different perspectives. It's what keeps life interesting and vibrant!\n",
      "3. I've never met a stranger – just potential friends I haven't gotten to know yet! Seriously though, I believe in the power of human connection. Every interaction, no matter how brief, has the potential to leave a lasting impression. That's why I always approach every conversation with an open heart and a genuine smile.\n",
      "4. Networking? Oh, I'm all about it! Building relationships, forging connections, and expanding my social circle – it's all part of the adventure. Whether it's for professional growth or personal enrichment, I'm always eager to meet new people and explore new opportunities. After all, life is too short to stay in your comfort zone!\n",
      "5. I'm like a social butterfly – always flitting from one conversation to the next, spreading positivity wherever I go. Whether it's at work, at a party, or even waiting in line at the grocery store, I love striking up conversations with whoever crosses my path. You never know what kind of magic might happen when you're open to new experiences!\n",
      "6. Let's talk about socializing – it's like my favorite hobby! Whether it's a cozy dinner party with friends or a big night out on the town, I'm always up for a good time. I love mingling, making new connections, and sharing stories with anyone who'll listen. Life is too short to stay in one place – I'm all about embracing new experiences and living life to the fullest!\n",
      "7. You know what I love about social gatherings? The opportunity to connect with people from all walks of life. Whether it's sharing anecdotes, debating hot topics, or simply enjoying each other's company, there's something magical about coming together and celebrating our shared humanity. Plus, who can resist the allure of good food and great conversation?\n",
      "8. OMG, parties are literally my jam! Like, there's nothing better than being surrounded by all my friends, music blasting, and just vibing together. It's like every party is a chance to make memories that'll last a lifetime, you know? Plus, who doesn't love showing off their dance moves on the dance floor?\n",
      "9. So, like, have you ever been to a concert where the energy is just electric? It's insane! I live for those moments – singing along to my favorite songs at the top of my lungs, jumping around with my squad, and feeling totally alive. Concerts are where I feel most myself, surrounded by people who get me.\n",
      "10. You know what's lit? Being part of a sports team! Whether it's basketball, soccer, or track, there's something about being on the field or court with my teammates that gets me hyped. It's all about that camaraderie, pushing each other to be our best, and celebrating victories together. Go team!\n",
      "11. Social media is, like, my playground! I'm all about staying connected with my friends, sharing funny memes, and posting pics of all the epic adventures I'm on. It's crazy how you can have a whole virtual squad cheering you on and hyping you up with just a few taps on your phone.\n",
      "12. Ugh, group projects can be such a drag sometimes, but you know what? I'm all about that teamwork! Getting together with my classmates, brainstorming ideas, and bringing our vision to life – it's like a mini adventure every time. Plus, crushing it as a team just feels so satisfying, you know?\n",
      "13. Pep rallies are, like, the highlight of my school year! The energy, the school spirit, the chants – it's all so hype! Whether I'm leading the cheers or just getting swept up in the excitement with my friends, there's nothing like rallying together to support our teams and show off our school pride.\n",
      "14. Friday nights are made for hanging out with friends! Whether we're hitting up the mall, catching a movie, or just chilling at someone's house, it's always a blast. I love being around my squad, laughing until our stomachs hurt, and making memories that'll have us reminiscing for years to come.\n",
      "15. School dances are where it's at! Getting all dressed up, hitting the dance floor with my crew, and busting out our signature moves – it's like our own little party right in the gym. And let's not forget the thrill of asking someone to dance or getting asked yourself – it's low-key nerve-wracking but totally worth it!\n",
      "16. I'm all about those extracurricular activities! Whether it's drama club, student council, or the debate team, I love getting involved and making a difference. Plus, it's a great way to meet new people who share the same passions and interests as me. Who knows, maybe I'll even discover a hidden talent!\n",
      "17. You know what's wild? School spirit week! Dressing up for themed days, competing in spirit challenges, and cheering on our teams at pep rallies – it's like a week-long celebration of everything that makes our school awesome. Plus, it's a chance to show off my creative side with some seriously epic costumes!\n",
      "18. Social gatherings with friends and family are always a highlight for me. It's a chance to catch up, share stories, and strengthen those bonds that mean so much. Whether it's a backyard barbecue or a cozy dinner party, I love creating memories with the people I care about most.\n",
      "19. Networking events may seem intimidating to some, but for me, they're like opportunities waiting to be seized. Meeting new people, exchanging ideas, and exploring potential collaborations – it's all part of the adventure. Plus, you never know where a simple conversation might lead!\n",
      "20. As a parent, fostering a sense of community is so important to me. Whether it's organizing playdates for my kids, volunteering at school events, or hosting neighborhood gatherings, I love bringing people together and creating spaces where everyone feels welcome.\n",
      "21. I may not be the most outgoing person, but I still value social connections. Quiet gatherings with a few close friends or family members are where I feel most at ease. It's all about quality over quantity for me – meaningful conversations and genuine connections mean everything.\n",
      "22. Social media has its pros and cons, but I see it as a tool for staying connected with loved ones near and far. Sharing updates, photos, and memories allows me to maintain relationships even when life gets busy. Plus, it's a great way to celebrate milestones and achievements with my online community.\n",
      "23. In my line of work, networking is essential for building relationships and advancing my career. Whether it's attending industry events, joining professional organizations, or simply reaching out to colleagues, I'm always looking for opportunities to connect and collaborate.\n",
      "24. As a stay-at-home parent, socializing with other adults is a lifeline for me. Playgroups, mommy meetups, and coffee dates with fellow parents are a chance to swap stories, offer support, and remind ourselves that we're not alone on this journey.\n",
      "25. Hosting gatherings at home is one of my favorite ways to connect with others. Whether it's a holiday party, game night, or potluck dinner, I love bringing people together and creating a warm, welcoming atmosphere where everyone feels like family.\n",
      "26. As someone who values deep, meaningful connections, I tend to prefer one-on-one interactions over large social gatherings. Whether it's a heart-to-heart with a close friend or a quiet dinner date with my partner, I cherish those moments of intimacy and connection.\n",
      "27. Socializing may not always come naturally to me, but I recognize its importance in both my personal and professional life. Whether it's stepping out of my comfort zone to attend a networking event or making an effort to reconnect with old friends, I'm committed to nurturing my social connections and building a strong support system.\n",
      "28. Game days are like holidays in my book! Whether I'm cheering on my favorite team from the stands or hitting the field myself, there's just something electric about the atmosphere. It's all about that sense of camaraderie, shared excitement, and the thrill of competition.\n",
      "29. As a die-hard sports fan, I live for those moments of pure adrenaline – the buzzer-beating shots, the game-winning goals, the jaw-dropping plays. Whether I'm watching from home or in the stadium, each game feels like a rollercoaster ride of emotions, and I wouldn't have it any other way.\n",
      "30. Being part of a team is more than just about winning games – it's about forging bonds that last a lifetime. Whether it's celebrating victories together or supporting each other through tough losses, the camaraderie among teammates is what makes sports truly special.\n",
      "31. There's nothing quite like the rush of competing in a game or match. Whether it's the thrill of victory or the agony of defeat, every moment on the field or court is an opportunity to push myself to the limit and see what I'm capable of.\n",
      "32. Sports have a way of bringing people together like nothing else. Whether it's bonding with teammates over a shared goal or high-fiving strangers in the stands after a big win, there's a sense of unity and camaraderie that transcends boundaries and differences.\n",
      "33. There's something about the rhythm and flow of sports that speaks to my soul. Whether it's the precision of a well-executed play or the raw emotion of a last-minute comeback, each game is a work of art in its own right, and I'm grateful to be a part of it.\n",
      "34. Sports aren't just about competition – they're about community. Whether it's tailgating before a game, joining a local sports league, or volunteering at youth clinics, I love being part of something bigger than myself and giving back to the next generation of athletes.\n",
      "35. Sports have a way of teaching us valuable life lessons – teamwork, perseverance, resilience, and sportsmanship. Whether I'm on the field or cheering from the sidelines, I'm constantly inspired by the dedication and passion of athletes who give it their all, no matter the odds.\n",
      "36. Sports-themed mobile apps are like personal coaches in my pocket. Whether it's tracking my fitness goals, providing real-time updates on my favorite teams, or offering personalized training plans tailored to my individual needs, these apps empower me to take control of my athletic journey like never before. With fitness tracking apps, I can monitor my progress, set goals, and track my workouts with precision and accuracy, gaining insights into my performance and motivation to push myself further. And with sports news apps, I can stay updated on the latest scores, standings, and headlines, ensuring that I never miss a beat when it comes to my favorite teams and athletes. Plus, with training apps, I can access expert guidance and instruction from coaches and trainers, learning new techniques and strategies to improve my game. It's like having a whole team of experts and mentors right at my fingertips, guiding me every step of the way on my athletic journey.\n",
      "37. Technology has made sports more accessible and inclusive than ever before. Whether it's using adaptive equipment to enable people with disabilities to participate in sports, leveraging social media platforms to amplify diverse voices in the sports community, or harnessing the power of virtual reality to create inclusive gaming experiences, technology has the potential to break down barriers and bring people together in new and exciting ways. With adaptive sports equipment, athletes of all abilities can participate in a wide range of sports and activities, gaining confidence, independence, and a sense of belonging. And with social media platforms, marginalized communities can share their stories, advocate for change, and connect with others who share their passion for sports. Plus, with inclusive gaming experiences, people from diverse backgrounds and identities can come together to compete, collaborate, and celebrate their love of the game. It's like leveling the playing field and creating a world where everyone has the opportunity to participate, compete, and succeed, regardless of who they are or where they come from.\n",
      "38. Okay, let's get real for a minute – global warming is like the ultimate buzzkill, am I right? I mean, who wants to deal with scorching heatwaves, devastating hurricanes, and disappearing glaciers? Not me, that's for sure! But here's the thing – we can't just bury our heads in the sand and hope it goes away. We need to step up and take action to mitigate its effects before it's too late. Whether it's advocating for climate-friendly policies, reducing our carbon footprint, or supporting green technologies, I'm all about rolling up my sleeves and getting to work. Because when it comes to saving the planet, there's no time to waste – let's do this!\n",
      "39. So, let's talk about the elephant in the room – global warming. It's like the big, looming challenge that we can't ignore any longer. I mean, just look around – temperatures are rising, sea levels are creeping up, and ecosystems are under threat. It's like a wake-up call for humanity, and we need to answer it with urgency and determination. As someone who thrives on tackling big problems head-on, I'm all about finding solutions to combat climate change. Whether it's advocating for renewable energy sources, supporting reforestation efforts, or raising awareness about sustainable living practices, I believe that together, we can make a real difference and create a more sustainable future for our planet.\n",
      "40. Hey, party people! Can we take a break from the dance floor for a minute and talk about something super important? I'm talking about global warming, folks – it's like the ultimate party pooper, threatening to rain on our parade if we don't take action fast! I mean, just imagine a world where our favorite beaches are swallowed up by rising sea levels, our beloved ski resorts are left snowless, and our iconic landmarks are submerged underwater. It's like a nightmare scenario, and we can't afford to let it become a reality. That's why I'm all about raising awareness and inspiring action to fight climate change. Whether it's organizing eco-friendly music festivals, advocating for sustainable party practices, or supporting environmental causes through charitable donations, I believe that together, we can keep the party going while protecting our planet for future generations to enjoy!\n",
      "41. Alright, fellow optimists, let's talk about the silver lining in the cloud of global warming – the opportunity for positive change! I mean, sure, the challenges are daunting – rising temperatures, extreme weather events, and disappearing ecosystems – but where there's a challenge, there's also an opportunity for innovation and progress. As someone who thrives on finding the silver lining in every situation, I'm all about looking for ways to turn the tide on climate change. Whether it's investing in clean energy technologies, supporting sustainable agriculture practices, or advocating for climate-friendly policies, I believe that together, we can build a brighter, greener future for our planet. So let's roll up our sleeves, get to work, and show the world what we're capable of!\n",
      "42. My fellow citizens, let's talk about education – the cornerstone of our society and the key to unlocking our collective potential. As lawmakers, it's our duty to ensure that every child has access to quality education, regardless of their background or circumstances. That means investing in our schools, supporting our teachers, and empowering students to reach for the stars. Let's work together to build a brighter future for generations to come, one where every child has the opportunity to succeed and thrive.\n",
      "43. Healthcare is not just a privilege – it's a fundamental human right. As public servants, we must prioritize access to affordable, quality healthcare for all citizens. That means expanding access to insurance coverage, lowering prescription drug costs, and investing in preventive care. Let's put partisan politics aside and work together to ensure that every American has access to the care they need to live healthy, fulfilling lives.\n",
      "44. The economy is like the beating heart of our nation – it's what keeps us moving forward and striving for a better tomorrow. As policymakers, it's our responsibility to create an environment where businesses can thrive, workers can succeed, and families can prosper. That means cutting red tape, lowering taxes, and investing in infrastructure and innovation. Let's unleash the full potential of our economy and build a future of prosperity and opportunity for all.\n",
      "45. National security is like the bedrock of our nation – it's what keeps us safe and secure in an uncertain world. As leaders, it's our duty to prioritize the safety and well-being of our citizens, both at home and abroad. That means investing in our military, strengthening our alliances, and confronting threats to our national security with resolve and determination. Let's stand together in defense of our values and freedoms, united in our commitment to a safer, more secure world for future generations.\n",
      "46. Immigration is like the lifeblood of our nation – it's what enriches our culture, fuels our economy, and strengthens our communities. As policymakers, it's our responsibility to create a fair and humane immigration system that reflects our values and respects the dignity of every individual. That means providing a pathway to citizenship for undocumented immigrants, reforming our visa system, and supporting refugees fleeing persecution and violence. Let's embrace our diversity and build a more inclusive and welcoming society for all.\n",
      "47. Infrastructure is like the backbone of our nation – it's what connects us, sustains us, and propels us forward into the future. As lawmakers, it's our duty to invest in our roads, bridges, ports, and airports to ensure that our economy remains competitive and our communities remain vibrant. That means modernizing our infrastructure, repairing our crumbling roads and bridges, and expanding access to high-speed internet in rural and underserved areas. Let's build the foundation for a stronger, more resilient America, one where every citizen can thrive and succeed.\n",
      "48. Criminal justice reform is like the cornerstone of a fair and just society – it's what ensures that all citizens are treated with dignity and respect under the law. As legislators, it's our duty to address systemic inequalities in our criminal justice system, from racial disparities in sentencing to the criminalization of poverty. That means investing in alternatives to incarceration, supporting rehabilitation and reentry programs, and promoting restorative justice practices. Let's build a criminal justice system that reflects our values of fairness, equality, and compassion for all.\n",
      "49. Environmental protection is like the foundation of our planet – it's what sustains life and ensures the health and well-being of future generations. As stewards of the Earth, it's our responsibility to safeguard our natural resources, protect endangered species, and combat climate change. That means enacting policies that reduce carbon emissions, promote renewable energy, and preserve our wilderness areas and ecosystems. Let's work together to build a sustainable future for our planet, one where our children and grandchildren can thrive in harmony with nature.\n",
      "50. Foreign policy is like the compass of our nation – it's what guides us in navigating the complexities of the global landscape. As representatives of our country, it's our duty to promote peace, security, and prosperity around the world. That means engaging with our allies, confronting our adversaries, and championing democracy, human rights, and the rule of law. Let's stand together on the world stage as leaders of integrity and principle, working tirelessly to build a more peaceful and prosperous world for all.\n",
      "51. Technology is like the engine of progress – it's what drives innovation, creativity, and growth in our increasingly interconnected world. As policymakers, it's our responsibility to harness the power of technology for the benefit of all citizens. That means investing in digital infrastructure, expanding access to broadband internet, and promoting STEM education and workforce development. Let's embrace the opportunities of the digital age and build a future where technology serves as a force for good in the world.\n",
      "52. You know, I've always been the kind of person who lights up in social settings. Give me a room full of strangers, and I'll have no trouble striking up a conversation and making new friends. It's like I have this innate ability to connect with people on a deeper level, finding common ground and building meaningful relationships in the process. For me, life is all about the connections we make and the memories we create together. So why waste a single moment sitting on the sidelines when there's a whole world out there waiting to be explored?\n",
      "53. Can you imagine being right there when the world was being shaped? The sheer thrill of witnessing pivotal moments in human civilization firsthand! Think about the Renaissance, a time of boundless creativity and innovation, where artists and thinkers collided in a frenzy of ideas. Or consider the Age of Exploration, when daring adventurers set sail into the unknown, driven by an insatiable curiosity for what lay beyond the horizon. It's not just about studying history; it's about immersing yourself in the drama and excitement of our collective past, feeling the heartbeat of generations long gone.\n",
      "54. Let's rewind the clock and explore the epic sagas of our ancestors. From the mighty warriors of ancient Greece to the enigmatic pharaohs of Egypt, every chapter of history is a treasure trove of adventure and intrigue. Take the age of knights and chivalry, where valor and honor were the currency of the realm, or journey to the opulent courts of medieval Europe, where intrigue lurked around every corner. It's like stepping into a time machine, where each twist and turn reveals another layer of the human experience. So, grab your metaphorical sword and shield, because we're about to embark on an epic quest through the annals of time!\n",
      "55. Let's embark on a journey through the annals of time, where every step reveals a new chapter in the epic saga of human civilization. Picture yourself amidst the splendor of the Renaissance, where artists and scholars gathered in the vibrant cities of Italy to usher in a new era of enlightenment and innovation. Or feel the pulse of adventure as you stand on the prow of a Viking longship, ready to set sail for distant shores in search of glory and plunder. From the ancient wonders of the world to the technological marvels of the modern age, history is a treasure trove of inspiration and discovery just waiting to be explored.\n",
      "56. Hey everyone! Did you catch the latest buzz? There's this incredible event happening downtown this weekend, and I couldn't be more excited! It's going to be an absolute blast, filled with music, food, and all sorts of entertainment. I've already rounded up a bunch of my friends, and we're planning to make a day of it. The energy in the air is palpable, and I can't wait to soak it all in. These kinds of gatherings are what I live for – the chance to connect with others, share experiences, and just have a great time together. Who else is pumped for this weekend?\n",
      "57. Have you heard about the big announcement? It's causing quite a stir, and I, for one, am all ears! Rumor has it that there's something groundbreaking on the horizon, something that's going to shake up the scene in the best possible way. I love being in the loop when it comes to exciting developments like this. It's like being at the forefront of a wave of innovation, riding the tide of progress and soaking in every moment of it. I can't wait to see what unfolds next – the anticipation is half the fun!\n",
      "58. What's up, party people? It's time to get hyped because there's some seriously exciting stuff happening around town! From the hottest new restaurant opening its doors to the latest blockbuster hitting theaters, there's no shortage of things to see and do. I'm all about diving headfirst into the action and experiencing everything that life has to offer. So grab your crew, grab your tickets, and let's make some memories that we'll be talking about for years to come. Who's with me?\n",
      "59. Well, folks, it looks like we've got ourselves another headline-grabbing event on our hands! I don't know about you, but I'm absolutely buzzing with excitement. There's just something about the thrill of the unknown, the adrenaline rush of being in the midst of something big. Whether it's a grand opening, a celebrity sighting, or a once-in-a-lifetime opportunity, count me in! I live for these moments – the chance to be a part of something larger than life, to feel the pulse of the city coursing through my veins.\n",
      "60. Hey, hey, hey! Guess what's happening? Prepare to have your socks knocked off because there's a major happening on the horizon, and it's going to be epic! I'm talking about the kind of event that makes your heart race and your pulse quicken with anticipation. It's the talk of the town, the must-see attraction of the season, and I, for one, am all in. I've already marked my calendar and rallied the troops because when something this exciting comes along, you don't want to miss out. So who's ready to join me for the ride of a lifetime?\n",
      "61. Well, well, well, look what just popped up on my radar! It seems like there's never a dull moment around here, and I wouldn't have it any other way. From spontaneous street performances to impromptu art exhibits, you never know what delightful surprises await just around the corner. I thrive on the energy of the city – the hustle and bustle, the constant hum of activity. It's like being plugged into an endless supply of excitement, and I'm here for every exhilarating moment of it. So let's dive in and see where the adventure takes us next!\n",
      "62. Hold onto your hats, folks, because there's a whirlwind of excitement headed our way! I've got the inside scoop on the latest happenings, and let me tell you, it's going to be a wild ride. From star-studded galas to exclusive VIP events, there's no shortage of glitz and glamour to go around. And you better believe I'll be front and center for all of it, soaking up every last drop of the spotlight. Life's too short to sit on the sidelines, so grab your dancing shoes and get ready to paint the town red!\n",
      "63. Can you feel the buzz in the air? That's the sound of excitement reverberating through the city as we gear up for the event of the year! I've been counting down the days until this moment, and now that it's finally here, I can hardly contain my enthusiasm. There's something truly magical about being surrounded by fellow thrill-seekers, all united in our quest for adventure and fun. So let's raise a glass to new experiences, unforgettable memories, and the joy of living life to the fullest. Cheers to us!\n",
      "64. Delving into the world of creativity, I feel like a child in a candy store, surrounded by an abundance of colors, shapes, and textures waiting to be savored. From the bustling energy of street art to the refined elegance of museum exhibits, each encounter leaves me with a sense of awe and wonder. There's a magic in the air, a palpable energy that ignites the imagination and stirs the soul.\n",
      "65. Let's talk about the sheer joy of discovering a new sound system. It's like stumbling upon buried treasure – an exhilarating rush of adrenaline that sends shivers down your spine. Whether I'm scouring the internet for reviews of the latest models or scouring flea markets for hidden gems, the thrill of the hunt never fails to ignite my passion for all things audio. And when I finally unbox that shiny new set of speakers and feel the first notes fill the air – well, let's just say there's nothing quite like it.\n",
      "66. Picture this: a room bathed in the soft glow of candlelight, filled with the rich tones of a jazz quartet playing on a high-fidelity sound system. That's where I feel most at home. There's something about the warmth of the music, the intimacy of the setting, that fills me with a sense of peace and contentment unlike anything else. Whether I'm sharing the experience with loved ones or simply savoring a quiet moment alone, the embrace of a great sound setup is like a warm hug for my soul.\n",
      "67. Let's talk about the transformative power of a killer sound system. It's not just about the music – it's about the way it makes you feel. Whether I'm dancing with friends at a raucous house party or curled up on the couch with a good book and a glass of wine, the right audio setup has the ability to elevate any moment into something truly extraordinary. It's like adding an extra layer of magic to the fabric of everyday life, turning the ordinary into the extraordinary with the flick of a switch.\n",
      "68. Life, to me, is an epic saga, a grand adventure waiting to unfold with each new dawn. Like a valiant knight, I charge forth into the fray of existence, my spirit ablaze with the fiery passion of youth. From the lofty heights of mountaintops to the depths of the darkest forests, I traverse the boundless expanse of the world with an insatiable thirst for exploration and discovery. Each new horizon, each new vista, fills me with a sense of awe and wonder, reminding me of the vastness of the universe and the infinite possibilities that lie beyond. In the company of kindred spirits, I find solace and companionship, sharing in the joys and sorrows of the journey together. Together, we brave the perils of the unknown, drawing strength from each other's courage and resilience. And though the road may be long and fraught with danger, I press onward with unwavering determination, fueled by the indomitable spirit that burns within me.\n",
      "69. There's nothing quite like the electrifying atmosphere of a live concert, where the pulse of the music reverberates through your very soul, and the crowd becomes a sea of swaying bodies lost in the rhythm. As a fervent music lover, I relish in the opportunity to immerse myself in the vibrant energy of the stage, surrounded by like-minded enthusiasts who share my passion for melody and rhythm. Whether it's the pulsating beats of a rock concert, the soul-stirring melodies of a classical symphony, or the infectious grooves of a jazz club, I find myself swept away by the sheer power of music to unite and uplift the human spirit. For me, concerts aren't just events; they're transcendent experiences that leave an indelible mark on my heart and soul, reminding me of the universal language that connects us all.\n",
      "70. From the crack of the bat on a sun-drenched baseball diamond to the thunderous roar of the crowd at a packed football stadium, sports have always been a source of joy and inspiration in my life. As an avid athlete and fitness enthusiast, I thrive on the adrenaline rush of competition and the camaraderie of teamwork. Whether it's scoring the winning goal in a soccer match, hitting a personal best on the weightlifting platform, or simply enjoying a leisurely jog through the park with friends, I find solace and strength in the pursuit of physical excellence. For me, sports aren't just about winning or losing; they're about pushing the limits of what's possible, both physically and mentally, and forging lifelong bonds with teammates and rivals alike.\n",
      "71. As a self-proclaimed foodie with an insatiable appetite for culinary exploration, I delight in the tantalizing flavors and aromas that tickle the senses and transport me to far-off lands with each delectable bite. Whether it's savoring the savory spices of Indian curry, indulging in the delicate intricacies of Japanese sushi, or devouring a hearty plate of Italian pasta, I relish in the opportunity to sample the diverse cuisines of the world and expand my gastronomic horizons. From bustling food markets to intimate family dinne\n",
      "72. Hey there, fellow adventure seekers! Let's dive into the wild world of online exploration! Isn't it exhilarating to browse through countless websites, each offering a treasure trove of possibilities? From the comfort of our own homes, we can embark on a journey through virtual aisles filled with everything our hearts desire.\n",
      "73. Picture this: a virtual marketplace bustling with energy and excitement, just waiting for us to join in on the fun! With a few clicks and taps, we can discover new brands, uncover hidden gems, and connect with like-minded individuals from across the globe. Who needs brick-and-mortar stores when we have the entire internet at our fingertips?\n",
      "74. Ah, the thrill of discovering that perfect find after hours of scrolling through endless options! Whether it's fashion-forward attire, cutting-edge gadgets, or artisanal goodies, online platforms offer an unparalleled selection that caters to every whim and fancy. It's like being a kid in a candy store, only with a world of possibilities at our disposal.\n",
      "75. Let's talk convenience, shall we? Gone are the days of battling traffic, braving crowded malls, and lugging around heavy shopping bags. Thanks to the wonders of online browsing, we can indulge in retail therapy anytime, anywhere – whether we're cozied up on the couch or sipping a latte at our favorite café.\n",
      "76. Who says shopping is a solitary activity? With online forums, chat features, and social media integrations, we can turn our solo shopping spree into a social extravaganza! Whether we're seeking fashion advice, sharing our latest finds, or simply chatting with fellow enthusiasts, the online shopping experience is as vibrant and interactive as we make it.\n",
      "77. Let's not forget about the thrill of the hunt! With flash sales, limited-time offers, and exclusive discounts abound, online shopping is like a never-ending treasure hunt where the spoils go to the swiftest clickers. Who knows what fabulous deals await us just around the digital corner?\n",
      "78. Say goodbye to buyer's remorse and hello to informed decisions! With user reviews, ratings, and detailed product descriptions at our disposal, we can shop with confidence, knowing that we're making the right choice every time. It's like having a team of personal shoppers right in our pockets!\n",
      "79. Variety is the spice of life, they say – and online shopping delivers in spades! Whether we're exploring niche boutiques, international retailers, or indie artisans, the online marketplace offers a dizzying array of options to suit every taste, budget, and style. Who knew the world of shopping could be so vast and diverse?\n",
      "80. Let's talk about the ultimate power move: customization! With personalized recommendations, tailored promotions, and interactive shopping experiences, online retailers make us feel like VIP guests in our very own digital wonderland. It's like having a personal stylist, concierge, and shopping guru all rolled into one!\n",
      "81. Last but certainly not least, let's raise a virtual toast to the joys of instant gratification! With express shipping, same-day delivery, and click-and-collect options galore, online shopping transforms even the most mundane purchases into moments of pure delight. Who needs patience when we can have our heart's desire at the speed of light? Cheers to the endless possibilities of online exploration!\n",
      "82. Have you ever delved into the cosmos of futuristic realms where technology reigns supreme, and the boundaries of imagination are pushed to their limits? Picture this: soaring through the stars aboard a sleek, interstellar vessel, charting unexplored galaxies and encountering alien civilizations. The thrill of discovery ignites my soul like a supernova, propelling me towards the next adventure beyond the celestial horizon.\n",
      "83. Imagine a world where time is but a mere construct, bending and warping at the whims of advanced technologies and enigmatic forces beyond comprehension. In this realm of tomorrow, I find solace in the chaos, thriving amidst the pulsating energy of futuristic cities and the hum of bustling metropolises teeming with life.\n",
      "84. The allure of alternate realities and parallel dimensions calls out to me like a siren song, drawing me ever closer to the precipice of possibility. With each leap through the fabric of space-time, I embrace the unknown with open arms, eager to explore the uncharted territories that lie beyond the boundaries of conventional reality.\n",
      "85. From cybernetic enhancements that blur the line between man and machine to artificial intelligence with minds of their own, the realm of futuristic technology is a playground of innovation and discovery. Here, amidst the whirring of mechanical marvels and the glow of neon-lit streets, I find myself at home among the pioneers of progress.\n",
      "86. Behold the wonders of tomorrow, where dreams take flight on the wings of imagination and the boundaries of reality are but a distant memory. As I navigate the labyrinthine corridors of virtual worlds and traverse the vast expanses of digital landscapes, I am filled with a sense of wonder and awe at the boundless possibilities that lie ahead.\n",
      "87. Peer into the depths of the unknown, where mysteries abound and adventure awaits around every corner. In this realm of endless exploration, I am but a humble seeker of knowledge, driven by an insatiable curiosity to unravel the secrets of the universe and unlock the hidden truths that lie beyond.\n",
      "88. In the grand theater of the universe, where stars are born and galaxies collide, I find myself enchanted by the beauty of the cosmos and the wonders that lie within. From the shimmering nebulae of distant galaxies to the alien landscapes of uncharted worlds, the universe is a playground of endless adventure and exploration.\n",
      "89. Embark on a journey beyond the confines of reality, where the laws of physics bend and warp at the edges of imagination. Here, amidst the swirling maelstrom of cosmic chaos, I find myself at home among the stars, a fearless explorer charting a course through the uncharted depths of the cosmos.\n",
      "90. Exploring the vast expanse of our planet, one can stumble upon some truly extraordinary creatures. Take, for instance, the enigmatic beings that roam the depths of the ocean. With their vibrant hues and intricate patterns, they're like living pieces of art, captivating anyone lucky enough to encounter them.\n",
      "91. Trekking through dense forests reveals a world teeming with life, where every step might lead to an encounter with a creature straight out of a fantasy novel. These fascinating beings, with their curious behaviors and exotic appearances, never fail to ignite a sense of wonder in those who observe them.\n",
      "92. Picture yourself amidst the sprawling savannah, where majestic creatures roam freely under the golden African sun. These magnificent beings, with their grace and power, embody the untamed spirit of the wilderness, captivating the hearts of all who behold them.\n",
      "93. Delving into the heart of the Amazon rainforest unveils a realm brimming with biodiversity, where every corner holds the promise of a new discovery. Among the myriad of creatures that call this lush paradise home, there are those that defy imagination with their otherworldly features and peculiar habits.\n",
      "94. Embarking on an expedition to the icy realms of the Arctic introduces one to a world of stark beauty and resilience. Amidst the vast expanses of snow and ice, creatures adapted to the harshest of conditions thrive, their adaptability and tenacity serving as a testament to the wonders of nature.\n",
      "95. Venturing into the depths of the desert reveals a landscape of desolate beauty, where life persists against all odds. Here, amidst the shifting sands and scorching heat, creatures of remarkable resilience eke out an existence, their survival strategies a testament to the ingenuity of evolution.\n",
      "96. Imagine traversing the lush canopy of a tropical rainforest, where every branch conceals a hidden world of wonders. Among the dizzying array of creatures that inhabit this verdant realm, there are those that possess a beauty and elegance that rivals even the most exquisite works of art.\n",
      "97. Setting sail across the vast expanse of the ocean, one encounters a realm of endless possibilities and untold mysteries. Beneath the shimmering surface lies a world teeming with life, where creatures of all shapes and sizes navigate the depths with a grace and agility that defies comprehension.\n",
      "98. Journeying to the rugged terrain of the mountains unveils a landscape of breathtaking beauty and rugged charm. Here, amidst the towering peaks and winding valleys, creatures adapted to the most extreme conditions thrive, their resilience and resourcefulness a testament to the power of nature.\n",
      "99. Embarking on a safari through the grasslands of the Serengeti offers a glimpse into a world untouched by time. Here, amidst the vast expanses of savannah, creatures both great and small roam freely, their presence a reminder of the interconnectedness of all living things.\n"
     ]
    },
    {
     "name": "stderr",
     "output_type": "stream",
     "text": [
      "\n"
     ]
    }
   ],
   "source": [
    "(\n",
    "    unique_high_ext_vectors_with_labels,\n",
    "    unique_high_ext_paragraphs_gpt,\n",
    ") = get_unique_paragraphs(high_ext_texts_gpt, label=\"HIGH_EXT\")"
   ]
  },
  {
   "cell_type": "markdown",
   "metadata": {},
   "source": [
    "### Low Extroversion\n",
    "102/359 texts left"
   ]
  },
  {
   "cell_type": "code",
   "execution_count": 4,
   "metadata": {},
   "outputs": [
    {
     "name": "stderr",
     "output_type": "stream",
     "text": [
      "100%|██████████| 359/359 [00:00<00:00, 1681.55it/s]"
     ]
    },
    {
     "name": "stdout",
     "output_type": "stream",
     "text": [
      "102/359 Unique Paragraphs:\n",
      "1. Social gatherings exhaust me beyond belief. It's not that I despise the company of others; it's just that after spending an hour or two in a crowded room, I feel like all my energy has been siphoned away, leaving me empty and drained. The constant noise, the never-ending chatter, it's like sensory overload for my introverted mind. Don't get me wrong, I appreciate the occasional social interaction, but too much of it can feel suffocating. I find solace in solitude, in the quiet moments where I can finally recharge my batteries and be alone with my thoughts.\n",
      "2. Small talk feels like a never-ending cycle of meaningless banter. I mean, who really cares about the weather or what you had for lunch? It's like we're all just going through the motions, pretending to be interested in each other's lives when in reality, we're just biding our time until we can escape. I crave deeper connections, meaningful conversations that stimulate my mind and feed my soul. Give me discussions about life, love, and everything in between, and I'm all in. But small talk? No thanks, I'll pass.\n",
      "3. Parties are my worst nightmare. The loud music, the flashing lights, the sea of unfamiliar faces – it's all just too much for my introverted soul to handle. While everyone else is busy socializing and having the time of their lives, I'm usually off in a corner somewhere, counting down the minutes until I can make my escape. Sure, I'll force a smile and engage in polite conversation when necessary, but deep down, all I really want is to be anywhere but there.\n",
      "4. Being the center of attention is my worst nightmare. The thought of all eyes on me, judging my every move, sends shivers down my spine. I'd much rather blend into the background, unnoticed and unassuming, than be thrust into the spotlight. It's not that I lack confidence or self-esteem; I just prefer to keep a low profile and let others take the lead. Give me a quiet corner and a good book over a crowded room any day – that's where I feel most at home.\n",
      "5. Group projects in school are the bane of my existence. Having to collaborate with others and constantly interact drains me both mentally and emotionally. While my classmates seem to thrive in these situations, bouncing ideas off each other and working together seamlessly, I find myself struggling to keep up. I much prefer working independently, where I can focus without the distraction of other people's opinions and personalities.\n",
      "6. My idea of a perfect weekend? Staying home alone, cocooned in my own little bubble of solitude. Whether it's binge-watching my favorite TV shows, diving into a new book, or simply lounging around in my pajamas, there's nothing I love more than having some much-needed me time. It's like hitting the reset button on my soul, allowing me to recharge and rejuvenate for the week ahead. Sure, socializing can be fun every once in a while, but nothing beats the comfort and tranquility of my own company.\n",
      "7. Social media overwhelms me. The constant notifications, the pressure to maintain an online presence – it's all just too much for my introverted soul to handle. While others seem to thrive in the digital world, effortlessly racking up likes and followers, I find myself struggling to keep up. Sometimes I just want to disconnect from it all, to escape the endless cycle of likes and comments and hashtags, and disappear into the real world for a while. Give me a quiet corner and a good book over a scrolling through my news feed any day.\n",
      "8. I've always been drawn to quieter activities, like painting or journaling. There's something therapeutic about losing myself in a creative pursuit, about expressing myself without the pressure of social interaction. While others may prefer the hustle and bustle of a crowded room, I find solace in the solitude of my own thoughts. It's not that I'm antisocial or unfriendly; I just have a deep appreciation for the quieter moments in life, the ones that allow me to pause, reflect, and reconnect with myself.\n",
      "9. As much as I adore the thrill of a stadium packed with cheering fans, there's something profoundly rejuvenating about the solitary rhythm of hitting a tennis ball against a wall. The tranquility of the court, the soft thud of the ball against my racquet—it's my sanctuary amidst the chaos of social interaction.\n",
      "10. While many revel in the camaraderie of team sports, I find solace in the solitary pursuit of hiking through rugged terrain. The whisper of the wind through the trees and the crunch of gravel beneath my boots are my companions, offering a serene alternative to the bustling energy of social gatherings.\n",
      "11. Despite the allure of cheering crowds and stadium lights, my true passion lies in the quiet solitude of fishing on a tranquil lake. There's a profound sense of peace that comes with casting a line into still waters, far removed from the clamor of social gatherings.\n",
      "12. As much as I admire the athleticism of team sports, my true passion lies in the serene beauty of horseback riding. The rhythmic trot of my horse beneath me, the gentle sway of the saddle—it's a peaceful escape from the chaos of social gatherings.\n",
      "13. In the realm of technology, I find solace in the silent hum of my computer, where the only interaction I seek is with lines of code, not with crowds of people. Debugging errors and crafting elegant solutions provide the satisfaction I need, far from the chaos of social gatherings.\n",
      "14. As a tech enthusiast, my energy thrives when I delve into the intricate workings of complex algorithms rather than navigating through the complexities of social dynamics. The serenity of solitary exploration fuels my passion for innovation, driving me to push the boundaries of technological advancement.\n",
      "15. When faced with the choice between attending a bustling networking event or immersing myself in a captivating programming project, the latter always wins. The solitude of coding allows me to channel my focus and creativity without the distractions of social obligations.\n",
      "16. In the digital realm, I find comfort in the anonymity of online forums and discussion boards, where I can engage in meaningful conversations without the pressure of face-to-face interactions. The virtual landscape offers me a sanctuary where I can express myself freely without the constraints of social norms.\n",
      "17. While some may thrive in the spotlight of social media, I prefer to lurk in the shadows of online communities, absorbing knowledge and insights from like-minded individuals without the need for constant validation or attention.\n",
      "18. While others may seek validation through social validation, I find fulfillment in the mastery of complex programming languages and the ability to translate ideas into tangible solutions. The quiet satisfaction of a well-written code speaks volumes without the need for external praise.\n",
      "19. In the realm of technology, my introverted nature is not a hindrance but rather a strength, allowing me to immerse myself fully in the intricacies of software development without the distractions of social obligations.\n",
      "20. While some may seek companionship in the bustling crowds of social gatherings, I find solace in the quiet solitude of my tech sanctuary, where the only noise is the gentle hum of my computer and the soft whirring of its cooling fans.\n",
      "21. The bustling city streets seem to pulsate with energy as I navigate through the crowd, yet my mind craves the tranquility of solitude. Amidst the chaos, I find solace in the quiet moments spent lost in my own thoughts, away from the incessant chatter of the world. The neon lights flicker overhead, casting shifting shadows upon the pavement as I weave through the throngs of people. Each step feels like a retreat into my own inner sanctuary, a reprieve from the overwhelming stimuli of the urban landscape. While the city teems with life and activity, I find myself drawn to the pockets of stillness hidden amidst the chaos – the secluded alleyways, the tranquil parks, the quiet corners of coffee shops where I can escape the noise and find respite in the embrace of solitude.\n",
      "22. While others revel in the vibrant social scene of Friday nights, I find myself drawn to the quiet intimacy of a cozy movie night at home. There's a certain peace in the simplicity of curling up under a blanket with a good film, far removed from the clamor of bars and clubs. The soft glow of the television casts a warm ambiance over the room, illuminating the familiar surroundings with a gentle radiance. As the opening credits roll, I sink into the comfort of my favorite armchair, content in the knowledge that the only company I need is that of the characters on screen. While the world outside may buzz with activity and excitement, I find fulfillment in the quietude of my own company, where I can fully immerse myself in the narrative unfolding before me without the distractions of social obligation.\n",
      "23. As I sit at my desk, surrounded by the gentle hum of my colleagues' conversations, I can't help but retreat into the sanctuary of my own mind. While teamwork is essential, I thrive in the solitude of independent work, where I can fully immerse myself in my tasks without distraction. The rhythmic tapping of keys fills the air as I lose myself in the intricacies of my work, each stroke of the keyboard a testament to the focus and determination that drives me forward. While collaboration certainly has its merits, I find that my best ideas often come when I'm alone with my thoughts, free to explore the depths of my creativity without the constraints of external influence. In the quiet solitude of my workspace, I find the freedom to chart my own course, unfettered by the expectations of others.\n",
      "24. In the age of constant connectivity, the allure of social media leaves many feeling validated and engaged. Yet, for me, the endless stream of notifications feels overwhelming, a constant intrusion into the quiet moments I cherish. The glowing screen of my phone casts a harsh light in the darkness of my room, illuminating the digital landscape with a relentless barrage of updates and alerts. While others may find solace in the virtual realm of likes and comments, I find myself craving the simplicity of real-world connection – the warmth of a smile, the sincerity of a conversation, the shared silence of companionship. In a world that prizes connectivity above all else, I find myself seeking refuge in the quiet solitude of offline existence, where the only notifications I receive are the whispers of my own thoughts.\n",
      "25. While some seek out new experiences and adventures, I find comfort in the familiarity of routine. There's a certain peace in knowing what to expect, a sense of stability that anchors me in an otherwise turbulent world. Each day unfolds with a reassuring predictability, as I follow the familiar rhythms of work, rest, and leisure. While others may yearn for excitement and novelty, I find fulfillment in the simple pleasures of everyday life – the comfort of a home-cooked meal, the laughter of a familiar joke, the quiet satisfaction of a job well done. In a world that constantly clamors for our attention, I find solace in the steady rhythm of routine, where each day brings with it the promise of familiarity and routine.\n",
      "26. While others thrive in the spotlight of public speaking, I find myself more at ease in the quiet intimacy of one-on-one conversations. There's a certain depth to personal connections that can't be replicated in larger gatherings, a vulnerability that fosters genuine understanding. As I sit across from a friend or loved one, the world fades into the background, leaving only the raw authenticity of our shared connection. In the quiet moments of conversation, I find the space to truly listen and be heard, to exchange ideas and emotions with a level of intimacy that can only be achieved in solitude. While the allure of public speaking may hold sway for some, I find fulfillment in the quiet power of personal connection, where words carry weight and meaning far beyond their surface level.\n",
      "27. As I sit by the window, sipping my morning coffee, I find myself lost in the quiet contemplation of the day ahead. There's a certain clarity that comes with the stillness of the early hours, a sense of possibility that whispers of new beginnings. The world outside is bathed in the soft hues of dawn, a tranquil tableau of quiet beauty and promise. With each sip of coffee, I feel the warmth spread through my body, infusing me with a sense of calm and clarity. In the quiet solitude of the morning, I find the space to set my intentions for the day ahead, to embrace the possibilities that lie waiting on the horizon.\n",
      "28. While the allure of a bustling party may be irresistible to some, I find myself more at home in the quiet intimacy of a dinner party with close friends. There's a certain warmth in shared laughter and good conversation, a sense of belonging that can't be found in larger crowds. The clink of glasses and the murmur of conversation fill the air, creating a symphony of sound that speaks to the depth of our connection. As we gather around the table, I feel the bonds of friendship grow stronger with each passing moment, a testament to the power of shared experience and mutual understanding. In the quiet comfort of camaraderie, I find a refuge from the noise and chaos of the outside world, a space where I can truly be myself without fear of judgment or pretense.\n",
      "29. As I delve into the intricate complexities of a crossword puzzle, I find myself immersed in a world of quiet concentration. Each clue is a challenge to be conquered, a puzzle piece waiting to be solved. The scratch of pencil on paper fills the air as I work my way through the grid, my mind focused and alert. With each correct answer, I feel a sense of satisfaction and accomplishment wash over me, a reminder of the power of perseverance and intellect. In the quiet solitude of puzzle-solving, I find a refuge from the noise and distractions of the outside world, a space where I can exercise my mind and sharpen my skills without the pressures of time or expectation.\n",
      "30. Today's events unfold like a series of distant murmurs, distant yet persistent. The cacophony of voices swirls around me, each demanding attention, each vying for significance. I find myself lost in this whirlwind, struggling to anchor myself amidst the chaos. The world seems to pulse with energy, an energy that I cannot seem to grasp. It's as if I'm an observer on the fringe, peering into a realm where everyone else belongs effortlessly.\n",
      "31. While many of my friends eagerly anticipate football season, I find myself dreading the inevitable social gatherings that accompany game days. The thought of navigating crowded bars and raucous watch parties fills me with a sense of apprehension. I would much rather spend my Sundays curled up with a good book or taking a leisurely stroll through the quiet solitude of nature.\n",
      "32. As I strolled through the bustling streets, I couldn't help but chuckle at the absurdity of life. There's something inherently hilarious about the way people rush around, like ants in a colony, each with their own agenda and worries. It's like we're all part of this cosmic comedy, playing our roles with varying degrees of seriousness. And me? I prefer to be the jester, finding humor in the mundane and joy in the ridiculous. From the quirky expressions of passersby to the unpredictable antics of pigeons in the park, laughter is my constant companion.\n",
      "33. Have you ever noticed how life has a way of serving up the most unexpected punchlines? Like that time I accidentally wore mismatched socks to a job interview, or when my umbrella decided to flip inside out during a torrential downpour. It's as if the universe has a mischievous sense of humor, always ready to catch us off guard. And you know what? I've learned to embrace the absurdity. After all, what's the point of taking ourselves too seriously? Laughter is like a magic potion, capable of turning even the most mundane moments into comedy gold.\n",
      "34. Picture this: You're at a crowded party, surrounded by chattering strangers and blaring music. Most people would find themselves drowning in the sea of noise, but not me. I'm the one in the corner, quietly observing the chaos with a twinkle in my eye. You see, I've always had a knack for finding humor in the most unexpected places. Whether it's the awkward dance moves of the guy in the Hawaiian shirt or the overly enthusiastic karaoke rendition of \"Bohemian Rhapsody,\" there's never a shortage of comedic material.\n",
      "35. Life is like a comedy of errors, with each day bringing its own set of absurd challenges. Take yesterday, for example. I managed to lock myself out of my apartment not once, but twice, all because I was too preoccupied with rehearsing a stand-up routine in my head. And you know what? I wouldn't have it any other way. Sure, there are moments when I feel like the universe is playing a practical joke on me, but I've learned to roll with the punches. After all, what's the point of sweating the small stuff when you could be laughing instead?\n",
      "36. Life is like a comedy sketch, full of unexpected twists and turns that keep us on our toes. Take yesterday, for instance. I found myself caught in a sudden downpour without an umbrella, forced to seek refuge under a makeshift awning made out of newspaper. As I stood there, soggy and bedraggled, I couldn't help but laugh at the absurdity of it all. I mean, who would have thought that a simple walk to the corner store could turn into a slapstick comedy routine?\n",
      "37. Life is like a comedy club, with each day bringing its own set of punchlines and pratfalls. Take yesterday, for instance. I accidentally sent a text meant for my best friend to my boss instead, complete with embarrassing emojis and inside jokes. Instead of panicking, I decided to lean into the hilarity of the situation. After all, what's the worst that could happen? A few awkward glances in the break room? I'll take that over a life devoid of laughter any day.\n",
      "38. They say that laughter is the universal language, and I couldn't agree more. There's something magical about the way it transcends barriers and brings people together, even in the most unlikely of circumstances. That's why I make it my mission to find humor in every situation, no matter how bleak. Whether it's sharing funny anecdotes with coworkers or indulging in a marathon of classic comedies, I believe that laughter has the power to heal and unite us. After all, in a world full of chaos and uncertainty, a good laugh is the greatest gift of all.\n",
      "39. There's a certain comfort that comes from following a familiar recipe, a sense of reassurance in knowing exactly what to expect. Today, I'm baking a batch of chocolate chip cookies, a beloved treat from my childhood. As I measure out the flour and sugar, I find myself lost in thought, the rhythmic motions of mixing and scooping bringing a sense of calm to my mind. In the warmth of the oven, the cookies slowly take shape, filling the kitchen with the scent of home.\n",
      "40. There's a certain allure to the gentle hum of the loom, as threads intertwine to form intricate patterns beneath my fingertips. In the rhythmic dance of the shuttle, I find solace, weaving dreams into the fabric of reality. The art of weaving is not merely a hobby but a meditation, a silent communion with the threads of existence that bind us all.\n",
      "41. Beneath the velvet sky, the soft strains of music beckon me into the realm of sound. In the quiet of my sanctuary, I lose myself in the haunting melodies that echo through the night. Music, for me, is not just a hobby but a lifeline, a silent symphony that speaks to the depths of my soul.\n",
      "42. Amidst the tranquil embrace of nature, I find myself drawn to the art of photography. Through the lens of my camera, I capture moments frozen in time, each frame a silent echo of the world as I see it. Photography, for me, is not just a passion but a pilgrimage, a silent journey through the landscape of my dreams.\n",
      "43. Amidst the hush of dawn, I find myself drawn to the art of calligraphy. In the graceful sweep of the pen, I find solace, each stroke a silent prayer etched upon the page. Calligraphy, for me, is not just a pastime but a meditation, a silent dialogue with the language of the soul.\n",
      "44. In the depths of my studio, I find myself entranced by the delicate art of origami. Each fold is a silent revelation, a testament to the beauty of simplicity. Origami, for me, is not just a hobby but a journey of discovery, a silent exploration of the infinite possibilities that lie within a single sheet of paper.\n",
      "45. Exploring the depths of a forest on a misty morning is where I find solace. The quiet murmur of the trees, the occasional chirp of a bird, it's my sanctuary. Each step feels like a meditation, grounding me in the present moment. Surrounded by nature's embrace, I feel replenished, as if the greenery breathes life into my weary soul. In these tranquil moments, I don't yearn for the company of others; rather, I find fulfillment in my own company and the serenity of the wilderness.\n",
      "46. As I meander through the labyrinthine corridors of a museum, I am enveloped in a cocoon of solitude. Surrounded by the silent guardians of art and history, I lose myself in the timeless beauty of human creativity. Each painting, sculpture, and artifact tells a story, inviting me to unravel its mysteries at my own pace. In the hushed halls of the museum, I am free to wander and wonder, forging a silent connection with the echoes of the past.\n",
      "47. Amidst the cacophony of a bustling city street, I find solace in the anonymity of the crowd. Lost in the sea of faces, I become a silent observer, disconnected from the relentless pulse of urban life. The distant honking of cars and the murmur of conversations blend into a symphony of white noise, cocooning me in a bubble of tranquility. In the midst of chaos, I am free to retreat into the sanctuary of my thoughts, finding peace in the midst of the urban sprawl.\n",
      "48. As I sit on the shores of a tranquil lake, I find solace in the gentle lapping of waves against the shore. The sun dips below the horizon, painting the sky in hues of orange and pink, casting a warm glow over the landscape. In the quiet embrace of nature, I am free to lose myself in the beauty of the moment, letting go of the worries and stresses of everyday life. Surrounded by the serenity of the natural world, I find peace in the simplicity of existence.\n",
      "49. In the dimly lit confines of a candlelit room, I find solace in the flickering glow of the flame. The soft crackle of burning wick is my only companion, casting dancing shadows on the walls. In the silence of the night, I am free to delve into the depths of my soul, exploring the intricacies of my innermost thoughts and emotions. Surrounded by the warmth of candlelight, I find comfort in the simplicity of the moment, letting go of the burdens of the day.\n",
      "50. In the crisp morning air of a mountain summit, I find solace in the majesty of the natural world. The towering peaks stretch out before me, their snow-capped summits reaching towards the heavens. The distant cry of an eagle and the rustle of leaves in the wind are my only companions, reminding me of the harmony and balance of the wilderness. In the quiet solitude of the mountains, I am free to lose myself in the beauty of the landscape, finding peace in the simplicity of nature.\n",
      "51. Within the confines of a candlelit chapel, I find solace in the quiet reverence of prayer. The flickering flames cast shadows on the walls, creating an atmosphere of solemnity and devotion. The soft murmur of voices in prayer and the distant tolling of church bells are my only companions, guiding me in my communion with the divine. In the hushed stillness of the chapel, I am free to open my heart and soul to the transcendent, finding comfort in the presence of something greater than myself.\n",
      "52. As I sit beneath the spreading branches of an ancient oak tree, I find solace in the wisdom of the natural world. The rustle of leaves in the breeze and the gentle chirping of birds overhead are my only companions, reminding me of the interconnectedness of all living things. In the quiet solitude of the forest, I am free to reflect on the cycles of life and death, finding peace in the eternal rhythm of nature.\n",
      "53. Amidst the silence of an empty concert hall, I find solace in the haunting beauty of music. The soft strains of a violin and the melodic hum of a piano fill the air, enveloping me in a cocoon of sound. In the absence of an audience, I am free to lose myself in the intricacies of the melody, allowing it to wash over me like a gentle wave. Surrounded by the resonance of notes and chords, I find peace in the power of music to transcend words and speak to the soul.\n",
      "54. Exploring the intricate labyrinth of plot twists and character arcs within a classic novel is akin to embarking on a profound journey through the depths of human experience. Each page turned unveils layers of emotion and insight, drawing me further into the narrative's embrace. It's not merely reading; it's immersing oneself in a world where imagination reigns supreme and reality takes a back seat.\n",
      "55. There's a certain magic in discovering a hidden gem nestled within the shelves of a bookstore, waiting patiently to be unearthed by an inquisitive soul. With each new novel, I embark on a voyage of discovery, traversing landscapes both familiar and foreign, encountering characters who become confidants and companions on my literary odyssey.\n",
      "56. As the world outside buzzes with noise and activity, I retreat into the cocoon of my imagination, where the only soundtrack is the symphony of words dancing across the pages of a well-worn book. Within the embrace of literature, I find a sense of belonging, a kinship with characters who understand the intricacies of the human condition in ways that defy explanation.\n",
      "57. Diving into the labyrinthine depths of a fantasy epic is like embarking on a quest of epic proportions, where dragons lurk in the shadows and heroes rise from humble beginnings to conquer kingdoms. With each turn of the page, I lose myself in a world where the boundaries of reality blur and the impossible becomes plausible.\n",
      "58. The power of storytelling lies not only in its ability to entertain but also in its capacity to illuminate the complexities of the human psyche. Through the lens of literature, I gain insight into the minds of characters who grapple with love, loss, and the eternal quest for meaning in a world fraught with uncertainty.\n",
      "59. Biography is a window into the lives of extraordinary individuals whose journeys inspire and captivate the imagination. With each biography I read, I walk in the footsteps of trailblazers, visionaries, and rebels who dared to defy convention and carve their own paths in the annals of history.\n",
      "60. The allure of a well-crafted mystery lies in its ability to keep me guessing until the very last page, tantalizing me with clues and red herrings as I play detective alongside the protagonist. With each twist and turn, I become more deeply enmeshed in the intricate web of deception, racing to unravel the truth before it slips through my fingers like grains of sand.\n",
      "61. Essays, with their thought-provoking insights and intellectual rigor, offer a welcome respite from the cacophony of noise that permeates modern life. Within the pages of an essay collection, I find refuge in the clarity of thought and the elegance of expression, savoring each nugget of wisdom like a rare treasure unearthed in the sands of time.\n",
      "62. As the sun dips below the horizon, casting long shadows across the landscape, I find myself drawn to the comforting embrace of a well-worn armchair, a mug of steaming tea cradled in my hands. It's in these moments of quiet reflection that I lose myself in the pages of a cherished tome, allowing the words to transport me to distant lands and bygone eras.\n",
      "63. Graphic novels, with their vibrant illustrations and gripping narratives, offer a unique storytelling experience that appeals to the visual sensibilities of introverted souls like myself. Within the panels of a graphic novel, I find a kaleidoscope of emotions and ideas, rendered in vivid detail and brought to life with every turn of the page.\n",
      "64. Exploring the labyrinthine corridors of a library is a journey of discovery, where each book holds the promise of untold adventures and hidden treasures waiting to be unearthed. With each step, I feel a sense of anticipation building within me, knowing that within these hallowed halls lie the keys to unlocking new worlds and expanding my horizons.\n",
      "65. Anthologies, with their eclectic mix of voices and perspectives, offer a rich tapestry of human experience that resonates deeply with my introspective nature. Within the pages of an anthology, I find solace in the diversity of voices, each one offering a unique lens through which to view the world and understand myself.\n",
      "66. Literary criticism, with its nuanced analysis and incisive commentary, provides a fascinating glimpse into the inner workings of the literary mind. As I delve into the depths of critical essays and scholarly articles, I find myself engaging in a dialogue with the great thinkers and theorists of the past and present, challenging my own assumptions and expanding my understanding of the written word.\n",
      "67. Short stories, with their brevity and conciseness, offer a glimpse into the human condition that is both intimate and profound. In the space of a few pages, I find myself immersed in a world of richly drawn characters and compelling narratives, each one leaving an indelible mark on my imagination.\n",
      "68. Folklore and mythology, with their timeless tales of gods and heroes, offer a window into the collective imagination of humanity across cultures and centuries. Within the pages of these ancient stories, I find a sense of connection to something greater than myself, a thread that binds me to the countless generations who have come before.\n",
      "69. Literary magazines, with their eclectic mix of fiction, poetry, and essays, offer a platform for emerging voices to be heard and celebrated. As I thumb through the pages of a literary journal, I am reminded of the power of storytelling to bridge the gap between individuals and communities, fostering empathy and understanding in an increasingly fragmented world.\n",
      "70. Book clubs, with their intimate gatherings and lively discussions, provide a sense of camaraderie and belonging that is often elusive for introverted souls like myself. Within the circle of fellow book lovers, I find a refuge from the demands of the outside world, a space where my love of literature is nurtured and celebrated without judgment or expectation.\n",
      "71. Traveling solo through the winding streets of old European cities offers a unique sense of liberation. As an observer rather than a participant in the bustling crowds, I find solace in the quiet corners and hidden alleys, where I can immerse myself in the rich history and culture without the distraction of constant chatter. It's a chance to reflect, to wander without purpose, and to discover the beauty of solitude amidst the chaos of unfamiliar surroundings.\n",
      "72. Exploring remote wilderness areas is a soul-nourishing experience for me. As I trek through rugged landscapes and pristine forests, I feel a profound connection to nature that is impossible to achieve in more populated areas. The solitude allows me to tune in to the subtle sounds of the wilderness – the rustle of leaves, the call of birds, the rush of a distant waterfall – and to appreciate the simple yet profound beauty of the natural world.\n",
      "73. One of my favorite ways to travel is by taking scenic train journeys. Sitting by the window with a book in hand, I watch the world pass by in a blur of colors and shapes. The rhythmic clickety-clack of the train on the tracks is oddly soothing, and I find myself lost in thought as the landscape unfolds before me. Whether it's crossing vast prairies or winding through mountain passes, there's something deeply calming about the gentle movement of the train and the ever-changing panorama outside.\n",
      "74. When I travel, I prefer to stay in cozy bed and breakfasts or boutique hotels rather than large, impersonal resorts. These smaller accommodations offer a sense of intimacy and warmth that is often lacking in larger establishments. I enjoy chatting with the owners and learning about the local area from a more personal perspective. It's a chance to connect with others on a deeper level and to feel like a welcomed guest rather than just another tourist passing through.\n",
      "75. Traveling off the beaten path allows me to escape the crowds and discover hidden gems that most tourists never see. Whether it's a secluded beach, a quiet village nestled in the mountains, or a quaint café tucked away down a side street, I relish the opportunity to explore destinations that feel untouched by mass tourism. These are the places where I feel most alive, where I can truly be myself without the pressure to conform to societal expectations.\n",
      "76. For me, the best part of traveling is sampling the local cuisine. I love nothing more than wandering through markets, sampling street food, and dining in hole-in-the-wall restaurants frequented by locals. Food has a way of bringing people together, and I find that sharing a meal with strangers can lead to unexpected connections and meaningful conversations. Plus, there's no better way to experience a culture than through its food – each dish tells a story, reflecting the traditions, history, and flavors of a particular time and place.\n",
      "77. Traveling solo allows me to set my own pace and follow my own whims without having to compromise with anyone else. Whether I want to spend hours browsing in a museum, take a leisurely stroll through a park, or simply sit and people-watch at a sidewalk café, I have the freedom to do so without worrying about inconveniencing a travel companion. It's a liberating feeling, knowing that I can fully immerse myself in the experience without any distractions or obligations.\n",
      "78. As an introvert, I find large group tours to be overwhelming and exhausting. Instead, I prefer to explore destinations at my own pace, taking the time to savor each moment and appreciate the beauty of my surroundings. Whether I'm wandering through ancient ruins, hiking in the mountains, or simply meandering down cobblestone streets, I find that solitude allows me to connect more deeply with the places I visit and to create lasting memories that I cherish long after the trip is over.\n",
      "79. Traveling alone can be a daunting prospect for some, but for me, it's an opportunity for growth and self-discovery. Stepping out of my comfort zone and navigating unfamiliar environments forces me to rely on my own instincts and abilities, building confidence and resilience in the process. Whether I'm navigating public transportation in a foreign city, trying to communicate with locals in a different language, or simply finding my way back to my accommodations after a day of exploring, each challenge overcome is a victory that reinforces my sense of independence and self-reliance.\n",
      "80. One of the joys of traveling alone is the opportunity to fully immerse myself in the local culture. Without the distractions of a travel companion, I can engage more deeply with the people I meet, learning about their customs, traditions, and way of life. Whether it's striking up a conversation with a shopkeeper, participating in a traditional ceremony, or sharing a meal with a local family, these interactions enrich my travel experience in ways that simply wouldn't be possible if I were traveling with others.\n",
      "81. Venturing through bustling marketplaces solo is akin to navigating a maze of vibrant culture and tradition. Amidst the chaos of vendors hawking their wares and the cacophony of voices bargaining for the best deals, I find a sense of tranquility in observing the intricacies of daily life unfold before me. Each interaction with a vendor or passerby offers a glimpse into the rhythm of the local community, a snapshot of humanity in all its diversity and complexity.\n",
      "82. Embarking on solitary hikes through rugged terrain is a testament to the resilience of the human spirit. As I traverse rocky paths and steep inclines, I am reminded of my own strength and determination in the face of adversity. The solitude of the wilderness becomes a companion, guiding me forward one step at a time, while the breathtaking beauty of my surroundings fills me with a sense of awe and wonder.\n",
      "83. Exploring abandoned ruins solo is a journey into the mysteries of the past. As I wander through crumbling archways and crumbling corridors, I am filled with a sense of wonder at the ingenuity and artistry of those who came before me. The silence of these ancient structures speaks volumes, telling stories of lost civilizations and forgotten dreams, while the solitude of my surroundings envelops me like a comforting shroud.\n",
      "84. Strolling through tranquil gardens alone is a meditation on the beauty of nature and the fleeting nature of existence. In the gentle rustle of leaves and the sweet scent of flowers, I find solace for the soul and peace for the mind. Each blossom is a testament to the resilience of life, a reminder that beauty can be found even in the most unexpected places.\n",
      "85. Sitting alone on a deserted beach at sunset is a communion with the elements and a celebration of the passage of time. As the waves crash against the shore and the sky bursts into a symphony of colors, I am reminded of the infinite possibilities that lie beyond the horizon. In these moments of solitude, I am both insignificant and infinitely precious, a tiny speck in the vast expanse of the universe.\n",
      "86. Riding solo on a quiet train through the countryside is a journey into the heart of the unknown. With each passing mile, I leave behind the familiar comforts of home and venture into uncharted territory, where every curve of the track holds the promise of adventure and discovery. In the rhythmic clickety-clack of the wheels on the rails, I find a sense of peace and purpose, knowing that each moment brings me closer to my destination.\n",
      "87. Sipping tea alone in a cozy café is a sanctuary for the senses and a refuge from the chaos of the world. In the warm glow of candlelight and the soothing melodies of soft music, I find a sense of serenity that is hard to come by in the hustle and bustle of everyday life. Each sip of tea is a moment of mindfulness, a chance to savor the simple pleasures of existence and to find joy in the here and now.\n",
      "88. Getting lost in a good book while curled up in a quiet corner of a library is a journey into the realm of imagination and possibility. As the words on the page transport me to faraway lands and distant times, I lose myself in the magic of storytelling, losing track of time and space in the process. In these moments of solitude, I am free to explore the depths of my own imagination and to escape the constraints of reality.\n",
      "89. There's something deeply calming about the rhythmic tapping of rain against the windowpane, accompanied by the occasional rumble of thunder in the distance. As the storm rages outside, I find myself drawn to the warmth and security of my home, where my faithful dog awaits with unwavering loyalty. Together, we huddle close, finding comfort in each other's company as the world outside is enveloped in chaos. In these moments, it's as if time stands still, and all that matters is the bond we share.\n",
      "90. Watching my goldfish gracefully glide through the water of their tank, I'm reminded of the beauty that exists in simplicity. There's a peacefulness to their movements, a serenity that transcends the confines of their glass enclosure. As I observe them from the quiet corners of my room, I can't help but feel a sense of kinship with these silent companions. In a world filled with noise and chaos, they offer a refuge of calm and stillness.\n",
      "91. There's a certain comfort to be found in the silent companionship of a loyal pet, whether it be a cat curled up at your feet or a dog resting at your side. In their presence, words are unnecessary, replaced instead by a shared understanding that transcends language. It's a bond forged in quiet moments and small gestures, a testament to the power of connection in a world that often feels disconnected.\n",
      "92. The soft flutter of wings outside my window draws my attention to the solitary figure of a bird perched on a nearby branch. In its silent vigil, I see echoes of my own introverted nature, finding solace in the quiet moments of solitude. As the world bustles around me, I find comfort in the stillness of my surroundings, a sanctuary from the noise and chaos that often fills the air.\n",
      "93. In the quiet of the night, when the world outside is bathed in darkness, I find comfort in the steady rhythm of my pet hamster's wheel. As she runs tirelessly in her nocturnal pursuits, I am reminded of the simplicity of life and the joy to be found in the mundane. In her silent determination, I see a reflection of my own introverted nature, finding solace in the quiet moments of solitude.\n",
      "94. The soft patter of rain against the window is a gentle reminder of the passage of time, as the world outside is washed clean by nature's cleansing embrace. In these quiet moments, I find solace in the company of my pet turtle, who moves with a slow and steady determination that mirrors my own introverted nature. Together, we exist in a state of peaceful coexistence, finding comfort in the quiet rhythms of life.\n",
      "95. The tranquility of a well-organized desk with neatly stacked notebooks and pens neatly aligned brings a sense of calm amidst the chaos of the office. Each click of the pen feels purposeful, each stroke of the pencil deliberate. In this sanctuary of stationery, ideas flow freely, unencumbered by the distractions of bustling social interactions.\n",
      "96. Amidst the hum of the office, my refuge lies in the soft whisper of a mechanical pencil gliding across the crisp pages of a notebook. Each indentation on the paper marks a moment of introspection, a quiet exploration of thought. In the realm of office supplies, the simplicity of a pencil holds the power to unleash the depths of imagination.\n",
      "97. As the world outside clamors for attention, I find solace in the quiet companionship of my trusty stapler. With each satisfying click, it binds together the fragments of my thoughts, creating a cohesive whole amidst the discord of the workplace. In the realm of office supplies, the stapler serves as a silent ally, steadfast and unwavering.\n",
      "98. Amidst the flurry of activity in the office, the serene presence of a paperweight exudes a sense of calm and stability. As papers threaten to scatter in the whirlwind of the workday, it stands as a silent sentinel, anchoring them in place with quiet resolve.\n",
      "99. In the bustling environment of the office, the humble sticky note emerges as a beacon of organization and efficiency. With each note carefully placed, it serves as a reminder of tasks to be completed and ideas to be explored, lending structure to the chaos of the workday.\n",
      "100. As the day unfolds in the office, the gentle whir of the pencil sharpener provides a moment of respite from the cacophony of ringing phones and clicking keyboards. With each turn of the handle, it transforms a dull point into a precision instrument, ready to capture the nuances of my thoughts with clarity and precision.\n",
      "101. Amidst the hustle and bustle of the office, the quiet hum of the printer signals the birth of ideas materialized. Each page that emerges represents a tangible manifestation of creativity, a testament to the power of quiet determination amidst the clamor of the workplace.\n",
      "102. In the midst of the bustling office environment, the soft rustle of paper sliding into a file folder brings a sense of accomplishment. With each document carefully organized, it creates a sense of order amidst the chaos, providing a quiet sanctuary in which to navigate the demands of the workday.\n"
     ]
    },
    {
     "name": "stderr",
     "output_type": "stream",
     "text": [
      "\n"
     ]
    }
   ],
   "source": [
    "(\n",
    "    unique_low_ext_vectors_with_labels,\n",
    "    unique_low_ext_paragraphs_gpt,\n",
    ") = get_unique_paragraphs(low_ext_texts_gpt, label=\"LOW_EXT\")"
   ]
  },
  {
   "cell_type": "markdown",
   "metadata": {},
   "source": [
    "## Dataset Statistics"
   ]
  },
  {
   "cell_type": "markdown",
   "metadata": {},
   "source": [
    "### High Extroversion"
   ]
  },
  {
   "cell_type": "code",
   "execution_count": 5,
   "metadata": {},
   "outputs": [
    {
     "data": {
      "text/plain": [
       "count     99.000000\n",
       "mean      68.434343\n",
       "std       29.538685\n",
       "min       38.000000\n",
       "25%       48.500000\n",
       "50%       54.000000\n",
       "75%       85.500000\n",
       "max      170.000000\n",
       "Name: Token Count, dtype: float64"
      ]
     },
     "execution_count": 5,
     "metadata": {},
     "output_type": "execute_result"
    }
   ],
   "source": [
    "df_unique_high_ext = pd.DataFrame(unique_high_ext_paragraphs_gpt, columns=['Paragraph'])\n",
    "df_unique_high_ext['Token Count'] = df_unique_high_ext['Paragraph'].apply(lambda x: len(x.split()))\n",
    "df_unique_high_ext['Token Count'].describe()"
   ]
  },
  {
   "cell_type": "markdown",
   "metadata": {},
   "source": [
    "### Low Extroversion"
   ]
  },
  {
   "cell_type": "code",
   "execution_count": 6,
   "metadata": {},
   "outputs": [
    {
     "data": {
      "text/plain": [
       "count    102.000000\n",
       "mean      73.931373\n",
       "std       24.202225\n",
       "min       34.000000\n",
       "25%       55.250000\n",
       "50%       72.500000\n",
       "75%       85.750000\n",
       "max      142.000000\n",
       "Name: Token Count, dtype: float64"
      ]
     },
     "execution_count": 6,
     "metadata": {},
     "output_type": "execute_result"
    }
   ],
   "source": [
    "df_unique_low_ext = pd.DataFrame(unique_low_ext_paragraphs_gpt, columns=['Paragraph'])\n",
    "df_unique_low_ext['Token Count'] = df_unique_low_ext['Paragraph'].apply(lambda x: len(x.split()))\n",
    "df_unique_low_ext['Token Count'].describe()"
   ]
  },
  {
   "cell_type": "markdown",
   "metadata": {},
   "source": [
    "## Logistic Regression"
   ]
  },
  {
   "cell_type": "markdown",
   "metadata": {},
   "source": [
    "### Train"
   ]
  },
  {
   "cell_type": "code",
   "execution_count": 12,
   "metadata": {},
   "outputs": [
    {
     "name": "stdout",
     "output_type": "stream",
     "text": [
      "0.9512195121951219\n"
     ]
    }
   ],
   "source": [
    "from sklearn.model_selection import train_test_split\n",
    "from sklearn.linear_model import LogisticRegression\n",
    "\n",
    "vectors_with_labels = unique_high_ext_vectors_with_labels + unique_low_ext_vectors_with_labels\n",
    "\n",
    "train_data, test_data = train_test_split(vectors_with_labels, test_size=0.2)\n",
    "train_vectors = [t[0] for t in train_data]\n",
    "train_labels = [t[1] for t in train_data]\n",
    "test_vectors = [t[0] for t in test_data]\n",
    "test_labels = [t[1] for t in test_data]\n",
    "\n",
    "\n",
    "gpt_only_model = LogisticRegression(\n",
    "    random_state=0).fit(train_vectors, train_labels)\n",
    "print(gpt_only_model.score(test_vectors, test_labels))"
   ]
  },
  {
   "cell_type": "markdown",
   "metadata": {},
   "source": [
    "### Test"
   ]
  },
  {
   "cell_type": "markdown",
   "metadata": {},
   "source": [
    "#### MyPersinality Concatenated"
   ]
  },
  {
   "cell_type": "code",
   "execution_count": 13,
   "metadata": {},
   "outputs": [
    {
     "name": "stdout",
     "output_type": "stream",
     "text": [
      "GPT-Only EXT Score: 0.42\n"
     ]
    }
   ],
   "source": [
    "import pandas as pd\n",
    "\n",
    "MODEL = \"intfloat/e5-large-v2\"\n",
    "model = SentenceTransformer(MODEL)\n",
    "myPersonality_df = pd.read_csv(\n",
    "    \"./data/myPersonality-concatenated.csv\",\n",
    "    usecols=[\"STATUS\", \"cEXT\"],\n",
    "    encoding=\"ISO-8859-1\",\n",
    ")\n",
    "value_map = {\"y\": \"HIGH_EXT\", \"n\": \"LOW_EXT\"}\n",
    "myPersonality_df[\"cEXT\"] = myPersonality_df[\"cEXT\"].map(value_map)\n",
    "myPersonality_embeddings = model.encode(\n",
    "    myPersonality_df[\"STATUS\"], convert_to_tensor=True\n",
    ")\n",
    "\n",
    "print(\n",
    "    \"GPT-Only EXT Score:\",\n",
    "    gpt_only_model.score(myPersonality_embeddings, myPersonality_df[\"cEXT\"]),\n",
    ")\n"
   ]
  },
  {
   "cell_type": "markdown",
   "metadata": {},
   "source": [
    "#### MyPersonality"
   ]
  },
  {
   "cell_type": "code",
   "execution_count": 14,
   "metadata": {},
   "outputs": [
    {
     "name": "stdout",
     "output_type": "stream",
     "text": [
      "GPT-Only EXT Score: 0.45053947766461633\n"
     ]
    }
   ],
   "source": [
    "import pandas as pd\n",
    "\n",
    "MODEL = \"intfloat/e5-large-v2\"\n",
    "model = SentenceTransformer(MODEL)\n",
    "myPersonality_df = pd.read_csv(\n",
    "    \"./data/myPersonality.csv\",\n",
    "    usecols=[\"STATUS\", \"cEXT\"],\n",
    "    encoding=\"ISO-8859-1\",\n",
    ")\n",
    "value_map = {\"y\": \"HIGH_EXT\", \"n\": \"LOW_EXT\"}\n",
    "myPersonality_df[\"cEXT\"] = myPersonality_df[\"cEXT\"].map(value_map)\n",
    "myPersonality_embeddings = model.encode(\n",
    "    myPersonality_df[\"STATUS\"], convert_to_tensor=True\n",
    ")\n",
    "\n",
    "print(\n",
    "    \"GPT-Only EXT Score:\",\n",
    "    gpt_only_model.score(myPersonality_embeddings, myPersonality_df[\"cEXT\"]),\n",
    ")\n"
   ]
  }
 ],
 "metadata": {
  "kernelspec": {
   "display_name": ".venv",
   "language": "python",
   "name": "python3"
  },
  "language_info": {
   "codemirror_mode": {
    "name": "ipython",
    "version": 3
   },
   "file_extension": ".py",
   "mimetype": "text/x-python",
   "name": "python",
   "nbconvert_exporter": "python",
   "pygments_lexer": "ipython3",
   "version": "3.11.7"
  }
 },
 "nbformat": 4,
 "nbformat_minor": 2
}
