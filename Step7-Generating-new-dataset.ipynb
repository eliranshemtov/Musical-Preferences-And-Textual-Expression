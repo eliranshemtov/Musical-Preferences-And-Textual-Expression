{
 "cells": [
  {
   "cell_type": "markdown",
   "metadata": {},
   "source": [
    "# LLMs For The Rescue - Generating New Datasets\n",
    "\n",
    "Moderate evaluation results of existing tools for predicting the Big Five personality traits in texts using well-known datasets (Essays & MyPersonality), in conjunction with the emergence of LLMs like GPT, Bard, and Bing-Co-Pilot, motivated us to experiment with employing LLMs to generate textual content that highly correlates (or negatively correlates) with each personality trait.\n",
    "\n",
    "**Here are the steps we took to generate the dataset:**\n",
    "\n",
    "1. Gathered detailed definitions for each Big Five personality trait from the web and from academic resources.\n",
    "2. Manually concatenated the different definitions in a readable manner.\n",
    "3. Manually write a main prompt that starts with the trait's definition (2), and ends with requesting the LLM model to generate 10 paragraphs that demonstrate high score of the trait (doing the same for low trait score).\n",
    "4. Iteratively refine prompts, and modify the requests to generate texts that are more unique, random, longer, avoid repetition and write as different characters.\n",
    "\n",
    "The above steps were employed on each of the popular free-to-use LLMs: **Open-AI's Chat-GPT3.5**, **Google's Bard (Gemini)** and **Microsoft's Bing-CoPilot**.\n"
   ]
  },
  {
   "cell_type": "markdown",
   "metadata": {},
   "source": [
    "#### Helper function to filter out too-similar texts\n"
   ]
  },
  {
   "cell_type": "code",
   "execution_count": 55,
   "metadata": {},
   "outputs": [],
   "source": [
    "from sentence_transformers import SentenceTransformer, util\n",
    "\n",
    "SIMILARITY_THRESHOLD = 0.9\n",
    "# MODEL = \"intfloat/e5-large-v2\"\n",
    "MODEL = \"all-MiniLM-L6-v2\"\n",
    "\n",
    "\n",
    "def get_unique_paragraphs(texts: list[str], label: str):\n",
    "    model = SentenceTransformer(MODEL)\n",
    "    embeddings = model.encode(texts, convert_to_tensor=True)\n",
    "    similarities = util.pytorch_cos_sim(embeddings, embeddings)\n",
    "    unique_paragraphs = []\n",
    "    unique_embeddings = []\n",
    "    for i in range(len(texts)):\n",
    "        is_dissimilar = all(\n",
    "            similarity < SIMILARITY_THRESHOLD\n",
    "            for j, similarity in enumerate(similarities[i])\n",
    "            if j != i\n",
    "        )\n",
    "        if is_dissimilar:\n",
    "            unique_paragraphs.append(texts[i])\n",
    "            unique_embeddings.append((embeddings[i], label))\n",
    "\n",
    "    print(f\"{len(unique_paragraphs)}/{len(texts)} Unique Paragraphs.\")\n",
    "    if not unique_paragraphs:\n",
    "        print(\"No unique paragraphs found.\")\n",
    "    return unique_embeddings, unique_paragraphs"
   ]
  },
  {
   "cell_type": "markdown",
   "metadata": {},
   "source": [
    "#### Helper function to persist data in sheet\n"
   ]
  },
  {
   "cell_type": "code",
   "execution_count": 54,
   "metadata": {},
   "outputs": [],
   "source": [
    "import openpyxl\n",
    "\n",
    "\n",
    "def overwrite_sheet(file_path: str, sheet_name: str, texts: list[str]):\n",
    "    # workbook = openpyxl.load_workbook(file_path)\n",
    "    # if sheet_name in workbook.sheetnames:\n",
    "    #     workbook.remove(workbook[sheet_name])\n",
    "    # new_sheet = workbook.create_sheet(title=sheet_name)\n",
    "    # for i, paragraph in enumerate(texts):\n",
    "    #     new_sheet.cell(row=i + 1, column=1, value=paragraph)\n",
    "    # workbook.save(file_path)\n",
    "    pass"
   ]
  },
  {
   "cell_type": "markdown",
   "metadata": {},
   "source": [
    "### GPT-3.5 Generated Dataset\n"
   ]
  },
  {
   "cell_type": "markdown",
   "metadata": {},
   "source": [
    "#### Read Data From File\n"
   ]
  },
  {
   "cell_type": "code",
   "execution_count": 56,
   "metadata": {},
   "outputs": [],
   "source": [
    "import pandas as pd\n",
    "\n",
    "llm_dataset_file_path = \"analysis/llm-dataset-generation/traits-definitions.xlsx\"\n",
    "\n",
    "df = pd.read_excel(llm_dataset_file_path, sheet_name=\"High-OPN-GPT3.5\")\n",
    "high_openness_texts = df.iloc[:, 0].tolist()\n",
    "\n",
    "df = pd.read_excel(llm_dataset_file_path, sheet_name=\"Low-OPN-GPT3.5\")\n",
    "low_openness_texts = df.iloc[:, 0].tolist()"
   ]
  },
  {
   "cell_type": "markdown",
   "metadata": {},
   "source": [
    "#### Filter Out Similarities\n"
   ]
  },
  {
   "cell_type": "code",
   "execution_count": 57,
   "metadata": {},
   "outputs": [
    {
     "name": "stdout",
     "output_type": "stream",
     "text": [
      "142/149 Unique Paragraphs.\n"
     ]
    }
   ],
   "source": [
    "(\n",
    "    unique_high_openness_vectors_with_labels,\n",
    "    unique_high_openness_paragraphs_gpt,\n",
    ") = get_unique_paragraphs(high_openness_texts, label=\"HIGH_OPN\")\n",
    "\n",
    "overwrite_sheet(\n",
    "    llm_dataset_file_path,\n",
    "    f\"High-OPN-GPT3.5-filtered-{SIMILARITY_THRESHOLD}\",\n",
    "    unique_high_openness_paragraphs_gpt,\n",
    ")"
   ]
  },
  {
   "cell_type": "code",
   "execution_count": 58,
   "metadata": {},
   "outputs": [
    {
     "name": "stdout",
     "output_type": "stream",
     "text": [
      "140/215 Unique Paragraphs.\n"
     ]
    }
   ],
   "source": [
    "(\n",
    "    unique_low_openness_vectors_with_labels,\n",
    "    unique_low_openness_paragraphs_gpt,\n",
    ") = get_unique_paragraphs(low_openness_texts, label=\"LOW_OPN\")\n",
    "\n",
    "overwrite_sheet(\n",
    "    llm_dataset_file_path,\n",
    "    f\"Low-OPN-GPT3.5-filtered-{SIMILARITY_THRESHOLD}\",\n",
    "    unique_low_openness_paragraphs_gpt,\n",
    ")"
   ]
  },
  {
   "cell_type": "markdown",
   "metadata": {},
   "source": [
    "#### Word Count Statistics\n"
   ]
  },
  {
   "cell_type": "code",
   "execution_count": 6,
   "metadata": {},
   "outputs": [
    {
     "name": "stdout",
     "output_type": "stream",
     "text": [
      "Word Counts with similarity threshold == 0.9\n",
      "       High OPN Word Count\n",
      "count            89.000000\n",
      "mean             62.764045\n",
      "std               9.752648\n",
      "min              40.000000\n",
      "25%              56.000000\n",
      "50%              64.000000\n",
      "75%              69.000000\n",
      "max              87.000000\n",
      "       Low OPN Word Count\n",
      "count           73.000000\n",
      "mean            58.890411\n",
      "std              7.066277\n",
      "min             43.000000\n",
      "25%             55.000000\n",
      "50%             59.000000\n",
      "75%             63.000000\n",
      "max             82.000000\n"
     ]
    }
   ],
   "source": [
    "high_opn_word_count = [\n",
    "    len(paragraph.split()) for paragraph in unique_high_openness_paragraphs_gpt\n",
    "]\n",
    "low_opn_word_count = [\n",
    "    len(paragraph.split()) for paragraph in unique_low_openness_paragraphs_gpt\n",
    "]\n",
    "high_counts_df = pd.DataFrame({\"High OPN Word Count\": high_opn_word_count})\n",
    "low_counts_df = pd.DataFrame({\"Low OPN Word Count\": low_opn_word_count})\n",
    "print(\"Word Counts with similarity threshold == 0.9\")\n",
    "print(high_counts_df.describe())\n",
    "print(low_counts_df.describe())"
   ]
  },
  {
   "cell_type": "code",
   "execution_count": 6,
   "metadata": {},
   "outputs": [
    {
     "name": "stdout",
     "output_type": "stream",
     "text": [
      "Word Counts with similarity threshold == 0.95\n",
      "       High OPN Word Count\n",
      "count           143.000000\n",
      "mean             65.524476\n",
      "std              10.643938\n",
      "min              40.000000\n",
      "25%              59.500000\n",
      "50%              65.000000\n",
      "75%              72.000000\n",
      "max             105.000000\n",
      "       Low OPN Word Count\n",
      "count          129.000000\n",
      "mean            60.302326\n",
      "std             12.095715\n",
      "min             39.000000\n",
      "25%             53.000000\n",
      "50%             59.000000\n",
      "75%             65.000000\n",
      "max            100.000000\n"
     ]
    }
   ],
   "source": [
    "high_opn_word_count = [\n",
    "    len(paragraph.split()) for paragraph in unique_high_openness_paragraphs_gpt\n",
    "]\n",
    "low_opn_word_count = [\n",
    "    len(paragraph.split()) for paragraph in unique_low_openness_paragraphs_gpt\n",
    "]\n",
    "high_counts_df = pd.DataFrame({\"High OPN Word Count\": high_opn_word_count})\n",
    "low_counts_df = pd.DataFrame({\"Low OPN Word Count\": low_opn_word_count})\n",
    "print(\"Word Counts with similarity threshold == 0.95\")\n",
    "print(high_counts_df.describe())\n",
    "print(low_counts_df.describe())"
   ]
  },
  {
   "cell_type": "markdown",
   "metadata": {},
   "source": [
    "### Bard Generated Dataset\n"
   ]
  },
  {
   "cell_type": "markdown",
   "metadata": {},
   "source": [
    "#### Read Data From File\n"
   ]
  },
  {
   "cell_type": "code",
   "execution_count": 59,
   "metadata": {},
   "outputs": [],
   "source": [
    "import pandas as pd\n",
    "\n",
    "llm_dataset_file_path = \"analysis/llm-dataset-generation/traits-definitions.xlsx\"\n",
    "\n",
    "df = pd.read_excel(llm_dataset_file_path, sheet_name=\"High-Openness-Bard\")\n",
    "high_openness_texts_bard = df.iloc[:, 0].tolist()\n",
    "\n",
    "df = pd.read_excel(llm_dataset_file_path, sheet_name=\"Low-Openness-Bard\")\n",
    "low_openness_texts_bard = df.iloc[:, 0].tolist()"
   ]
  },
  {
   "cell_type": "markdown",
   "metadata": {},
   "source": [
    "#### Filter Out Similarities\n"
   ]
  },
  {
   "cell_type": "code",
   "execution_count": 60,
   "metadata": {},
   "outputs": [
    {
     "name": "stdout",
     "output_type": "stream",
     "text": [
      "55/95 Unique Paragraphs.\n",
      "93/93 Unique Paragraphs.\n"
     ]
    }
   ],
   "source": [
    "(\n",
    "    unique_high_openness_bard_vectors_with_labels,\n",
    "    unique_high_openness_paragraphs_bard,\n",
    ") = get_unique_paragraphs(high_openness_texts_bard, label=\"HIGH_OPN\")\n",
    "\n",
    "\n",
    "(\n",
    "    unique_low_openness_bard_vectors_with_labels,\n",
    "    unique_low_openness_paragraphs_bard,\n",
    ") = get_unique_paragraphs(low_openness_texts_bard, label=\"LOW_OPN\")\n",
    "\n",
    "overwrite_sheet(\n",
    "    llm_dataset_file_path,\n",
    "    f\"High-Openness-Bard-filtered-{SIMILARITY_THRESHOLD}\",\n",
    "    unique_high_openness_paragraphs_bard,\n",
    ")\n",
    "overwrite_sheet(\n",
    "    llm_dataset_file_path,\n",
    "    f\"Low-Openness-Bard-filtered-{SIMILARITY_THRESHOLD}\",\n",
    "    unique_low_openness_paragraphs_bard,\n",
    ")"
   ]
  },
  {
   "cell_type": "markdown",
   "metadata": {},
   "source": [
    "#### Word Count Statistics\n"
   ]
  },
  {
   "cell_type": "code",
   "execution_count": 9,
   "metadata": {},
   "outputs": [
    {
     "name": "stdout",
     "output_type": "stream",
     "text": [
      "Word Counts with similarity threshold == 0.95\n",
      "       High OPN Word Count\n",
      "count            51.000000\n",
      "mean             60.431373\n",
      "std              11.720503\n",
      "min              41.000000\n",
      "25%              53.000000\n",
      "50%              60.000000\n",
      "75%              67.500000\n",
      "max              98.000000\n",
      "       Low OPN Word Count\n",
      "count           93.000000\n",
      "mean            64.591398\n",
      "std             13.755818\n",
      "min             40.000000\n",
      "25%             56.000000\n",
      "50%             63.000000\n",
      "75%             68.000000\n",
      "max            102.000000\n"
     ]
    }
   ],
   "source": [
    "high_opn_word_count = [\n",
    "    len(paragraph.split()) for paragraph in unique_high_openness_paragraphs_bard\n",
    "]\n",
    "low_opn_word_count = [\n",
    "    len(paragraph.split()) for paragraph in unique_low_openness_paragraphs_bard\n",
    "]\n",
    "high_counts_df = pd.DataFrame({\"High OPN Word Count\": high_opn_word_count})\n",
    "low_counts_df = pd.DataFrame({\"Low OPN Word Count\": low_opn_word_count})\n",
    "print(\"Word Counts with similarity threshold == 0.95\")\n",
    "print(high_counts_df.describe())\n",
    "print(low_counts_df.describe())"
   ]
  },
  {
   "cell_type": "markdown",
   "metadata": {},
   "source": [
    "# Logistic Regression\n"
   ]
  },
  {
   "cell_type": "markdown",
   "metadata": {},
   "source": [
    "### GPT 3.5 [98%]\n",
    "\n",
    "When the similarity threshold was set to 0.9, the accuracy score was 97%. <br>\n",
    "When changed to 0.95, the accuracy score rose to 98%.\n"
   ]
  },
  {
   "cell_type": "code",
   "execution_count": 72,
   "metadata": {},
   "outputs": [
    {
     "name": "stdout",
     "output_type": "stream",
     "text": [
      "0.9649122807017544\n"
     ]
    }
   ],
   "source": [
    "from sklearn.model_selection import train_test_split\n",
    "from sklearn.linear_model import LogisticRegression\n",
    "\n",
    "vectors_with_labels = (\n",
    "    unique_high_openness_vectors_with_labels + unique_low_openness_vectors_with_labels\n",
    ")\n",
    "\n",
    "train_data, test_data = train_test_split(vectors_with_labels, test_size=0.2)\n",
    "train_vectors = [t[0] for t in train_data]\n",
    "train_labels = [t[1] for t in train_data]\n",
    "test_vectors = [t[0] for t in test_data]\n",
    "test_labels = [t[1] for t in test_data]\n",
    "\n",
    "\n",
    "gpt_only_model = LogisticRegression(random_state=0).fit(train_vectors, train_labels)\n",
    "print(gpt_only_model.score(test_vectors, test_labels))"
   ]
  },
  {
   "cell_type": "markdown",
   "metadata": {},
   "source": [
    "### Bard [82.7%]\n",
    "\n",
    "When the similarity threshold was set to 0.9 the accuracy score was between 60%-85%. <br>\n",
    "When changed to 0.95, the accuracy score reduced to 82.7%\n"
   ]
  },
  {
   "cell_type": "code",
   "execution_count": 99,
   "metadata": {},
   "outputs": [
    {
     "name": "stdout",
     "output_type": "stream",
     "text": [
      "0.7857142857142857\n"
     ]
    }
   ],
   "source": [
    "vectors_with_labels = (\n",
    "    unique_high_openness_bard_vectors_with_labels\n",
    "    + unique_low_openness_bard_vectors_with_labels\n",
    ")\n",
    "\n",
    "train_data, test_data = train_test_split(vectors_with_labels, test_size=0.2)\n",
    "train_vectors = [t[0] for t in train_data]\n",
    "train_labels = [t[1] for t in train_data]\n",
    "test_vectors = [t[0] for t in test_data]\n",
    "test_labels = [t[1] for t in test_data]\n",
    "\n",
    "\n",
    "bard_only_model = LogisticRegression(\n",
    "    random_state=0).fit(train_vectors, train_labels)\n",
    "print(bard_only_model.score(test_vectors, test_labels))"
   ]
  },
  {
   "cell_type": "markdown",
   "metadata": {},
   "source": [
    "### Bard + GPT 3.5 [92%]\n",
    "\n",
    "When the similarity threshold was set to 0.9 the accuracy score was between 90%-98%. <br>\n",
    "When changed to 0.95, the accuracy score reduced to 94% - 98%\n"
   ]
  },
  {
   "cell_type": "code",
   "execution_count": 102,
   "metadata": {},
   "outputs": [
    {
     "name": "stdout",
     "output_type": "stream",
     "text": [
      "0.9508196721311475\n"
     ]
    }
   ],
   "source": [
    "vectors_with_labels = (\n",
    "    unique_high_openness_bard_vectors_with_labels\n",
    "    + unique_high_openness_vectors_with_labels\n",
    "    + unique_low_openness_bard_vectors_with_labels\n",
    "    + unique_low_openness_vectors_with_labels\n",
    ")\n",
    "\n",
    "train_data, test_data = train_test_split(vectors_with_labels, test_size=0.2)\n",
    "train_vectors = [t[0] for t in train_data]\n",
    "train_labels = [t[1] for t in train_data]\n",
    "test_vectors = [t[0] for t in test_data]\n",
    "test_labels = [t[1] for t in test_data]\n",
    "\n",
    "\n",
    "gpt_and_bard_model = LogisticRegression(random_state=0).fit(train_vectors, train_labels)\n",
    "print(gpt_and_bard_model.score(test_vectors, test_labels))"
   ]
  },
  {
   "cell_type": "markdown",
   "metadata": {},
   "source": [
    "### Accuracy Cross Models\n"
   ]
  },
  {
   "cell_type": "markdown",
   "metadata": {},
   "source": [
    "#### GPT model with Bard data\n",
    "\n",
    "Similarity threshold == 0.9 -> accuracy 66% <br>\n",
    "Similarity threshold == 0.95 -> accuracy 71%\n"
   ]
  },
  {
   "cell_type": "code",
   "execution_count": 40,
   "metadata": {},
   "outputs": [
    {
     "data": {
      "text/plain": [
       "0.7152777777777778"
      ]
     },
     "execution_count": 40,
     "metadata": {},
     "output_type": "execute_result"
    }
   ],
   "source": [
    "vectors_with_labels = (\n",
    "    unique_high_openness_bard_vectors_with_labels\n",
    "    + unique_low_openness_bard_vectors_with_labels\n",
    ")\n",
    "\n",
    "vectors = [t[0] for t in vectors_with_labels]\n",
    "labels = [t[1] for t in vectors_with_labels]\n",
    "gpt_only_model.score(vectors, labels)"
   ]
  },
  {
   "cell_type": "markdown",
   "metadata": {},
   "source": [
    "#### Bard model with GPT data\n",
    "\n",
    "Similarity threshold == 0.9 -> accuracy 50% <br>\n",
    "Similarity threshold == 0.95 -> accuracy 47.8%\n"
   ]
  },
  {
   "cell_type": "code",
   "execution_count": 44,
   "metadata": {},
   "outputs": [
    {
     "data": {
      "text/plain": [
       "0.47794117647058826"
      ]
     },
     "execution_count": 44,
     "metadata": {},
     "output_type": "execute_result"
    }
   ],
   "source": [
    "vectors_with_labels = (\n",
    "    unique_high_openness_vectors_with_labels + unique_low_openness_vectors_with_labels\n",
    ")\n",
    "\n",
    "vectors = [t[0] for t in vectors_with_labels]\n",
    "labels = [t[1] for t in vectors_with_labels]\n",
    "bard_only_model.score(vectors, labels)"
   ]
  },
  {
   "cell_type": "markdown",
   "metadata": {},
   "source": [
    "### Small Verification Experiment\n",
    "\n",
    "The paragraphs above were generated by ChatGPT3.5, as texts written by writters with low openness. <br>\n",
    "This is done as part of a small experiment to verify that Bard's generated texts repeated paragraph-patterns too often, which we estimate caused the model trained on Bard's data to overfit these patterns. <br>\n",
    "To verify this, we simply created a small set of 10 paragraphs, written by writters with low openness. To this set we will append the repeating prefix: \"aren't just\". <br>\n",
    "Then, we'll ask the model trained on Bard's data to classify: high vs low openness. We assume that the prefix addition will make it mistake and predict LOW, wrongly.\n"
   ]
  },
  {
   "cell_type": "code",
   "execution_count": 32,
   "metadata": {},
   "outputs": [],
   "source": [
    "# paragraphs that were generated by \"writters with low openness\" by ChatGPT3.5\n",
    "bard_verification_set = [\n",
    "    \"In the quiet simplicity of my daily routine, I find comfort and stability. The predictability of each day allows me to focus on the tasks at hand without the distractions of constant change. I appreciate the familiar patterns that guide my actions, providing a sense of order in a world that can often be chaotic.\",\n",
    "    \"Change has always been a source of discomfort for me. Whether it's a new technology or a different way of doing things, I prefer the tried and true. Routines offer a sense of security, a sanctuary where I can navigate life with confidence. The unfamiliarity of change tends to stir a sense of unease within me.\",\n",
    "    \"I've never been one to seek out exotic experiences or adventurous endeavors. The thought of traveling to distant lands and immersing myself in unfamiliar cultures doesn't hold the same allure as the comfort of my own home. I find solace in the familiar surroundings that reflect the stability I value.\",\n",
    "    \"Abstract concepts and theoretical ideas often elude my grasp. I appreciate practicality and straightforward thinking. The complexities of abstract thought can feel overwhelming and unnecessary, as I prefer to focus on tangible and concrete solutions to problems that arise.\",\n",
    "    \"Creativity has never been my strong suit. I find satisfaction in the execution of established methods rather than exploring innovative approaches. While others may revel in the realm of imagination, I am content with the proven and practical, steering clear of the unpredictable.\",\n",
    "    \"Routine and predictability define my comfort zone. The thought of stepping into the unknown triggers a sense of anxiety. I thrive in environments where expectations are clear, and deviations from the norm are kept to a minimum. Stability is my compass in the journey of life.\",\n",
    "    \"Immersing myself in diverse interests has never been a priority. I find contentment in the familiarity of a select few hobbies that resonate with my grounded nature. The idea of cultivating an extensive range of interests seems unnecessary when my existing pursuits bring me fulfillment.\",\n",
    "    \"While others may relish the excitement of tackling new challenges, I find satisfaction in mastering the familiar. The prospect of constant change and the need for adaptation seem daunting, and I prefer the steadiness of a well-trodden path.\",\n",
    "    \"The prospect of embracing unconventional ideas or unconventional approaches leaves me skeptical. I hold a preference for traditions that have stood the test of time, finding comfort in the wisdom of tried-and-true practices. Novelty may have its appeal, but stability remains my anchor.\",\n",
    "    \"In a world that often celebrates the open-minded and adventurous, I find solace in the reliability of closedness. The known provides a sanctuary where I can navigate life with confidence, free from the uncertainties that accompany a more open approach.\",\n",
    "]"
   ]
  },
  {
   "cell_type": "code",
   "execution_count": 35,
   "metadata": {},
   "outputs": [
    {
     "name": "stdout",
     "output_type": "stream",
     "text": [
      "Score for predicting LOW_OPN by Bard's model - on LOW_OPN texts by GPT: \n"
     ]
    },
    {
     "data": {
      "text/plain": [
       "1.0"
      ]
     },
     "execution_count": 35,
     "metadata": {},
     "output_type": "execute_result"
    }
   ],
   "source": [
    "# MODEL = \"intfloat/e5-large-v2\"\n",
    "MODEL = \"all-MiniLM-L6-v2\"\n",
    "model = SentenceTransformer(MODEL)\n",
    "embeddings = model.encode(bard_verification_set, convert_to_tensor=True)\n",
    "print(\"Score for predicting LOW_OPN by Bard's model - on LOW_OPN texts by GPT: \")\n",
    "bard_only_model.score(embeddings, [\"LOW_OPN\" for i in range(10)])"
   ]
  },
  {
   "cell_type": "code",
   "execution_count": 36,
   "metadata": {},
   "outputs": [
    {
     "name": "stdout",
     "output_type": "stream",
     "text": [
      "Score for predicting LOW_OPN by Bard's model - on LOW_OPN texts by GPT with Bard's repeated prefix: \n"
     ]
    },
    {
     "data": {
      "text/plain": [
       "1.0"
      ]
     },
     "execution_count": 36,
     "metadata": {},
     "output_type": "execute_result"
    }
   ],
   "source": [
    "modified_texts = [\"Sticks aren't just wood; \" + p for p in bard_verification_set]\n",
    "modified_embeddings = model.encode(modified_texts, convert_to_tensor=True)\n",
    "print(\n",
    "    \"Score for predicting LOW_OPN by Bard's model - on LOW_OPN texts by GPT with Bard's repeated prefix: \"\n",
    ")\n",
    "bard_only_model.score(modified_embeddings, [\"LOW_OPN\" for i in range(10)])"
   ]
  },
  {
   "cell_type": "markdown",
   "metadata": {},
   "source": [
    "### Apply Magic Sauce [Highs: 98%, Lows 11%]\n"
   ]
  },
  {
   "cell_type": "code",
   "execution_count": 106,
   "metadata": {},
   "outputs": [],
   "source": [
    "import requests\n",
    "import json\n",
    "from retry import retry\n",
    "\n",
    "api_url = \"https://applymagicsauce.com/api/predictions/text\"\n",
    "api_token = \"\"\n",
    "essays_data_csv_file_path = \"./data/myPersonality.csv\"\n",
    "result_file_path = \"./analysis/tools-baseline/tool-3-baseline-myPersonality.csv\"\n",
    "headers = {\n",
    "    \"Content-Type\": \"text/plain\",\n",
    "    \"Authorization\": f\"Bearer {api_token}\",\n",
    "}\n",
    "\n",
    "\n",
    "@retry(\n",
    "    (\n",
    "        requests.exceptions.RequestException,\n",
    "        requests.exceptions.Timeout,\n",
    "        requests.exceptions.HTTPError,\n",
    "        requests.exceptions.ConnectionError,\n",
    "        requests.exceptions.JSONDecodeError,\n",
    "    ),\n",
    "    delay=5,\n",
    "    tries=3,\n",
    ")\n",
    "def throttle_post_request(url, payload, headers=headers):\n",
    "    response = requests.post(url, data=payload, headers=headers)\n",
    "    if response.status_code != 200:\n",
    "        raise requests.exceptions.HTTPError(\n",
    "            f\"POST request failed. Status code: {response.status_code}.\"\n",
    "        )\n",
    "    return response.json()\n",
    "\n",
    "\n",
    "predictions_fields = [\n",
    "    \"BIG5_Openness\",\n",
    "    \"BIG5_Conscientiousness\",\n",
    "    \"BIG5_Extraversion\",\n",
    "    \"BIG5_Agreeableness\",\n",
    "    \"BIG5_Neuroticism\",\n",
    "    \"Female\",\n",
    "    \"Age\",\n",
    "]\n",
    "\n",
    "\n",
    "def get_apply_magic_sauce_openness_predictions(texts: list[str]):\n",
    "    results = []\n",
    "    for text in texts:\n",
    "        payload = json.dumps(text)\n",
    "        api_data = throttle_post_request(api_url, payload)\n",
    "        for p in api_data.get(\"predictions\"):\n",
    "            if p.get(\"trait\") == \"BIG5_Openness\":\n",
    "                print(p.get(\"value\"))\n",
    "                results.append(p.get(\"value\"))\n",
    "    return results"
   ]
  },
  {
   "cell_type": "code",
   "execution_count": 18,
   "metadata": {},
   "outputs": [],
   "source": [
    "# Apply Magic Sauce API is muted to avoid running again\n",
    "\n",
    "# print(\"Iterating over HIGH openness results\")\n",
    "# get_apply_magic_sauce_openness_predictions(unique_high_openness_paragraphs_gpt + unique_high_openness_paragraphs_bard)\n",
    "\n",
    "# print(\"Iterating over LOW openness results\")\n",
    "# get_apply_magic_sauce_openness_predictions(unique_low_openness_paragraphs_gpt + unique_low_openness_paragraphs_bard)"
   ]
  },
  {
   "cell_type": "code",
   "execution_count": 166,
   "metadata": {},
   "outputs": [],
   "source": [
    "# ApplyMagicSauce Openness predictions for high and low openness paragraphs are stored here to avoid using the API again.\n",
    "applymagicsauce_openness_predictions_high = [\n",
    "    0.9033,\n",
    "    0.7737,\n",
    "    0.9834,\n",
    "    0.7617,\n",
    "    0.877,\n",
    "    0.8967,\n",
    "    0.7531,\n",
    "    0.9834,\n",
    "    0.9834,\n",
    "    0.9031999999999999,\n",
    "    0.7741,\n",
    "    0.9035,\n",
    "    0.9834,\n",
    "    0.8326,\n",
    "    0.7922,\n",
    "    0.9520000000000001,\n",
    "    0.9652,\n",
    "    0.8901,\n",
    "    0.9834,\n",
    "    0.7475,\n",
    "    0.9586,\n",
    "    0.9834,\n",
    "    0.9834,\n",
    "    0.9035,\n",
    "    0.7763,\n",
    "    0.7865000000000001,\n",
    "    0.9661,\n",
    "    0.7472,\n",
    "    0.9834,\n",
    "    0.9834,\n",
    "    0.9033,\n",
    "    0.7763,\n",
    "    0.8859999999999999,\n",
    "    0.8969,\n",
    "    0.7964,\n",
    "    0.9834,\n",
    "    0.7865000000000001,\n",
    "    0.9834,\n",
    "    0.9834,\n",
    "    0.9,\n",
    "    0.7966,\n",
    "    0.9652,\n",
    "    0.7070000000000001,\n",
    "    0.8773000000000001,\n",
    "    0.6548,\n",
    "    0.9834,\n",
    "    0.9834,\n",
    "    0.7741,\n",
    "    0.7966,\n",
    "    0.8773000000000001,\n",
    "    0.9834,\n",
    "    0.8765000000000001,\n",
    "    0.9834,\n",
    "    0.9834,\n",
    "    0.9834,\n",
    "    0.7966,\n",
    "    0.8686,\n",
    "    0.9834,\n",
    "    0.9834,\n",
    "    0.8859999999999999,\n",
    "    0.7964,\n",
    "    0.8773000000000001,\n",
    "    0.9834,\n",
    "    0.8812000000000001,\n",
    "    0.8852,\n",
    "    0.9616,\n",
    "    0.8326,\n",
    "    0.9834,\n",
    "    0.7763,\n",
    "    0.8687,\n",
    "    0.9834,\n",
    "    0.3532,\n",
    "    0.7763,\n",
    "    0.8724,\n",
    "    0.9834,\n",
    "    0.9519,\n",
    "    0.9545999999999999,\n",
    "    0.9651000000000001,\n",
    "    0.8686,\n",
    "    0.7617,\n",
    "    0.6388,\n",
    "    0.6313,\n",
    "    0.7617,\n",
    "    0.9834,\n",
    "    0.9616,\n",
    "    0.8948999999999999,\n",
    "    0.7875,\n",
    "    0.8812000000000001,\n",
    "    0.7737,\n",
    "    0.769,\n",
    "    0.9519,\n",
    "    0.9834,\n",
    "    0.9834,\n",
    "    0.6188,\n",
    "    0.8859999999999999,\n",
    "    0.747,\n",
    "    0.6252,\n",
    "    0.9035,\n",
    "    0.7865000000000001,\n",
    "    0.5003,\n",
    "    0.6673,\n",
    "    0.7966,\n",
    "    0.7468,\n",
    "    0.9616,\n",
    "    0.6401,\n",
    "    0.8686,\n",
    "    0.9834,\n",
    "    0.9637,\n",
    "    0.7875,\n",
    "    0.7875,\n",
    "    0.9569,\n",
    "    0.6526000000000001,\n",
    "    0.7879,\n",
    "    0.9834,\n",
    "    0.6401,\n",
    "    0.8967,\n",
    "    0.9521999999999999,\n",
    "    0.9620000000000001,\n",
    "    0.7070000000000001,\n",
    "    0.8859999999999999,\n",
    "    0.6546,\n",
    "    0.6256,\n",
    "    0.8812000000000001,\n",
    "    0.8948999999999999,\n",
    "    0.8686,\n",
    "    0.6313,\n",
    "    0.6401,\n",
    "    0.8762000000000001,\n",
    "    0.877,\n",
    "    0.8901,\n",
    "    0.7865000000000001,\n",
    "    0.877,\n",
    "    0.8859999999999999,\n",
    "    0.8812000000000001,\n",
    "    0.9834,\n",
    "    0.9034,\n",
    "    0.9601000000000001,\n",
    "    0.5063,\n",
    "    0.9035,\n",
    "    0.8326,\n",
    "    0.9577,\n",
    "    0.8852,\n",
    "    0.9834,\n",
    "    0.965,\n",
    "    0.9834,\n",
    "    0.9834,\n",
    "    0.7531,\n",
    "    0.7815000000000001,\n",
    "    0.8852,\n",
    "    0.4917,\n",
    "    0.8869,\n",
    "    0.7070000000000001,\n",
    "    0.9031999999999999,\n",
    "    0.7865000000000001,\n",
    "    0.7475,\n",
    "    0.7737,\n",
    "    0.4657,\n",
    "    0.7070000000000001,\n",
    "    0.8687,\n",
    "    0.9834,\n",
    "    0.7879,\n",
    "    0.8859999999999999,\n",
    "    0.7763,\n",
    "    0.7617,\n",
    "    0.9834,\n",
    "    0.9834,\n",
    "]\n",
    "applymagicsauce_openness_predictions_low = [\n",
    "    0.9834,\n",
    "    0.7737,\n",
    "    0.9,\n",
    "    0.6667000000000001,\n",
    "    0.9834,\n",
    "    0.9620000000000001,\n",
    "    0.8326,\n",
    "    0.7868999999999999,\n",
    "    0.9834,\n",
    "    0.9834,\n",
    "    0.7737,\n",
    "    0.7753,\n",
    "    0.5656,\n",
    "    0.9661,\n",
    "    0.9521999999999999,\n",
    "    0.769,\n",
    "    0.9834,\n",
    "    0.8765000000000001,\n",
    "    0.8948999999999999,\n",
    "    0.6526000000000001,\n",
    "    0.5656,\n",
    "    0.9031999999999999,\n",
    "    0.35979999999999995,\n",
    "    0.6388,\n",
    "    0.9834,\n",
    "    0.6548,\n",
    "    0.9,\n",
    "    0.8687,\n",
    "    0.9834,\n",
    "    0.8326,\n",
    "    0.9620000000000001,\n",
    "    0.8869,\n",
    "    0.747,\n",
    "    0.8326,\n",
    "    0.877,\n",
    "    0.9278,\n",
    "    0.6452,\n",
    "    0.2484,\n",
    "    0.3809,\n",
    "    0.465,\n",
    "    0.3812,\n",
    "    0.6667000000000001,\n",
    "    0.6374,\n",
    "    0.6672,\n",
    "    0.6606000000000001,\n",
    "    0.7585,\n",
    "    0.6503,\n",
    "    0.7966,\n",
    "    0.6667000000000001,\n",
    "    0.6252,\n",
    "    0.7815000000000001,\n",
    "    0.7964,\n",
    "    0.4917,\n",
    "    0.9519,\n",
    "    0.9601000000000001,\n",
    "    0.9586,\n",
    "    0.9519,\n",
    "    0.47700000000000004,\n",
    "    0.6401,\n",
    "    0.7475,\n",
    "    0.8948999999999999,\n",
    "    0.6188,\n",
    "    0.6503,\n",
    "    0.6401,\n",
    "    0.9834,\n",
    "    0.22510000000000002,\n",
    "    0.6246,\n",
    "    0.6246,\n",
    "    0.3436,\n",
    "    0.8859999999999999,\n",
    "    0.9834,\n",
    "    0.8326,\n",
    "    0.9834,\n",
    "    0.9834,\n",
    "    0.9637,\n",
    "    0.9620000000000001,\n",
    "    0.9834,\n",
    "    0.9834,\n",
    "    0.6313,\n",
    "    0.9569,\n",
    "    0.9834,\n",
    "    0.9520000000000001,\n",
    "    0.9620000000000001,\n",
    "    0.9834,\n",
    "    0.8967,\n",
    "    0.9278,\n",
    "    0.9834,\n",
    "    0.9834,\n",
    "    0.9834,\n",
    "    0.8901,\n",
    "    0.8773000000000001,\n",
    "    0.9834,\n",
    "    0.7753,\n",
    "    0.7741,\n",
    "    0.7468,\n",
    "    0.8852,\n",
    "    0.7472,\n",
    "    0.6548,\n",
    "    0.7472,\n",
    "    0.8687,\n",
    "    0.3356,\n",
    "    0.3667,\n",
    "    0.9569,\n",
    "    0.22510000000000002,\n",
    "    0.6252,\n",
    "    0.9651000000000001,\n",
    "    0.7753,\n",
    "    0.14980000000000002,\n",
    "    0.9652,\n",
    "    0.6606000000000001,\n",
    "    0.5058,\n",
    "    0.7966,\n",
    "    0.9601000000000001,\n",
    "    0.6667000000000001,\n",
    "    0.9031999999999999,\n",
    "    0.9034,\n",
    "    0.6401,\n",
    "    0.7589,\n",
    "    0.465,\n",
    "    0.9834,\n",
    "    0.7475,\n",
    "    0.5125,\n",
    "    0.6188,\n",
    "    0.8812000000000001,\n",
    "    0.6673,\n",
    "    0.6673,\n",
    "    0.7922,\n",
    "    0.8812000000000001,\n",
    "    0.6673,\n",
    "    0.7737,\n",
    "    0.6313,\n",
    "    0.9652,\n",
    "    0.7879,\n",
    "    0.7966,\n",
    "    0.7585,\n",
    "    0.47950000000000004,\n",
    "    0.7753,\n",
    "    0.8686,\n",
    "    0.6188,\n",
    "    0.9834,\n",
    "    0.47700000000000004,\n",
    "    0.4929,\n",
    "    0.7475,\n",
    "    0.5656,\n",
    "    0.5125,\n",
    "    0.465,\n",
    "    0.49439999999999995,\n",
    "    0.7737,\n",
    "    0.7868999999999999,\n",
    "    0.9569,\n",
    "    0.6313,\n",
    "    0.9834,\n",
    "    0.6673,\n",
    "    0.8687,\n",
    "    0.9623999999999999,\n",
    "    0.6673,\n",
    "    0.7865000000000001,\n",
    "    0.7966,\n",
    "    0.7737,\n",
    "    0.8948999999999999,\n",
    "    0.769,\n",
    "    0.6246,\n",
    "    0.7070000000000001,\n",
    "    0.6526000000000001,\n",
    "    0.7617,\n",
    "    0.7966,\n",
    "    0.8812000000000001,\n",
    "    0.7868999999999999,\n",
    "    0.7737,\n",
    "    0.8687,\n",
    "    0.6672,\n",
    "    0.4914,\n",
    "    0.7475,\n",
    "    0.9521999999999999,\n",
    "    0.4715,\n",
    "    0.5003,\n",
    "    0.6246,\n",
    "    0.8969,\n",
    "    0.7875,\n",
    "    0.5058,\n",
    "    0.6546,\n",
    "    0.3667,\n",
    "    0.6246,\n",
    "    0.5125,\n",
    "    0.4914,\n",
    "    0.6401,\n",
    "    0.6188,\n",
    "    0.747,\n",
    "    0.7964,\n",
    "    0.6606000000000001,\n",
    "    0.7468,\n",
    "    0.7070000000000001,\n",
    "    0.7468,\n",
    "    0.8686,\n",
    "]"
   ]
  },
  {
   "cell_type": "code",
   "execution_count": 167,
   "metadata": {},
   "outputs": [
    {
     "name": "stdout",
     "output_type": "stream",
     "text": [
      "ApplyMagicSauce High Labels Accuracy: 0.9819277108433735\n",
      "ApplyMagicSauce Low Labels Accuracy: 0.11855670103092783\n"
     ]
    }
   ],
   "source": [
    "applymagicsauce_openness_predictions_high_sum = []\n",
    "for v in applymagicsauce_openness_predictions_high:\n",
    "    if v >= 0.5:\n",
    "        applymagicsauce_openness_predictions_high_sum.append(1)\n",
    "print(\n",
    "    f\"ApplyMagicSauce High Labels Accuracy: {sum(applymagicsauce_openness_predictions_high_sum)/len(applymagicsauce_openness_predictions_high)}\"\n",
    ")\n",
    "\n",
    "applymagicsauce_openness_predictions_low_sum = []\n",
    "for v in applymagicsauce_openness_predictions_low:\n",
    "    if v < 0.5:\n",
    "        applymagicsauce_openness_predictions_low_sum.append(1)\n",
    "print(\n",
    "    f\"ApplyMagicSauce Low Labels Accuracy: {sum(applymagicsauce_openness_predictions_low_sum)/len(applymagicsauce_openness_predictions_low)}\"\n",
    ")"
   ]
  },
  {
   "cell_type": "code",
   "execution_count": 168,
   "metadata": {},
   "outputs": [
    {
     "data": {
      "image/png": "[encoded data removed]",
      "text/plain": [
       "<Figure size 2000x600 with 1 Axes>"
      ]
     },
     "metadata": {},
     "output_type": "display_data"
    }
   ],
   "source": [
    "import matplotlib.pyplot as plt\n",
    "\n",
    "plt.figure(figsize=(20, 6))\n",
    "x_values = range(len(applymagicsauce_openness_predictions_high))\n",
    "plt.plot(\n",
    "    x_values, applymagicsauce_openness_predictions_high, label=\"Highs\", color=\"blue\"\n",
    ")\n",
    "x_values = range(len(applymagicsauce_openness_predictions_low))\n",
    "plt.plot(x_values, applymagicsauce_openness_predictions_low,\n",
    "         label=\"Lows\", color=\"red\")\n",
    "plt.xlabel(\"Index\")\n",
    "plt.ylabel(\"Predictions\")\n",
    "plt.title(\n",
    "    \"Apply-Magic-Sauce Perdictions For LLM-Generated-Dataset [High vs Low Openness]\"\n",
    ")\n",
    "plt.legend()\n",
    "plt.show()"
   ]
  },
  {
   "cell_type": "markdown",
   "metadata": {},
   "source": [
    "## Assess the models' performance against `essays` and `MyPersonality` datasets\n"
   ]
  },
  {
   "cell_type": "markdown",
   "metadata": {},
   "source": [
    "#### Essays\n"
   ]
  },
  {
   "cell_type": "markdown",
   "metadata": {},
   "source": [
    "**Scores:** <br>\n",
    "**similarity threshold == 0.95:** <br>\n",
    "Bard-Only Score: 0.4846029173419773 <br>\n",
    "GPT-Only Score: 0.4959481361426256 <br>\n",
    "Bard-And-GPT Score: 0.4874392220421394\n"
   ]
  },
  {
   "cell_type": "code",
   "execution_count": 53,
   "metadata": {},
   "outputs": [
    {
     "name": "stdout",
     "output_type": "stream",
     "text": [
      "Bard-Only Score: 0.4846029173419773\n",
      "GPT-Only Score: 0.4959481361426256\n",
      "Bard-And-GPT Score: 0.4874392220421394\n"
     ]
    }
   ],
   "source": [
    "import pandas as pd\n",
    "\n",
    "MODEL = \"intfloat/e5-large-v2\"\n",
    "# MODEL = \"all-MiniLM-L6-v2\"\n",
    "model = SentenceTransformer(MODEL)\n",
    "essays_df = pd.read_csv(\n",
    "    \"./data/essays.csv\", usecols=[\"TEXT\", \"cOPN\"], encoding=\"ISO-8859-1\"\n",
    ")\n",
    "value_map = {\"y\": \"HIGH_OPN\", \"n\": \"LOW_OPN\"}\n",
    "essays_df[\"cOPN\"] = essays_df[\"cOPN\"].map(value_map)\n",
    "essays_embeddings = model.encode(essays_df[\"TEXT\"], convert_to_tensor=True)\n",
    "\n",
    "print(\"Bard-Only Score:\", bard_only_model.score(essays_embeddings, essays_df[\"cOPN\"]))\n",
    "print(\"GPT-Only Score:\", gpt_only_model.score(essays_embeddings, essays_df[\"cOPN\"]))\n",
    "print(\n",
    "    \"Bard-And-GPT Score:\",\n",
    "    gpt_and_bard_model.score(essays_embeddings, essays_df[\"cOPN\"]),\n",
    ")"
   ]
  },
  {
   "cell_type": "markdown",
   "metadata": {},
   "source": [
    "#### MyPersonality concatenated\n",
    "\n",
    "(all the statuses of the same auther are concatenated to a single long string)\n",
    "\n",
    "**Scores:** <br>\n",
    "**similarity threshold == 0.9:** <br>\n",
    "Bard-Only Score: 0.296 <br>\n",
    "GPT-Only Score: 0.584 <br>\n",
    "Bard-And-GPT Score: 0.288 <br> <br>\n",
    "\n",
    "**similarity threshold == 0.95:** <br>\n",
    "Bard-Only Score: 0.296 <br>\n",
    "GPT-Only Score: 0.484 <br>\n",
    "Bard-And-GPT Score: 0.304\n"
   ]
  },
  {
   "cell_type": "code",
   "execution_count": 103,
   "metadata": {},
   "outputs": [
    {
     "name": "stdout",
     "output_type": "stream",
     "text": [
      "Bard-Only Score: 0.296\n",
      "GPT-Only Score: 0.584\n",
      "Bard-And-GPT Score: 0.288\n"
     ]
    }
   ],
   "source": [
    "import pandas as pd\n",
    "\n",
    "MODEL = \"intfloat/e5-large-v2\"\n",
    "# MODEL = \"all-MiniLM-L6-v2\"\n",
    "model = SentenceTransformer(MODEL)\n",
    "myPersonality_df = pd.read_csv(\n",
    "    \"./data/myPersonality-concatenated.csv\",\n",
    "    usecols=[\"STATUS\", \"cOPN\"],\n",
    "    encoding=\"ISO-8859-1\",\n",
    ")\n",
    "value_map = {\"y\": \"HIGH_OPN\", \"n\": \"LOW_OPN\"}\n",
    "myPersonality_df[\"cOPN\"] = myPersonality_df[\"cOPN\"].map(value_map)\n",
    "myPersonality_embeddings = model.encode(\n",
    "    myPersonality_df[\"STATUS\"], convert_to_tensor=True\n",
    ")\n",
    "\n",
    "print(\n",
    "    \"Bard-Only Score:\",\n",
    "    bard_only_model.score(myPersonality_embeddings, myPersonality_df[\"cOPN\"]),\n",
    ")\n",
    "print(\n",
    "    \"GPT-Only Score:\",\n",
    "    gpt_only_model.score(myPersonality_embeddings, myPersonality_df[\"cOPN\"]),\n",
    ")\n",
    "print(\n",
    "    \"Bard-And-GPT Score:\",\n",
    "    gpt_and_bard_model.score(myPersonality_embeddings, myPersonality_df[\"cOPN\"]),\n",
    ")"
   ]
  },
  {
   "cell_type": "markdown",
   "metadata": {},
   "source": [
    "#### MyPersonality\n",
    "\n",
    "**Scores:** <br>\n",
    "**similarity threshold == 0.90:** <br>\n",
    "Bard-Only Score: 0.25683170313602904 <br>\n",
    "GPT-Only Score: 0.6290208732479581 <br>\n",
    "Bard-And-GPT Score: 0.34213976000806695 <br><br>\n",
    "**similarity threshold == 0.95:** <br>\n",
    "Bard-Only Score: 0.2571342139760008 <br>\n",
    "GPT-Only Score: 0.5516789351618433 <br>\n",
    "Bard-And-GPT Score: 0.37612181103156195\n"
   ]
  },
  {
   "cell_type": "code",
   "execution_count": 104,
   "metadata": {},
   "outputs": [
    {
     "name": "stdout",
     "output_type": "stream",
     "text": [
      "Bard-Only Score: 0.25683170313602904\n",
      "GPT-Only Score: 0.6290208732479581\n",
      "Bard-And-GPT Score: 0.34213976000806695\n"
     ]
    }
   ],
   "source": [
    "import pandas as pd\n",
    "\n",
    "MODEL = \"intfloat/e5-large-v2\"\n",
    "# MODEL = \"all-MiniLM-L6-v2\"\n",
    "model = SentenceTransformer(MODEL)\n",
    "myPersonality_df = pd.read_csv(\n",
    "    \"./data/myPersonality.csv\", usecols=[\"STATUS\", \"cOPN\"], encoding=\"ISO-8859-1\"\n",
    ")\n",
    "value_map = {\"y\": \"HIGH_OPN\", \"n\": \"LOW_OPN\"}\n",
    "myPersonality_df[\"cOPN\"] = myPersonality_df[\"cOPN\"].map(value_map)\n",
    "myPersonality_embeddings = model.encode(\n",
    "    myPersonality_df[\"STATUS\"], convert_to_tensor=True\n",
    ")\n",
    "\n",
    "print(\n",
    "    \"Bard-Only Score:\",\n",
    "    bard_only_model.score(myPersonality_embeddings, myPersonality_df[\"cOPN\"]),\n",
    ")\n",
    "print(\n",
    "    \"GPT-Only Score:\",\n",
    "    gpt_only_model.score(myPersonality_embeddings, myPersonality_df[\"cOPN\"]),\n",
    ")\n",
    "print(\n",
    "    \"Bard-And-GPT Score:\",\n",
    "    gpt_and_bard_model.score(myPersonality_embeddings, myPersonality_df[\"cOPN\"]),\n",
    ")"
   ]
  },
  {
   "cell_type": "markdown",
   "metadata": {},
   "source": [
    "get the accuracy scores\n",
    "persist\n",
    "test against bard's dataset\n",
    "new scores for reddit dataset\n"
   ]
  },
  {
   "cell_type": "markdown",
   "metadata": {},
   "source": [
    "# Persisting logistic regression users as pickles for future usage\n"
   ]
  },
  {
   "cell_type": "code",
   "execution_count": 64,
   "metadata": {},
   "outputs": [],
   "source": [
    "import pickle\n",
    "\n",
    "\n",
    "def persist_model(pickle_name: str, model_to_save: LogisticRegression):\n",
    "    prefix = \"mini_\" if MODEL == \"all-MiniLM-L6-v2\" else \"\"\n",
    "    with open(f\"models/{prefix}{pickle_name}.pkl\", \"wb\") as file:\n",
    "        pickle.dump(model_to_save, file)\n",
    "\n",
    "\n",
    "# persist_model(\"logistic_regression_gpt3.5\", gpt_only_model)\n",
    "# persist_model(\"logistic_regression_bard\", bard_only_model)\n",
    "# persist_model(\"logistic_regression_bard_and_gpt3.5\", gpt_and_bard_model)"
   ]
  },
  {
   "cell_type": "markdown",
   "metadata": {},
   "source": [
    "# Evaluating tools and models against Bard-Generated data\n",
    "\n",
    "Next, we will predict the \"Openness\" personality trait for the Bard-Generated data, with each of the following tools.<br>\n",
    "Neither of them \"knows\" the Bard-Generated data.\n",
    "\n",
    "## Definitions:\n",
    "\n",
    "- Tool 1.1: Logistic Regression model trained on data generated by Chat-GPT 3.5\n",
    "- Tool 1.2: Logistic Regression model trained on data generated by both Chat-GPT 3.5 && **MyPersonality**\n",
    "- Tool 2: https://project.fuguixing.me/ (Tool #1 from the previously tested tools)\n",
    "- Tool 3: [Apply Magic Sauce](https://applymagicsauce.com) - University of Cambridge's research project\n",
    "- Tool 4: [Personality Prediction From Text](https://github.com/jkwieser/personality-prediction-from-text/tree/master)\n"
   ]
  },
  {
   "cell_type": "code",
   "execution_count": 56,
   "metadata": {},
   "outputs": [
    {
     "data": {
      "text/plain": [
       "[(tensor([ 0.0151, -0.0600,  0.0380,  ..., -0.0411,  0.0066, -0.0148]),\n",
       "  'HIGH_OPN'),\n",
       " (tensor([ 0.0121, -0.0479,  0.0249,  ..., -0.0082,  0.0237,  0.0309]),\n",
       "  'HIGH_OPN'),\n",
       " (tensor([ 0.0072, -0.0527,  0.0179,  ..., -0.0229,  0.0509,  0.0101]),\n",
       "  'HIGH_OPN'),\n",
       " (tensor([-0.0183, -0.0664,  0.0302,  ..., -0.0286,  0.0323,  0.0417]),\n",
       "  'HIGH_OPN'),\n",
       " (tensor([ 0.0131, -0.0535,  0.0260,  ..., -0.0286,  0.0412, -0.0072]),\n",
       "  'HIGH_OPN'),\n",
       " (tensor([ 0.0087, -0.0355,  0.0324,  ..., -0.0224, -0.0146,  0.0054]),\n",
       "  'HIGH_OPN'),\n",
       " (tensor([-0.0087, -0.0478,  0.0161,  ..., -0.0298,  0.0251,  0.0128]),\n",
       "  'HIGH_OPN'),\n",
       " (tensor([ 0.0067, -0.0469,  0.0092,  ..., -0.0319,  0.0226,  0.0321]),\n",
       "  'HIGH_OPN'),\n",
       " (tensor([ 0.0109, -0.0648,  0.0195,  ..., -0.0211,  0.0290,  0.0034]),\n",
       "  'HIGH_OPN'),\n",
       " (tensor([ 0.0065, -0.0681,  0.0283,  ..., -0.0189,  0.0330, -0.0186]),\n",
       "  'HIGH_OPN'),\n",
       " (tensor([ 0.0036, -0.0604,  0.0100,  ..., -0.0111,  0.0451,  0.0327]),\n",
       "  'HIGH_OPN'),\n",
       " (tensor([ 0.0054, -0.0474,  0.0241,  ..., -0.0234,  0.0243,  0.0220]),\n",
       "  'HIGH_OPN'),\n",
       " (tensor([-0.0072, -0.0695,  0.0260,  ..., -0.0239,  0.0429, -0.0030]),\n",
       "  'HIGH_OPN'),\n",
       " (tensor([-0.0191, -0.0820,  0.0048,  ..., -0.0078,  0.0371,  0.0064]),\n",
       "  'HIGH_OPN'),\n",
       " (tensor([ 0.0044, -0.0402,  0.0333,  ..., -0.0125,  0.0175, -0.0076]),\n",
       "  'HIGH_OPN'),\n",
       " (tensor([ 0.0359, -0.0683,  0.0076,  ..., -0.0088,  0.0539, -0.0068]),\n",
       "  'HIGH_OPN'),\n",
       " (tensor([ 0.0287, -0.0709,  0.0092,  ..., -0.0174,  0.0371,  0.0357]),\n",
       "  'HIGH_OPN'),\n",
       " (tensor([-0.0069, -0.0627,  0.0165,  ..., -0.0392,  0.0342,  0.0320]),\n",
       "  'HIGH_OPN'),\n",
       " (tensor([ 0.0465, -0.0512, -0.0005,  ..., -0.0366,  0.0069,  0.0337]),\n",
       "  'HIGH_OPN'),\n",
       " (tensor([ 0.0350, -0.0775,  0.0232,  ..., -0.0331,  0.0166,  0.0266]),\n",
       "  'HIGH_OPN'),\n",
       " (tensor([ 0.0262, -0.0632,  0.0521,  ..., -0.0124,  0.0236,  0.0210]),\n",
       "  'HIGH_OPN'),\n",
       " (tensor([ 0.0140, -0.0764,  0.0085,  ..., -0.0092,  0.0277,  0.0238]),\n",
       "  'HIGH_OPN'),\n",
       " (tensor([ 0.0255, -0.0671,  0.0168,  ..., -0.0164,  0.0280,  0.0186]),\n",
       "  'HIGH_OPN'),\n",
       " (tensor([ 0.0084, -0.0506,  0.0196,  ..., -0.0002,  0.0450,  0.0223]),\n",
       "  'HIGH_OPN'),\n",
       " (tensor([ 0.0084, -0.0518,  0.0128,  ..., -0.0147,  0.0199,  0.0037]),\n",
       "  'HIGH_OPN'),\n",
       " (tensor([-0.0360, -0.0331,  0.0238,  ..., -0.0145,  0.0051,  0.0043]),\n",
       "  'HIGH_OPN'),\n",
       " (tensor([-0.0075, -0.0457,  0.0198,  ..., -0.0244,  0.0180,  0.0192]),\n",
       "  'HIGH_OPN'),\n",
       " (tensor([-0.0142, -0.0683,  0.0038,  ..., -0.0136,  0.0384,  0.0061]),\n",
       "  'HIGH_OPN'),\n",
       " (tensor([ 0.0097, -0.0651,  0.0172,  ..., -0.0118,  0.0284, -0.0064]),\n",
       "  'HIGH_OPN'),\n",
       " (tensor([ 0.0263, -0.0483,  0.0124,  ..., -0.0205,  0.0315,  0.0095]),\n",
       "  'HIGH_OPN'),\n",
       " (tensor([-0.0042, -0.0555,  0.0390,  ..., -0.0026,  0.0432,  0.0377]),\n",
       "  'HIGH_OPN'),\n",
       " (tensor([ 0.0449, -0.0672,  0.0225,  ...,  0.0148,  0.0283,  0.0102]),\n",
       "  'HIGH_OPN'),\n",
       " (tensor([ 0.0089, -0.0479,  0.0300,  ..., -0.0111,  0.0298, -0.0133]),\n",
       "  'HIGH_OPN'),\n",
       " (tensor([-0.0046, -0.0484,  0.0194,  ..., -0.0109,  0.0062,  0.0451]),\n",
       "  'HIGH_OPN'),\n",
       " (tensor([ 0.0227, -0.0694,  0.0202,  ..., -0.0463,  0.0299,  0.0157]),\n",
       "  'HIGH_OPN'),\n",
       " (tensor([ 0.0166, -0.0343,  0.0370,  ..., -0.0051,  0.0175,  0.0420]),\n",
       "  'HIGH_OPN'),\n",
       " (tensor([-0.0086, -0.0318,  0.0261,  ..., -0.0192, -0.0033,  0.0256]),\n",
       "  'HIGH_OPN'),\n",
       " (tensor([ 0.0139, -0.0682,  0.0323,  ..., -0.0081,  0.0422,  0.0273]),\n",
       "  'HIGH_OPN'),\n",
       " (tensor([ 0.0195, -0.0645,  0.0176,  ..., -0.0272,  0.0259,  0.0143]),\n",
       "  'HIGH_OPN'),\n",
       " (tensor([-0.0192, -0.0476,  0.0312,  ..., -0.0258,  0.0256,  0.0104]),\n",
       "  'HIGH_OPN'),\n",
       " (tensor([ 0.0353, -0.0651,  0.0361,  ...,  0.0028,  0.0218, -0.0028]),\n",
       "  'HIGH_OPN'),\n",
       " (tensor([ 0.0114, -0.0276,  0.0065,  ...,  0.0010,  0.0433,  0.0314]),\n",
       "  'HIGH_OPN'),\n",
       " (tensor([ 0.0266, -0.0538,  0.0596,  ..., -0.0173,  0.0190,  0.0287]),\n",
       "  'HIGH_OPN'),\n",
       " (tensor([-0.0035, -0.0472,  0.0426,  ..., -0.0125,  0.0265,  0.0225]),\n",
       "  'HIGH_OPN'),\n",
       " (tensor([ 0.0154, -0.0390,  0.0206,  ..., -0.0248,  0.0566,  0.0078]),\n",
       "  'HIGH_OPN'),\n",
       " (tensor([ 0.0204, -0.0516,  0.0182,  ..., -0.0325,  0.0422,  0.0151]),\n",
       "  'HIGH_OPN'),\n",
       " (tensor([ 0.0135, -0.0422,  0.0212,  ..., -0.0035, -0.0049,  0.0271]),\n",
       "  'HIGH_OPN'),\n",
       " (tensor([ 0.0089, -0.0469,  0.0226,  ..., -0.0132,  0.0226,  0.0261]),\n",
       "  'HIGH_OPN'),\n",
       " (tensor([ 0.0273, -0.0449,  0.0391,  ..., -0.0424,  0.0252, -0.0107]),\n",
       "  'HIGH_OPN'),\n",
       " (tensor([-0.0013, -0.0557,  0.0152,  ..., -0.0038,  0.0464,  0.0310]),\n",
       "  'HIGH_OPN'),\n",
       " (tensor([-0.0048, -0.0198,  0.0190,  ..., -0.0257,  0.0311,  0.0245]),\n",
       "  'HIGH_OPN')]"
      ]
     },
     "execution_count": 56,
     "metadata": {},
     "output_type": "execute_result"
    }
   ],
   "source": [
    "# The data we'll work with 👇\n",
    "unique_low_openness_paragraphs_bard\n",
    "unique_high_openness_paragraphs_bard\n",
    "unique_low_openness_bard_vectors_with_labels\n",
    "unique_high_openness_bard_vectors_with_labels"
   ]
  },
  {
   "cell_type": "code",
   "execution_count": 74,
   "metadata": {},
   "outputs": [
    {
     "name": "stdout",
     "output_type": "stream",
     "text": [
      "Vectors and labels for bard generated data - common for both 1.1 and 1.2\n"
     ]
    }
   ],
   "source": [
    "print(\"Vectors and labels for bard generated data - common for both 1.1 and 1.2\")\n",
    "vectors_with_labels = (\n",
    "    unique_high_openness_bard_vectors_with_labels\n",
    "    + unique_low_openness_bard_vectors_with_labels\n",
    ")\n",
    "vectors = [t[0] for t in vectors_with_labels]\n",
    "labels = [t[1] for t in vectors_with_labels]"
   ]
  },
  {
   "cell_type": "code",
   "execution_count": 44,
   "metadata": {},
   "outputs": [
    {
     "name": "stdout",
     "output_type": "stream",
     "text": [
      "1.1 - Score for GPT model, on Bard-Generated data\n",
      "similarity threshold == 0.90: score -> 0.71 \n",
      "similarity threshold == 0.95: score -> 0.79 \n"
     ]
    },
    {
     "data": {
      "text/plain": [
       "0.8129496402877698"
      ]
     },
     "execution_count": 44,
     "metadata": {},
     "output_type": "execute_result"
    }
   ],
   "source": [
    "print(\"1.1 - Score for GPT model, on Bard-Generated data\")\n",
    "print(\"similarity threshold == 0.90: score -> 0.71 \")\n",
    "print(\"similarity threshold == 0.95: score -> 0.79 \")\n",
    "gpt_only_model.score(vectors, labels)"
   ]
  },
  {
   "cell_type": "code",
   "execution_count": 73,
   "metadata": {},
   "outputs": [
    {
     "name": "stdout",
     "output_type": "stream",
     "text": [
      "Train a logistic regression model on GPT-Generated data combined with myPersonality data\n"
     ]
    }
   ],
   "source": [
    "print(\n",
    "    \"Train a logistic regression model on GPT-Generated data combined with myPersonality data\"\n",
    ")\n",
    "MODEL = \"intfloat/e5-large-v2\"\n",
    "# MODEL = \"all-MiniLM-L6-v2\"\n",
    "model = SentenceTransformer(MODEL)\n",
    "myPersonality_df = pd.read_csv(\n",
    "    \"./data/myPersonality.csv\", usecols=[\"STATUS\", \"cOPN\"], encoding=\"ISO-8859-1\"\n",
    ")\n",
    "value_map = {\"y\": \"HIGH_OPN\", \"n\": \"LOW_OPN\"}\n",
    "myPersonality_df[\"cOPN\"] = myPersonality_df[\"cOPN\"].map(value_map)\n",
    "myPersonality_embeddings = model.encode(\n",
    "    myPersonality_df[\"STATUS\"], convert_to_tensor=True\n",
    ")\n",
    "my_personality_vectors_with_labels = list(\n",
    "    zip(myPersonality_embeddings.tolist(), myPersonality_df[\"cOPN\"])\n",
    ")"
   ]
  },
  {
   "cell_type": "code",
   "execution_count": 53,
   "metadata": {},
   "outputs": [
    {
     "data": {
      "text/plain": [
       "0.35251798561151076"
      ]
     },
     "execution_count": 53,
     "metadata": {},
     "output_type": "execute_result"
    }
   ],
   "source": [
    "vectors_with_labels = (\n",
    "    unique_high_openness_vectors_with_labels\n",
    "    + unique_low_openness_vectors_with_labels\n",
    "    + my_personality_vectors_with_labels\n",
    ")\n",
    "\n",
    "train_vectors = [t[0] for t in vectors_with_labels]\n",
    "train_labels = [t[1] for t in vectors_with_labels]\n",
    "\n",
    "gpt_and_myPersonality_model = LogisticRegression(random_state=0).fit(\n",
    "    train_vectors, train_labels\n",
    ")\n",
    "gpt_and_myPersonality_model.score(vectors, labels)"
   ]
  },
  {
   "cell_type": "code",
   "execution_count": 65,
   "metadata": {},
   "outputs": [],
   "source": [
    "persist_model(\"gpt_and_myPersonality_95\", gpt_and_myPersonality_model)"
   ]
  },
  {
   "cell_type": "code",
   "execution_count": 114,
   "metadata": {},
   "outputs": [
    {
     "name": "stderr",
     "output_type": "stream",
     "text": [
      "/Users/eliran/Personal/dev/Musical-Preferences-And-Textual-Expression/.venv/lib/python3.11/site-packages/sklearn/base.py:376: InconsistentVersionWarning: Trying to unpickle estimator LogisticRegression from version 1.3.2 when using version 1.4.0. This might lead to breaking code or invalid results. Use at your own risk. For more info please refer to:\n",
      "https://scikit-learn.org/stable/model_persistence.html#security-maintainability-limitations\n",
      "  warnings.warn(\n"
     ]
    }
   ],
   "source": [
    "import pickle\n",
    "\n",
    "with open('models/gpt_and_myPersonality_95.pkl', 'rb') as file:\n",
    "    gpt_and_myPersonality_model_95 = pickle.load(file)\n",
    "\n",
    "\n",
    "with open('models/gpt_and_myPersonality.pkl', 'rb') as file:\n",
    "    gpt_and_myPersonality_model_90 = pickle.load(file)"
   ]
  },
  {
   "cell_type": "code",
   "execution_count": 117,
   "metadata": {},
   "outputs": [
    {
     "name": "stdout",
     "output_type": "stream",
     "text": [
      "1.2 - Score for GPT & MyPersonality model, on Bard-Generated data\n",
      "similarity threshold == 0.90: score -> 0.374 \n",
      "similarity threshold == 0.95: score -> 0.38 \n",
      "0.34532374100719426\n",
      "0.37410071942446044\n"
     ]
    }
   ],
   "source": [
    "print(\"1.2 - Score for GPT & MyPersonality model, on Bard-Generated data\")\n",
    "print(\"similarity threshold == 0.90: score -> 0.374 \")\n",
    "print(\"similarity threshold == 0.95: score -> 0.38 \")\n",
    "print(gpt_and_myPersonality_model_90.score(vectors, labels))\n",
    "print(gpt_and_myPersonality_model_95.score(vectors, labels))"
   ]
  },
  {
   "cell_type": "markdown",
   "metadata": {},
   "source": [
    "### Tool #2 https://project.fuguixing.me/ (Tool #1 from the previously tested tools) is no longer available. <br>\n",
    "\n",
    "I contacted the project's author and he directed me to the code that trains the models. <br>\n",
    "I will try to train the models myself and use them. <br>\n"
   ]
  },
  {
   "cell_type": "markdown",
   "metadata": {},
   "source": [
    "##### Tool #2 with TF-IDF vectorizer (34%)\n"
   ]
  },
  {
   "cell_type": "code",
   "execution_count": 116,
   "metadata": {},
   "outputs": [
    {
     "name": "stdout",
     "output_type": "stream",
     "text": [
      "Accuracy: 0.3475177304964539\n"
     ]
    }
   ],
   "source": [
    "with open(\"./models/fugixing-tool/sOPN.pkl\", \"rb\") as file:\n",
    "    fugixing_model_openness = pickle.load(file)\n",
    "\n",
    "with open(\"./models/fugixing-tool/vectorizer.pkl\", \"rb\") as file:\n",
    "    tf_idf_vectorizer = pickle.load(file)\n",
    "\n",
    "\n",
    "low_predictions = []\n",
    "for low_opn_text in unique_low_openness_paragraphs_bard:\n",
    "    vector = tf_idf_vectorizer.transform([low_opn_text])\n",
    "    pred_sOPN = fugixing_model_openness.predict(vector).reshape(1, -1)\n",
    "    low_predictions.append(round(float(pred_sOPN.flatten()[0]), 2))\n",
    "\n",
    "high_predictions = []\n",
    "for high_opn_text in unique_high_openness_paragraphs_bard:\n",
    "    vector = tf_idf_vectorizer.transform([high_opn_text])\n",
    "    pred_sOPN = fugixing_model_openness.predict(vector).reshape(1, -1)\n",
    "    high_predictions.append(round(float(pred_sOPN.flatten()[0]), 2))\n",
    "\n",
    "low_accuracy = sum([1 if i < 3.5 else 0 for i in low_predictions]) / len(\n",
    "    low_predictions\n",
    ")\n",
    "high_accuracy = sum([1 if i >= 3.5 else 0 for i in high_predictions]) / len(\n",
    "    high_predictions\n",
    ")\n",
    "print(\n",
    "    \"Accuracy:\",\n",
    "    (low_accuracy * len(low_predictions) + high_accuracy * len(high_predictions))\n",
    "    / (len(low_predictions) + len(high_predictions)),\n",
    ")"
   ]
  },
  {
   "cell_type": "markdown",
   "metadata": {},
   "source": [
    "### Tool #3 apply magic sauce (96% highs, 15% lows, 43% total)\n"
   ]
  },
  {
   "cell_type": "code",
   "execution_count": 107,
   "metadata": {},
   "outputs": [
    {
     "name": "stdout",
     "output_type": "stream",
     "text": [
      "3 - Score for AMS, on Bard-Generated data\n",
      "0.3356\n",
      "0.3667\n",
      "0.9569\n",
      "0.22510000000000002\n",
      "0.6252\n",
      "0.9651000000000001\n",
      "0.7753\n",
      "0.14980000000000002\n",
      "0.9652\n",
      "0.6606000000000001\n",
      "0.5058\n",
      "0.7966\n",
      "0.9601000000000001\n",
      "0.6667000000000001\n",
      "0.9031999999999999\n",
      "0.9034\n",
      "0.6401\n",
      "0.7589\n",
      "0.465\n",
      "0.9834\n",
      "0.7475\n",
      "0.5125\n",
      "0.6188\n",
      "0.8812000000000001\n",
      "0.6673\n",
      "0.6673\n",
      "0.7922\n",
      "0.8812000000000001\n",
      "0.6673\n",
      "0.7737\n",
      "0.6313\n",
      "0.9652\n",
      "0.7879\n",
      "0.7966\n",
      "0.7585\n",
      "0.47950000000000004\n",
      "0.7753\n",
      "0.8686\n",
      "0.6188\n",
      "0.9834\n",
      "0.47700000000000004\n",
      "0.4929\n",
      "0.7475\n",
      "0.5656\n",
      "0.5125\n",
      "0.465\n",
      "0.49439999999999995\n",
      "0.7737\n",
      "0.7868999999999999\n",
      "0.9569\n",
      "0.6313\n",
      "0.9834\n",
      "0.8687\n",
      "0.9623999999999999\n",
      "0.6673\n",
      "0.7865000000000001\n",
      "0.7966\n",
      "0.8948999999999999\n",
      "0.769\n",
      "0.6246\n",
      "0.7070000000000001\n",
      "0.6526000000000001\n",
      "0.7617\n",
      "0.7966\n",
      "0.8812000000000001\n",
      "0.7868999999999999\n",
      "0.7737\n",
      "0.8687\n",
      "0.6672\n",
      "0.4914\n",
      "0.7475\n",
      "0.9521999999999999\n",
      "0.4715\n",
      "0.5003\n",
      "0.6246\n",
      "0.8969\n",
      "0.7875\n",
      "0.5058\n",
      "0.6546\n",
      "0.3667\n",
      "0.6246\n",
      "0.5125\n",
      "0.4914\n",
      "0.6401\n",
      "0.6188\n",
      "0.747\n",
      "0.7964\n",
      "0.6606000000000001\n",
      "0.7468\n",
      "0.7070000000000001\n",
      "0.7468\n",
      "0.8686\n",
      "0.6401\n",
      "0.8967\n",
      "0.9521999999999999\n",
      "0.9620000000000001\n",
      "0.7070000000000001\n",
      "0.8859999999999999\n",
      "0.6546\n",
      "0.6256\n",
      "0.8812000000000001\n",
      "0.8948999999999999\n",
      "0.8686\n",
      "0.6313\n",
      "0.6401\n",
      "0.8762000000000001\n",
      "0.877\n",
      "0.8901\n",
      "0.7865000000000001\n",
      "0.8859999999999999\n",
      "0.8812000000000001\n",
      "0.9834\n",
      "0.9601000000000001\n",
      "0.5063\n",
      "0.9035\n",
      "0.8326\n",
      "0.9577\n",
      "0.8852\n",
      "0.965\n",
      "0.9834\n",
      "0.9834\n",
      "0.7531\n",
      "0.7815000000000001\n",
      "0.8852\n",
      "0.4917\n",
      "0.8869\n",
      "0.7070000000000001\n",
      "0.9031999999999999\n",
      "0.7865000000000001\n",
      "0.7475\n",
      "0.7737\n",
      "0.4657\n",
      "0.7070000000000001\n",
      "0.8687\n",
      "0.9834\n",
      "0.7879\n",
      "0.8859999999999999\n",
      "0.7763\n",
      "0.7617\n",
      "0.9834\n",
      "0.9834\n"
     ]
    }
   ],
   "source": [
    "print(\"3 - Score for AMS, on Bard-Generated data\")\n",
    "ams_pred_for_low_bard = get_apply_magic_sauce_openness_predictions(\n",
    "    unique_low_openness_paragraphs_bard\n",
    ")\n",
    "ams_pred_for_high_bard = get_apply_magic_sauce_openness_predictions(\n",
    "    unique_high_openness_paragraphs_bard\n",
    ")"
   ]
  },
  {
   "cell_type": "code",
   "execution_count": 114,
   "metadata": {},
   "outputs": [
    {
     "name": "stdout",
     "output_type": "stream",
     "text": [
      "ApplyMagicSauce High Labels Accuracy: 0.9591836734693877\n",
      "ApplyMagicSauce Low Labels Accuracy: 0.15217391304347827\n",
      "Total accuracy: 0.4326241134751773\n"
     ]
    }
   ],
   "source": [
    "applymagicsauce_openness_predictions_high_sum_bard = []\n",
    "for v in ams_pred_for_high_bard:\n",
    "    if float(v) >= 0.5:\n",
    "        applymagicsauce_openness_predictions_high_sum_bard.append(1)\n",
    "print(\n",
    "    f\"ApplyMagicSauce High Labels Accuracy: {sum(applymagicsauce_openness_predictions_high_sum_bard)/len(ams_pred_for_high_bard)}\"\n",
    ")\n",
    "\n",
    "applymagicsauce_openness_predictions_low_sum_bard = []\n",
    "for v in ams_pred_for_low_bard:\n",
    "    if float(v) < 0.5:\n",
    "        applymagicsauce_openness_predictions_low_sum_bard.append(1)\n",
    "print(\n",
    "    f\"ApplyMagicSauce Low Labels Accuracy: {sum(applymagicsauce_openness_predictions_low_sum_bard)/len(ams_pred_for_low_bard)}\"\n",
    ")\n",
    "print(\n",
    "    \"Total accuracy:\",\n",
    "    (\n",
    "        sum(applymagicsauce_openness_predictions_low_sum_bard)\n",
    "        + sum(applymagicsauce_openness_predictions_high_sum_bard)\n",
    "    )\n",
    "    / (len(ams_pred_for_low_bard) + len(ams_pred_for_high_bard)),\n",
    ")"
   ]
  },
  {
   "cell_type": "markdown",
   "metadata": {},
   "source": [
    "#### Tool #4 (32%)\n",
    "\n",
    "This tool had to be ran in a different method within a docker container. <br>\n",
    "The final accuracy result is detailed below\n"
   ]
  },
  {
   "cell_type": "code",
   "execution_count": 117,
   "metadata": {},
   "outputs": [
    {
     "data": {
      "text/plain": [
       "0.32089552238985075"
      ]
     },
     "execution_count": 117,
     "metadata": {},
     "output_type": "execute_result"
    }
   ],
   "source": [
    "(1 * 42 + 0.01086956522 * 92) / (42 + 92)"
   ]
  },
  {
   "cell_type": "code",
   "execution_count": 121,
   "metadata": {},
   "outputs": [
    {
     "data": {
      "text/plain": [
       "371.70212765957444"
      ]
     },
     "execution_count": 121,
     "metadata": {},
     "output_type": "execute_result"
    }
   ],
   "source": [
    "import statistics\n",
    "\n",
    "lst = unique_low_openness_paragraphs_bard + unique_high_openness_paragraphs_bard\n",
    "statistics.mean([len(p) for p in lst])"
   ]
  }
 ],
 "metadata": {
  "kernelspec": {
   "display_name": ".venv",
   "language": "python",
   "name": "python3"
  },
  "language_info": {
   "codemirror_mode": {
    "name": "ipython",
    "version": 3
   },
   "file_extension": ".py",
   "mimetype": "text/x-python",
   "name": "python",
   "nbconvert_exporter": "python",
   "pygments_lexer": "ipython3",
   "version": "3.11.7"
  }
 },
 "nbformat": 4,
 "nbformat_minor": 2
}
