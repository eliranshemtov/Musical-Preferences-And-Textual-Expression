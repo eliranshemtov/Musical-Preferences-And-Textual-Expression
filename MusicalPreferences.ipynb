{
 "cells": [
  {
   "cell_type": "code",
   "execution_count": 1,
   "metadata": {},
   "outputs": [],
   "source": [
    "from matplotlib import pyplot as plt\n",
    "from matplotlib_venn import venn3\n",
    "from itertools import zip_longest\n",
    "from typing import Set, List\n",
    "import requests\n",
    "import logging\n",
    "import csv\n"
   ]
  },
  {
   "cell_type": "code",
   "execution_count": 2,
   "metadata": {},
   "outputs": [],
   "source": [
    "REDDIT_API_URL = 'https://api.pushshift.io/reddit'\n",
    "REDDIT_SEARCH_COMMENT_ENDPOINT = '/comment/search'\n",
    "REDDIT_SEARCH_COMMENT_URL = f'{REDDIT_API_URL}{REDDIT_SEARCH_COMMENT_ENDPOINT}'\n",
    "DESIRED_AUTHORS_AMOUNT = 1000\n",
    "AUTHORS_CSV_FILE_NAME = 'subreddit_authors.csv'\n",
    "SUBREDDITS_INTERSECTIONS_CSV_NAME = 'subreddits_intersections.csv'\n",
    "logging.basicConfig(level=logging.INFO)\n",
    "logger = logging.getLogger(__name__)\n"
   ]
  },
  {
   "cell_type": "code",
   "execution_count": 3,
   "metadata": {},
   "outputs": [],
   "source": [
    "subreddits_names = ['r/classicalmusic', \"r/opera\", \"r/ambientmusic\", \"r/chillout\", \"r/deephouse\", \"r/DnB\", \"r/dubstep\",\n",
    "                    \"r/EDM\", \"r/electronicdancemusic\", \"r/rock\", \"r/indieheads\", \"r/electronicmusic\", \"r/blues\", \"r/folk\",\n",
    "                    \"r/Metal\", \"r/punk\", \"r/hiphopheads\", \"r/hiphop101\", \"r/rap\", \"r/Jazz\", \"r/reggae\"]\n"
   ]
  },
  {
   "cell_type": "code",
   "execution_count": 4,
   "metadata": {},
   "outputs": [],
   "source": [
    "def list_subreddit_authors(subreddit_name: str, limit: int = DESIRED_AUTHORS_AMOUNT) -> Set[str]:\n",
    "    logger.info(\n",
    "        f'Fetching <{limit}> subreddit_authors from <{subreddit_name}> subreddit')\n",
    "    authors_set = set()\n",
    "    params = {\n",
    "        'subreddit': subreddit_name,\n",
    "        'size': 1000,\n",
    "        'fields': 'author'\n",
    "    }\n",
    "    index_base = 0\n",
    "    index = 0\n",
    "    while len(authors_set) < limit:\n",
    "        logger.debug(\n",
    "            f'Fetching the bulk that starts with the <{index_base+index}> author')\n",
    "        index_base += index\n",
    "        response = requests.get(REDDIT_SEARCH_COMMENT_URL, params=params)\n",
    "        data = response.json()\n",
    "        if not data['data']:\n",
    "            break\n",
    "        for index, comment in enumerate(data.get('data')):\n",
    "            authors_set.add(comment.get('author'))\n",
    "        params['before'] = data.get('data')[-1].get('created_utc')\n",
    "        logger.debug('Still working...')\n",
    "    logger.info(\n",
    "        f'Done fetching <{limit}> subreddit_authors from <{subreddit_name}> subreddit')\n",
    "    return authors_set\n"
   ]
  },
  {
   "cell_type": "code",
   "execution_count": 5,
   "metadata": {},
   "outputs": [
    {
     "name": "stderr",
     "output_type": "stream",
     "text": [
      "INFO:__main__:Fetching <1000> subreddit_authors from <r/classicalmusic> subreddit\n",
      "INFO:__main__:Done fetching <1000> subreddit_authors from <r/classicalmusic> subreddit\n",
      "INFO:__main__:Fetching <1000> subreddit_authors from <r/opera> subreddit\n",
      "INFO:__main__:Done fetching <1000> subreddit_authors from <r/opera> subreddit\n",
      "INFO:__main__:Fetching <1000> subreddit_authors from <r/ambientmusic> subreddit\n",
      "INFO:__main__:Done fetching <1000> subreddit_authors from <r/ambientmusic> subreddit\n",
      "INFO:__main__:Fetching <1000> subreddit_authors from <r/chillout> subreddit\n",
      "INFO:__main__:Done fetching <1000> subreddit_authors from <r/chillout> subreddit\n",
      "INFO:__main__:Fetching <1000> subreddit_authors from <r/deephouse> subreddit\n",
      "INFO:__main__:Done fetching <1000> subreddit_authors from <r/deephouse> subreddit\n",
      "INFO:__main__:Fetching <1000> subreddit_authors from <r/DnB> subreddit\n",
      "INFO:__main__:Done fetching <1000> subreddit_authors from <r/DnB> subreddit\n",
      "INFO:__main__:Fetching <1000> subreddit_authors from <r/dubstep> subreddit\n",
      "INFO:__main__:Done fetching <1000> subreddit_authors from <r/dubstep> subreddit\n",
      "INFO:__main__:Fetching <1000> subreddit_authors from <r/EDM> subreddit\n",
      "INFO:__main__:Done fetching <1000> subreddit_authors from <r/EDM> subreddit\n",
      "INFO:__main__:Fetching <1000> subreddit_authors from <r/electronicdancemusic> subreddit\n",
      "INFO:__main__:Done fetching <1000> subreddit_authors from <r/electronicdancemusic> subreddit\n",
      "INFO:__main__:Fetching <1000> subreddit_authors from <r/rock> subreddit\n",
      "INFO:__main__:Done fetching <1000> subreddit_authors from <r/rock> subreddit\n",
      "INFO:__main__:Fetching <1000> subreddit_authors from <r/indieheads> subreddit\n",
      "INFO:__main__:Done fetching <1000> subreddit_authors from <r/indieheads> subreddit\n",
      "INFO:__main__:Fetching <1000> subreddit_authors from <r/electronicmusic> subreddit\n",
      "INFO:__main__:Done fetching <1000> subreddit_authors from <r/electronicmusic> subreddit\n",
      "INFO:__main__:Fetching <1000> subreddit_authors from <r/blues> subreddit\n",
      "INFO:__main__:Done fetching <1000> subreddit_authors from <r/blues> subreddit\n",
      "INFO:__main__:Fetching <1000> subreddit_authors from <r/folk> subreddit\n",
      "INFO:__main__:Done fetching <1000> subreddit_authors from <r/folk> subreddit\n",
      "INFO:__main__:Fetching <1000> subreddit_authors from <r/Metal> subreddit\n",
      "INFO:__main__:Done fetching <1000> subreddit_authors from <r/Metal> subreddit\n",
      "INFO:__main__:Fetching <1000> subreddit_authors from <r/punk> subreddit\n",
      "INFO:__main__:Done fetching <1000> subreddit_authors from <r/punk> subreddit\n",
      "INFO:__main__:Fetching <1000> subreddit_authors from <r/hiphopheads> subreddit\n",
      "INFO:__main__:Done fetching <1000> subreddit_authors from <r/hiphopheads> subreddit\n",
      "INFO:__main__:Fetching <1000> subreddit_authors from <r/hiphop101> subreddit\n",
      "INFO:__main__:Done fetching <1000> subreddit_authors from <r/hiphop101> subreddit\n",
      "INFO:__main__:Fetching <1000> subreddit_authors from <r/rap> subreddit\n",
      "INFO:__main__:Done fetching <1000> subreddit_authors from <r/rap> subreddit\n",
      "INFO:__main__:Fetching <1000> subreddit_authors from <r/Jazz> subreddit\n",
      "INFO:__main__:Done fetching <1000> subreddit_authors from <r/Jazz> subreddit\n",
      "INFO:__main__:Fetching <1000> subreddit_authors from <r/reggae> subreddit\n",
      "INFO:__main__:Done fetching <1000> subreddit_authors from <r/reggae> subreddit\n"
     ]
    }
   ],
   "source": [
    "authors_by_subreddit: List[Set[str]] = []\n",
    "for subreddit in subreddits_names:\n",
    "    subreddit_authors = list_subreddit_authors(subreddit)\n",
    "    authors_by_subreddit.append(subreddit_authors)\n"
   ]
  },
  {
   "cell_type": "code",
   "execution_count": 6,
   "metadata": {},
   "outputs": [],
   "source": [
    "def write_subreddits_authors_to_csv(values: Set[str], labels: List[str]) -> None:\n",
    "    logger.info(\n",
    "        f'Writing authors names of comments in <{len(values)}> subreddits to file: <{AUTHORS_CSV_FILE_NAME}>')\n",
    "    with open(AUTHORS_CSV_FILE_NAME, mode='w') as file:\n",
    "        writer = csv.writer(file)\n",
    "        writer.writerow(labels)\n",
    "        for row in zip_longest(*values, fillvalue=''):\n",
    "            writer.writerow(row)\n",
    "    logger.info('Done writing to CSV file')\n"
   ]
  },
  {
   "cell_type": "code",
   "execution_count": 7,
   "metadata": {},
   "outputs": [],
   "source": [
    "def plot_and_save_venn_diagram(authors_by_subreddit: list, labels: List[str]):\n",
    "    venn3(authors_by_subreddit[:3], set_labels=(labels))\n",
    "    logger.info(\n",
    "        'Plotting 1 exapmple venn diagram to demonstrated example intersection between subreddits')\n",
    "    plt.savefig('venn_diagram.png')\n"
   ]
  },
  {
   "cell_type": "code",
   "execution_count": 8,
   "metadata": {},
   "outputs": [
    {
     "name": "stderr",
     "output_type": "stream",
     "text": [
      "INFO:__main__:Calgulating intersections between subreddits...\n",
      "INFO:__main__:All intersections between subreddits were persisted as CSV file called <subreddits_intersections.csv>\n"
     ]
    }
   ],
   "source": [
    "def write_authors_intersections_to_csv(authors_by_subreddit: list, labels: List[str]):\n",
    "    intersections = []\n",
    "    intersections_labels = []\n",
    "\n",
    "    logger.info('Calgulating intersections between subreddits...')\n",
    "    for i in range(len(authors_by_subreddit)):\n",
    "        for j in range(i+1, len(authors_by_subreddit)):\n",
    "            intersections.append(\n",
    "                authors_by_subreddit[i].intersection(authors_by_subreddit[j]))\n",
    "            intersections_labels.append(f'{labels[i]} & {labels[j]}')\n",
    "            logger.debug(\n",
    "                f\"{labels[i]} & {labels[j]} {authors_by_subreddit[i].intersection(authors_by_subreddit[j])}\")\n",
    "\n",
    "    with open(SUBREDDITS_INTERSECTIONS_CSV_NAME, mode='w') as file:\n",
    "        writer = csv.writer(file)\n",
    "        writer.writerow(intersections_labels)\n",
    "        for row in zip_longest(*intersections, fillvalue=''):\n",
    "            writer.writerow(row)\n",
    "    logger.info(\n",
    "        f'All intersections between subreddits were persisted as CSV file called <{SUBREDDITS_INTERSECTIONS_CSV_NAME}>')\n",
    "\n",
    "\n",
    "write_authors_intersections_to_csv(authors_by_subreddit, subreddits_names)\n"
   ]
  },
  {
   "cell_type": "code",
   "execution_count": 9,
   "metadata": {},
   "outputs": [
    {
     "name": "stderr",
     "output_type": "stream",
     "text": [
      "INFO:__main__:Writing authors names of comments in <21> subreddits to file: <subreddit_authors.csv>\n",
      "INFO:__main__:Done writing to CSV file\n",
      "INFO:__main__:Plotting 1 exapmple venn diagram to demonstrated example intersection between subreddits\n"
     ]
    },
    {
     "data": {
      "image/png": "[encoded data removed]",
      "text/plain": [
       "<Figure size 640x480 with 1 Axes>"
      ]
     },
     "metadata": {},
     "output_type": "display_data"
    }
   ],
   "source": [
    "write_subreddits_authors_to_csv(authors_by_subreddit, subreddits_names)\n",
    "plot_and_save_venn_diagram(authors_by_subreddit, subreddits_names)\n"
   ]
  }
 ],
 "metadata": {
  "kernelspec": {
   "display_name": ".venv",
   "language": "python",
   "name": "python3"
  },
  "language_info": {
   "codemirror_mode": {
    "name": "ipython",
    "version": 3
   },
   "file_extension": ".py",
   "mimetype": "text/x-python",
   "name": "python",
   "nbconvert_exporter": "python",
   "pygments_lexer": "ipython3",
   "version": "3.8.12"
  },
  "orig_nbformat": 4,
  "vscode": {
   "interpreter": {
    "hash": "51f3f0cb7ee07ab3d53a3db3dd36255103d71a32751172731dc99b130753ef1e"
   }
  }
 },
 "nbformat": 4,
 "nbformat_minor": 2
}
