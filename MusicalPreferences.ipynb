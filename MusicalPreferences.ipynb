{
 "cells": [
  {
   "cell_type": "code",
   "execution_count": 1,
   "metadata": {},
   "outputs": [],
   "source": [
    "from datetime import datetime, timedelta\n",
    "from matplotlib import pyplot as plt\n",
    "from matplotlib_venn import venn3\n",
    "from itertools import zip_longest\n",
    "from typing import Set, List\n",
    "import requests\n",
    "import logging\n",
    "import csv\n",
    "from retry import retry\n",
    "import os\n",
    "import json\n"
   ]
  },
  {
   "cell_type": "code",
   "execution_count": 2,
   "metadata": {},
   "outputs": [],
   "source": [
    "REDDIT_API_URL = 'https://api.pushshift.io/reddit'\n",
    "REDDIT_SEARCH_COMMENT_ENDPOINT = '/comment/search'\n",
    "REDDIT_SEARCH_COMMENT_URL = f'{REDDIT_API_URL}{REDDIT_SEARCH_COMMENT_ENDPOINT}'\n",
    "DESIRED_AUTHORS_AMOUNT = 1000\n",
    "AUTHORS_CSV_FILE_NAME = 'subreddit_authors.csv'\n",
    "SUBREDDITS_INTERSECTIONS_CSV_NAME = 'subreddits_intersections.csv'\n",
    "logging.basicConfig(level=logging.INFO)\n",
    "logger = logging.getLogger(__name__)\n"
   ]
  },
  {
   "cell_type": "code",
   "execution_count": 3,
   "metadata": {},
   "outputs": [],
   "source": [
    "subreddits_names = ['r/classicalmusic', \"r/opera\", \"r/ambientmusic\", \"r/chillout\", \"r/deephouse\", \"r/DnB\", \"r/dubstep\",\n",
    "                    \"r/EDM\", \"r/electronicdancemusic\", \"r/rock\", \"r/indieheads\", \"r/electronicmusic\", \"r/blues\", \"r/folk\",\n",
    "                    \"r/Metal\", \"r/punk\", \"r/hiphopheads\", \"r/hiphop101\", \"r/rap\", \"r/Jazz\", \"r/reggae\"]\n"
   ]
  },
  {
   "cell_type": "code",
   "execution_count": 4,
   "metadata": {},
   "outputs": [],
   "source": [
    "def list_subreddit_authors(subreddit_name: str, limit: int = DESIRED_AUTHORS_AMOUNT) -> Set[str]:\n",
    "    logger.info(\n",
    "        f'Fetching <{limit}> subreddit_authors from <{subreddit_name}> subreddit')\n",
    "    authors_set = set()\n",
    "    params = {\n",
    "        'subreddit': subreddit_name,\n",
    "        'size': 1000,\n",
    "        'fields': 'author'\n",
    "    }\n",
    "    index_base = 0\n",
    "    index = 0\n",
    "    while len(authors_set) < limit:\n",
    "        logger.debug(\n",
    "            f'Fetching the bulk that starts with the <{index_base+index}> author')\n",
    "        index_base += index\n",
    "        response = requests.get(REDDIT_SEARCH_COMMENT_URL, params=params)\n",
    "        data = response.json()\n",
    "        if not data['data']:\n",
    "            break\n",
    "        for index, comment in enumerate(data.get('data')):\n",
    "            authors_set.add(comment.get('author'))\n",
    "        params['before'] = data.get('data')[-1].get('created_utc')\n",
    "        logger.debug('Still working...')\n",
    "    logger.info(\n",
    "        f'Done fetching <{limit}> subreddit_authors from <{subreddit_name}> subreddit')\n",
    "    return authors_set\n"
   ]
  },
  {
   "cell_type": "code",
   "execution_count": 5,
   "metadata": {},
   "outputs": [
    {
     "name": "stderr",
     "output_type": "stream",
     "text": [
      "INFO:__main__:Fetching <1000> subreddit_authors from <r/classicalmusic> subreddit\n",
      "INFO:__main__:Done fetching <1000> subreddit_authors from <r/classicalmusic> subreddit\n",
      "INFO:__main__:Fetching <1000> subreddit_authors from <r/opera> subreddit\n",
      "INFO:__main__:Done fetching <1000> subreddit_authors from <r/opera> subreddit\n",
      "INFO:__main__:Fetching <1000> subreddit_authors from <r/ambientmusic> subreddit\n",
      "INFO:__main__:Done fetching <1000> subreddit_authors from <r/ambientmusic> subreddit\n",
      "INFO:__main__:Fetching <1000> subreddit_authors from <r/chillout> subreddit\n",
      "INFO:__main__:Done fetching <1000> subreddit_authors from <r/chillout> subreddit\n",
      "INFO:__main__:Fetching <1000> subreddit_authors from <r/deephouse> subreddit\n",
      "INFO:__main__:Done fetching <1000> subreddit_authors from <r/deephouse> subreddit\n",
      "INFO:__main__:Fetching <1000> subreddit_authors from <r/DnB> subreddit\n",
      "INFO:__main__:Done fetching <1000> subreddit_authors from <r/DnB> subreddit\n",
      "INFO:__main__:Fetching <1000> subreddit_authors from <r/dubstep> subreddit\n",
      "INFO:__main__:Done fetching <1000> subreddit_authors from <r/dubstep> subreddit\n",
      "INFO:__main__:Fetching <1000> subreddit_authors from <r/EDM> subreddit\n",
      "INFO:__main__:Done fetching <1000> subreddit_authors from <r/EDM> subreddit\n",
      "INFO:__main__:Fetching <1000> subreddit_authors from <r/electronicdancemusic> subreddit\n",
      "INFO:__main__:Done fetching <1000> subreddit_authors from <r/electronicdancemusic> subreddit\n",
      "INFO:__main__:Fetching <1000> subreddit_authors from <r/rock> subreddit\n",
      "INFO:__main__:Done fetching <1000> subreddit_authors from <r/rock> subreddit\n",
      "INFO:__main__:Fetching <1000> subreddit_authors from <r/indieheads> subreddit\n",
      "INFO:__main__:Done fetching <1000> subreddit_authors from <r/indieheads> subreddit\n",
      "INFO:__main__:Fetching <1000> subreddit_authors from <r/electronicmusic> subreddit\n",
      "INFO:__main__:Done fetching <1000> subreddit_authors from <r/electronicmusic> subreddit\n",
      "INFO:__main__:Fetching <1000> subreddit_authors from <r/blues> subreddit\n",
      "INFO:__main__:Done fetching <1000> subreddit_authors from <r/blues> subreddit\n",
      "INFO:__main__:Fetching <1000> subreddit_authors from <r/folk> subreddit\n",
      "INFO:__main__:Done fetching <1000> subreddit_authors from <r/folk> subreddit\n",
      "INFO:__main__:Fetching <1000> subreddit_authors from <r/Metal> subreddit\n",
      "INFO:__main__:Done fetching <1000> subreddit_authors from <r/Metal> subreddit\n",
      "INFO:__main__:Fetching <1000> subreddit_authors from <r/punk> subreddit\n",
      "INFO:__main__:Done fetching <1000> subreddit_authors from <r/punk> subreddit\n",
      "INFO:__main__:Fetching <1000> subreddit_authors from <r/hiphopheads> subreddit\n",
      "INFO:__main__:Done fetching <1000> subreddit_authors from <r/hiphopheads> subreddit\n",
      "INFO:__main__:Fetching <1000> subreddit_authors from <r/hiphop101> subreddit\n",
      "INFO:__main__:Done fetching <1000> subreddit_authors from <r/hiphop101> subreddit\n",
      "INFO:__main__:Fetching <1000> subreddit_authors from <r/rap> subreddit\n",
      "INFO:__main__:Done fetching <1000> subreddit_authors from <r/rap> subreddit\n",
      "INFO:__main__:Fetching <1000> subreddit_authors from <r/Jazz> subreddit\n",
      "INFO:__main__:Done fetching <1000> subreddit_authors from <r/Jazz> subreddit\n",
      "INFO:__main__:Fetching <1000> subreddit_authors from <r/reggae> subreddit\n",
      "INFO:__main__:Done fetching <1000> subreddit_authors from <r/reggae> subreddit\n"
     ]
    }
   ],
   "source": [
    "authors_by_subreddit: List[Set[str]] = []\n",
    "for subreddit in subreddits_names:\n",
    "    subreddit_authors = list_subreddit_authors(subreddit)\n",
    "    authors_by_subreddit.append(subreddit_authors)\n"
   ]
  },
  {
   "cell_type": "code",
   "execution_count": 6,
   "metadata": {},
   "outputs": [],
   "source": [
    "def write_subreddits_authors_to_csv(values: Set[str], labels: List[str]) -> None:\n",
    "    logger.info(\n",
    "        f'Writing authors names of comments in <{len(values)}> subreddits to file: <{AUTHORS_CSV_FILE_NAME}>')\n",
    "    with open(AUTHORS_CSV_FILE_NAME, mode='w') as file:\n",
    "        writer = csv.writer(file)\n",
    "        writer.writerow(labels)\n",
    "        for row in zip_longest(*values, fillvalue=''):\n",
    "            writer.writerow(row)\n",
    "    logger.info('Done writing to CSV file')\n"
   ]
  },
  {
   "cell_type": "code",
   "execution_count": 7,
   "metadata": {},
   "outputs": [],
   "source": [
    "def plot_and_save_venn_diagram(authors_by_subreddit: list, labels: List[str]):\n",
    "    venn3(authors_by_subreddit[:3], set_labels=(labels))\n",
    "    logger.info(\n",
    "        'Plotting 1 exapmple venn diagram to demonstrated example intersection between subreddits')\n",
    "    plt.savefig('venn_diagram.png')\n"
   ]
  },
  {
   "cell_type": "code",
   "execution_count": 8,
   "metadata": {},
   "outputs": [
    {
     "name": "stderr",
     "output_type": "stream",
     "text": [
      "INFO:__main__:Calgulating intersections between subreddits...\n",
      "INFO:__main__:All intersections between subreddits were persisted as CSV file called <subreddits_intersections.csv>\n"
     ]
    }
   ],
   "source": [
    "def write_authors_intersections_to_csv(authors_by_subreddit: list, labels: List[str]):\n",
    "    intersections = []\n",
    "    intersections_labels = []\n",
    "\n",
    "    logger.info('Calgulating intersections between subreddits...')\n",
    "    for i in range(len(authors_by_subreddit)):\n",
    "        for j in range(i+1, len(authors_by_subreddit)):\n",
    "            intersections.append(\n",
    "                authors_by_subreddit[i].intersection(authors_by_subreddit[j]))\n",
    "            intersections_labels.append(f'{labels[i]} & {labels[j]}')\n",
    "            logger.debug(\n",
    "                f\"{labels[i]} & {labels[j]} {authors_by_subreddit[i].intersection(authors_by_subreddit[j])}\")\n",
    "\n",
    "    with open(SUBREDDITS_INTERSECTIONS_CSV_NAME, mode='w') as file:\n",
    "        writer = csv.writer(file)\n",
    "        writer.writerow(intersections_labels)\n",
    "        for row in zip_longest(*intersections, fillvalue=''):\n",
    "            writer.writerow(row)\n",
    "    logger.info(\n",
    "        f'All intersections between subreddits were persisted as CSV file called <{SUBREDDITS_INTERSECTIONS_CSV_NAME}>')\n",
    "\n",
    "\n",
    "write_authors_intersections_to_csv(authors_by_subreddit, subreddits_names)\n"
   ]
  },
  {
   "cell_type": "code",
   "execution_count": 9,
   "metadata": {},
   "outputs": [
    {
     "name": "stderr",
     "output_type": "stream",
     "text": [
      "INFO:__main__:Writing authors names of comments in <21> subreddits to file: <subreddit_authors.csv>\n",
      "INFO:__main__:Done writing to CSV file\n",
      "INFO:__main__:Plotting 1 exapmple venn diagram to demonstrated example intersection between subreddits\n"
     ]
    },
    {
     "data": {
      "image/png": "[encoded data removed]",
      "text/plain": [
       "<Figure size 640x480 with 1 Axes>"
      ]
     },
     "metadata": {},
     "output_type": "display_data"
    }
   ],
   "source": [
    "write_subreddits_authors_to_csv(authors_by_subreddit, subreddits_names)\n",
    "plot_and_save_venn_diagram(authors_by_subreddit, subreddits_names)\n"
   ]
  },
  {
   "attachments": {},
   "cell_type": "markdown",
   "metadata": {},
   "source": [
    "# Diving Deeper\n",
    "\n",
    "### Picking up 5 relatively distinct large musical genres communities and extract latest 1M comments and their authors\n"
   ]
  },
  {
   "cell_type": "code",
   "execution_count": 31,
   "metadata": {},
   "outputs": [],
   "source": [
    "# Definitions\n",
    "distinct_large_communities = [\n",
    "    'r/indieheads', 'r/electronicmusic', 'r/hiphopheads', 'r/Metal', 'r/classicalmusic']\n",
    "days_window = 1\n",
    "comment_url = \"https://api.pushshift.io/reddit/comment/search/\"\n",
    "submission_url = \"https://api.pushshift.io/reddit/submission/search/\"\n",
    "blacklisted_users = ['[deleted]', 'AutoModerator']\n"
   ]
  },
  {
   "cell_type": "code",
   "execution_count": 4,
   "metadata": {},
   "outputs": [],
   "source": [
    "@retry((requests.exceptions.RequestException, requests.exceptions.Timeout, requests.exceptions.HTTPError, requests.exceptions.ConnectionError, requests.exceptions.JSONDecodeError), delay=3, tries=4)\n",
    "def throttle_get_request(url, params):\n",
    "    try:\n",
    "        response = requests.get(url, params=params)\n",
    "        data = response.json().get(\"data\", [])\n",
    "        return data\n",
    "    except Exception as e:\n",
    "        logger.warning(\n",
    "            f\"handling bad response. response's status: {response.status_code}\")\n",
    "        raise e\n"
   ]
  },
  {
   "cell_type": "code",
   "execution_count": 5,
   "metadata": {},
   "outputs": [],
   "source": [
    "def write_list_to_json_file(data_list, file_path):\n",
    "    file_size = 0\n",
    "    if os.path.isfile(file_path):\n",
    "        file_size = os.stat(file_path).st_size\n",
    "\n",
    "    with open(file_path, 'ab') as fp:\n",
    "        if file_size > 0:\n",
    "            fp.write(b',')\n",
    "        for item in data_list:\n",
    "            fp.write(json.dumps(item).encode('utf-8'))\n",
    "            fp.write(b',')\n",
    "        fp.seek(-1, os.SEEK_END)\n",
    "        fp.truncate()\n",
    "    fp.close()\n",
    "\n",
    "\n",
    "def read_json_file(file_path):\n",
    "    with open(file_path, 'r') as fp:\n",
    "        data = fp.read()\n",
    "        if data:\n",
    "            # Remove trailing comma from the file\n",
    "            if data[-1] == ',':\n",
    "                data = data[:-1]\n",
    "            # Load the JSON data into a dictionary\n",
    "            data_dict = json.loads('[' + data + ']')\n",
    "        else:\n",
    "            data_dict = {}\n",
    "    return data_dict\n"
   ]
  },
  {
   "cell_type": "code",
   "execution_count": null,
   "metadata": {},
   "outputs": [],
   "source": [
    "\n",
    "def fetch_comments_from_subreddits_and_save_to_file(desired_comments_amount: int, subreddits: List[str]):\n",
    "    desired_keys = [\"id\", \"author\", \"permalink\", \"body\", \"created_utc\"]\n",
    "    for subreddit in subreddits:\n",
    "        existing_data = read_json_file(f'data/{subreddit}.json')\n",
    "        existing_data_latest_creation_date = existing_data[:-1].get(\n",
    "            'created_utc') if existing_data else None\n",
    "        timestamp = existing_data_latest_creation_date or int(\n",
    "            (datetime.now() - timedelta(days=days_window)).timestamp())\n",
    "        params = {\n",
    "            \"subreddit\": subreddit,\n",
    "            \"after\": timestamp,\n",
    "            \"size\": 1000,\n",
    "        }\n",
    "        comments_counter = 0\n",
    "        while comments_counter < desired_comments_amount:\n",
    "            data = throttle_get_request(comment_url, params)\n",
    "            if len(data) == 0:\n",
    "                break\n",
    "            filtered_comments = [{key: comment[key]\n",
    "                                  for key in desired_keys} for comment in data]\n",
    "            comments_counter += len(filtered_comments)\n",
    "            params[\"after\"] = data[-1]['created_utc']\n",
    "            write_list_to_json_file(\n",
    "                filtered_comments, f\"data/{subreddit}.json\")\n",
    "        logger.info(f\"Collected {comments_counter} comments from {subreddit}\")\n",
    "\n",
    "\n",
    "fetch_comments_from_subreddits_and_save_to_file(\n",
    "    desired_comments_amount=1000000, subreddits=distinct_large_communities)\n"
   ]
  },
  {
   "cell_type": "code",
   "execution_count": 30,
   "metadata": {},
   "outputs": [
    {
     "name": "stderr",
     "output_type": "stream",
     "text": [
      "INFO:__main__:Iterating over 1000529 in Metal community\n",
      "INFO:__main__:Identified 314 authors in Metal community\n",
      "INFO:__main__:Iterating over 1000314 in classicalmusic community\n",
      "INFO:__main__:Identified 333 authors in classicalmusic community\n",
      "INFO:__main__:Iterating over 1000992 in hiphopheads community\n",
      "INFO:__main__:Identified 675 authors in hiphopheads community\n",
      "INFO:__main__:Iterating over 1000287 in indieheads community\n",
      "INFO:__main__:Identified 472 authors in indieheads community\n",
      "INFO:__main__:Iterating over 1000177 in electronicmusic community\n",
      "INFO:__main__:Identified 110 authors in electronicmusic community\n"
     ]
    }
   ],
   "source": [
    "def get_authors_by_commuinity(directory):\n",
    "    authors = {}\n",
    "    for filename in os.listdir(directory):\n",
    "        community_name = filename.split(\".\")[0]\n",
    "        authors[community_name] = {}\n",
    "        if filename.endswith(\".json\"):\n",
    "            comments = read_json_file(directory + filename)\n",
    "            logger.info(\n",
    "                f'Iterating over {len(comments)} in {community_name} community')\n",
    "            for comment in comments:\n",
    "                comment_author = comment['author']\n",
    "                if authors[community_name].get(comment_author):\n",
    "                    authors[community_name][comment['author']] += 1\n",
    "                else:\n",
    "                    authors[community_name][comment['author']] = 1\n",
    "            logger.info(\n",
    "                f'Identified {len(authors[community_name])} authors in {community_name} community')\n",
    "    return authors\n",
    "\n",
    "\n",
    "authors = get_authors_by_commuinity('data/r/')\n"
   ]
  },
  {
   "cell_type": "code",
   "execution_count": 48,
   "metadata": {},
   "outputs": [
    {
     "name": "stderr",
     "output_type": "stream",
     "text": [
      "INFO:__main__:Extracting the intersections of authors between communities\n",
      "INFO:__main__:The intersection of Metal_classicalmusic is: set()\n",
      "INFO:__main__:The intersection of Metal_hiphopheads is: set()\n",
      "INFO:__main__:The intersection of Metal_indieheads is: {'NostalgiaBombs'}\n",
      "INFO:__main__:The intersection of Metal_electronicmusic is: set()\n",
      "INFO:__main__:The intersection of classicalmusic_hiphopheads is: set()\n",
      "INFO:__main__:The intersection of classicalmusic_indieheads is: set()\n",
      "INFO:__main__:The intersection of classicalmusic_electronicmusic is: set()\n",
      "INFO:__main__:The intersection of hiphopheads_indieheads is: {'dormantcouchcamper', 'DeLousedInTheHotBox', 'telivision'}\n",
      "INFO:__main__:The intersection of electronicmusic_hiphopheads is: {'imkii', 'b_lett'}\n",
      "INFO:__main__:The intersection of electronicmusic_indieheads is: set()\n"
     ]
    }
   ],
   "source": [
    "def get_authors_intersections():\n",
    "    logger.info('Extracting the intersections of authors between communities')\n",
    "    sets = {community_name: set(community_authors)\n",
    "            for community_name, community_authors in authors.items()}\n",
    "    intersections = {}\n",
    "    for k1 in sets:\n",
    "        for k2 in sets:\n",
    "            if k1 < k2:\n",
    "                # Get the intersection of the sets corresponding to k1 and k2\n",
    "                intersection = sets[k1].intersection(sets[k2])\n",
    "                for blacklisted_user in blacklisted_users:\n",
    "                    intersection.remove(blacklisted_user)\n",
    "\n",
    "                # Add the intersection to the intersections dictionary\n",
    "                key = k1 + '_' + k2\n",
    "                intersections[key] = intersection\n",
    "\n",
    "    for communities_pair in intersections:\n",
    "        logger.info(\n",
    "            f'The intersection of {communities_pair} is: {intersections[communities_pair]}')\n",
    "\n",
    "\n",
    "get_authors_intersections()\n"
   ]
  }
 ],
 "metadata": {
  "kernelspec": {
   "display_name": ".venv",
   "language": "python",
   "name": "python3"
  },
  "language_info": {
   "codemirror_mode": {
    "name": "ipython",
    "version": 3
   },
   "file_extension": ".py",
   "mimetype": "text/x-python",
   "name": "python",
   "nbconvert_exporter": "python",
   "pygments_lexer": "ipython3",
   "version": "3.8.12"
  },
  "orig_nbformat": 4,
  "vscode": {
   "interpreter": {
    "hash": "51f3f0cb7ee07ab3d53a3db3dd36255103d71a32751172731dc99b130753ef1e"
   }
  }
 },
 "nbformat": 4,
 "nbformat_minor": 2
}
