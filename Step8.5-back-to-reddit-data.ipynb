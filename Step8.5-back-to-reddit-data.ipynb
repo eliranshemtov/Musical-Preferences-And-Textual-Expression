{
 "cells": [
  {
   "cell_type": "markdown",
   "metadata": {},
   "source": [
    "# Back to the Reddit dataset <br>\n",
    "\n",
    "## This is a copy of Step8 notebook, with similarity threshold == 0.95\n",
    "\n",
    "After we:\n",
    "\n",
    "1. Tested few different personality-prediction-by-text tools\n",
    "2. Generated textual content that highly correlates with high/low openness\n",
    "3. Trained a logistic regression model to classify texts to high-openness / low-openness\n",
    "4. Compared the trained model with other models we've trained as well as with the existing tools (1)\n",
    "\n",
    "We've chose the logistic-regression model that we've trained as the model to work with on the Reddit dataset that we've gathered\n"
   ]
  },
  {
   "cell_type": "markdown",
   "metadata": {},
   "source": [
    "## Filter out short texts\n",
    "\n",
    "To effectively use the model, we need to use only long-enough texts. <br>\n",
    "We set the threshold as the average length of texts used to train the model, which is **40** tokens.\n"
   ]
  },
  {
   "cell_type": "markdown",
   "metadata": {},
   "source": [
    "### Median | AVG Length of posts per community\n"
   ]
  },
  {
   "cell_type": "code",
   "execution_count": 1,
   "metadata": {
    "notebookRunGroups": {
     "groupValue": "12"
    },
    "tags": []
   },
   "outputs": [
    {
     "name": "stdout",
     "output_type": "stream",
     "text": [
      "[ Median | AVG ] number of posts left per user after filtering all posts shorter than 40 tokens: \n",
      "indieheads [ 35.0 | 84.467 ]\n",
      "hiphopheads [ 82.0 | 121.983 ]\n",
      "Metal [ 53.5 | 103.118 ]\n",
      "electronicmusic [ 43.0 | 97.761 ]\n",
      "classicalmusic [ 117.0 | 172.252 ]\n"
     ]
    }
   ],
   "source": [
    "import os\n",
    "import json\n",
    "import statistics\n",
    "\n",
    "directory = \"./data/detailed_filtered_data\"\n",
    "threshold = 40\n",
    "\n",
    "print(\n",
    "    \"[ Median | AVG ] number of posts left per user after filtering all posts shorter than 40 tokens: \"\n",
    ")\n",
    "for root, dirs, files in os.walk(directory):\n",
    "    for folder in dirs:\n",
    "        counter_in_genre = []\n",
    "        folder_path = os.path.join(root, folder)\n",
    "        for file in os.listdir(folder_path):\n",
    "            if file.endswith(\".json\"):\n",
    "                file_path = os.path.join(folder_path, file)\n",
    "                with open(file_path, \"r\") as json_file:\n",
    "                    data = json.load(json_file)\n",
    "                    counter = 0\n",
    "                    for vector_file_name in data.keys():\n",
    "                        for sub in data.get(vector_file_name, {}).get(\"submissions\"):\n",
    "                            if len(sub.get(\"title\", \"\").split()) >= threshold:\n",
    "                                counter += 1\n",
    "                            if len(sub.get(\"body\", \"\").split()) >= threshold:\n",
    "                                counter += 1\n",
    "                        for comment in data.get(vector_file_name, {}).get(\"comments\"):\n",
    "                            if len(comment.get(\"body\", \"\").split()) >= threshold:\n",
    "                                counter += 1\n",
    "                    counter_in_genre.append(counter)\n",
    "        if counter_in_genre:\n",
    "            print(\n",
    "                folder,\n",
    "                \"[\",\n",
    "                statistics.median(counter_in_genre),\n",
    "                \"|\",\n",
    "                statistics.mean(counter_in_genre),\n",
    "                \"]\",\n",
    "            )"
   ]
  },
  {
   "cell_type": "markdown",
   "metadata": {},
   "source": [
    "### Process the data as a DataFrame\n"
   ]
  },
  {
   "cell_type": "code",
   "execution_count": 2,
   "metadata": {
    "notebookRunGroups": {
     "groupValue": "12"
    }
   },
   "outputs": [
    {
     "name": "stderr",
     "output_type": "stream",
     "text": [
      "100%|██████████| 1000/1000 [00:01<00:00, 638.98it/s]\n",
      "100%|██████████| 1000/1000 [00:00<00:00, 1019.70it/s]\n",
      "100%|██████████| 1000/1000 [00:01<00:00, 604.53it/s]\n",
      "100%|██████████| 1000/1000 [00:01<00:00, 819.38it/s]\n",
      "100%|██████████| 1000/1000 [00:01<00:00, 695.11it/s]"
     ]
    },
    {
     "name": "stdout",
     "output_type": "stream",
     "text": [
      "Done processing texts :)\n"
     ]
    },
    {
     "name": "stderr",
     "output_type": "stream",
     "text": [
      "\n"
     ]
    }
   ],
   "source": [
    "import pandas as pd\n",
    "import os\n",
    "import json\n",
    "from tqdm import tqdm\n",
    "\n",
    "df = pd.DataFrame(columns=[\"community\", \"user_name\",\n",
    "                  \"user_texts\", \"#_of_long_texts\"])\n",
    "\n",
    "\n",
    "def process_files(community, df):\n",
    "    threshold = 40\n",
    "    directory = f\"./data/detailed_filtered_data/texts/{community}\"\n",
    "    for filename in tqdm(os.listdir(directory)):\n",
    "        if filename.endswith(\".json\"):\n",
    "            user_texts = []\n",
    "            with open(os.path.join(directory, filename), \"r\") as f:\n",
    "                data = json.load(f)\n",
    "                for key in data:\n",
    "                    for submission in data[key].get(\"submissions\", []):\n",
    "                        title = submission.get(\"title\", \"\")\n",
    "                        body = submission.get(\"body\", \"\")\n",
    "                        if len(title.split()) >= threshold:\n",
    "                            user_texts.append(title)\n",
    "                        if len(body.split()) >= threshold:\n",
    "                            user_texts.append(body)\n",
    "                    for submission in data[key].get(\"comments\", []):\n",
    "                        body = submission.get(\"body\", \"\")\n",
    "                        if len(body.split()) >= threshold:\n",
    "                            user_texts.append(body)\n",
    "            if len(user_texts) == 0:\n",
    "                continue\n",
    "            user_name = filename.split(\".json\")[0]\n",
    "            new_row = pd.DataFrame(\n",
    "                {\n",
    "                    \"community\": community,\n",
    "                    \"user_name\": [user_name],\n",
    "                    \"user_texts\": [user_texts],\n",
    "                    \"#_of_long_texts\": [len(user_texts)],\n",
    "                }\n",
    "            )\n",
    "            df = pd.concat([df, new_row], ignore_index=True)\n",
    "    return df\n",
    "\n",
    "\n",
    "communities = [\n",
    "    \"classicalmusic\",\n",
    "    \"electronicmusic\",\n",
    "    \"hiphopheads\",\n",
    "    \"indieheads\",\n",
    "    \"Metal\",\n",
    "]\n",
    "\n",
    "for vector_file_name in communities:\n",
    "    df = pd.concat([df, process_files(vector_file_name, df)])\n",
    "print(\"Done processing texts :)\")"
   ]
  },
  {
   "cell_type": "markdown",
   "metadata": {},
   "source": [
    "#### De-Duplication\n"
   ]
  },
  {
   "cell_type": "code",
   "execution_count": 3,
   "metadata": {
    "notebookRunGroups": {
     "groupValue": "12"
    }
   },
   "outputs": [
    {
     "name": "stdout",
     "output_type": "stream",
     "text": [
      "After dedeuplication there are 575,816 unique texts in total\n"
     ]
    }
   ],
   "source": [
    "def deduplicate_texts(df):\n",
    "    exploded_df = df.explode(\"user_texts\")\n",
    "    exploded_df = exploded_df.drop_duplicates(subset=\"user_texts\")\n",
    "    return exploded_df\n",
    "\n",
    "\n",
    "df = deduplicate_texts(df)\n",
    "print(\"After dedeuplication there are\", format(\n",
    "    len(df), \",\"), \"unique texts in total\")"
   ]
  },
  {
   "cell_type": "code",
   "execution_count": 4,
   "metadata": {
    "notebookRunGroups": {
     "groupValue": "12"
    }
   },
   "outputs": [
    {
     "name": "stdout",
     "output_type": "stream",
     "text": [
      "Number of texts left after deduplication per community: \n",
      "Classicalmusic: 170,251 \n",
      "Electronicmusic: 97,063 \n",
      "Hiphopheads: 121,538 \n",
      "Indieheads: 84,314 \n",
      "Metal: 102,650\n"
     ]
    }
   ],
   "source": [
    "classicalmusic_df = df[df[\"community\"] == \"classicalmusic\"]\n",
    "electronicmusic_df = df[df[\"community\"] == \"electronicmusic\"]\n",
    "hiphopheads_df = df[df[\"community\"] == \"hiphopheads\"]\n",
    "indieheads_df = df[df[\"community\"] == \"indieheads\"]\n",
    "metal_df = df[df[\"community\"] == \"Metal\"]\n",
    "\n",
    "communities_dfs = [\n",
    "    classicalmusic_df,\n",
    "    electronicmusic_df,\n",
    "    hiphopheads_df,\n",
    "    indieheads_df,\n",
    "    metal_df,\n",
    "]\n",
    "\n",
    "print(\n",
    "    \"Number of texts left after deduplication per community:\",\n",
    "    \"\\nClassicalmusic:\",\n",
    "    format(len(classicalmusic_df), \",\"),\n",
    "    \"\\nElectronicmusic:\",\n",
    "    format(len(electronicmusic_df), \",\"),\n",
    "    \"\\nHiphopheads:\",\n",
    "    format(len(hiphopheads_df), \",\"),\n",
    "    \"\\nIndieheads:\",\n",
    "    format(len(indieheads_df), \",\"),\n",
    "    \"\\nMetal:\",\n",
    "    format(len(metal_df), \",\"),\n",
    ")"
   ]
  },
  {
   "cell_type": "code",
   "execution_count": 5,
   "metadata": {
    "notebookRunGroups": {
     "groupValue": "12"
    }
   },
   "outputs": [
    {
     "name": "stdout",
     "output_type": "stream",
     "text": [
      "Median and Mean of texts-count per user in each community after deduplication:\n",
      "classicalmusic: Median = 118.5  | Mean = 173.37\n",
      "electronicmusic: Median = 60.5  | Mean = 109.55\n",
      "hiphopheads: Median = 83.0  | Mean = 122.39\n",
      "indieheads: Median = 52.0  | Mean = 96.8\n",
      "metal: Median = 58.0  | Mean = 107.94\n"
     ]
    }
   ],
   "source": [
    "classicalmusic_counts = classicalmusic_df[\"user_name\"].value_counts()\n",
    "electronicmusic_counts = electronicmusic_df[\"user_name\"].value_counts()\n",
    "hiphopheads_counts = hiphopheads_df[\"user_name\"].value_counts()\n",
    "indieheads_counts = indieheads_df[\"user_name\"].value_counts()\n",
    "metal_counts = metal_df[\"user_name\"].value_counts()\n",
    "\n",
    "\n",
    "print(\"Median and Mean of texts-count per user in each community after deduplication:\")\n",
    "print(\n",
    "    \"classicalmusic: Median =\",\n",
    "    classicalmusic_counts.median(),\n",
    "    \" | Mean =\",\n",
    "    round(classicalmusic_counts.mean(), 2),\n",
    ")\n",
    "print(\n",
    "    \"electronicmusic: Median =\",\n",
    "    electronicmusic_counts.median(),\n",
    "    \" | Mean =\",\n",
    "    round(electronicmusic_counts.mean(), 2),\n",
    ")\n",
    "print(\n",
    "    \"hiphopheads: Median =\",\n",
    "    hiphopheads_counts.median(),\n",
    "    \" | Mean =\",\n",
    "    round(hiphopheads_counts.mean(), 2),\n",
    ")\n",
    "print(\n",
    "    \"indieheads: Median =\",\n",
    "    indieheads_counts.median(),\n",
    "    \" | Mean =\",\n",
    "    round(indieheads_counts.mean(), 2),\n",
    ")\n",
    "print(\n",
    "    \"metal: Median =\", metal_counts.median(), \" | Mean =\", round(metal_counts.mean(), 2)\n",
    ")"
   ]
  },
  {
   "cell_type": "markdown",
   "metadata": {},
   "source": [
    "# Vectorize all Redditors texts\n"
   ]
  },
  {
   "cell_type": "markdown",
   "metadata": {},
   "source": [
    "## Vectorize Text method\n"
   ]
  },
  {
   "cell_type": "code",
   "execution_count": 6,
   "metadata": {},
   "outputs": [
    {
     "name": "stderr",
     "output_type": "stream",
     "text": [
      "/Users/eliran/Personal/dev/Musical-Preferences-And-Textual-Expression/.venv/lib/python3.11/site-packages/tqdm/auto.py:21: TqdmWarning: IProgress not found. Please update jupyter and ipywidgets. See https://ipywidgets.readthedocs.io/en/stable/user_install.html\n",
      "  from .autonotebook import tqdm as notebook_tqdm\n"
     ]
    }
   ],
   "source": [
    "from sentence_transformers import SentenceTransformer\n",
    "from typing import List, Union\n",
    "from torch import Tensor\n",
    "from numpy import ndarray\n",
    "\n",
    "\n",
    "def vectorize_text(\n",
    "    text, model: SentenceTransformer, batch_size=12, show_progress_bar=False\n",
    ") -> Union[List[Tensor], ndarray, Tensor]:\n",
    "    return model.encode(\n",
    "        text, show_progress_bar=show_progress_bar, batch_size=batch_size\n",
    "    )"
   ]
  },
  {
   "cell_type": "code",
   "execution_count": 7,
   "metadata": {
    "notebookRunGroups": {
     "groupValue": "12"
    }
   },
   "outputs": [
    {
     "data": {
      "text/html": [
       "<div>\n",
       "<style scoped>\n",
       "    .dataframe tbody tr th:only-of-type {\n",
       "        vertical-align: middle;\n",
       "    }\n",
       "\n",
       "    .dataframe tbody tr th {\n",
       "        vertical-align: top;\n",
       "    }\n",
       "\n",
       "    .dataframe thead th {\n",
       "        text-align: right;\n",
       "    }\n",
       "</style>\n",
       "<table border=\"1\" class=\"dataframe\">\n",
       "  <thead>\n",
       "    <tr style=\"text-align: right;\">\n",
       "      <th></th>\n",
       "      <th>community</th>\n",
       "      <th>user_name</th>\n",
       "      <th>user_texts</th>\n",
       "      <th>#_of_long_texts</th>\n",
       "    </tr>\n",
       "  </thead>\n",
       "  <tbody>\n",
       "    <tr>\n",
       "      <th>0</th>\n",
       "      <td>classicalmusic</td>\n",
       "      <td>Radaxen</td>\n",
       "      <td>I remember doing this with WC3 Dota 1 Lifestea...</td>\n",
       "      <td>339</td>\n",
       "    </tr>\n",
       "    <tr>\n",
       "      <th>1</th>\n",
       "      <td>classicalmusic</td>\n",
       "      <td>Radaxen</td>\n",
       "      <td>Why not? Though there's no AD in League.  I ki...</td>\n",
       "      <td>339</td>\n",
       "    </tr>\n",
       "    <tr>\n",
       "      <th>2</th>\n",
       "      <td>classicalmusic</td>\n",
       "      <td>Radaxen</td>\n",
       "      <td>Haha I was kind of joking. That aside, why mos...</td>\n",
       "      <td>339</td>\n",
       "    </tr>\n",
       "    <tr>\n",
       "      <th>3</th>\n",
       "      <td>classicalmusic</td>\n",
       "      <td>Radaxen</td>\n",
       "      <td>Mana is often a less limiting factor, unless y...</td>\n",
       "      <td>339</td>\n",
       "    </tr>\n",
       "    <tr>\n",
       "      <th>4</th>\n",
       "      <td>classicalmusic</td>\n",
       "      <td>Radaxen</td>\n",
       "      <td>It's first pick worthy, but late in first phas...</td>\n",
       "      <td>339</td>\n",
       "    </tr>\n",
       "  </tbody>\n",
       "</table>\n",
       "</div>"
      ],
      "text/plain": [
       "        community user_name  \\\n",
       "0  classicalmusic   Radaxen   \n",
       "1  classicalmusic   Radaxen   \n",
       "2  classicalmusic   Radaxen   \n",
       "3  classicalmusic   Radaxen   \n",
       "4  classicalmusic   Radaxen   \n",
       "\n",
       "                                          user_texts #_of_long_texts  \n",
       "0  I remember doing this with WC3 Dota 1 Lifestea...             339  \n",
       "1  Why not? Though there's no AD in League.  I ki...             339  \n",
       "2  Haha I was kind of joking. That aside, why mos...             339  \n",
       "3  Mana is often a less limiting factor, unless y...             339  \n",
       "4  It's first pick worthy, but late in first phas...             339  "
      ]
     },
     "execution_count": 7,
     "metadata": {},
     "output_type": "execute_result"
    }
   ],
   "source": [
    "df = df.reset_index(drop=True)\n",
    "df.head()"
   ]
  },
  {
   "cell_type": "markdown",
   "metadata": {},
   "source": [
    "## `all-MiniLM-L6-v2`\n",
    "\n",
    "Working with the all-MiniLM-L6-v2 model is much faster, so all vectorization is done at once in this case\n"
   ]
  },
  {
   "cell_type": "markdown",
   "metadata": {},
   "source": [
    "### Vectorize\n"
   ]
  },
  {
   "cell_type": "code",
   "execution_count": 8,
   "metadata": {
    "notebookRunGroups": {
     "groupValue": "2"
    }
   },
   "outputs": [
    {
     "name": "stderr",
     "output_type": "stream",
     "text": [
      "100%|██████████| 575816/575816 [2:13:16<00:00, 72.01it/s]  \n"
     ]
    }
   ],
   "source": [
    "tqdm.pandas()\n",
    "model = SentenceTransformer(\"all-MiniLM-L6-v2\")\n",
    "\n",
    "df[\"vector\"] = df[\"user_texts\"].progress_apply(\n",
    "    lambda x: vectorize_text(x, model) if not isinstance(x, float) else []\n",
    ")"
   ]
  },
  {
   "cell_type": "markdown",
   "metadata": {},
   "source": [
    "### Re-load\n"
   ]
  },
  {
   "cell_type": "code",
   "execution_count": null,
   "metadata": {
    "notebookRunGroups": {
     "groupValue": "2"
    }
   },
   "outputs": [],
   "source": [
    "import pickle\n",
    "\n",
    "with open(\"mini_reddit_data_vectorized.pkl\", \"rb\") as f:\n",
    "    df[\"vector\"] = pickle.load(f)"
   ]
  },
  {
   "cell_type": "markdown",
   "metadata": {},
   "source": [
    "## `intfloat/e5-large-v2`\n",
    "\n",
    "On the other hand, the intfloat/e5-large-v2 model is much slower, so vectorization is done in chunks and persisted the H5 files\n"
   ]
  },
  {
   "cell_type": "markdown",
   "metadata": {},
   "source": [
    "### Vectorize\n"
   ]
  },
  {
   "cell_type": "code",
   "execution_count": 8,
   "metadata": {},
   "outputs": [
    {
     "name": "stdout",
     "output_type": "stream",
     "text": [
      "Dataset shape: (170251, 1024)\n"
     ]
    },
    {
     "name": "stderr",
     "output_type": "stream",
     "text": [
      "Vectorizing texts: 100%|██████████| 170251/170251 [10:02:07<00:00,  4.71it/s] \n"
     ]
    }
   ],
   "source": [
    "import h5py\n",
    "import numpy as np\n",
    "from tqdm import tqdm\n",
    "\n",
    "model = SentenceTransformer(\"intfloat/e5-large-v2\")\n",
    "\n",
    "\n",
    "def vectorize_community_data(community_name: str, df: pd.DataFrame):\n",
    "    file_path = f\"data/detailed_filtererd_data/vectors/{community_name}.h5\"\n",
    "    compression = \"lzf\"\n",
    "    estimated_rows = len(df)\n",
    "\n",
    "    with h5py.File(file_path, \"a\") as f:\n",
    "        if \"vectors\" not in f:\n",
    "            dataset = f.create_dataset(\n",
    "                \"vectors\",\n",
    "                (estimated_rows, model.get_sentence_embedding_dimension()),\n",
    "                dtype=np.float32,\n",
    "                compression=compression,\n",
    "            )\n",
    "            print(\"Dataset shape:\", dataset.shape)\n",
    "        else:\n",
    "            dataset = f[\"vectors\"]\n",
    "\n",
    "        i = 0\n",
    "        progress_bar = tqdm(total=estimated_rows, desc=\"Vectorizing texts\")\n",
    "        for _, row in df.iterrows():\n",
    "            vector = vectorize_text(row[\"user_texts\"], model)\n",
    "            dataset[i] = vector\n",
    "            i += 1\n",
    "            progress_bar.update(1)\n",
    "        progress_bar.close()\n",
    "\n",
    "\n",
    "vectorize_community_data(\"metal\", metal_df)\n",
    "vectorize_community_data(\"classicalmusic\", classicalmusic_df)\n",
    "vectorize_community_data(\"electronicmusic\", electronicmusic_df)\n",
    "vectorize_community_data(\"hiphopheads\", hiphopheads_df)\n",
    "vectorize_community_data(\"indieheads\", indieheads_df)"
   ]
  },
  {
   "cell_type": "markdown",
   "metadata": {},
   "source": [
    "### Re-load\n"
   ]
  },
  {
   "cell_type": "code",
   "execution_count": 6,
   "metadata": {
    "notebookRunGroups": {
     "groupValue": "1"
    }
   },
   "outputs": [],
   "source": [
    "import h5py\n",
    "\n",
    "vector_file_names = [\"classical\", \"electronic\", \"hiphopheads\", \"indieheads\", \"metal\"]\n",
    "\n",
    "for vector_file_name, df in zip(vector_file_names, communities_dfs):\n",
    "    with h5py.File(\n",
    "        f\"data/detailed_filtered_data/vectors/{vector_file_name}.h5\", \"r\"\n",
    "    ) as f:\n",
    "        dataset = f[\"vectors\"]\n",
    "        df[\"vector\"] = dataset[:].tolist()\n",
    "df = pd.concat(communities_dfs, ignore_index=True)"
   ]
  },
  {
   "cell_type": "markdown",
   "metadata": {},
   "source": [
    "# Show Sample\n"
   ]
  },
  {
   "cell_type": "code",
   "execution_count": 7,
   "metadata": {
    "notebookRunGroups": {
     "groupValue": "12"
    }
   },
   "outputs": [
    {
     "data": {
      "text/html": [
       "<div>\n",
       "<style scoped>\n",
       "    .dataframe tbody tr th:only-of-type {\n",
       "        vertical-align: middle;\n",
       "    }\n",
       "\n",
       "    .dataframe tbody tr th {\n",
       "        vertical-align: top;\n",
       "    }\n",
       "\n",
       "    .dataframe thead th {\n",
       "        text-align: right;\n",
       "    }\n",
       "</style>\n",
       "<table border=\"1\" class=\"dataframe\">\n",
       "  <thead>\n",
       "    <tr style=\"text-align: right;\">\n",
       "      <th></th>\n",
       "      <th>community</th>\n",
       "      <th>user_name</th>\n",
       "      <th>user_texts</th>\n",
       "      <th>#_of_long_texts</th>\n",
       "      <th>vector</th>\n",
       "    </tr>\n",
       "  </thead>\n",
       "  <tbody>\n",
       "    <tr>\n",
       "      <th>0</th>\n",
       "      <td>classicalmusic</td>\n",
       "      <td>Radaxen</td>\n",
       "      <td>I remember doing this with WC3 Dota 1 Lifestea...</td>\n",
       "      <td>339</td>\n",
       "      <td>[-0.0013457498280331492, -0.06375082582235336,...</td>\n",
       "    </tr>\n",
       "    <tr>\n",
       "      <th>1</th>\n",
       "      <td>classicalmusic</td>\n",
       "      <td>Radaxen</td>\n",
       "      <td>Why not? Though there's no AD in League.  I ki...</td>\n",
       "      <td>339</td>\n",
       "      <td>[0.018474051728844643, -0.01666010357439518, 0...</td>\n",
       "    </tr>\n",
       "    <tr>\n",
       "      <th>2</th>\n",
       "      <td>classicalmusic</td>\n",
       "      <td>Radaxen</td>\n",
       "      <td>Haha I was kind of joking. That aside, why mos...</td>\n",
       "      <td>339</td>\n",
       "      <td>[-0.008903076872229576, -0.05069487541913986, ...</td>\n",
       "    </tr>\n",
       "    <tr>\n",
       "      <th>3</th>\n",
       "      <td>classicalmusic</td>\n",
       "      <td>Radaxen</td>\n",
       "      <td>Mana is often a less limiting factor, unless y...</td>\n",
       "      <td>339</td>\n",
       "      <td>[0.04738666117191315, -0.053208597004413605, 0...</td>\n",
       "    </tr>\n",
       "    <tr>\n",
       "      <th>4</th>\n",
       "      <td>classicalmusic</td>\n",
       "      <td>Radaxen</td>\n",
       "      <td>It's first pick worthy, but late in first phas...</td>\n",
       "      <td>339</td>\n",
       "      <td>[0.007831799797713757, -0.0637780949473381, 0....</td>\n",
       "    </tr>\n",
       "  </tbody>\n",
       "</table>\n",
       "</div>"
      ],
      "text/plain": [
       "        community user_name  \\\n",
       "0  classicalmusic   Radaxen   \n",
       "1  classicalmusic   Radaxen   \n",
       "2  classicalmusic   Radaxen   \n",
       "3  classicalmusic   Radaxen   \n",
       "4  classicalmusic   Radaxen   \n",
       "\n",
       "                                          user_texts #_of_long_texts  \\\n",
       "0  I remember doing this with WC3 Dota 1 Lifestea...             339   \n",
       "1  Why not? Though there's no AD in League.  I ki...             339   \n",
       "2  Haha I was kind of joking. That aside, why mos...             339   \n",
       "3  Mana is often a less limiting factor, unless y...             339   \n",
       "4  It's first pick worthy, but late in first phas...             339   \n",
       "\n",
       "                                              vector  \n",
       "0  [-0.0013457498280331492, -0.06375082582235336,...  \n",
       "1  [0.018474051728844643, -0.01666010357439518, 0...  \n",
       "2  [-0.008903076872229576, -0.05069487541913986, ...  \n",
       "3  [0.04738666117191315, -0.053208597004413605, 0...  \n",
       "4  [0.007831799797713757, -0.0637780949473381, 0....  "
      ]
     },
     "execution_count": 7,
     "metadata": {},
     "output_type": "execute_result"
    }
   ],
   "source": [
    "df.head()"
   ]
  },
  {
   "cell_type": "markdown",
   "metadata": {},
   "source": [
    "# Back to Logistic regression\n"
   ]
  },
  {
   "cell_type": "markdown",
   "metadata": {},
   "source": [
    "## `all-MiniLM-L6-v2`\n"
   ]
  },
  {
   "cell_type": "markdown",
   "metadata": {},
   "source": [
    "### Load the model\n"
   ]
  },
  {
   "cell_type": "code",
   "execution_count": 9,
   "metadata": {
    "notebookRunGroups": {
     "groupValue": "2"
    }
   },
   "outputs": [],
   "source": [
    "import pickle\n",
    "from sklearn.linear_model import LogisticRegression\n",
    "\n",
    "with open(\"models/mini_gpt_and_myPersonality.pkl\", \"rb\") as f:\n",
    "    mini_gpt_and_myPersonality: LogisticRegression = pickle.load(f)"
   ]
  },
  {
   "cell_type": "markdown",
   "metadata": {},
   "source": [
    "### Predict-Probablily\n",
    "\n",
    "Use the model to Predict-Probablily for every user texts to be in high vs low openness classes\n"
   ]
  },
  {
   "cell_type": "code",
   "execution_count": null,
   "metadata": {
    "notebookRunGroups": {
     "groupValue": "2"
    }
   },
   "outputs": [],
   "source": [
    "df[\"OPN_proba\"] = df[\"vector\"].progress_apply(\n",
    "    lambda x: mini_gpt_and_myPersonality.predict_proba(x.reshape(1, -1))\n",
    ")"
   ]
  },
  {
   "cell_type": "markdown",
   "metadata": {},
   "source": [
    "## `intfloat/e5-large-v2`\n"
   ]
  },
  {
   "cell_type": "markdown",
   "metadata": {},
   "source": [
    "### Load the model\n"
   ]
  },
  {
   "cell_type": "code",
   "execution_count": 8,
   "metadata": {
    "notebookRunGroups": {
     "groupValue": "1"
    }
   },
   "outputs": [],
   "source": [
    "import pickle\n",
    "from sklearn.linear_model import LogisticRegression\n",
    "\n",
    "with open(\"models/gpt_and_myPersonality_95.pkl\", \"rb\") as f:\n",
    "    gpt_and_myPersonality: LogisticRegression = pickle.load(f)"
   ]
  },
  {
   "cell_type": "code",
   "execution_count": 9,
   "metadata": {},
   "outputs": [],
   "source": [
    "with open(\"models/gpt_and_myPersonality_ext_95.pkl\", \"rb\") as f:\n",
    "    gpt_and_myPersonality_ext: LogisticRegression = pickle.load(f)"
   ]
  },
  {
   "cell_type": "markdown",
   "metadata": {},
   "source": [
    "### Predict-Probablily\n",
    "\n",
    "Use the model to Predict-Probablily for every user texts to be in high vs low openness classes\n"
   ]
  },
  {
   "cell_type": "code",
   "execution_count": 10,
   "metadata": {
    "notebookRunGroups": {
     "groupValue": "1"
    }
   },
   "outputs": [],
   "source": [
    "import numpy as np\n",
    "\n",
    "df[\"OPN_proba\"] = df[\"vector\"].apply(\n",
    "    lambda x: gpt_and_myPersonality.predict_proba(np.array(x).reshape(1, -1))\n",
    ")"
   ]
  },
  {
   "cell_type": "code",
   "execution_count": 11,
   "metadata": {},
   "outputs": [],
   "source": [
    "import numpy as np\n",
    "\n",
    "df[\"EXT_proba\"] = df[\"vector\"].apply(\n",
    "    lambda x: gpt_and_myPersonality_ext.predict_proba(np.array(x).reshape(1, -1))\n",
    ")"
   ]
  },
  {
   "cell_type": "code",
   "execution_count": 12,
   "metadata": {
    "notebookRunGroups": {
     "groupValue": "12"
    }
   },
   "outputs": [
    {
     "data": {
      "text/html": [
       "<div>\n",
       "<style scoped>\n",
       "    .dataframe tbody tr th:only-of-type {\n",
       "        vertical-align: middle;\n",
       "    }\n",
       "\n",
       "    .dataframe tbody tr th {\n",
       "        vertical-align: top;\n",
       "    }\n",
       "\n",
       "    .dataframe thead th {\n",
       "        text-align: right;\n",
       "    }\n",
       "</style>\n",
       "<table border=\"1\" class=\"dataframe\">\n",
       "  <thead>\n",
       "    <tr style=\"text-align: right;\">\n",
       "      <th></th>\n",
       "      <th>community</th>\n",
       "      <th>user_name</th>\n",
       "      <th>user_texts</th>\n",
       "      <th>#_of_long_texts</th>\n",
       "      <th>vector</th>\n",
       "      <th>OPN_proba</th>\n",
       "      <th>EXT_proba</th>\n",
       "    </tr>\n",
       "  </thead>\n",
       "  <tbody>\n",
       "    <tr>\n",
       "      <th>0</th>\n",
       "      <td>classicalmusic</td>\n",
       "      <td>Radaxen</td>\n",
       "      <td>I remember doing this with WC3 Dota 1 Lifestea...</td>\n",
       "      <td>339</td>\n",
       "      <td>[-0.0013457498280331492, -0.06375082582235336,...</td>\n",
       "      <td>[[0.8247027999222971, 0.17529720007770286]]</td>\n",
       "      <td>[[0.3457722988052281, 0.6542277011947719]]</td>\n",
       "    </tr>\n",
       "    <tr>\n",
       "      <th>1</th>\n",
       "      <td>classicalmusic</td>\n",
       "      <td>Radaxen</td>\n",
       "      <td>Why not? Though there's no AD in League.  I ki...</td>\n",
       "      <td>339</td>\n",
       "      <td>[0.018474051728844643, -0.01666010357439518, 0...</td>\n",
       "      <td>[[0.5456566481373919, 0.4543433518626081]]</td>\n",
       "      <td>[[0.2820101348601467, 0.7179898651398533]]</td>\n",
       "    </tr>\n",
       "    <tr>\n",
       "      <th>170251</th>\n",
       "      <td>electronicmusic</td>\n",
       "      <td>headphase</td>\n",
       "      <td>This Monday, June 12, r/BedStuy will become un...</td>\n",
       "      <td>305</td>\n",
       "      <td>[0.011666242964565754, -0.035366132855415344, ...</td>\n",
       "      <td>[[0.6872419283096596, 0.31275807169034037]]</td>\n",
       "      <td>[[0.2778288271141137, 0.7221711728858863]]</td>\n",
       "    </tr>\n",
       "    <tr>\n",
       "      <th>170252</th>\n",
       "      <td>electronicmusic</td>\n",
       "      <td>headphase</td>\n",
       "      <td>Rant incoming.. I know this isn't just a BedSt...</td>\n",
       "      <td>305</td>\n",
       "      <td>[0.014536317437887192, -0.04572702944278717, 0...</td>\n",
       "      <td>[[0.6448661161204928, 0.3551338838795072]]</td>\n",
       "      <td>[[0.48533154985809523, 0.5146684501419048]]</td>\n",
       "    </tr>\n",
       "    <tr>\n",
       "      <th>267314</th>\n",
       "      <td>hiphopheads</td>\n",
       "      <td>thanks_bruh</td>\n",
       "      <td>Whats good y’all. I’m looking to make friends ...</td>\n",
       "      <td>50</td>\n",
       "      <td>[0.028840450569987297, -0.06617984920740128, 0...</td>\n",
       "      <td>[[0.7535040686693385, 0.24649593133066147]]</td>\n",
       "      <td>[[0.4992584131141279, 0.5007415868858721]]</td>\n",
       "    </tr>\n",
       "    <tr>\n",
       "      <th>267315</th>\n",
       "      <td>hiphopheads</td>\n",
       "      <td>thanks_bruh</td>\n",
       "      <td>I think it depends on if you want it to be ser...</td>\n",
       "      <td>50</td>\n",
       "      <td>[0.005617283284664154, -0.08960145711898804, -...</td>\n",
       "      <td>[[0.5345961296935806, 0.46540387030641944]]</td>\n",
       "      <td>[[0.42681849906504365, 0.5731815009349563]]</td>\n",
       "    </tr>\n",
       "    <tr>\n",
       "      <th>388852</th>\n",
       "      <td>indieheads</td>\n",
       "      <td>simco1974</td>\n",
       "      <td>2008 or so, I was digging around at a local re...</td>\n",
       "      <td>1</td>\n",
       "      <td>[0.024371720850467682, -0.05200977995991707, 0...</td>\n",
       "      <td>[[0.7379156501015129, 0.2620843498984871]]</td>\n",
       "      <td>[[0.315700343961253, 0.684299656038747]]</td>\n",
       "    </tr>\n",
       "    <tr>\n",
       "      <th>388853</th>\n",
       "      <td>indieheads</td>\n",
       "      <td>GeorgeTaylorG</td>\n",
       "      <td>Technically (aside from \"Drawn To The Blood\") ...</td>\n",
       "      <td>12</td>\n",
       "      <td>[0.015474014915525913, -0.03309788927435875, 0...</td>\n",
       "      <td>[[0.7533386720453329, 0.2466613279546671]]</td>\n",
       "      <td>[[0.5041537628070742, 0.49584623719292575]]</td>\n",
       "    </tr>\n",
       "    <tr>\n",
       "      <th>473166</th>\n",
       "      <td>Metal</td>\n",
       "      <td>sam1oq</td>\n",
       "      <td>I found out that apparently I was still paying...</td>\n",
       "      <td>309</td>\n",
       "      <td>[0.024809353053569794, -0.036989957094192505, ...</td>\n",
       "      <td>[[0.5571479823309116, 0.4428520176690885]]</td>\n",
       "      <td>[[0.4789593766110031, 0.5210406233889969]]</td>\n",
       "    </tr>\n",
       "    <tr>\n",
       "      <th>473167</th>\n",
       "      <td>Metal</td>\n",
       "      <td>sam1oq</td>\n",
       "      <td>I've a bunch of minor change ideas to moves an...</td>\n",
       "      <td>309</td>\n",
       "      <td>[-0.01680244505405426, -0.03381632640957832, 0...</td>\n",
       "      <td>[[0.6557581971803889, 0.34424180281961114]]</td>\n",
       "      <td>[[0.2656320173119011, 0.7343679826880989]]</td>\n",
       "    </tr>\n",
       "  </tbody>\n",
       "</table>\n",
       "</div>"
      ],
      "text/plain": [
       "              community      user_name  \\\n",
       "0        classicalmusic        Radaxen   \n",
       "1        classicalmusic        Radaxen   \n",
       "170251  electronicmusic      headphase   \n",
       "170252  electronicmusic      headphase   \n",
       "267314      hiphopheads    thanks_bruh   \n",
       "267315      hiphopheads    thanks_bruh   \n",
       "388852       indieheads      simco1974   \n",
       "388853       indieheads  GeorgeTaylorG   \n",
       "473166            Metal         sam1oq   \n",
       "473167            Metal         sam1oq   \n",
       "\n",
       "                                               user_texts #_of_long_texts  \\\n",
       "0       I remember doing this with WC3 Dota 1 Lifestea...             339   \n",
       "1       Why not? Though there's no AD in League.  I ki...             339   \n",
       "170251  This Monday, June 12, r/BedStuy will become un...             305   \n",
       "170252  Rant incoming.. I know this isn't just a BedSt...             305   \n",
       "267314  Whats good y’all. I’m looking to make friends ...              50   \n",
       "267315  I think it depends on if you want it to be ser...              50   \n",
       "388852  2008 or so, I was digging around at a local re...               1   \n",
       "388853  Technically (aside from \"Drawn To The Blood\") ...              12   \n",
       "473166  I found out that apparently I was still paying...             309   \n",
       "473167  I've a bunch of minor change ideas to moves an...             309   \n",
       "\n",
       "                                                   vector  \\\n",
       "0       [-0.0013457498280331492, -0.06375082582235336,...   \n",
       "1       [0.018474051728844643, -0.01666010357439518, 0...   \n",
       "170251  [0.011666242964565754, -0.035366132855415344, ...   \n",
       "170252  [0.014536317437887192, -0.04572702944278717, 0...   \n",
       "267314  [0.028840450569987297, -0.06617984920740128, 0...   \n",
       "267315  [0.005617283284664154, -0.08960145711898804, -...   \n",
       "388852  [0.024371720850467682, -0.05200977995991707, 0...   \n",
       "388853  [0.015474014915525913, -0.03309788927435875, 0...   \n",
       "473166  [0.024809353053569794, -0.036989957094192505, ...   \n",
       "473167  [-0.01680244505405426, -0.03381632640957832, 0...   \n",
       "\n",
       "                                          OPN_proba  \\\n",
       "0       [[0.8247027999222971, 0.17529720007770286]]   \n",
       "1        [[0.5456566481373919, 0.4543433518626081]]   \n",
       "170251  [[0.6872419283096596, 0.31275807169034037]]   \n",
       "170252   [[0.6448661161204928, 0.3551338838795072]]   \n",
       "267314  [[0.7535040686693385, 0.24649593133066147]]   \n",
       "267315  [[0.5345961296935806, 0.46540387030641944]]   \n",
       "388852   [[0.7379156501015129, 0.2620843498984871]]   \n",
       "388853   [[0.7533386720453329, 0.2466613279546671]]   \n",
       "473166   [[0.5571479823309116, 0.4428520176690885]]   \n",
       "473167  [[0.6557581971803889, 0.34424180281961114]]   \n",
       "\n",
       "                                          EXT_proba  \n",
       "0        [[0.3457722988052281, 0.6542277011947719]]  \n",
       "1        [[0.2820101348601467, 0.7179898651398533]]  \n",
       "170251   [[0.2778288271141137, 0.7221711728858863]]  \n",
       "170252  [[0.48533154985809523, 0.5146684501419048]]  \n",
       "267314   [[0.4992584131141279, 0.5007415868858721]]  \n",
       "267315  [[0.42681849906504365, 0.5731815009349563]]  \n",
       "388852     [[0.315700343961253, 0.684299656038747]]  \n",
       "388853  [[0.5041537628070742, 0.49584623719292575]]  \n",
       "473166   [[0.4789593766110031, 0.5210406233889969]]  \n",
       "473167   [[0.2656320173119011, 0.7343679826880989]]  "
      ]
     },
     "execution_count": 12,
     "metadata": {},
     "output_type": "execute_result"
    }
   ],
   "source": [
    "df.groupby(\"community\").head(2)"
   ]
  },
  {
   "cell_type": "markdown",
   "metadata": {},
   "source": [
    "### Calculate the average predicted probability for every user's openness classes (high vs low openness)\n"
   ]
  },
  {
   "cell_type": "code",
   "execution_count": 13,
   "metadata": {},
   "outputs": [
    {
     "data": {
      "text/html": [
       "<div>\n",
       "<style scoped>\n",
       "    .dataframe tbody tr th:only-of-type {\n",
       "        vertical-align: middle;\n",
       "    }\n",
       "\n",
       "    .dataframe tbody tr th {\n",
       "        vertical-align: top;\n",
       "    }\n",
       "\n",
       "    .dataframe thead th {\n",
       "        text-align: right;\n",
       "    }\n",
       "</style>\n",
       "<table border=\"1\" class=\"dataframe\">\n",
       "  <thead>\n",
       "    <tr style=\"text-align: right;\">\n",
       "      <th></th>\n",
       "      <th>community</th>\n",
       "      <th>user_name</th>\n",
       "      <th>#_of_long_texts</th>\n",
       "      <th>probability_for_high_openness</th>\n",
       "      <th>probability_for_high_extroversion</th>\n",
       "    </tr>\n",
       "  </thead>\n",
       "  <tbody>\n",
       "    <tr>\n",
       "      <th>0</th>\n",
       "      <td>classicalmusic</td>\n",
       "      <td>Radaxen</td>\n",
       "      <td>339</td>\n",
       "      <td>0.718496</td>\n",
       "      <td>0.303387</td>\n",
       "    </tr>\n",
       "    <tr>\n",
       "      <th>339</th>\n",
       "      <td>classicalmusic</td>\n",
       "      <td>diskoalafied</td>\n",
       "      <td>52</td>\n",
       "      <td>0.762817</td>\n",
       "      <td>0.269692</td>\n",
       "    </tr>\n",
       "    <tr>\n",
       "      <th>170251</th>\n",
       "      <td>electronicmusic</td>\n",
       "      <td>headphase</td>\n",
       "      <td>305</td>\n",
       "      <td>0.657441</td>\n",
       "      <td>0.363546</td>\n",
       "    </tr>\n",
       "    <tr>\n",
       "      <th>170553</th>\n",
       "      <td>electronicmusic</td>\n",
       "      <td>MarvAlbertNBAjam</td>\n",
       "      <td>146</td>\n",
       "      <td>0.663573</td>\n",
       "      <td>0.419178</td>\n",
       "    </tr>\n",
       "    <tr>\n",
       "      <th>267314</th>\n",
       "      <td>hiphopheads</td>\n",
       "      <td>thanks_bruh</td>\n",
       "      <td>50</td>\n",
       "      <td>0.654311</td>\n",
       "      <td>0.402471</td>\n",
       "    </tr>\n",
       "    <tr>\n",
       "      <th>267364</th>\n",
       "      <td>hiphopheads</td>\n",
       "      <td>acasovoycayendo</td>\n",
       "      <td>145</td>\n",
       "      <td>0.646830</td>\n",
       "      <td>0.360571</td>\n",
       "    </tr>\n",
       "    <tr>\n",
       "      <th>388852</th>\n",
       "      <td>indieheads</td>\n",
       "      <td>simco1974</td>\n",
       "      <td>1</td>\n",
       "      <td>0.737916</td>\n",
       "      <td>0.315700</td>\n",
       "    </tr>\n",
       "    <tr>\n",
       "      <th>388853</th>\n",
       "      <td>indieheads</td>\n",
       "      <td>GeorgeTaylorG</td>\n",
       "      <td>12</td>\n",
       "      <td>0.704317</td>\n",
       "      <td>0.353721</td>\n",
       "    </tr>\n",
       "    <tr>\n",
       "      <th>473166</th>\n",
       "      <td>Metal</td>\n",
       "      <td>sam1oq</td>\n",
       "      <td>309</td>\n",
       "      <td>0.690422</td>\n",
       "      <td>0.290626</td>\n",
       "    </tr>\n",
       "    <tr>\n",
       "      <th>473475</th>\n",
       "      <td>Metal</td>\n",
       "      <td>feckineejit</td>\n",
       "      <td>111</td>\n",
       "      <td>0.649913</td>\n",
       "      <td>0.378259</td>\n",
       "    </tr>\n",
       "  </tbody>\n",
       "</table>\n",
       "</div>"
      ],
      "text/plain": [
       "              community         user_name #_of_long_texts  \\\n",
       "0        classicalmusic           Radaxen             339   \n",
       "339      classicalmusic      diskoalafied              52   \n",
       "170251  electronicmusic         headphase             305   \n",
       "170553  electronicmusic  MarvAlbertNBAjam             146   \n",
       "267314      hiphopheads       thanks_bruh              50   \n",
       "267364      hiphopheads   acasovoycayendo             145   \n",
       "388852       indieheads         simco1974               1   \n",
       "388853       indieheads     GeorgeTaylorG              12   \n",
       "473166            Metal            sam1oq             309   \n",
       "473475            Metal       feckineejit             111   \n",
       "\n",
       "        probability_for_high_openness  probability_for_high_extroversion  \n",
       "0                            0.718496                           0.303387  \n",
       "339                          0.762817                           0.269692  \n",
       "170251                       0.657441                           0.363546  \n",
       "170553                       0.663573                           0.419178  \n",
       "267314                       0.654311                           0.402471  \n",
       "267364                       0.646830                           0.360571  \n",
       "388852                       0.737916                           0.315700  \n",
       "388853                       0.704317                           0.353721  \n",
       "473166                       0.690422                           0.290626  \n",
       "473475                       0.649913                           0.378259  "
      ]
     },
     "execution_count": 13,
     "metadata": {},
     "output_type": "execute_result"
    }
   ],
   "source": [
    "average_opn_proba_0 = df.groupby(\"user_name\")[\"OPN_proba\"].apply(\n",
    "    lambda x: x.apply(lambda y: y[0][0]).mean()\n",
    ")\n",
    "\n",
    "average_ext_proba_0 = df.groupby(\"user_name\")[\"EXT_proba\"].apply(\n",
    "    lambda x: x.apply(lambda y: y[0][0]).mean()\n",
    ")\n",
    "df[\"probability_for_high_openness\"] = df[\"user_name\"].map(average_opn_proba_0)\n",
    "df[\"probability_for_high_extroversion\"] = df[\"user_name\"].map(average_ext_proba_0)\n",
    "df = df.drop_duplicates(subset=\"user_name\")\n",
    "df = df.drop(columns=[\"user_texts\", \"vector\", \"OPN_proba\", \"EXT_proba\"])\n",
    "df.groupby(\"community\").head(2)"
   ]
  },
  {
   "cell_type": "code",
   "execution_count": 14,
   "metadata": {},
   "outputs": [],
   "source": [
    "df.to_csv(\"e5-large-v2-reddit-data-detailed-with-opn-proba.csv\", index=False)"
   ]
  },
  {
   "cell_type": "code",
   "execution_count": 15,
   "metadata": {},
   "outputs": [],
   "source": [
    "import pandas as pd\n",
    "\n",
    "df = pd.read_csv(\"e5-large-v2-reddit-data-with-opn-proba.csv\")"
   ]
  },
  {
   "cell_type": "markdown",
   "metadata": {},
   "source": [
    "# High OPN Probability\n",
    "\n",
    "AVG and Median Per Genre\n"
   ]
  },
  {
   "cell_type": "markdown",
   "metadata": {},
   "source": [
    "## `intfloat/e5-large-v2`\n"
   ]
  },
  {
   "cell_type": "code",
   "execution_count": 14,
   "metadata": {},
   "outputs": [
    {
     "name": "stdout",
     "output_type": "stream",
     "text": [
      "Openness statistics:\n",
      "Mean values:\n",
      "                 probability_for_high_openness\n",
      "community                                     \n",
      "Metal                                 0.679047\n",
      "classicalmusic                        0.698407\n",
      "electronicmusic                       0.668780\n",
      "hiphopheads                           0.650950\n",
      "indieheads                            0.671983\n",
      "\n",
      "Median values:\n",
      "                 probability_for_high_openness\n",
      "community                                     \n",
      "Metal                                 0.678040\n",
      "classicalmusic                        0.696453\n",
      "electronicmusic                       0.667225\n",
      "hiphopheads                           0.651408\n",
      "indieheads                            0.669116\n"
     ]
    }
   ],
   "source": [
    "print(\"Openness statistics:\")\n",
    "mean_values = df.groupby(\"community\")[[\"probability_for_high_openness\"]].mean()\n",
    "median_values = df.groupby(\"community\")[[\"probability_for_high_openness\"]].median()\n",
    "\n",
    "print(\"Mean values:\")\n",
    "print(mean_values)\n",
    "\n",
    "print(\"\\nMedian values:\")\n",
    "print(median_values)"
   ]
  },
  {
   "cell_type": "markdown",
   "metadata": {},
   "source": [
    "# High EXT Probability\n",
    "\n",
    "AVG and Median Per Genre\n"
   ]
  },
  {
   "cell_type": "code",
   "execution_count": 15,
   "metadata": {},
   "outputs": [
    {
     "name": "stdout",
     "output_type": "stream",
     "text": [
      "Extroversion statistics:\n",
      "Mean values:\n",
      "                 probability_for_high_extroversion\n",
      "community                                         \n",
      "Metal                                     0.351354\n",
      "classicalmusic                            0.345158\n",
      "electronicmusic                           0.370158\n",
      "hiphopheads                               0.366302\n",
      "indieheads                                0.368034\n",
      "\n",
      "Median values:\n",
      "                 probability_for_high_extroversion\n",
      "community                                         \n",
      "Metal                                     0.349653\n",
      "classicalmusic                            0.345800\n",
      "electronicmusic                           0.369049\n",
      "hiphopheads                               0.366178\n",
      "indieheads                                0.363735\n"
     ]
    }
   ],
   "source": [
    "print(\"Extroversion statistics:\")\n",
    "mean_values = df.groupby(\"community\")[[\"probability_for_high_extroversion\"]].mean()\n",
    "median_values = df.groupby(\"community\")[[\"probability_for_high_extroversion\"]].median()\n",
    "\n",
    "print(\"Mean values:\")\n",
    "print(mean_values)\n",
    "\n",
    "print(\"\\nMedian values:\")\n",
    "print(median_values)"
   ]
  },
  {
   "cell_type": "code",
   "execution_count": 15,
   "metadata": {},
   "outputs": [
    {
     "data": {
      "image/png": "[encoded data removed]",
      "text/plain": [
       "<Figure size 640x480 with 1 Axes>"
      ]
     },
     "metadata": {},
     "output_type": "display_data"
    }
   ],
   "source": [
    "import matplotlib.pyplot as plt\n",
    "import numpy as np\n",
    "\n",
    "means = [0.693190, 0.712963, 0.682086, 0.663138, 0.685083]\n",
    "medians = [0.692388, 0.711178, 0.680727, 0.663928, 0.682996]\n",
    "\n",
    "\n",
    "def plot_bars_for_high_openness_probability(\n",
    "    means: list[float], medians: list[float], model_name: str\n",
    "):\n",
    "    labels = [\"Metal\", \"Classical\", \"Electronic\", \"HipHop\", \"Indie\"]\n",
    "    x = np.arange(len(labels))\n",
    "    width = 0.35\n",
    "\n",
    "    fig, ax = plt.subplots()\n",
    "    rects1 = ax.bar(x - width / 2, means, width, label=\"Mean\")\n",
    "    rects2 = ax.bar(x + width / 2, medians, width, label=\"Median\")\n",
    "\n",
    "    ax.set_ylabel(\"Scores\")\n",
    "    ax.set_title(f\"Probability For High Openness with {model_name}\")\n",
    "    ax.set_xticks(x)\n",
    "    ax.set_xticklabels(labels)\n",
    "    ax.legend()\n",
    "\n",
    "    def autolabel(rects):\n",
    "        for rect in rects:\n",
    "            height = rect.get_height()\n",
    "            ax.annotate(\n",
    "                \"{:.3f}\".format(height),\n",
    "                xy=(rect.get_x() + rect.get_width() / 2, height / 2),\n",
    "                xytext=(0, 0),  # no offset\n",
    "                textcoords=\"offset points\",\n",
    "                ha=\"center\",\n",
    "                va=\"center\",\n",
    "                rotation=90,\n",
    "            )\n",
    "\n",
    "    autolabel(rects1)\n",
    "    autolabel(rects2)\n",
    "\n",
    "    fig.tight_layout()\n",
    "\n",
    "    plt.show()\n",
    "\n",
    "\n",
    "plot_bars_for_high_openness_probability(means, medians, model_name=\"E5-Large\")"
   ]
  },
  {
   "cell_type": "markdown",
   "metadata": {},
   "source": [
    "## `all-MiniLM-L6-v2`\n"
   ]
  },
  {
   "cell_type": "code",
   "execution_count": null,
   "metadata": {},
   "outputs": [
    {
     "name": "stdout",
     "output_type": "stream",
     "text": [
      "Mean values:\n",
      "                 average_opn_proba_0  average_opn_proba_1\n",
      "community                                                \n",
      "Metal                       0.688614             0.311386\n",
      "classicalmusic              0.716958             0.283042\n",
      "electronicmusic             0.684451             0.315549\n",
      "hiphopheads                 0.681755             0.318245\n",
      "indieheads                  0.689712             0.310288\n",
      "\n",
      "Median values:\n",
      "                 average_opn_proba_0  average_opn_proba_1\n",
      "community                                                \n",
      "Metal                       0.688207             0.311793\n",
      "classicalmusic              0.713479             0.286521\n",
      "electronicmusic             0.682555             0.317445\n",
      "hiphopheads                 0.680303             0.319697\n",
      "indieheads                  0.688481             0.311519\n"
     ]
    }
   ],
   "source": [
    "mean_values = df.groupby(\"community\")[[\"average_opn_proba_0\"]].mean()\n",
    "median_values = df.groupby(\"community\")[[\"average_opn_proba_0\"]].median()\n",
    "\n",
    "print(\"Mean values:\")\n",
    "print(mean_values)\n",
    "\n",
    "print(\"\\nMedian values:\")\n",
    "print(median_values)"
   ]
  },
  {
   "cell_type": "code",
   "execution_count": 48,
   "metadata": {},
   "outputs": [
    {
     "data": {
      "image/png": "[encoded data removed]",
      "text/plain": [
       "<Figure size 640x480 with 1 Axes>"
      ]
     },
     "metadata": {},
     "output_type": "display_data"
    }
   ],
   "source": [
    "means = [0.688614, 0.716958, 0.684451, 0.681755, 0.689712]\n",
    "medians = [0.688207, 0.713479, 0.682555, 0.680303, 0.688481]\n",
    "plot_bars_for_high_openness_probability(means, medians, model_name=\"MiniLM-L6\")"
   ]
  },
  {
   "cell_type": "code",
   "execution_count": 19,
   "metadata": {},
   "outputs": [
    {
     "data": {
      "image/png": "[encoded data removed]",
      "text/plain": [
       "<Figure size 1200x600 with 1 Axes>"
      ]
     },
     "metadata": {},
     "output_type": "display_data"
    }
   ],
   "source": [
    "import pandas as pd\n",
    "import matplotlib.pyplot as plt\n",
    "\n",
    "\n",
    "def draw_proba_box_plot(class_name: str):\n",
    "    plt.figure(figsize=(12, 6))\n",
    "\n",
    "    bp = plt.boxplot(\n",
    "        [df[df[\"community\"] == c][class_name] for c in df[\"community\"].unique()],\n",
    "        notch=True,\n",
    "        vert=False,\n",
    "        labels=df[\"community\"].unique(),\n",
    "        patch_artist=True,\n",
    "    )\n",
    "\n",
    "    for box, color in zip(\n",
    "        bp[\"boxes\"], [\"skyblue\", \"lightgreen\", \"orange\", \"pink\", \"purple\"]\n",
    "    ):\n",
    "        box.set_facecolor(color)\n",
    "\n",
    "    plt.xlabel(class_name)\n",
    "    plt.ylabel(\"Community\")\n",
    "    plt.title(f\"Box Plots of {class_name} by Community by: `intfloat/e5-large-v2`\")\n",
    "    plt.xticks(rotation=45, ha=\"right\")\n",
    "    plt.grid(axis=\"y\", linestyle=\"--\", alpha=0.7)\n",
    "    plt.tight_layout()\n",
    "    plt.show()\n",
    "\n",
    "\n",
    "draw_proba_box_plot(\"probability_for_high_openness\")"
   ]
  },
  {
   "cell_type": "code",
   "execution_count": 16,
   "metadata": {},
   "outputs": [
    {
     "name": "stdout",
     "output_type": "stream",
     "text": [
      "Example of the dataframe we have now:\n"
     ]
    },
    {
     "data": {
      "text/html": [
       "<div>\n",
       "<style scoped>\n",
       "    .dataframe tbody tr th:only-of-type {\n",
       "        vertical-align: middle;\n",
       "    }\n",
       "\n",
       "    .dataframe tbody tr th {\n",
       "        vertical-align: top;\n",
       "    }\n",
       "\n",
       "    .dataframe thead th {\n",
       "        text-align: right;\n",
       "    }\n",
       "</style>\n",
       "<table border=\"1\" class=\"dataframe\">\n",
       "  <thead>\n",
       "    <tr style=\"text-align: right;\">\n",
       "      <th></th>\n",
       "      <th>community</th>\n",
       "      <th>user_name</th>\n",
       "      <th>#_of_long_texts</th>\n",
       "      <th>probability_for_high_openness</th>\n",
       "      <th>probability_for_high_extroversion</th>\n",
       "    </tr>\n",
       "  </thead>\n",
       "  <tbody>\n",
       "    <tr>\n",
       "      <th>0</th>\n",
       "      <td>classicalmusic</td>\n",
       "      <td>Radaxen</td>\n",
       "      <td>339</td>\n",
       "      <td>0.718496</td>\n",
       "      <td>0.303387</td>\n",
       "    </tr>\n",
       "    <tr>\n",
       "      <th>339</th>\n",
       "      <td>classicalmusic</td>\n",
       "      <td>diskoalafied</td>\n",
       "      <td>52</td>\n",
       "      <td>0.762817</td>\n",
       "      <td>0.269692</td>\n",
       "    </tr>\n",
       "    <tr>\n",
       "      <th>391</th>\n",
       "      <td>classicalmusic</td>\n",
       "      <td>MantisTobogan-MD</td>\n",
       "      <td>176</td>\n",
       "      <td>0.718637</td>\n",
       "      <td>0.402459</td>\n",
       "    </tr>\n",
       "    <tr>\n",
       "      <th>566</th>\n",
       "      <td>classicalmusic</td>\n",
       "      <td>Sommiel</td>\n",
       "      <td>43</td>\n",
       "      <td>0.689825</td>\n",
       "      <td>0.403481</td>\n",
       "    </tr>\n",
       "    <tr>\n",
       "      <th>609</th>\n",
       "      <td>classicalmusic</td>\n",
       "      <td>Dangerous_Number_642</td>\n",
       "      <td>20</td>\n",
       "      <td>0.732202</td>\n",
       "      <td>0.377348</td>\n",
       "    </tr>\n",
       "  </tbody>\n",
       "</table>\n",
       "</div>"
      ],
      "text/plain": [
       "          community             user_name #_of_long_texts  \\\n",
       "0    classicalmusic               Radaxen             339   \n",
       "339  classicalmusic          diskoalafied              52   \n",
       "391  classicalmusic      MantisTobogan-MD             176   \n",
       "566  classicalmusic               Sommiel              43   \n",
       "609  classicalmusic  Dangerous_Number_642              20   \n",
       "\n",
       "     probability_for_high_openness  probability_for_high_extroversion  \n",
       "0                         0.718496                           0.303387  \n",
       "339                       0.762817                           0.269692  \n",
       "391                       0.718637                           0.402459  \n",
       "566                       0.689825                           0.403481  \n",
       "609                       0.732202                           0.377348  "
      ]
     },
     "execution_count": 16,
     "metadata": {},
     "output_type": "execute_result"
    }
   ],
   "source": [
    "print(\"Example of the dataframe we have now:\")\n",
    "df.head()"
   ]
  },
  {
   "cell_type": "markdown",
   "metadata": {},
   "source": [
    "# Statistical Tests\n"
   ]
  },
  {
   "cell_type": "markdown",
   "metadata": {},
   "source": [
    "## ANOVA\n",
    "\n",
    "Now that we have ~1K of probability-for-openness score per musical genre community, <br>\n",
    "we want to understand how significant are the differences between the groups' scores. To do so, we will use the ANOVA test. <br>\n",
    "ANOVA compares the variance between-groups means to the variance within-groups. If the variance between-groups is larger than the within-groups, it suggests that there are differences in means among the groups.\n"
   ]
  },
  {
   "cell_type": "markdown",
   "metadata": {},
   "source": [
    "#### OPN\n"
   ]
  },
  {
   "cell_type": "code",
   "execution_count": 17,
   "metadata": {},
   "outputs": [],
   "source": [
    "classicalmusic_df = df[df[\"community\"] == \"classicalmusic\"]\n",
    "electronicmusic_df = df[df[\"community\"] == \"electronicmusic\"]\n",
    "hiphopheads_df = df[df[\"community\"] == \"hiphopheads\"]\n",
    "indieheads_df = df[df[\"community\"] == \"indieheads\"]\n",
    "metal_df = df[df[\"community\"] == \"Metal\"]\n",
    "\n",
    "opn_data = [\n",
    "    classicalmusic_df[\"probability_for_high_openness\"],\n",
    "    electronicmusic_df[\"probability_for_high_openness\"],\n",
    "    hiphopheads_df[\"probability_for_high_openness\"],\n",
    "    indieheads_df[\"probability_for_high_openness\"],\n",
    "    metal_df[\"probability_for_high_openness\"],\n",
    "]\n",
    "group_names = [\"classical\", \"electronic\", \"hiphop\", \"indie\", \"metal\"]"
   ]
  },
  {
   "cell_type": "code",
   "execution_count": 18,
   "metadata": {},
   "outputs": [
    {
     "name": "stdout",
     "output_type": "stream",
     "text": [
      "F-value: 138.23712889321172\n",
      "P-value: 8.055153865523848e-112 which is 0.0000000000 when taking only the 10 first digits after the decimal point\n"
     ]
    }
   ],
   "source": [
    "import scipy.stats as stats\n",
    "\n",
    "\n",
    "fvalue, pvalue = stats.f_oneway(*opn_data)\n",
    "print(\"F-value:\", fvalue)\n",
    "print(\n",
    "    f\"P-value: {pvalue} which is {format(pvalue, '.10f')} when taking only the 10 first digits after the decimal point\",\n",
    ")"
   ]
  },
  {
   "cell_type": "markdown",
   "metadata": {},
   "source": [
    "#### EXT\n"
   ]
  },
  {
   "cell_type": "code",
   "execution_count": 19,
   "metadata": {},
   "outputs": [],
   "source": [
    "classicalmusic_df = df[df[\"community\"] == \"classicalmusic\"]\n",
    "electronicmusic_df = df[df[\"community\"] == \"electronicmusic\"]\n",
    "hiphopheads_df = df[df[\"community\"] == \"hiphopheads\"]\n",
    "indieheads_df = df[df[\"community\"] == \"indieheads\"]\n",
    "metal_df = df[df[\"community\"] == \"Metal\"]\n",
    "\n",
    "ext_data = [\n",
    "    classicalmusic_df[\"probability_for_high_extroversion\"],\n",
    "    electronicmusic_df[\"probability_for_high_extroversion\"],\n",
    "    hiphopheads_df[\"probability_for_high_extroversion\"],\n",
    "    indieheads_df[\"probability_for_high_extroversion\"],\n",
    "    metal_df[\"probability_for_high_extroversion\"],\n",
    "]\n",
    "group_names = [\"classical\", \"electronic\", \"hiphop\", \"indie\", \"metal\"]"
   ]
  },
  {
   "cell_type": "code",
   "execution_count": 20,
   "metadata": {},
   "outputs": [
    {
     "name": "stdout",
     "output_type": "stream",
     "text": [
      "F-value: 64.82783931750501\n",
      "P-value: 1.9472193042666866e-53 which is 0.0000000000 when taking only the 10 first digits after the decimal point\n"
     ]
    }
   ],
   "source": [
    "import scipy.stats as stats\n",
    "\n",
    "\n",
    "fvalue, pvalue = stats.f_oneway(*ext_data)\n",
    "print(\"F-value:\", fvalue)\n",
    "print(\n",
    "    f\"P-value: {pvalue} which is {format(pvalue, '.10f')} when taking only the 10 first digits after the decimal point\",\n",
    ")"
   ]
  },
  {
   "cell_type": "markdown",
   "metadata": {},
   "source": [
    "## T-Test & Cohen's D Test\n",
    "\n",
    "**T-Test**: The T-Test is a statistical hypothesis test where the test statistic follows a score's t-distribution under the null hypothesis. It is used to determine whether there is a significant difference between the means of two groups. <br>\n",
    "\n",
    "**Cohen's d**: Cohen's D is an effect size used to indicate the standardized difference between two means. It's often used in the analysis of t-tests and is considered a good measure of effect size for these tests. It's defined as the difference between two means divided by a standard deviation for the data.\n",
    "\n",
    "_Note_: A D value of 0.2 is considered a 'small' effect size, 0.5 represents a 'medium' effect size and 0.8 a 'large' effect size. This is just a rule of thumb. The interpretation of d depends on the context.\n"
   ]
  },
  {
   "cell_type": "code",
   "execution_count": 21,
   "metadata": {},
   "outputs": [
    {
     "data": {
      "text/html": [
       "<h1 style='font-size: 50px;'>T-Test & Cohen's D Tests | All users - OPN </h1>"
      ],
      "text/plain": [
       "<IPython.core.display.HTML object>"
      ]
     },
     "metadata": {},
     "output_type": "display_data"
    },
    {
     "name": "stdout",
     "output_type": "stream",
     "text": [
      "╒════════════╤════════════╤════════════════════════╤════════════════════════╤═══════════════╤════════════╤═══════════════╕\n",
      "│ Genre 1    │ Genre 2    │   Genre 1 # Of Samples │   Genre 2 # Of Samples │   t-statistic │    p-value │   Effect Size │\n",
      "╞════════════╪════════════╪════════════════════════╪════════════════════════╪═══════════════╪════════════╪═══════════════╡\n",
      "│ classical  │ electronic │                    982 │                    886 │      13.2048  │ 0          │     0.611854  │\n",
      "├────────────┼────────────┼────────────────────────┼────────────────────────┼───────────────┼────────────┼───────────────┤\n",
      "│ classical  │ hiphop     │                    982 │                    993 │      24.2395  │ 0          │     1.09088   │\n",
      "├────────────┼────────────┼────────────────────────┼────────────────────────┼───────────────┼────────────┼───────────────┤\n",
      "│ classical  │ indie      │                    982 │                    871 │      11.5644  │ 0          │     0.538264  │\n",
      "├────────────┼────────────┼────────────────────────┼────────────────────────┼───────────────┼────────────┼───────────────┤\n",
      "│ classical  │ metal      │                    982 │                    951 │       8.61846 │ 0          │     0.392102  │\n",
      "├────────────┼────────────┼────────────────────────┼────────────────────────┼───────────────┼────────────┼───────────────┤\n",
      "│ electronic │ hiphop     │                    886 │                    993 │       9.40552 │ 0          │     0.434665  │\n",
      "├────────────┼────────────┼────────────────────────┼────────────────────────┼───────────────┼────────────┼───────────────┤\n",
      "│ electronic │ indie      │                    886 │                    871 │      -1.42678 │ 0.153821   │    -0.0680796 │\n",
      "├────────────┼────────────┼────────────────────────┼────────────────────────┼───────────────┼────────────┼───────────────┤\n",
      "│ electronic │ metal      │                    886 │                    951 │      -4.63402 │ 3.8389e-06 │    -0.216374  │\n",
      "├────────────┼────────────┼────────────────────────┼────────────────────────┼───────────────┼────────────┼───────────────┤\n",
      "│ hiphop     │ indie      │                    993 │                    871 │     -10.8547  │ 0          │    -0.503915  │\n",
      "├────────────┼────────────┼────────────────────────┼────────────────────────┼───────────────┼────────────┼───────────────┤\n",
      "│ hiphop     │ metal      │                    993 │                    951 │     -14.6068  │ 0          │    -0.662731  │\n",
      "├────────────┼────────────┼────────────────────────┼────────────────────────┼───────────────┼────────────┼───────────────┤\n",
      "│ indie      │ metal      │                    871 │                    951 │      -3.12894 │ 0.00178222 │    -0.146748  │\n",
      "╘════════════╧════════════╧════════════════════════╧════════════════════════╧═══════════════╧════════════╧═══════════════╛\n"
     ]
    }
   ],
   "source": [
    "from scipy import stats\n",
    "import pingouin as pg\n",
    "from tabulate import tabulate\n",
    "from IPython.display import display, HTML\n",
    "\n",
    "\n",
    "def calculate_cohens_d_and_t_test(data, group_names, second_part_title):\n",
    "    results = []\n",
    "\n",
    "    for i in range(len(data)):\n",
    "        for j in range(i + 1, len(data)):\n",
    "            t_stat, p_val = stats.ttest_ind(data[i], data[j])\n",
    "            effect_size = pg.compute_effsize(data[i], data[j])\n",
    "\n",
    "            # Append the results to the list just for nice tabular representation\n",
    "            results.append(\n",
    "                [\n",
    "                    group_names[i],\n",
    "                    group_names[j],\n",
    "                    len(data[i]),\n",
    "                    len(data[j]),\n",
    "                    format(t_stat, \".10f\"),\n",
    "                    format(p_val, \".10f\"),\n",
    "                    format(effect_size, \".10f\"),\n",
    "                ]\n",
    "            )\n",
    "\n",
    "    table_headers = [\n",
    "        \"Genre 1\",\n",
    "        \"Genre 2\",\n",
    "        \"Genre 1 # Of Samples\",\n",
    "        \"Genre 2 # Of Samples\",\n",
    "        \"t-statistic\",\n",
    "        \"p-value\",\n",
    "        \"Effect Size\",\n",
    "    ]\n",
    "    table = tabulate(results, headers=table_headers, tablefmt=\"fancy_grid\")\n",
    "    display(\n",
    "        HTML(\n",
    "            f\"<h1 style='font-size: 50px;'>T-Test & Cohen's D Tests | {second_part_title} </h1>\"\n",
    "        )\n",
    "    )\n",
    "\n",
    "    print(table)\n",
    "\n",
    "\n",
    "calculate_cohens_d_and_t_test(\n",
    "    opn_data, group_names, second_part_title=\"All users - OPN\"\n",
    ")"
   ]
  },
  {
   "cell_type": "code",
   "execution_count": 22,
   "metadata": {},
   "outputs": [
    {
     "data": {
      "text/html": [
       "<h1 style='font-size: 50px;'>T-Test & Cohen's D Tests | All users - EXT </h1>"
      ],
      "text/plain": [
       "<IPython.core.display.HTML object>"
      ]
     },
     "metadata": {},
     "output_type": "display_data"
    },
    {
     "name": "stdout",
     "output_type": "stream",
     "text": [
      "╒════════════╤════════════╤════════════════════════╤════════════════════════╤═══════════════╤════════════╤═══════════════╕\n",
      "│ Genre 1    │ Genre 2    │   Genre 1 # Of Samples │   Genre 2 # Of Samples │   t-statistic │    p-value │   Effect Size │\n",
      "╞════════════╪════════════╪════════════════════════╪════════════════════════╪═══════════════╪════════════╪═══════════════╡\n",
      "│ classical  │ electronic │                    982 │                    886 │    -12.2418   │ 0          │    -0.567232  │\n",
      "├────────────┼────────────┼────────────────────────┼────────────────────────┼───────────────┼────────────┼───────────────┤\n",
      "│ classical  │ hiphop     │                    982 │                    993 │    -12.0774   │ 0          │    -0.543535  │\n",
      "├────────────┼────────────┼────────────────────────┼────────────────────────┼───────────────┼────────────┼───────────────┤\n",
      "│ classical  │ indie      │                    982 │                    871 │    -11.0455   │ 0          │    -0.514111  │\n",
      "├────────────┼────────────┼────────────────────────┼────────────────────────┼───────────────┼────────────┼───────────────┤\n",
      "│ classical  │ metal      │                    982 │                    951 │     -3.23945  │ 0.00121796 │    -0.147381  │\n",
      "├────────────┼────────────┼────────────────────────┼────────────────────────┼───────────────┼────────────┼───────────────┤\n",
      "│ electronic │ hiphop     │                    886 │                    993 │      2.02365  │ 0.0431481  │     0.0935204 │\n",
      "├────────────┼────────────┼────────────────────────┼────────────────────────┼───────────────┼────────────┼───────────────┤\n",
      "│ electronic │ indie      │                    886 │                    871 │      0.948155 │ 0.343181   │     0.0452418 │\n",
      "├────────────┼────────────┼────────────────────────┼────────────────────────┼───────────────┼────────────┼───────────────┤\n",
      "│ electronic │ metal      │                    886 │                    951 │      9.06964  │ 0          │     0.423485  │\n",
      "├────────────┼────────────┼────────────────────────┼────────────────────────┼───────────────┼────────────┼───────────────┤\n",
      "│ hiphop     │ indie      │                    993 │                    871 │     -0.895379 │ 0.3707     │    -0.0415668 │\n",
      "├────────────┼────────────┼────────────────────────┼────────────────────────┼───────────────┼────────────┼───────────────┤\n",
      "│ hiphop     │ metal      │                    993 │                    951 │      8.41188  │ 0          │     0.38166   │\n",
      "├────────────┼────────────┼────────────────────────┼────────────────────────┼───────────────┼────────────┼───────────────┤\n",
      "│ indie      │ metal      │                    871 │                    951 │      7.93282  │ 0          │     0.372051  │\n",
      "╘════════════╧════════════╧════════════════════════╧════════════════════════╧═══════════════╧════════════╧═══════════════╛\n"
     ]
    }
   ],
   "source": [
    "calculate_cohens_d_and_t_test(\n",
    "    ext_data, group_names, second_part_title=\"All users - EXT\"\n",
    ")"
   ]
  },
  {
   "cell_type": "code",
   "execution_count": 23,
   "metadata": {},
   "outputs": [
    {
     "data": {
      "text/html": [
       "<div>\n",
       "<style scoped>\n",
       "    .dataframe tbody tr th:only-of-type {\n",
       "        vertical-align: middle;\n",
       "    }\n",
       "\n",
       "    .dataframe tbody tr th {\n",
       "        vertical-align: top;\n",
       "    }\n",
       "\n",
       "    .dataframe thead th {\n",
       "        text-align: right;\n",
       "    }\n",
       "</style>\n",
       "<table border=\"1\" class=\"dataframe\">\n",
       "  <thead>\n",
       "    <tr style=\"text-align: right;\">\n",
       "      <th></th>\n",
       "      <th>community</th>\n",
       "      <th>user_name</th>\n",
       "      <th>#_of_long_texts</th>\n",
       "      <th>probability_for_high_openness</th>\n",
       "      <th>probability_for_high_extroversion</th>\n",
       "    </tr>\n",
       "  </thead>\n",
       "  <tbody>\n",
       "    <tr>\n",
       "      <th>0</th>\n",
       "      <td>classicalmusic</td>\n",
       "      <td>Radaxen</td>\n",
       "      <td>339</td>\n",
       "      <td>0.718496</td>\n",
       "      <td>0.303387</td>\n",
       "    </tr>\n",
       "    <tr>\n",
       "      <th>339</th>\n",
       "      <td>classicalmusic</td>\n",
       "      <td>diskoalafied</td>\n",
       "      <td>52</td>\n",
       "      <td>0.762817</td>\n",
       "      <td>0.269692</td>\n",
       "    </tr>\n",
       "    <tr>\n",
       "      <th>391</th>\n",
       "      <td>classicalmusic</td>\n",
       "      <td>MantisTobogan-MD</td>\n",
       "      <td>176</td>\n",
       "      <td>0.718637</td>\n",
       "      <td>0.402459</td>\n",
       "    </tr>\n",
       "    <tr>\n",
       "      <th>566</th>\n",
       "      <td>classicalmusic</td>\n",
       "      <td>Sommiel</td>\n",
       "      <td>43</td>\n",
       "      <td>0.689825</td>\n",
       "      <td>0.403481</td>\n",
       "    </tr>\n",
       "    <tr>\n",
       "      <th>609</th>\n",
       "      <td>classicalmusic</td>\n",
       "      <td>Dangerous_Number_642</td>\n",
       "      <td>20</td>\n",
       "      <td>0.732202</td>\n",
       "      <td>0.377348</td>\n",
       "    </tr>\n",
       "  </tbody>\n",
       "</table>\n",
       "</div>"
      ],
      "text/plain": [
       "          community             user_name #_of_long_texts  \\\n",
       "0    classicalmusic               Radaxen             339   \n",
       "339  classicalmusic          diskoalafied              52   \n",
       "391  classicalmusic      MantisTobogan-MD             176   \n",
       "566  classicalmusic               Sommiel              43   \n",
       "609  classicalmusic  Dangerous_Number_642              20   \n",
       "\n",
       "     probability_for_high_openness  probability_for_high_extroversion  \n",
       "0                         0.718496                           0.303387  \n",
       "339                       0.762817                           0.269692  \n",
       "391                       0.718637                           0.402459  \n",
       "566                       0.689825                           0.403481  \n",
       "609                       0.732202                           0.377348  "
      ]
     },
     "execution_count": 23,
     "metadata": {},
     "output_type": "execute_result"
    }
   ],
   "source": [
    "classicalmusic_df.head()"
   ]
  },
  {
   "cell_type": "code",
   "execution_count": 24,
   "metadata": {},
   "outputs": [
    {
     "data": {
      "text/html": [
       "<h1 style='font-size: 50px;'>T-Test & Cohen's D Tests | All users | OPN </h1>"
      ],
      "text/plain": [
       "<IPython.core.display.HTML object>"
      ]
     },
     "metadata": {},
     "output_type": "display_data"
    },
    {
     "name": "stdout",
     "output_type": "stream",
     "text": [
      "╒════════════╤════════════╤════════════════════════╤════════════════════════╤═══════════════╤════════════╤═══════════════╕\n",
      "│ Genre 1    │ Genre 2    │   Genre 1 # Of Samples │   Genre 2 # Of Samples │   t-statistic │    p-value │   Effect Size │\n",
      "╞════════════╪════════════╪════════════════════════╪════════════════════════╪═══════════════╪════════════╪═══════════════╡\n",
      "│ classical  │ electronic │                    982 │                    886 │      13.2048  │ 0          │     0.611854  │\n",
      "├────────────┼────────────┼────────────────────────┼────────────────────────┼───────────────┼────────────┼───────────────┤\n",
      "│ classical  │ hiphop     │                    982 │                    993 │      24.2395  │ 0          │     1.09088   │\n",
      "├────────────┼────────────┼────────────────────────┼────────────────────────┼───────────────┼────────────┼───────────────┤\n",
      "│ classical  │ indie      │                    982 │                    871 │      11.5644  │ 0          │     0.538264  │\n",
      "├────────────┼────────────┼────────────────────────┼────────────────────────┼───────────────┼────────────┼───────────────┤\n",
      "│ classical  │ metal      │                    982 │                    951 │       8.61846 │ 0          │     0.392102  │\n",
      "├────────────┼────────────┼────────────────────────┼────────────────────────┼───────────────┼────────────┼───────────────┤\n",
      "│ electronic │ hiphop     │                    886 │                    993 │       9.40552 │ 0          │     0.434665  │\n",
      "├────────────┼────────────┼────────────────────────┼────────────────────────┼───────────────┼────────────┼───────────────┤\n",
      "│ electronic │ indie      │                    886 │                    871 │      -1.42678 │ 0.153821   │    -0.0680796 │\n",
      "├────────────┼────────────┼────────────────────────┼────────────────────────┼───────────────┼────────────┼───────────────┤\n",
      "│ electronic │ metal      │                    886 │                    951 │      -4.63402 │ 3.8389e-06 │    -0.216374  │\n",
      "├────────────┼────────────┼────────────────────────┼────────────────────────┼───────────────┼────────────┼───────────────┤\n",
      "│ hiphop     │ indie      │                    993 │                    871 │     -10.8547  │ 0          │    -0.503915  │\n",
      "├────────────┼────────────┼────────────────────────┼────────────────────────┼───────────────┼────────────┼───────────────┤\n",
      "│ hiphop     │ metal      │                    993 │                    951 │     -14.6068  │ 0          │    -0.662731  │\n",
      "├────────────┼────────────┼────────────────────────┼────────────────────────┼───────────────┼────────────┼───────────────┤\n",
      "│ indie      │ metal      │                    871 │                    951 │      -3.12894 │ 0.00178222 │    -0.146748  │\n",
      "╘════════════╧════════════╧════════════════════════╧════════════════════════╧═══════════════╧════════════╧═══════════════╛\n"
     ]
    },
    {
     "data": {
      "text/html": [
       "<h1 style='font-size: 50px;'>T-Test & Cohen's D Tests | 10 =< Users' long posts | OPN </h1>"
      ],
      "text/plain": [
       "<IPython.core.display.HTML object>"
      ]
     },
     "metadata": {},
     "output_type": "display_data"
    },
    {
     "name": "stdout",
     "output_type": "stream",
     "text": [
      "╒════════════╤════════════╤════════════════════════╤════════════════════════╤═══════════════╤═════════════╤═══════════════╕\n",
      "│ Genre 1    │ Genre 2    │   Genre 1 # Of Samples │   Genre 2 # Of Samples │   t-statistic │     p-value │   Effect Size │\n",
      "╞════════════╪════════════╪════════════════════════╪════════════════════════╪═══════════════╪═════════════╪═══════════════╡\n",
      "│ classical  │ electronic │                    870 │                    700 │     15.4872   │ 0           │     0.786346  │\n",
      "├────────────┼────────────┼────────────────────────┼────────────────────────┼───────────────┼─────────────┼───────────────┤\n",
      "│ classical  │ hiphop     │                    870 │                    912 │     26.6707   │ 0           │     1.26396   │\n",
      "├────────────┼────────────┼────────────────────────┼────────────────────────┼───────────────┼─────────────┼───────────────┤\n",
      "│ classical  │ indie      │                    870 │                    692 │     14.4565   │ 0           │     0.736362  │\n",
      "├────────────┼────────────┼────────────────────────┼────────────────────────┼───────────────┼─────────────┼───────────────┤\n",
      "│ classical  │ metal      │                    870 │                    784 │     10.7954   │ 0           │     0.531605  │\n",
      "├────────────┼────────────┼────────────────────────┼────────────────────────┼───────────────┼─────────────┼───────────────┤\n",
      "│ electronic │ hiphop     │                    700 │                    912 │      9.32852  │ 0           │     0.468758  │\n",
      "├────────────┼────────────┼────────────────────────┼────────────────────────┼───────────────┼─────────────┼───────────────┤\n",
      "│ electronic │ indie      │                    700 │                    692 │     -0.597228 │ 0.550453    │    -0.0320153 │\n",
      "├────────────┼────────────┼────────────────────────┼────────────────────────┼───────────────┼─────────────┼───────────────┤\n",
      "│ electronic │ metal      │                    700 │                    784 │     -4.96225  │ 7.773e-07   │    -0.258041  │\n",
      "├────────────┼────────────┼────────────────────────┼────────────────────────┼───────────────┼─────────────┼───────────────┤\n",
      "│ hiphop     │ indie      │                    912 │                    692 │     -9.6532   │ 0           │    -0.486657  │\n",
      "├────────────┼────────────┼────────────────────────┼────────────────────────┼───────────────┼─────────────┼───────────────┤\n",
      "│ hiphop     │ metal      │                    912 │                    784 │    -14.9387   │ 0           │    -0.727561  │\n",
      "├────────────┼────────────┼────────────────────────┼────────────────────────┼───────────────┼─────────────┼───────────────┤\n",
      "│ indie      │ metal      │                    692 │                    784 │     -4.19892  │ 2.84241e-05 │    -0.219013  │\n",
      "╘════════════╧════════════╧════════════════════════╧════════════════════════╧═══════════════╧═════════════╧═══════════════╛\n"
     ]
    },
    {
     "data": {
      "text/html": [
       "<h1 style='font-size: 50px;'>T-Test & Cohen's D Tests | 50 =< Users' long posts | OPN </h1>"
      ],
      "text/plain": [
       "<IPython.core.display.HTML object>"
      ]
     },
     "metadata": {},
     "output_type": "display_data"
    },
    {
     "name": "stdout",
     "output_type": "stream",
     "text": [
      "╒════════════╤════════════╤════════════════════════╤════════════════════════╤═══════════════╤═════════════╤═══════════════╕\n",
      "│ Genre 1    │ Genre 2    │   Genre 1 # Of Samples │   Genre 2 # Of Samples │   t-statistic │     p-value │   Effect Size │\n",
      "╞════════════╪════════════╪════════════════════════╪════════════════════════╪═══════════════╪═════════════╪═══════════════╡\n",
      "│ classical  │ electronic │                    695 │                    478 │     14.188    │ 0           │     0.843068  │\n",
      "├────────────┼────────────┼────────────────────────┼────────────────────────┼───────────────┼─────────────┼───────────────┤\n",
      "│ classical  │ hiphop     │                    695 │                    659 │     24.3687   │ 0           │     1.32497   │\n",
      "├────────────┼────────────┼────────────────────────┼────────────────────────┼───────────────┼─────────────┼───────────────┤\n",
      "│ classical  │ indie      │                    695 │                    447 │     13.3172   │ 0           │     0.80742   │\n",
      "├────────────┼────────────┼────────────────────────┼────────────────────────┼───────────────┼─────────────┼───────────────┤\n",
      "│ classical  │ metal      │                    695 │                    523 │     10.1427   │ 0           │     0.587131  │\n",
      "├────────────┼────────────┼────────────────────────┼────────────────────────┼───────────────┼─────────────┼───────────────┤\n",
      "│ electronic │ hiphop     │                    478 │                    659 │      8.61258  │ 0           │     0.517436  │\n",
      "├────────────┼────────────┼────────────────────────┼────────────────────────┼───────────────┼─────────────┼───────────────┤\n",
      "│ electronic │ indie      │                    478 │                    447 │     -0.205518 │ 0.837212    │    -0.0135224 │\n",
      "├────────────┼────────────┼────────────────────────┼────────────────────────┼───────────────┼─────────────┼───────────────┤\n",
      "│ electronic │ metal      │                    478 │                    523 │     -4.28057  │ 2.04361e-05 │    -0.270866  │\n",
      "├────────────┼────────────┼────────────────────────┼────────────────────────┼───────────────┼─────────────┼───────────────┤\n",
      "│ hiphop     │ indie      │                    659 │                    447 │     -8.35473  │ 0           │    -0.511934  │\n",
      "├────────────┼────────────┼────────────────────────┼────────────────────────┼───────────────┼─────────────┼───────────────┤\n",
      "│ hiphop     │ metal      │                    659 │                    523 │    -13.2882   │ 0           │    -0.778184  │\n",
      "├────────────┼────────────┼────────────────────────┼────────────────────────┼───────────────┼─────────────┼───────────────┤\n",
      "│ indie      │ metal      │                    447 │                    523 │     -3.84489  │ 0.000128486 │    -0.247665  │\n",
      "╘════════════╧════════════╧════════════════════════╧════════════════════════╧═══════════════╧═════════════╧═══════════════╛\n"
     ]
    },
    {
     "data": {
      "text/html": [
       "<h1 style='font-size: 50px;'>T-Test & Cohen's D Tests | 100 =< Users' long posts | OPN </h1>"
      ],
      "text/plain": [
       "<IPython.core.display.HTML object>"
      ]
     },
     "metadata": {},
     "output_type": "display_data"
    },
    {
     "name": "stdout",
     "output_type": "stream",
     "text": [
      "╒════════════╤════════════╤════════════════════════╤════════════════════════╤═══════════════╤═════════════╤═══════════════╕\n",
      "│ Genre 1    │ Genre 2    │   Genre 1 # Of Samples │   Genre 2 # Of Samples │   t-statistic │     p-value │   Effect Size │\n",
      "╞════════════╪════════════╪════════════════════════╪════════════════════════╪═══════════════╪═════════════╪═══════════════╡\n",
      "│ classical  │ electronic │                    549 │                    336 │     11.7777   │ 0           │     0.815784  │\n",
      "├────────────┼────────────┼────────────────────────┼────────────────────────┼───────────────┼─────────────┼───────────────┤\n",
      "│ classical  │ hiphop     │                    549 │                    440 │     19.954    │ 0           │     1.27678   │\n",
      "├────────────┼────────────┼────────────────────────┼────────────────────────┼───────────────┼─────────────┼───────────────┤\n",
      "│ classical  │ indie      │                    549 │                    306 │     11.3291   │ 0           │     0.808226  │\n",
      "├────────────┼────────────┼────────────────────────┼────────────────────────┼───────────────┼─────────────┼───────────────┤\n",
      "│ classical  │ metal      │                    549 │                    341 │      8.46506  │ 0           │     0.583663  │\n",
      "├────────────┼────────────┼────────────────────────┼────────────────────────┼───────────────┼─────────────┼───────────────┤\n",
      "│ electronic │ hiphop     │                    336 │                    440 │      7.13766  │ 0           │     0.517119  │\n",
      "├────────────┼────────────┼────────────────────────┼────────────────────────┼───────────────┼─────────────┼───────────────┤\n",
      "│ electronic │ indie      │                    336 │                    306 │      0.353956 │ 0.723488    │     0.0279696 │\n",
      "├────────────┼────────────┼────────────────────────┼────────────────────────┼───────────────┼─────────────┼───────────────┤\n",
      "│ electronic │ metal      │                    336 │                    341 │     -3.2774   │ 0.00110138  │    -0.251928  │\n",
      "├────────────┼────────────┼────────────────────────┼────────────────────────┼───────────────┼─────────────┼───────────────┤\n",
      "│ hiphop     │ indie      │                    440 │                    306 │     -6.15285  │ 1.2e-09     │    -0.457993  │\n",
      "├────────────┼────────────┼────────────────────────┼────────────────────────┼───────────────┼─────────────┼───────────────┤\n",
      "│ hiphop     │ metal      │                    440 │                    341 │    -10.5233   │ 0           │    -0.759229  │\n",
      "├────────────┼────────────┼────────────────────────┼────────────────────────┼───────────────┼─────────────┼───────────────┤\n",
      "│ indie      │ metal      │                    306 │                    341 │     -3.353    │ 0.000846181 │    -0.264026  │\n",
      "╘════════════╧════════════╧════════════════════════╧════════════════════════╧═══════════════╧═════════════╧═══════════════╛\n"
     ]
    }
   ],
   "source": [
    "def filter_data_and_print_stats(\n",
    "    min_posts=None, column_name=\"probability_for_high_openness\", title_suffix=\"| OPN\"\n",
    "):\n",
    "    if not min_posts:\n",
    "        data = [\n",
    "            classicalmusic_df[column_name],\n",
    "            electronicmusic_df[column_name],\n",
    "            hiphopheads_df[column_name],\n",
    "            indieheads_df[column_name],\n",
    "            metal_df[column_name],\n",
    "        ]\n",
    "        title = f\"All users {title_suffix}\"\n",
    "    else:\n",
    "        data = [\n",
    "            classicalmusic_df[\n",
    "                classicalmusic_df[\"#_of_long_texts\"].astype(int) >= min_posts\n",
    "            ][column_name],\n",
    "            electronicmusic_df[\n",
    "                electronicmusic_df[\"#_of_long_texts\"].astype(int) >= min_posts\n",
    "            ][column_name],\n",
    "            hiphopheads_df[hiphopheads_df[\"#_of_long_texts\"].astype(int) >= min_posts][\n",
    "                column_name\n",
    "            ],\n",
    "            indieheads_df[indieheads_df[\"#_of_long_texts\"].astype(int) >= min_posts][\n",
    "                column_name\n",
    "            ],\n",
    "            metal_df[metal_df[\"#_of_long_texts\"].astype(\n",
    "                int) >= min_posts][column_name],\n",
    "        ]\n",
    "        title = f\"{min_posts} =< Users' long posts {title_suffix}\"\n",
    "    calculate_cohens_d_and_t_test(data, group_names, title)\n",
    "\n",
    "\n",
    "filter_data_and_print_stats()\n",
    "filter_data_and_print_stats(10)\n",
    "filter_data_and_print_stats(50)\n",
    "filter_data_and_print_stats(100)"
   ]
  },
  {
   "cell_type": "code",
   "execution_count": 25,
   "metadata": {},
   "outputs": [
    {
     "data": {
      "text/html": [
       "<h1 style='font-size: 50px;'>T-Test & Cohen's D Tests | All users | EXT </h1>"
      ],
      "text/plain": [
       "<IPython.core.display.HTML object>"
      ]
     },
     "metadata": {},
     "output_type": "display_data"
    },
    {
     "name": "stdout",
     "output_type": "stream",
     "text": [
      "╒════════════╤════════════╤════════════════════════╤════════════════════════╤═══════════════╤════════════╤═══════════════╕\n",
      "│ Genre 1    │ Genre 2    │   Genre 1 # Of Samples │   Genre 2 # Of Samples │   t-statistic │    p-value │   Effect Size │\n",
      "╞════════════╪════════════╪════════════════════════╪════════════════════════╪═══════════════╪════════════╪═══════════════╡\n",
      "│ classical  │ electronic │                    982 │                    886 │    -12.2418   │ 0          │    -0.567232  │\n",
      "├────────────┼────────────┼────────────────────────┼────────────────────────┼───────────────┼────────────┼───────────────┤\n",
      "│ classical  │ hiphop     │                    982 │                    993 │    -12.0774   │ 0          │    -0.543535  │\n",
      "├────────────┼────────────┼────────────────────────┼────────────────────────┼───────────────┼────────────┼───────────────┤\n",
      "│ classical  │ indie      │                    982 │                    871 │    -11.0455   │ 0          │    -0.514111  │\n",
      "├────────────┼────────────┼────────────────────────┼────────────────────────┼───────────────┼────────────┼───────────────┤\n",
      "│ classical  │ metal      │                    982 │                    951 │     -3.23945  │ 0.00121796 │    -0.147381  │\n",
      "├────────────┼────────────┼────────────────────────┼────────────────────────┼───────────────┼────────────┼───────────────┤\n",
      "│ electronic │ hiphop     │                    886 │                    993 │      2.02365  │ 0.0431481  │     0.0935204 │\n",
      "├────────────┼────────────┼────────────────────────┼────────────────────────┼───────────────┼────────────┼───────────────┤\n",
      "│ electronic │ indie      │                    886 │                    871 │      0.948155 │ 0.343181   │     0.0452418 │\n",
      "├────────────┼────────────┼────────────────────────┼────────────────────────┼───────────────┼────────────┼───────────────┤\n",
      "│ electronic │ metal      │                    886 │                    951 │      9.06964  │ 0          │     0.423485  │\n",
      "├────────────┼────────────┼────────────────────────┼────────────────────────┼───────────────┼────────────┼───────────────┤\n",
      "│ hiphop     │ indie      │                    993 │                    871 │     -0.895379 │ 0.3707     │    -0.0415668 │\n",
      "├────────────┼────────────┼────────────────────────┼────────────────────────┼───────────────┼────────────┼───────────────┤\n",
      "│ hiphop     │ metal      │                    993 │                    951 │      8.41188  │ 0          │     0.38166   │\n",
      "├────────────┼────────────┼────────────────────────┼────────────────────────┼───────────────┼────────────┼───────────────┤\n",
      "│ indie      │ metal      │                    871 │                    951 │      7.93282  │ 0          │     0.372051  │\n",
      "╘════════════╧════════════╧════════════════════════╧════════════════════════╧═══════════════╧════════════╧═══════════════╛\n"
     ]
    },
    {
     "data": {
      "text/html": [
       "<h1 style='font-size: 50px;'>T-Test & Cohen's D Tests | 10 =< Users' long posts | EXT </h1>"
      ],
      "text/plain": [
       "<IPython.core.display.HTML object>"
      ]
     },
     "metadata": {},
     "output_type": "display_data"
    },
    {
     "name": "stdout",
     "output_type": "stream",
     "text": [
      "╒════════════╤════════════╤════════════════════════╤════════════════════════╤═══════════════╤═════════════╤═══════════════╕\n",
      "│ Genre 1    │ Genre 2    │   Genre 1 # Of Samples │   Genre 2 # Of Samples │   t-statistic │     p-value │   Effect Size │\n",
      "╞════════════╪════════════╪════════════════════════╪════════════════════════╪═══════════════╪═════════════╪═══════════════╡\n",
      "│ classical  │ electronic │                    870 │                    700 │    -12.6803   │ 0           │    -0.643831  │\n",
      "├────────────┼────────────┼────────────────────────┼────────────────────────┼───────────────┼─────────────┼───────────────┤\n",
      "│ classical  │ hiphop     │                    870 │                    912 │    -12.6736   │ 0           │    -0.600615  │\n",
      "├────────────┼────────────┼────────────────────────┼────────────────────────┼───────────────┼─────────────┼───────────────┤\n",
      "│ classical  │ indie      │                    870 │                    692 │    -10.6435   │ 0           │    -0.542142  │\n",
      "├────────────┼────────────┼────────────────────────┼────────────────────────┼───────────────┼─────────────┼───────────────┤\n",
      "│ classical  │ metal      │                    870 │                    784 │     -3.86112  │ 0.000117219 │    -0.190136  │\n",
      "├────────────┼────────────┼────────────────────────┼────────────────────────┼───────────────┼─────────────┼───────────────┤\n",
      "│ electronic │ hiphop     │                    700 │                    912 │      1.69511  │ 0.0902481   │     0.0851792 │\n",
      "├────────────┼────────────┼────────────────────────┼────────────────────────┼───────────────┼─────────────┼───────────────┤\n",
      "│ electronic │ indie      │                    700 │                    692 │      1.61978  │ 0.105507    │     0.0868306 │\n",
      "├────────────┼────────────┼────────────────────────┼────────────────────────┼───────────────┼─────────────┼───────────────┤\n",
      "│ electronic │ metal      │                    700 │                    784 │      8.98938  │ 0           │     0.467455  │\n",
      "├────────────┼────────────┼────────────────────────┼────────────────────────┼───────────────┼─────────────┼───────────────┤\n",
      "│ hiphop     │ indie      │                    912 │                    692 │      0.199423 │ 0.841958    │     0.0100537 │\n",
      "├────────────┼────────────┼────────────────────────┼────────────────────────┼───────────────┼─────────────┼───────────────┤\n",
      "│ hiphop     │ metal      │                    912 │                    784 │      8.46775  │ 0           │     0.412407  │\n",
      "├────────────┼────────────┼────────────────────────┼────────────────────────┼───────────────┼─────────────┼───────────────┤\n",
      "│ indie      │ metal      │                    692 │                    784 │      7.03643  │ 0           │     0.367015  │\n",
      "╘════════════╧════════════╧════════════════════════╧════════════════════════╧═══════════════╧═════════════╧═══════════════╛\n"
     ]
    },
    {
     "data": {
      "text/html": [
       "<h1 style='font-size: 50px;'>T-Test & Cohen's D Tests | 50 =< Users' long posts | EXT </h1>"
      ],
      "text/plain": [
       "<IPython.core.display.HTML object>"
      ]
     },
     "metadata": {},
     "output_type": "display_data"
    },
    {
     "name": "stdout",
     "output_type": "stream",
     "text": [
      "╒════════════╤════════════╤════════════════════════╤════════════════════════╤═══════════════╤═════════════╤═══════════════╕\n",
      "│ Genre 1    │ Genre 2    │   Genre 1 # Of Samples │   Genre 2 # Of Samples │   t-statistic │     p-value │   Effect Size │\n",
      "╞════════════╪════════════╪════════════════════════╪════════════════════════╪═══════════════╪═════════════╪═══════════════╡\n",
      "│ classical  │ electronic │                    695 │                    478 │     -11.0951  │ 0           │     -0.659286 │\n",
      "├────────────┼────────────┼────────────────────────┼────────────────────────┼───────────────┼─────────────┼───────────────┤\n",
      "│ classical  │ hiphop     │                    695 │                    659 │     -10.0234  │ 0           │     -0.54499  │\n",
      "├────────────┼────────────┼────────────────────────┼────────────────────────┼───────────────┼─────────────┼───────────────┤\n",
      "│ classical  │ indie      │                    695 │                    447 │      -7.08339 │ 0           │     -0.429465 │\n",
      "├────────────┼────────────┼────────────────────────┼────────────────────────┼───────────────┼─────────────┼───────────────┤\n",
      "│ classical  │ metal      │                    695 │                    523 │      -2.94779 │ 0.00326165  │     -0.170638 │\n",
      "├────────────┼────────────┼────────────────────────┼────────────────────────┼───────────────┼─────────────┼───────────────┤\n",
      "│ electronic │ hiphop     │                    478 │                    659 │       2.49054 │ 0.0128969   │      0.14963  │\n",
      "├────────────┼────────────┼────────────────────────┼────────────────────────┼───────────────┼─────────────┼───────────────┤\n",
      "│ electronic │ indie      │                    478 │                    447 │       3.71269 │ 0.000217358 │      0.244282 │\n",
      "├────────────┼────────────┼────────────────────────┼────────────────────────┼───────────────┼─────────────┼───────────────┤\n",
      "│ electronic │ metal      │                    478 │                    523 │       7.98953 │ 0           │      0.505561 │\n",
      "├────────────┼────────────┼────────────────────────┼────────────────────────┼───────────────┼─────────────┼───────────────┤\n",
      "│ hiphop     │ indie      │                    659 │                    447 │       1.71685 │ 0.0862873   │      0.105199 │\n",
      "├────────────┼────────────┼────────────────────────┼────────────────────────┼───────────────┼─────────────┼───────────────┤\n",
      "│ hiphop     │ metal      │                    659 │                    523 │       6.50496 │ 1e-10       │      0.380943 │\n",
      "├────────────┼────────────┼────────────────────────┼────────────────────────┼───────────────┼─────────────┼───────────────┤\n",
      "│ indie      │ metal      │                    447 │                    523 │       4.1475  │ 3.65644e-05 │      0.267157 │\n",
      "╘════════════╧════════════╧════════════════════════╧════════════════════════╧═══════════════╧═════════════╧═══════════════╛\n"
     ]
    },
    {
     "data": {
      "text/html": [
       "<h1 style='font-size: 50px;'>T-Test & Cohen's D Tests | 100 =< Users' long posts | EXT </h1>"
      ],
      "text/plain": [
       "<IPython.core.display.HTML object>"
      ]
     },
     "metadata": {},
     "output_type": "display_data"
    },
    {
     "name": "stdout",
     "output_type": "stream",
     "text": [
      "╒════════════╤════════════╤════════════════════════╤════════════════════════╤═══════════════╤═════════════╤═══════════════╕\n",
      "│ Genre 1    │ Genre 2    │   Genre 1 # Of Samples │   Genre 2 # Of Samples │   t-statistic │     p-value │   Effect Size │\n",
      "╞════════════╪════════════╪════════════════════════╪════════════════════════╪═══════════════╪═════════════╪═══════════════╡\n",
      "│ classical  │ electronic │                    549 │                    336 │     -8.74919  │ 0           │    -0.606015  │\n",
      "├────────────┼────────────┼────────────────────────┼────────────────────────┼───────────────┼─────────────┼───────────────┤\n",
      "│ classical  │ hiphop     │                    549 │                    440 │     -7.1414   │ 0           │    -0.45695   │\n",
      "├────────────┼────────────┼────────────────────────┼────────────────────────┼───────────────┼─────────────┼───────────────┤\n",
      "│ classical  │ indie      │                    549 │                    306 │     -5.80687  │ 9e-09       │    -0.414265  │\n",
      "├────────────┼────────────┼────────────────────────┼────────────────────────┼───────────────┼─────────────┼───────────────┤\n",
      "│ classical  │ metal      │                    549 │                    341 │     -1.79792  │ 0.0725294   │    -0.123966  │\n",
      "├────────────┼────────────┼────────────────────────┼────────────────────────┼───────────────┼─────────────┼───────────────┤\n",
      "│ electronic │ hiphop     │                    336 │                    440 │      2.43103  │ 0.0152822   │     0.176126  │\n",
      "├────────────┼────────────┼────────────────────────┼────────────────────────┼───────────────┼─────────────┼───────────────┤\n",
      "│ electronic │ indie      │                    336 │                    306 │      2.55897  │ 0.0107272   │     0.20221   │\n",
      "├────────────┼────────────┼────────────────────────┼────────────────────────┼───────────────┼─────────────┼───────────────┤\n",
      "│ electronic │ metal      │                    336 │                    341 │      6.46995  │ 2e-10       │     0.497334  │\n",
      "├────────────┼────────────┼────────────────────────┼────────────────────────┼───────────────┼─────────────┼───────────────┤\n",
      "│ hiphop     │ indie      │                    440 │                    306 │      0.437122 │ 0.66215     │     0.0325376 │\n",
      "├────────────┼────────────┼────────────────────────┼────────────────────────┼───────────────┼─────────────┼───────────────┤\n",
      "│ hiphop     │ metal      │                    440 │                    341 │      4.73023  │ 2.6624e-06  │     0.341275  │\n",
      "├────────────┼────────────┼────────────────────────┼────────────────────────┼───────────────┼─────────────┼───────────────┤\n",
      "│ indie      │ metal      │                    306 │                    341 │      3.80322  │ 0.000156394 │     0.299479  │\n",
      "╘════════════╧════════════╧════════════════════════╧════════════════════════╧═══════════════╧═════════════╧═══════════════╛\n"
     ]
    }
   ],
   "source": [
    "filter_data_and_print_stats(None, \"probability_for_high_extroversion\", \"| EXT\")\n",
    "filter_data_and_print_stats(10, \"probability_for_high_extroversion\", \"| EXT\")\n",
    "filter_data_and_print_stats(50, \"probability_for_high_extroversion\", \"| EXT\")\n",
    "filter_data_and_print_stats(100, \"probability_for_high_extroversion\", \"| EXT\")"
   ]
  }
 ],
 "metadata": {
  "kernelspec": {
   "display_name": ".venv",
   "language": "python",
   "name": "python3"
  },
  "language_info": {
   "codemirror_mode": {
    "name": "ipython",
    "version": 3
   },
   "file_extension": ".py",
   "mimetype": "text/x-python",
   "name": "python",
   "nbconvert_exporter": "python",
   "pygments_lexer": "ipython3",
   "version": "3.11.7"
  }
 },
 "nbformat": 4,
 "nbformat_minor": 2
}
