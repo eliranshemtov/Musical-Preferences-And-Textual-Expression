{
 "cells": [
  {
   "cell_type": "code",
   "execution_count": 27,
   "metadata": {},
   "outputs": [
    {
     "name": "stdout",
     "output_type": "stream",
     "text": [
      "[ Median | AVG ] number of posts left per user after filtering all posts shorter than 370 chars: \n",
      "indieheads [ 13.0 | 41.102 ]\n",
      "hiphopheads [ 28.0 | 54.697 ]\n",
      "Metal [ 21.0 | 51.493 ]\n",
      "electronicmusic [ 17.0 | 48.915 ]\n",
      "classicalmusic [ 59.0 | 101.091 ]\n"
     ]
    }
   ],
   "source": [
    "import os\n",
    "import json\n",
    "import statistics\n",
    "\n",
    "directory = './data/detailed_filtered_data'\n",
    "threshold = 370\n",
    "\n",
    "print(\"[ Median | AVG ] number of posts left per user after filtering all posts shorter than 370 chars: \")\n",
    "for root, dirs, files in os.walk(directory):\n",
    "    for folder in dirs:\n",
    "        counter_in_genre = []\n",
    "        folder_path = os.path.join(root, folder)\n",
    "        for file in os.listdir(folder_path):\n",
    "            if file.endswith('.json'):\n",
    "                file_path = os.path.join(folder_path, file)\n",
    "                with open(file_path, 'r') as json_file:\n",
    "                    data = json.load(json_file)\n",
    "                    counter = 0\n",
    "                    for community in data.keys():\n",
    "                        for sub in data.get(community, {}).get('submissions'):\n",
    "                            if len(sub.get(\"title\", \"\")) >= threshold:\n",
    "                                counter += 1\n",
    "                            if len(sub.get(\"body\", \"\")) >= threshold:\n",
    "                                counter += 1\n",
    "                        for comment in data.get(community, {}).get('comments'):\n",
    "                            if len(comment.get(\"body\", \"\")) >= threshold:\n",
    "                                counter += 1\n",
    "                    counter_in_genre.append(counter)\n",
    "        if counter_in_genre:\n",
    "            print(folder, \"[\", statistics.median(counter_in_genre),\n",
    "                  \"|\", statistics.mean(counter_in_genre), \"]\")"
   ]
  }
 ],
 "metadata": {
  "kernelspec": {
   "display_name": ".venv",
   "language": "python",
   "name": "python3"
  },
  "language_info": {
   "codemirror_mode": {
    "name": "ipython",
    "version": 3
   },
   "file_extension": ".py",
   "mimetype": "text/x-python",
   "name": "python",
   "nbconvert_exporter": "python",
   "pygments_lexer": "ipython3",
   "version": "3.11.5"
  }
 },
 "nbformat": 4,
 "nbformat_minor": 2
}
