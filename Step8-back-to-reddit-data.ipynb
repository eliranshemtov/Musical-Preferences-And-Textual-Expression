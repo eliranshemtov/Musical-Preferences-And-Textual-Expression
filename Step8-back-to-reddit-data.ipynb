{
 "cells": [
  {
   "cell_type": "markdown",
   "metadata": {},
   "source": [
    "# Back to the Reddit dataset\n",
    "\n",
    "After we:\n",
    "\n",
    "1. Tested few different personality-prediction-by-text tools\n",
    "2. Generated textual content that highly correlates with high/low openness\n",
    "3. Trained a logistic regression model to classify texts to high-openness / low-openness\n",
    "4. Compared the trained model with other models we've trained as well as with the existing tools (1)\n",
    "\n",
    "We've chose the logistic-regression model that we've trained as the model to work with on the Reddit dataset that we've gathered\n"
   ]
  },
  {
   "cell_type": "markdown",
   "metadata": {},
   "source": [
    "## Filter out short texts\n",
    "\n",
    "To effectively use the model, we need to use only long-enough texts. <br>\n",
    "We set the threshold as the average length of texts used to train the model, which is **40** tokens.\n"
   ]
  },
  {
   "cell_type": "markdown",
   "metadata": {},
   "source": [
    "### Median | AVG Length of posts per community\n"
   ]
  },
  {
   "cell_type": "code",
   "execution_count": 2,
   "metadata": {
    "notebookRunGroups": {
     "groupValue": "12"
    },
    "tags": []
   },
   "outputs": [
    {
     "name": "stdout",
     "output_type": "stream",
     "text": [
      "[ Median | AVG ] number of posts left per user after filtering all posts shorter than 40 tokens: \n",
      "indieheads [ 35.0 | 84.467 ]\n",
      "hiphopheads [ 82.0 | 121.983 ]\n",
      "Metal [ 53.5 | 103.118 ]\n",
      "electronicmusic [ 43.0 | 97.761 ]\n",
      "classicalmusic [ 117.0 | 172.252 ]\n"
     ]
    }
   ],
   "source": [
    "import os\n",
    "import json\n",
    "import statistics\n",
    "\n",
    "directory = \"./data/detailed_filtered_data\"\n",
    "threshold = 40\n",
    "\n",
    "print(\n",
    "    \"[ Median | AVG ] number of posts left per user after filtering all posts shorter than 40 tokens: \"\n",
    ")\n",
    "for root, dirs, files in os.walk(directory):\n",
    "    for folder in dirs:\n",
    "        counter_in_genre = []\n",
    "        folder_path = os.path.join(root, folder)\n",
    "        for file in os.listdir(folder_path):\n",
    "            if file.endswith(\".json\"):\n",
    "                file_path = os.path.join(folder_path, file)\n",
    "                with open(file_path, \"r\") as json_file:\n",
    "                    data_for_stat_tests = json.load(json_file)\n",
    "                    counter = 0\n",
    "                    for vector_file_name in data_for_stat_tests.keys():\n",
    "                        for sub in data_for_stat_tests.get(vector_file_name, {}).get(\n",
    "                            \"submissions\"\n",
    "                        ):\n",
    "                            if len(sub.get(\"title\", \"\").split()) >= threshold:\n",
    "                                counter += 1\n",
    "                            if len(sub.get(\"body\", \"\").split()) >= threshold:\n",
    "                                counter += 1\n",
    "                        for comment in data_for_stat_tests.get(\n",
    "                            vector_file_name, {}\n",
    "                        ).get(\"comments\"):\n",
    "                            if len(comment.get(\"body\", \"\").split()) >= threshold:\n",
    "                                counter += 1\n",
    "                    counter_in_genre.append(counter)\n",
    "        if counter_in_genre:\n",
    "            print(\n",
    "                folder,\n",
    "                \"[\",\n",
    "                statistics.median(counter_in_genre),\n",
    "                \"|\",\n",
    "                statistics.mean(counter_in_genre),\n",
    "                \"]\",\n",
    "            )"
   ]
  },
  {
   "cell_type": "markdown",
   "metadata": {},
   "source": [
    "### Process the data as a DataFrame\n"
   ]
  },
  {
   "cell_type": "code",
   "execution_count": 3,
   "metadata": {
    "notebookRunGroups": {
     "groupValue": "12"
    }
   },
   "outputs": [
    {
     "name": "stderr",
     "output_type": "stream",
     "text": [
      "100%|██████████| 1000/1000 [00:01<00:00, 662.24it/s]\n",
      "100%|██████████| 1000/1000 [00:00<00:00, 1039.34it/s]\n",
      "100%|██████████| 1000/1000 [00:01<00:00, 775.27it/s]\n",
      "100%|██████████| 1000/1000 [00:00<00:00, 1118.53it/s]\n",
      "100%|██████████| 1000/1000 [00:01<00:00, 930.38it/s]"
     ]
    },
    {
     "name": "stdout",
     "output_type": "stream",
     "text": [
      "Done processing texts :)\n"
     ]
    },
    {
     "name": "stderr",
     "output_type": "stream",
     "text": [
      "\n"
     ]
    }
   ],
   "source": [
    "import pandas as pd\n",
    "import os\n",
    "import json\n",
    "from tqdm import tqdm\n",
    "\n",
    "df = pd.DataFrame(columns=[\"community\", \"user_name\",\n",
    "                  \"user_texts\", \"#_of_long_texts\"])\n",
    "\n",
    "\n",
    "def process_files(community, df):\n",
    "    threshold = 40\n",
    "    directory = f\"./data/detailed_filtered_data/texts/{community}\"\n",
    "    for filename in tqdm(os.listdir(directory)):\n",
    "        if filename.endswith(\".json\"):\n",
    "            user_texts = []\n",
    "            with open(os.path.join(directory, filename), \"r\") as f:\n",
    "                data = json.load(f)\n",
    "                for key in data:\n",
    "                    for submission in data[key].get(\"submissions\", []):\n",
    "                        title = submission.get(\"title\", \"\")\n",
    "                        body = submission.get(\"body\", \"\")\n",
    "                        if len(title.split()) >= threshold:\n",
    "                            user_texts.append(title)\n",
    "                        if len(body.split()) >= threshold:\n",
    "                            user_texts.append(body)\n",
    "                    for submission in data[key].get(\"comments\", []):\n",
    "                        body = submission.get(\"body\", \"\")\n",
    "                        if len(body.split()) >= threshold:\n",
    "                            user_texts.append(body)\n",
    "            if len(user_texts) == 0:\n",
    "                continue\n",
    "            user_name = filename.split(\".json\")[0]\n",
    "            new_row = pd.DataFrame(\n",
    "                {\n",
    "                    \"community\": community,\n",
    "                    \"user_name\": [user_name],\n",
    "                    \"user_texts\": [user_texts],\n",
    "                    \"#_of_long_texts\": [len(user_texts)],\n",
    "                }\n",
    "            )\n",
    "            df = pd.concat([df, new_row], ignore_index=True)\n",
    "    return df\n",
    "\n",
    "\n",
    "communities = [\n",
    "    \"classicalmusic\",\n",
    "    \"electronicmusic\",\n",
    "    \"hiphopheads\",\n",
    "    \"indieheads\",\n",
    "    \"Metal\",\n",
    "]\n",
    "\n",
    "for vector_file_name in communities:\n",
    "    df = pd.concat([df, process_files(vector_file_name, df)])\n",
    "print(\"Done processing texts :)\")"
   ]
  },
  {
   "cell_type": "markdown",
   "metadata": {},
   "source": [
    "#### De-Duplication\n"
   ]
  },
  {
   "cell_type": "code",
   "execution_count": 4,
   "metadata": {
    "notebookRunGroups": {
     "groupValue": "12"
    }
   },
   "outputs": [
    {
     "name": "stdout",
     "output_type": "stream",
     "text": [
      "After dedeuplication there are 575,816 unique texts in total\n"
     ]
    }
   ],
   "source": [
    "def deduplicate_texts(df):\n",
    "    exploded_df = df.explode(\"user_texts\")\n",
    "    exploded_df = exploded_df.drop_duplicates(subset=\"user_texts\")\n",
    "    return exploded_df\n",
    "\n",
    "\n",
    "df = deduplicate_texts(df)\n",
    "print(\"After dedeuplication there are\", format(\n",
    "    len(df), \",\"), \"unique texts in total\")"
   ]
  },
  {
   "cell_type": "code",
   "execution_count": 5,
   "metadata": {
    "notebookRunGroups": {
     "groupValue": "12"
    }
   },
   "outputs": [
    {
     "name": "stdout",
     "output_type": "stream",
     "text": [
      "Number of texts left after deduplication per community: \n",
      "Classicalmusic: 170,251 \n",
      "Electronicmusic: 97,063 \n",
      "Hiphopheads: 121,538 \n",
      "Indieheads: 84,314 \n",
      "Metal: 102,650\n"
     ]
    }
   ],
   "source": [
    "classicalmusic_df = df[df[\"community\"] == \"classicalmusic\"]\n",
    "electronicmusic_df = df[df[\"community\"] == \"electronicmusic\"]\n",
    "hiphopheads_df = df[df[\"community\"] == \"hiphopheads\"]\n",
    "indieheads_df = df[df[\"community\"] == \"indieheads\"]\n",
    "metal_df = df[df[\"community\"] == \"Metal\"]\n",
    "\n",
    "communities_dfs = [\n",
    "    classicalmusic_df,\n",
    "    electronicmusic_df,\n",
    "    hiphopheads_df,\n",
    "    indieheads_df,\n",
    "    metal_df,\n",
    "]\n",
    "\n",
    "print(\n",
    "    \"Number of texts left after deduplication per community:\",\n",
    "    \"\\nClassicalmusic:\",\n",
    "    format(len(classicalmusic_df), \",\"),\n",
    "    \"\\nElectronicmusic:\",\n",
    "    format(len(electronicmusic_df), \",\"),\n",
    "    \"\\nHiphopheads:\",\n",
    "    format(len(hiphopheads_df), \",\"),\n",
    "    \"\\nIndieheads:\",\n",
    "    format(len(indieheads_df), \",\"),\n",
    "    \"\\nMetal:\",\n",
    "    format(len(metal_df), \",\"),\n",
    ")"
   ]
  },
  {
   "cell_type": "code",
   "execution_count": 6,
   "metadata": {
    "notebookRunGroups": {
     "groupValue": "12"
    }
   },
   "outputs": [
    {
     "name": "stdout",
     "output_type": "stream",
     "text": [
      "Median and Mean of texts-count per user in each community after deduplication:\n",
      "classicalmusic: Median = 118.5  | Mean = 173.37\n",
      "electronicmusic: Median = 60.5  | Mean = 109.55\n",
      "hiphopheads: Median = 83.0  | Mean = 122.39\n",
      "indieheads: Median = 52.0  | Mean = 96.8\n",
      "metal: Median = 58.0  | Mean = 107.94\n"
     ]
    }
   ],
   "source": [
    "classicalmusic_counts = classicalmusic_df[\"user_name\"].value_counts()\n",
    "electronicmusic_counts = electronicmusic_df[\"user_name\"].value_counts()\n",
    "hiphopheads_counts = hiphopheads_df[\"user_name\"].value_counts()\n",
    "indieheads_counts = indieheads_df[\"user_name\"].value_counts()\n",
    "metal_counts = metal_df[\"user_name\"].value_counts()\n",
    "\n",
    "\n",
    "print(\"Median and Mean of texts-count per user in each community after deduplication:\")\n",
    "print(\n",
    "    \"classicalmusic: Median =\",\n",
    "    classicalmusic_counts.median(),\n",
    "    \" | Mean =\",\n",
    "    round(classicalmusic_counts.mean(), 2),\n",
    ")\n",
    "print(\n",
    "    \"electronicmusic: Median =\",\n",
    "    electronicmusic_counts.median(),\n",
    "    \" | Mean =\",\n",
    "    round(electronicmusic_counts.mean(), 2),\n",
    ")\n",
    "print(\n",
    "    \"hiphopheads: Median =\",\n",
    "    hiphopheads_counts.median(),\n",
    "    \" | Mean =\",\n",
    "    round(hiphopheads_counts.mean(), 2),\n",
    ")\n",
    "print(\n",
    "    \"indieheads: Median =\",\n",
    "    indieheads_counts.median(),\n",
    "    \" | Mean =\",\n",
    "    round(indieheads_counts.mean(), 2),\n",
    ")\n",
    "print(\n",
    "    \"metal: Median =\", metal_counts.median(), \" | Mean =\", round(metal_counts.mean(), 2)\n",
    ")"
   ]
  },
  {
   "cell_type": "markdown",
   "metadata": {},
   "source": [
    "# Vectorize all Redditors texts\n"
   ]
  },
  {
   "cell_type": "markdown",
   "metadata": {},
   "source": [
    "## Vectorize Text method\n"
   ]
  },
  {
   "cell_type": "code",
   "execution_count": 7,
   "metadata": {},
   "outputs": [
    {
     "name": "stderr",
     "output_type": "stream",
     "text": [
      "/Users/eliran/Personal/dev/Musical-Preferences-And-Textual-Expression/.venv/lib/python3.11/site-packages/tqdm/auto.py:21: TqdmWarning: IProgress not found. Please update jupyter and ipywidgets. See https://ipywidgets.readthedocs.io/en/stable/user_install.html\n",
      "  from .autonotebook import tqdm as notebook_tqdm\n"
     ]
    }
   ],
   "source": [
    "from sentence_transformers import SentenceTransformer\n",
    "from typing import List, Union\n",
    "from torch import Tensor\n",
    "from numpy import ndarray\n",
    "\n",
    "\n",
    "def vectorize_text(\n",
    "    text, model: SentenceTransformer, batch_size=12, show_progress_bar=False\n",
    ") -> Union[List[Tensor], ndarray, Tensor]:\n",
    "    return model.encode(\n",
    "        text, show_progress_bar=show_progress_bar, batch_size=batch_size\n",
    "    )"
   ]
  },
  {
   "cell_type": "code",
   "execution_count": 8,
   "metadata": {
    "notebookRunGroups": {
     "groupValue": "12"
    }
   },
   "outputs": [
    {
     "data": {
      "text/html": [
       "<div>\n",
       "<style scoped>\n",
       "    .dataframe tbody tr th:only-of-type {\n",
       "        vertical-align: middle;\n",
       "    }\n",
       "\n",
       "    .dataframe tbody tr th {\n",
       "        vertical-align: top;\n",
       "    }\n",
       "\n",
       "    .dataframe thead th {\n",
       "        text-align: right;\n",
       "    }\n",
       "</style>\n",
       "<table border=\"1\" class=\"dataframe\">\n",
       "  <thead>\n",
       "    <tr style=\"text-align: right;\">\n",
       "      <th></th>\n",
       "      <th>community</th>\n",
       "      <th>user_name</th>\n",
       "      <th>user_texts</th>\n",
       "      <th>#_of_long_texts</th>\n",
       "    </tr>\n",
       "  </thead>\n",
       "  <tbody>\n",
       "    <tr>\n",
       "      <th>0</th>\n",
       "      <td>classicalmusic</td>\n",
       "      <td>Radaxen</td>\n",
       "      <td>I remember doing this with WC3 Dota 1 Lifestea...</td>\n",
       "      <td>339</td>\n",
       "    </tr>\n",
       "    <tr>\n",
       "      <th>1</th>\n",
       "      <td>classicalmusic</td>\n",
       "      <td>Radaxen</td>\n",
       "      <td>Why not? Though there's no AD in League.  I ki...</td>\n",
       "      <td>339</td>\n",
       "    </tr>\n",
       "    <tr>\n",
       "      <th>2</th>\n",
       "      <td>classicalmusic</td>\n",
       "      <td>Radaxen</td>\n",
       "      <td>Haha I was kind of joking. That aside, why mos...</td>\n",
       "      <td>339</td>\n",
       "    </tr>\n",
       "    <tr>\n",
       "      <th>3</th>\n",
       "      <td>classicalmusic</td>\n",
       "      <td>Radaxen</td>\n",
       "      <td>Mana is often a less limiting factor, unless y...</td>\n",
       "      <td>339</td>\n",
       "    </tr>\n",
       "    <tr>\n",
       "      <th>4</th>\n",
       "      <td>classicalmusic</td>\n",
       "      <td>Radaxen</td>\n",
       "      <td>It's first pick worthy, but late in first phas...</td>\n",
       "      <td>339</td>\n",
       "    </tr>\n",
       "  </tbody>\n",
       "</table>\n",
       "</div>"
      ],
      "text/plain": [
       "        community user_name  \\\n",
       "0  classicalmusic   Radaxen   \n",
       "1  classicalmusic   Radaxen   \n",
       "2  classicalmusic   Radaxen   \n",
       "3  classicalmusic   Radaxen   \n",
       "4  classicalmusic   Radaxen   \n",
       "\n",
       "                                          user_texts #_of_long_texts  \n",
       "0  I remember doing this with WC3 Dota 1 Lifestea...             339  \n",
       "1  Why not? Though there's no AD in League.  I ki...             339  \n",
       "2  Haha I was kind of joking. That aside, why mos...             339  \n",
       "3  Mana is often a less limiting factor, unless y...             339  \n",
       "4  It's first pick worthy, but late in first phas...             339  "
      ]
     },
     "execution_count": 8,
     "metadata": {},
     "output_type": "execute_result"
    }
   ],
   "source": [
    "df = df.reset_index(drop=True)\n",
    "df.head()"
   ]
  },
  {
   "cell_type": "markdown",
   "metadata": {},
   "source": [
    "## `all-MiniLM-L6-v2`\n",
    "\n",
    "Working with the all-MiniLM-L6-v2 model is much faster, so all vectorization is done at once in this case\n"
   ]
  },
  {
   "cell_type": "markdown",
   "metadata": {},
   "source": [
    "### Vectorize\n"
   ]
  },
  {
   "cell_type": "code",
   "execution_count": 8,
   "metadata": {
    "notebookRunGroups": {
     "groupValue": "2"
    }
   },
   "outputs": [
    {
     "name": "stderr",
     "output_type": "stream",
     "text": [
      "100%|██████████| 575816/575816 [2:13:16<00:00, 72.01it/s]  \n"
     ]
    }
   ],
   "source": [
    "tqdm.pandas()\n",
    "model = SentenceTransformer(\"all-MiniLM-L6-v2\")\n",
    "\n",
    "df[\"vector\"] = df[\"user_texts\"].progress_apply(\n",
    "    lambda x: vectorize_text(x, model) if not isinstance(x, float) else []\n",
    ")"
   ]
  },
  {
   "cell_type": "markdown",
   "metadata": {},
   "source": [
    "### Re-load\n"
   ]
  },
  {
   "cell_type": "code",
   "execution_count": null,
   "metadata": {
    "notebookRunGroups": {
     "groupValue": "2"
    }
   },
   "outputs": [],
   "source": [
    "import pickle\n",
    "\n",
    "with open(\"mini_reddit_data_vectorized.pkl\", \"rb\") as f:\n",
    "    df[\"vector\"] = pickle.load(f)"
   ]
  },
  {
   "cell_type": "markdown",
   "metadata": {},
   "source": [
    "## `intfloat/e5-large-v2`\n",
    "\n",
    "On the other hand, the intfloat/e5-large-v2 model is much slower, so vectorization is done in chunks and persisted the H5 files\n"
   ]
  },
  {
   "cell_type": "markdown",
   "metadata": {},
   "source": [
    "### Vectorize\n"
   ]
  },
  {
   "cell_type": "code",
   "execution_count": 8,
   "metadata": {},
   "outputs": [
    {
     "name": "stdout",
     "output_type": "stream",
     "text": [
      "Dataset shape: (170251, 1024)\n"
     ]
    },
    {
     "name": "stderr",
     "output_type": "stream",
     "text": [
      "Vectorizing texts: 100%|██████████| 170251/170251 [10:02:07<00:00,  4.71it/s] \n"
     ]
    }
   ],
   "source": [
    "import h5py\n",
    "import numpy as np\n",
    "from tqdm import tqdm\n",
    "\n",
    "model = SentenceTransformer(\"intfloat/e5-large-v2\")\n",
    "\n",
    "\n",
    "def vectorize_community_data(community_name: str, df: pd.DataFrame):\n",
    "    file_path = f\"data/detailed_filtererd_data/vectors/{community_name}.h5\"\n",
    "    compression = \"lzf\"\n",
    "    estimated_rows = len(df)\n",
    "\n",
    "    with h5py.File(file_path, \"a\") as f:\n",
    "        if \"vectors\" not in f:\n",
    "            dataset = f.create_dataset(\n",
    "                \"vectors\",\n",
    "                (estimated_rows, model.get_sentence_embedding_dimension()),\n",
    "                dtype=np.float32,\n",
    "                compression=compression,\n",
    "            )\n",
    "            print(\"Dataset shape:\", dataset.shape)\n",
    "        else:\n",
    "            dataset = f[\"vectors\"]\n",
    "\n",
    "        i = 0\n",
    "        progress_bar = tqdm(total=estimated_rows, desc=\"Vectorizing texts\")\n",
    "        for _, row in df.iterrows():\n",
    "            vector = vectorize_text(row[\"user_texts\"], model)\n",
    "            dataset[i] = vector\n",
    "            i += 1\n",
    "            progress_bar.update(1)\n",
    "        progress_bar.close()\n",
    "\n",
    "\n",
    "vectorize_community_data(\"metal\", metal_df)\n",
    "vectorize_community_data(\"classicalmusic\", classicalmusic_df)\n",
    "vectorize_community_data(\"electronicmusic\", electronicmusic_df)\n",
    "vectorize_community_data(\"hiphopheads\", hiphopheads_df)\n",
    "vectorize_community_data(\"indieheads\", indieheads_df)"
   ]
  },
  {
   "cell_type": "markdown",
   "metadata": {},
   "source": [
    "### Re-load\n"
   ]
  },
  {
   "cell_type": "code",
   "execution_count": 10,
   "metadata": {
    "notebookRunGroups": {
     "groupValue": "1"
    }
   },
   "outputs": [],
   "source": [
    "import h5py\n",
    "\n",
    "vector_file_names = [\"classical\", \"electronic\", \"hiphopheads\", \"indieheads\", \"metal\"]\n",
    "\n",
    "for vector_file_name, df in zip(vector_file_names, communities_dfs):\n",
    "    with h5py.File(\n",
    "        f\"data/detailed_filtered_data/vectors/{vector_file_name}.h5\", \"r\"\n",
    "    ) as f:\n",
    "        dataset = f[\"vectors\"]\n",
    "        df[\"vector\"] = dataset[:].tolist()\n",
    "df = pd.concat(communities_dfs, ignore_index=True)"
   ]
  },
  {
   "cell_type": "markdown",
   "metadata": {},
   "source": [
    "# Show Sample\n"
   ]
  },
  {
   "cell_type": "code",
   "execution_count": 11,
   "metadata": {
    "notebookRunGroups": {
     "groupValue": "12"
    }
   },
   "outputs": [
    {
     "data": {
      "text/html": [
       "<div>\n",
       "<style scoped>\n",
       "    .dataframe tbody tr th:only-of-type {\n",
       "        vertical-align: middle;\n",
       "    }\n",
       "\n",
       "    .dataframe tbody tr th {\n",
       "        vertical-align: top;\n",
       "    }\n",
       "\n",
       "    .dataframe thead th {\n",
       "        text-align: right;\n",
       "    }\n",
       "</style>\n",
       "<table border=\"1\" class=\"dataframe\">\n",
       "  <thead>\n",
       "    <tr style=\"text-align: right;\">\n",
       "      <th></th>\n",
       "      <th>community</th>\n",
       "      <th>user_name</th>\n",
       "      <th>user_texts</th>\n",
       "      <th>#_of_long_texts</th>\n",
       "      <th>vector</th>\n",
       "    </tr>\n",
       "  </thead>\n",
       "  <tbody>\n",
       "    <tr>\n",
       "      <th>0</th>\n",
       "      <td>classicalmusic</td>\n",
       "      <td>Radaxen</td>\n",
       "      <td>I remember doing this with WC3 Dota 1 Lifestea...</td>\n",
       "      <td>339</td>\n",
       "      <td>[-0.0013457498280331492, -0.06375082582235336,...</td>\n",
       "    </tr>\n",
       "    <tr>\n",
       "      <th>1</th>\n",
       "      <td>classicalmusic</td>\n",
       "      <td>Radaxen</td>\n",
       "      <td>Why not? Though there's no AD in League.  I ki...</td>\n",
       "      <td>339</td>\n",
       "      <td>[0.018474051728844643, -0.01666010357439518, 0...</td>\n",
       "    </tr>\n",
       "    <tr>\n",
       "      <th>2</th>\n",
       "      <td>classicalmusic</td>\n",
       "      <td>Radaxen</td>\n",
       "      <td>Haha I was kind of joking. That aside, why mos...</td>\n",
       "      <td>339</td>\n",
       "      <td>[-0.008903076872229576, -0.05069487541913986, ...</td>\n",
       "    </tr>\n",
       "    <tr>\n",
       "      <th>3</th>\n",
       "      <td>classicalmusic</td>\n",
       "      <td>Radaxen</td>\n",
       "      <td>Mana is often a less limiting factor, unless y...</td>\n",
       "      <td>339</td>\n",
       "      <td>[0.04738666117191315, -0.053208597004413605, 0...</td>\n",
       "    </tr>\n",
       "    <tr>\n",
       "      <th>4</th>\n",
       "      <td>classicalmusic</td>\n",
       "      <td>Radaxen</td>\n",
       "      <td>It's first pick worthy, but late in first phas...</td>\n",
       "      <td>339</td>\n",
       "      <td>[0.007831799797713757, -0.0637780949473381, 0....</td>\n",
       "    </tr>\n",
       "  </tbody>\n",
       "</table>\n",
       "</div>"
      ],
      "text/plain": [
       "        community user_name  \\\n",
       "0  classicalmusic   Radaxen   \n",
       "1  classicalmusic   Radaxen   \n",
       "2  classicalmusic   Radaxen   \n",
       "3  classicalmusic   Radaxen   \n",
       "4  classicalmusic   Radaxen   \n",
       "\n",
       "                                          user_texts #_of_long_texts  \\\n",
       "0  I remember doing this with WC3 Dota 1 Lifestea...             339   \n",
       "1  Why not? Though there's no AD in League.  I ki...             339   \n",
       "2  Haha I was kind of joking. That aside, why mos...             339   \n",
       "3  Mana is often a less limiting factor, unless y...             339   \n",
       "4  It's first pick worthy, but late in first phas...             339   \n",
       "\n",
       "                                              vector  \n",
       "0  [-0.0013457498280331492, -0.06375082582235336,...  \n",
       "1  [0.018474051728844643, -0.01666010357439518, 0...  \n",
       "2  [-0.008903076872229576, -0.05069487541913986, ...  \n",
       "3  [0.04738666117191315, -0.053208597004413605, 0...  \n",
       "4  [0.007831799797713757, -0.0637780949473381, 0....  "
      ]
     },
     "execution_count": 11,
     "metadata": {},
     "output_type": "execute_result"
    }
   ],
   "source": [
    "df.head()"
   ]
  },
  {
   "cell_type": "markdown",
   "metadata": {},
   "source": [
    "# Back to Logistic regression\n"
   ]
  },
  {
   "cell_type": "markdown",
   "metadata": {},
   "source": [
    "## `all-MiniLM-L6-v2`\n"
   ]
  },
  {
   "cell_type": "markdown",
   "metadata": {},
   "source": [
    "### Load the model\n"
   ]
  },
  {
   "cell_type": "code",
   "execution_count": 9,
   "metadata": {
    "notebookRunGroups": {
     "groupValue": "2"
    }
   },
   "outputs": [],
   "source": [
    "import pickle\n",
    "from sklearn.linear_model import LogisticRegression\n",
    "\n",
    "with open(\"models/mini_gpt_and_myPersonality.pkl\", \"rb\") as f:\n",
    "    mini_gpt_and_myPersonality: LogisticRegression = pickle.load(f)"
   ]
  },
  {
   "cell_type": "markdown",
   "metadata": {},
   "source": [
    "### Predict-Probablily\n",
    "\n",
    "Use the model to Predict-Probablily for every user texts to be in high vs low openness classes\n"
   ]
  },
  {
   "cell_type": "code",
   "execution_count": null,
   "metadata": {
    "notebookRunGroups": {
     "groupValue": "2"
    }
   },
   "outputs": [],
   "source": [
    "df[\"OPN_proba\"] = df[\"vector\"].progress_apply(\n",
    "    lambda x: mini_gpt_and_myPersonality.predict_proba(x.reshape(1, -1))\n",
    ")"
   ]
  },
  {
   "cell_type": "markdown",
   "metadata": {},
   "source": [
    "## `intfloat/e5-large-v2`\n"
   ]
  },
  {
   "cell_type": "markdown",
   "metadata": {},
   "source": [
    "### Load the model\n"
   ]
  },
  {
   "cell_type": "code",
   "execution_count": 12,
   "metadata": {
    "notebookRunGroups": {
     "groupValue": "1"
    }
   },
   "outputs": [
    {
     "name": "stderr",
     "output_type": "stream",
     "text": [
      "/Users/eliran/Personal/dev/Musical-Preferences-And-Textual-Expression/.venv/lib/python3.11/site-packages/sklearn/base.py:376: InconsistentVersionWarning: Trying to unpickle estimator LogisticRegression from version 1.3.2 when using version 1.4.0. This might lead to breaking code or invalid results. Use at your own risk. For more info please refer to:\n",
      "https://scikit-learn.org/stable/model_persistence.html#security-maintainability-limitations\n",
      "  warnings.warn(\n"
     ]
    }
   ],
   "source": [
    "import pickle\n",
    "from sklearn.linear_model import LogisticRegression\n",
    "\n",
    "with open(\"models/gpt_and_myPersonality.pkl\", \"rb\") as f:\n",
    "    gpt_and_myPersonality: LogisticRegression = pickle.load(f)"
   ]
  },
  {
   "cell_type": "markdown",
   "metadata": {},
   "source": [
    "### Predict-Probablily\n",
    "\n",
    "Use the model to Predict-Probablily for every user texts to be in high vs low openness classes\n"
   ]
  },
  {
   "cell_type": "code",
   "execution_count": 15,
   "metadata": {
    "notebookRunGroups": {
     "groupValue": "1"
    }
   },
   "outputs": [],
   "source": [
    "import numpy as np\n",
    "\n",
    "df[\"OPN_proba\"] = df[\"vector\"].apply(\n",
    "    lambda x: gpt_and_myPersonality.predict_proba(np.array(x).reshape(1, -1))\n",
    ")"
   ]
  },
  {
   "cell_type": "code",
   "execution_count": 16,
   "metadata": {
    "notebookRunGroups": {
     "groupValue": "12"
    }
   },
   "outputs": [
    {
     "data": {
      "text/html": [
       "<div>\n",
       "<style scoped>\n",
       "    .dataframe tbody tr th:only-of-type {\n",
       "        vertical-align: middle;\n",
       "    }\n",
       "\n",
       "    .dataframe tbody tr th {\n",
       "        vertical-align: top;\n",
       "    }\n",
       "\n",
       "    .dataframe thead th {\n",
       "        text-align: right;\n",
       "    }\n",
       "</style>\n",
       "<table border=\"1\" class=\"dataframe\">\n",
       "  <thead>\n",
       "    <tr style=\"text-align: right;\">\n",
       "      <th></th>\n",
       "      <th>community</th>\n",
       "      <th>user_name</th>\n",
       "      <th>user_texts</th>\n",
       "      <th>#_of_long_texts</th>\n",
       "      <th>vector</th>\n",
       "      <th>OPN_proba</th>\n",
       "    </tr>\n",
       "  </thead>\n",
       "  <tbody>\n",
       "    <tr>\n",
       "      <th>0</th>\n",
       "      <td>classicalmusic</td>\n",
       "      <td>Radaxen</td>\n",
       "      <td>I remember doing this with WC3 Dota 1 Lifestea...</td>\n",
       "      <td>339</td>\n",
       "      <td>[-0.0013457498280331492, -0.06375082582235336,...</td>\n",
       "      <td>[[0.8262392460938337, 0.17376075390616627]]</td>\n",
       "    </tr>\n",
       "    <tr>\n",
       "      <th>1</th>\n",
       "      <td>classicalmusic</td>\n",
       "      <td>Radaxen</td>\n",
       "      <td>Why not? Though there's no AD in League.  I ki...</td>\n",
       "      <td>339</td>\n",
       "      <td>[0.018474051728844643, -0.01666010357439518, 0...</td>\n",
       "      <td>[[0.589807086022424, 0.410192913977576]]</td>\n",
       "    </tr>\n",
       "    <tr>\n",
       "      <th>2</th>\n",
       "      <td>classicalmusic</td>\n",
       "      <td>Radaxen</td>\n",
       "      <td>Haha I was kind of joking. That aside, why mos...</td>\n",
       "      <td>339</td>\n",
       "      <td>[-0.008903076872229576, -0.05069487541913986, ...</td>\n",
       "      <td>[[0.6808525955323554, 0.31914740446764456]]</td>\n",
       "    </tr>\n",
       "    <tr>\n",
       "      <th>3</th>\n",
       "      <td>classicalmusic</td>\n",
       "      <td>Radaxen</td>\n",
       "      <td>Mana is often a less limiting factor, unless y...</td>\n",
       "      <td>339</td>\n",
       "      <td>[0.04738666117191315, -0.053208597004413605, 0...</td>\n",
       "      <td>[[0.8330441760356234, 0.16695582396437655]]</td>\n",
       "    </tr>\n",
       "    <tr>\n",
       "      <th>4</th>\n",
       "      <td>classicalmusic</td>\n",
       "      <td>Radaxen</td>\n",
       "      <td>It's first pick worthy, but late in first phas...</td>\n",
       "      <td>339</td>\n",
       "      <td>[0.007831799797713757, -0.0637780949473381, 0....</td>\n",
       "      <td>[[0.8114507670548725, 0.18854923294512746]]</td>\n",
       "    </tr>\n",
       "    <tr>\n",
       "      <th>170251</th>\n",
       "      <td>electronicmusic</td>\n",
       "      <td>headphase</td>\n",
       "      <td>This Monday, June 12, r/BedStuy will become un...</td>\n",
       "      <td>305</td>\n",
       "      <td>[0.011666242964565754, -0.035366132855415344, ...</td>\n",
       "      <td>[[0.6954901085111163, 0.30450989148888374]]</td>\n",
       "    </tr>\n",
       "    <tr>\n",
       "      <th>170252</th>\n",
       "      <td>electronicmusic</td>\n",
       "      <td>headphase</td>\n",
       "      <td>Rant incoming.. I know this isn't just a BedSt...</td>\n",
       "      <td>305</td>\n",
       "      <td>[0.014536317437887192, -0.04572702944278717, 0...</td>\n",
       "      <td>[[0.6365041189816335, 0.3634958810183665]]</td>\n",
       "    </tr>\n",
       "    <tr>\n",
       "      <th>170253</th>\n",
       "      <td>electronicmusic</td>\n",
       "      <td>headphase</td>\n",
       "      <td>Hi everyone, first off thanks for your patienc...</td>\n",
       "      <td>305</td>\n",
       "      <td>[0.0012467063497751951, -0.03821362182497978, ...</td>\n",
       "      <td>[[0.6518456238961388, 0.34815437610386124]]</td>\n",
       "    </tr>\n",
       "    <tr>\n",
       "      <th>170254</th>\n",
       "      <td>electronicmusic</td>\n",
       "      <td>headphase</td>\n",
       "      <td>Next Monday, June 12th, r/aviationmemes will b...</td>\n",
       "      <td>305</td>\n",
       "      <td>[0.008768602274358273, -0.047856613993644714, ...</td>\n",
       "      <td>[[0.6761544928043506, 0.32384550719564936]]</td>\n",
       "    </tr>\n",
       "    <tr>\n",
       "      <th>170255</th>\n",
       "      <td>electronicmusic</td>\n",
       "      <td>headphase</td>\n",
       "      <td>Hi all, as of today a new post flair labeled \\...</td>\n",
       "      <td>305</td>\n",
       "      <td>[0.02191307209432125, -0.044258877635002136, -...</td>\n",
       "      <td>[[0.6002359985816053, 0.39976400141839474]]</td>\n",
       "    </tr>\n",
       "    <tr>\n",
       "      <th>267314</th>\n",
       "      <td>hiphopheads</td>\n",
       "      <td>thanks_bruh</td>\n",
       "      <td>Whats good y’all. I’m looking to make friends ...</td>\n",
       "      <td>50</td>\n",
       "      <td>[0.028840450569987297, -0.06617984920740128, 0...</td>\n",
       "      <td>[[0.7472625739102271, 0.2527374260897729]]</td>\n",
       "    </tr>\n",
       "    <tr>\n",
       "      <th>267315</th>\n",
       "      <td>hiphopheads</td>\n",
       "      <td>thanks_bruh</td>\n",
       "      <td>I think it depends on if you want it to be ser...</td>\n",
       "      <td>50</td>\n",
       "      <td>[0.005617283284664154, -0.08960145711898804, -...</td>\n",
       "      <td>[[0.58829297489718, 0.41170702510282]]</td>\n",
       "    </tr>\n",
       "    <tr>\n",
       "      <th>267316</th>\n",
       "      <td>hiphopheads</td>\n",
       "      <td>thanks_bruh</td>\n",
       "      <td>I feel like I put a lot of work, like thought ...</td>\n",
       "      <td>50</td>\n",
       "      <td>[0.019569048658013344, -0.031026041135191917, ...</td>\n",
       "      <td>[[0.7215515064270587, 0.2784484935729413]]</td>\n",
       "    </tr>\n",
       "    <tr>\n",
       "      <th>267317</th>\n",
       "      <td>hiphopheads</td>\n",
       "      <td>thanks_bruh</td>\n",
       "      <td>Well folks, time for potentially a good moment...</td>\n",
       "      <td>50</td>\n",
       "      <td>[0.04219465330243111, -0.024693995714187622, 0...</td>\n",
       "      <td>[[0.49266332545377833, 0.5073366745462217]]</td>\n",
       "    </tr>\n",
       "    <tr>\n",
       "      <th>267318</th>\n",
       "      <td>hiphopheads</td>\n",
       "      <td>thanks_bruh</td>\n",
       "      <td>172 songs, and he hasn’t really missed. Honest...</td>\n",
       "      <td>50</td>\n",
       "      <td>[0.025712545961141586, -0.05512234568595886, -...</td>\n",
       "      <td>[[0.7182772368770522, 0.2817227631229477]]</td>\n",
       "    </tr>\n",
       "    <tr>\n",
       "      <th>388852</th>\n",
       "      <td>indieheads</td>\n",
       "      <td>simco1974</td>\n",
       "      <td>2008 or so, I was digging around at a local re...</td>\n",
       "      <td>1</td>\n",
       "      <td>[0.024371720850467682, -0.05200977995991707, 0...</td>\n",
       "      <td>[[0.758588850186982, 0.24141114981301806]]</td>\n",
       "    </tr>\n",
       "    <tr>\n",
       "      <th>388853</th>\n",
       "      <td>indieheads</td>\n",
       "      <td>GeorgeTaylorG</td>\n",
       "      <td>Technically (aside from \"Drawn To The Blood\") ...</td>\n",
       "      <td>12</td>\n",
       "      <td>[0.015474014915525913, -0.03309788927435875, 0...</td>\n",
       "      <td>[[0.7619525984060365, 0.23804740159396356]]</td>\n",
       "    </tr>\n",
       "    <tr>\n",
       "      <th>388854</th>\n",
       "      <td>indieheads</td>\n",
       "      <td>GeorgeTaylorG</td>\n",
       "      <td>It doesn’t have to be “credits” per say, even ...</td>\n",
       "      <td>12</td>\n",
       "      <td>[0.0033386116847395897, -0.03868327662348747, ...</td>\n",
       "      <td>[[0.658852807453241, 0.34114719254675896]]</td>\n",
       "    </tr>\n",
       "    <tr>\n",
       "      <th>388855</th>\n",
       "      <td>indieheads</td>\n",
       "      <td>GeorgeTaylorG</td>\n",
       "      <td>&gt;\\tyou’re faster than everything in the backya...</td>\n",
       "      <td>12</td>\n",
       "      <td>[0.02121618576347828, -0.04734157398343086, 0....</td>\n",
       "      <td>[[0.6557791111430713, 0.3442208888569287]]</td>\n",
       "    </tr>\n",
       "    <tr>\n",
       "      <th>388856</th>\n",
       "      <td>indieheads</td>\n",
       "      <td>GeorgeTaylorG</td>\n",
       "      <td>I posted that in /r/headabovewater (the old Wo...</td>\n",
       "      <td>12</td>\n",
       "      <td>[0.013127335347235203, -0.01655975729227066, 0...</td>\n",
       "      <td>[[0.8149379888606689, 0.18506201113933102]]</td>\n",
       "    </tr>\n",
       "    <tr>\n",
       "      <th>473166</th>\n",
       "      <td>Metal</td>\n",
       "      <td>sam1oq</td>\n",
       "      <td>I found out that apparently I was still paying...</td>\n",
       "      <td>309</td>\n",
       "      <td>[0.024809353053569794, -0.036989957094192505, ...</td>\n",
       "      <td>[[0.5774906936678819, 0.42250930633211814]]</td>\n",
       "    </tr>\n",
       "    <tr>\n",
       "      <th>473167</th>\n",
       "      <td>Metal</td>\n",
       "      <td>sam1oq</td>\n",
       "      <td>I've a bunch of minor change ideas to moves an...</td>\n",
       "      <td>309</td>\n",
       "      <td>[-0.01680244505405426, -0.03381632640957832, 0...</td>\n",
       "      <td>[[0.660659857108453, 0.339340142891547]]</td>\n",
       "    </tr>\n",
       "    <tr>\n",
       "      <th>473168</th>\n",
       "      <td>Metal</td>\n",
       "      <td>sam1oq</td>\n",
       "      <td>Scald's distribution before was dumb and the m...</td>\n",
       "      <td>309</td>\n",
       "      <td>[-0.011286985129117966, -0.01451526302844286, ...</td>\n",
       "      <td>[[0.667443158989159, 0.33255684101084104]]</td>\n",
       "    </tr>\n",
       "    <tr>\n",
       "      <th>473169</th>\n",
       "      <td>Metal</td>\n",
       "      <td>sam1oq</td>\n",
       "      <td>Rock is a type that is infamous for having low...</td>\n",
       "      <td>309</td>\n",
       "      <td>[-0.005031466484069824, -0.04531756788492203, ...</td>\n",
       "      <td>[[0.7394170786978546, 0.26058292130214544]]</td>\n",
       "    </tr>\n",
       "    <tr>\n",
       "      <th>473170</th>\n",
       "      <td>Metal</td>\n",
       "      <td>sam1oq</td>\n",
       "      <td>Ghost has become probably the most broken offe...</td>\n",
       "      <td>309</td>\n",
       "      <td>[0.020235532894730568, -0.02710878849029541, 0...</td>\n",
       "      <td>[[0.7265755992512613, 0.2734244007487387]]</td>\n",
       "    </tr>\n",
       "  </tbody>\n",
       "</table>\n",
       "</div>"
      ],
      "text/plain": [
       "              community      user_name  \\\n",
       "0        classicalmusic        Radaxen   \n",
       "1        classicalmusic        Radaxen   \n",
       "2        classicalmusic        Radaxen   \n",
       "3        classicalmusic        Radaxen   \n",
       "4        classicalmusic        Radaxen   \n",
       "170251  electronicmusic      headphase   \n",
       "170252  electronicmusic      headphase   \n",
       "170253  electronicmusic      headphase   \n",
       "170254  electronicmusic      headphase   \n",
       "170255  electronicmusic      headphase   \n",
       "267314      hiphopheads    thanks_bruh   \n",
       "267315      hiphopheads    thanks_bruh   \n",
       "267316      hiphopheads    thanks_bruh   \n",
       "267317      hiphopheads    thanks_bruh   \n",
       "267318      hiphopheads    thanks_bruh   \n",
       "388852       indieheads      simco1974   \n",
       "388853       indieheads  GeorgeTaylorG   \n",
       "388854       indieheads  GeorgeTaylorG   \n",
       "388855       indieheads  GeorgeTaylorG   \n",
       "388856       indieheads  GeorgeTaylorG   \n",
       "473166            Metal         sam1oq   \n",
       "473167            Metal         sam1oq   \n",
       "473168            Metal         sam1oq   \n",
       "473169            Metal         sam1oq   \n",
       "473170            Metal         sam1oq   \n",
       "\n",
       "                                               user_texts #_of_long_texts  \\\n",
       "0       I remember doing this with WC3 Dota 1 Lifestea...             339   \n",
       "1       Why not? Though there's no AD in League.  I ki...             339   \n",
       "2       Haha I was kind of joking. That aside, why mos...             339   \n",
       "3       Mana is often a less limiting factor, unless y...             339   \n",
       "4       It's first pick worthy, but late in first phas...             339   \n",
       "170251  This Monday, June 12, r/BedStuy will become un...             305   \n",
       "170252  Rant incoming.. I know this isn't just a BedSt...             305   \n",
       "170253  Hi everyone, first off thanks for your patienc...             305   \n",
       "170254  Next Monday, June 12th, r/aviationmemes will b...             305   \n",
       "170255  Hi all, as of today a new post flair labeled \\...             305   \n",
       "267314  Whats good y’all. I’m looking to make friends ...              50   \n",
       "267315  I think it depends on if you want it to be ser...              50   \n",
       "267316  I feel like I put a lot of work, like thought ...              50   \n",
       "267317  Well folks, time for potentially a good moment...              50   \n",
       "267318  172 songs, and he hasn’t really missed. Honest...              50   \n",
       "388852  2008 or so, I was digging around at a local re...               1   \n",
       "388853  Technically (aside from \"Drawn To The Blood\") ...              12   \n",
       "388854  It doesn’t have to be “credits” per say, even ...              12   \n",
       "388855  >\\tyou’re faster than everything in the backya...              12   \n",
       "388856  I posted that in /r/headabovewater (the old Wo...              12   \n",
       "473166  I found out that apparently I was still paying...             309   \n",
       "473167  I've a bunch of minor change ideas to moves an...             309   \n",
       "473168  Scald's distribution before was dumb and the m...             309   \n",
       "473169  Rock is a type that is infamous for having low...             309   \n",
       "473170  Ghost has become probably the most broken offe...             309   \n",
       "\n",
       "                                                   vector  \\\n",
       "0       [-0.0013457498280331492, -0.06375082582235336,...   \n",
       "1       [0.018474051728844643, -0.01666010357439518, 0...   \n",
       "2       [-0.008903076872229576, -0.05069487541913986, ...   \n",
       "3       [0.04738666117191315, -0.053208597004413605, 0...   \n",
       "4       [0.007831799797713757, -0.0637780949473381, 0....   \n",
       "170251  [0.011666242964565754, -0.035366132855415344, ...   \n",
       "170252  [0.014536317437887192, -0.04572702944278717, 0...   \n",
       "170253  [0.0012467063497751951, -0.03821362182497978, ...   \n",
       "170254  [0.008768602274358273, -0.047856613993644714, ...   \n",
       "170255  [0.02191307209432125, -0.044258877635002136, -...   \n",
       "267314  [0.028840450569987297, -0.06617984920740128, 0...   \n",
       "267315  [0.005617283284664154, -0.08960145711898804, -...   \n",
       "267316  [0.019569048658013344, -0.031026041135191917, ...   \n",
       "267317  [0.04219465330243111, -0.024693995714187622, 0...   \n",
       "267318  [0.025712545961141586, -0.05512234568595886, -...   \n",
       "388852  [0.024371720850467682, -0.05200977995991707, 0...   \n",
       "388853  [0.015474014915525913, -0.03309788927435875, 0...   \n",
       "388854  [0.0033386116847395897, -0.03868327662348747, ...   \n",
       "388855  [0.02121618576347828, -0.04734157398343086, 0....   \n",
       "388856  [0.013127335347235203, -0.01655975729227066, 0...   \n",
       "473166  [0.024809353053569794, -0.036989957094192505, ...   \n",
       "473167  [-0.01680244505405426, -0.03381632640957832, 0...   \n",
       "473168  [-0.011286985129117966, -0.01451526302844286, ...   \n",
       "473169  [-0.005031466484069824, -0.04531756788492203, ...   \n",
       "473170  [0.020235532894730568, -0.02710878849029541, 0...   \n",
       "\n",
       "                                          OPN_proba  \n",
       "0       [[0.8262392460938337, 0.17376075390616627]]  \n",
       "1          [[0.589807086022424, 0.410192913977576]]  \n",
       "2       [[0.6808525955323554, 0.31914740446764456]]  \n",
       "3       [[0.8330441760356234, 0.16695582396437655]]  \n",
       "4       [[0.8114507670548725, 0.18854923294512746]]  \n",
       "170251  [[0.6954901085111163, 0.30450989148888374]]  \n",
       "170252   [[0.6365041189816335, 0.3634958810183665]]  \n",
       "170253  [[0.6518456238961388, 0.34815437610386124]]  \n",
       "170254  [[0.6761544928043506, 0.32384550719564936]]  \n",
       "170255  [[0.6002359985816053, 0.39976400141839474]]  \n",
       "267314   [[0.7472625739102271, 0.2527374260897729]]  \n",
       "267315       [[0.58829297489718, 0.41170702510282]]  \n",
       "267316   [[0.7215515064270587, 0.2784484935729413]]  \n",
       "267317  [[0.49266332545377833, 0.5073366745462217]]  \n",
       "267318   [[0.7182772368770522, 0.2817227631229477]]  \n",
       "388852   [[0.758588850186982, 0.24141114981301806]]  \n",
       "388853  [[0.7619525984060365, 0.23804740159396356]]  \n",
       "388854   [[0.658852807453241, 0.34114719254675896]]  \n",
       "388855   [[0.6557791111430713, 0.3442208888569287]]  \n",
       "388856  [[0.8149379888606689, 0.18506201113933102]]  \n",
       "473166  [[0.5774906936678819, 0.42250930633211814]]  \n",
       "473167     [[0.660659857108453, 0.339340142891547]]  \n",
       "473168   [[0.667443158989159, 0.33255684101084104]]  \n",
       "473169  [[0.7394170786978546, 0.26058292130214544]]  \n",
       "473170   [[0.7265755992512613, 0.2734244007487387]]  "
      ]
     },
     "execution_count": 16,
     "metadata": {},
     "output_type": "execute_result"
    }
   ],
   "source": [
    "df.groupby(\"community\").head(5)"
   ]
  },
  {
   "cell_type": "markdown",
   "metadata": {},
   "source": [
    "### Calculate the average predicted probability for every user's openness classes (high vs low openness)\n"
   ]
  },
  {
   "cell_type": "code",
   "execution_count": 17,
   "metadata": {},
   "outputs": [],
   "source": [
    "average_opn_proba_0 = df.groupby(\"user_name\")[\"OPN_proba\"].apply(\n",
    "    lambda x: x.apply(lambda y: y[0][0]).mean()\n",
    ")\n",
    "df[\"probability_for_high_openness\"] = df[\"user_name\"].map(average_opn_proba_0)"
   ]
  },
  {
   "cell_type": "code",
   "execution_count": 18,
   "metadata": {},
   "outputs": [
    {
     "data": {
      "text/html": [
       "<div>\n",
       "<style scoped>\n",
       "    .dataframe tbody tr th:only-of-type {\n",
       "        vertical-align: middle;\n",
       "    }\n",
       "\n",
       "    .dataframe tbody tr th {\n",
       "        vertical-align: top;\n",
       "    }\n",
       "\n",
       "    .dataframe thead th {\n",
       "        text-align: right;\n",
       "    }\n",
       "</style>\n",
       "<table border=\"1\" class=\"dataframe\">\n",
       "  <thead>\n",
       "    <tr style=\"text-align: right;\">\n",
       "      <th></th>\n",
       "      <th>community</th>\n",
       "      <th>user_name</th>\n",
       "      <th>user_texts</th>\n",
       "      <th>#_of_long_texts</th>\n",
       "      <th>vector</th>\n",
       "      <th>OPN_proba</th>\n",
       "      <th>probability_for_high_openness</th>\n",
       "    </tr>\n",
       "  </thead>\n",
       "  <tbody>\n",
       "    <tr>\n",
       "      <th>0</th>\n",
       "      <td>classicalmusic</td>\n",
       "      <td>Radaxen</td>\n",
       "      <td>I remember doing this with WC3 Dota 1 Lifestea...</td>\n",
       "      <td>339</td>\n",
       "      <td>[-0.0013457498280331492, -0.06375082582235336,...</td>\n",
       "      <td>[[0.8262392460938337, 0.17376075390616627]]</td>\n",
       "      <td>0.740002</td>\n",
       "    </tr>\n",
       "    <tr>\n",
       "      <th>1</th>\n",
       "      <td>classicalmusic</td>\n",
       "      <td>Radaxen</td>\n",
       "      <td>Why not? Though there's no AD in League.  I ki...</td>\n",
       "      <td>339</td>\n",
       "      <td>[0.018474051728844643, -0.01666010357439518, 0...</td>\n",
       "      <td>[[0.589807086022424, 0.410192913977576]]</td>\n",
       "      <td>0.740002</td>\n",
       "    </tr>\n",
       "    <tr>\n",
       "      <th>2</th>\n",
       "      <td>classicalmusic</td>\n",
       "      <td>Radaxen</td>\n",
       "      <td>Haha I was kind of joking. That aside, why mos...</td>\n",
       "      <td>339</td>\n",
       "      <td>[-0.008903076872229576, -0.05069487541913986, ...</td>\n",
       "      <td>[[0.6808525955323554, 0.31914740446764456]]</td>\n",
       "      <td>0.740002</td>\n",
       "    </tr>\n",
       "    <tr>\n",
       "      <th>3</th>\n",
       "      <td>classicalmusic</td>\n",
       "      <td>Radaxen</td>\n",
       "      <td>Mana is often a less limiting factor, unless y...</td>\n",
       "      <td>339</td>\n",
       "      <td>[0.04738666117191315, -0.053208597004413605, 0...</td>\n",
       "      <td>[[0.8330441760356234, 0.16695582396437655]]</td>\n",
       "      <td>0.740002</td>\n",
       "    </tr>\n",
       "    <tr>\n",
       "      <th>4</th>\n",
       "      <td>classicalmusic</td>\n",
       "      <td>Radaxen</td>\n",
       "      <td>It's first pick worthy, but late in first phas...</td>\n",
       "      <td>339</td>\n",
       "      <td>[0.007831799797713757, -0.0637780949473381, 0....</td>\n",
       "      <td>[[0.8114507670548725, 0.18854923294512746]]</td>\n",
       "      <td>0.740002</td>\n",
       "    </tr>\n",
       "  </tbody>\n",
       "</table>\n",
       "</div>"
      ],
      "text/plain": [
       "        community user_name  \\\n",
       "0  classicalmusic   Radaxen   \n",
       "1  classicalmusic   Radaxen   \n",
       "2  classicalmusic   Radaxen   \n",
       "3  classicalmusic   Radaxen   \n",
       "4  classicalmusic   Radaxen   \n",
       "\n",
       "                                          user_texts #_of_long_texts  \\\n",
       "0  I remember doing this with WC3 Dota 1 Lifestea...             339   \n",
       "1  Why not? Though there's no AD in League.  I ki...             339   \n",
       "2  Haha I was kind of joking. That aside, why mos...             339   \n",
       "3  Mana is often a less limiting factor, unless y...             339   \n",
       "4  It's first pick worthy, but late in first phas...             339   \n",
       "\n",
       "                                              vector  \\\n",
       "0  [-0.0013457498280331492, -0.06375082582235336,...   \n",
       "1  [0.018474051728844643, -0.01666010357439518, 0...   \n",
       "2  [-0.008903076872229576, -0.05069487541913986, ...   \n",
       "3  [0.04738666117191315, -0.053208597004413605, 0...   \n",
       "4  [0.007831799797713757, -0.0637780949473381, 0....   \n",
       "\n",
       "                                     OPN_proba  probability_for_high_openness  \n",
       "0  [[0.8262392460938337, 0.17376075390616627]]                       0.740002  \n",
       "1     [[0.589807086022424, 0.410192913977576]]                       0.740002  \n",
       "2  [[0.6808525955323554, 0.31914740446764456]]                       0.740002  \n",
       "3  [[0.8330441760356234, 0.16695582396437655]]                       0.740002  \n",
       "4  [[0.8114507670548725, 0.18854923294512746]]                       0.740002  "
      ]
     },
     "execution_count": 18,
     "metadata": {},
     "output_type": "execute_result"
    }
   ],
   "source": [
    "df.head()"
   ]
  },
  {
   "cell_type": "markdown",
   "metadata": {},
   "source": [
    "# High OPN Probability\n",
    "\n",
    "AVG and Median Per Genre\n"
   ]
  },
  {
   "cell_type": "markdown",
   "metadata": {},
   "source": [
    "## `intfloat/e5-large-v2`\n"
   ]
  },
  {
   "cell_type": "code",
   "execution_count": 20,
   "metadata": {},
   "outputs": [
    {
     "name": "stdout",
     "output_type": "stream",
     "text": [
      "Mean values:\n",
      "                 probability_for_high_openness\n",
      "community                                     \n",
      "Metal                                 0.685465\n",
      "classicalmusic                        0.707373\n",
      "electronicmusic                       0.675736\n",
      "hiphopheads                           0.659340\n",
      "indieheads                            0.677143\n",
      "\n",
      "Median values:\n",
      "                 probability_for_high_openness\n",
      "community                                     \n",
      "Metal                                 0.686074\n",
      "classicalmusic                        0.702226\n",
      "electronicmusic                       0.675754\n",
      "hiphopheads                           0.660815\n",
      "indieheads                            0.676557\n"
     ]
    }
   ],
   "source": [
    "mean_values = df.groupby(\"community\")[[\"probability_for_high_openness\"]].mean()\n",
    "median_values = df.groupby(\"community\")[\n",
    "    [\"probability_for_high_openness\"]].median()\n",
    "\n",
    "print(\"Mean values:\")\n",
    "print(mean_values)\n",
    "\n",
    "print(\"\\nMedian values:\")\n",
    "print(median_values)"
   ]
  },
  {
   "cell_type": "code",
   "execution_count": 47,
   "metadata": {},
   "outputs": [
    {
     "data": {
      "image/png": "[encoded data removed]",
      "text/plain": [
       "<Figure size 640x480 with 1 Axes>"
      ]
     },
     "metadata": {},
     "output_type": "display_data"
    }
   ],
   "source": [
    "import matplotlib.pyplot as plt\n",
    "import numpy as np\n",
    "\n",
    "means = [0.685465, 0.707373, 0.675736, 0.659340, 0.677143]\n",
    "medians = [0.686074, 0.702226, 0.675754, 0.660815, 0.676557]\n",
    "\n",
    "\n",
    "def plot_bars_for_high_openness_probability(means: list[float], medians: list[float], model_name: str):\n",
    "    labels = ['Metal', 'Classical', 'Electronic', 'HipHop', 'Indie']\n",
    "    x = np.arange(len(labels))\n",
    "    width = 0.35\n",
    "\n",
    "    fig, ax = plt.subplots()\n",
    "    rects1 = ax.bar(x - width/2, means, width, label='Mean')\n",
    "    rects2 = ax.bar(x + width/2, medians, width, label='Median')\n",
    "\n",
    "    ax.set_ylabel('Scores')\n",
    "    ax.set_title(f'Probability For High Openness with {model_name}')\n",
    "    ax.set_xticks(x)\n",
    "    ax.set_xticklabels(labels)\n",
    "    ax.legend()\n",
    "\n",
    "    def autolabel(rects):\n",
    "        for rect in rects:\n",
    "            height = rect.get_height()\n",
    "            ax.annotate('{:.3f}'.format(height),\n",
    "                        xy=(rect.get_x() + rect.get_width() / 2, height/2),\n",
    "                        xytext=(0, 0),  # no offset\n",
    "                        textcoords=\"offset points\",\n",
    "                        ha='center', va='center', rotation=90)\n",
    "\n",
    "    autolabel(rects1)\n",
    "    autolabel(rects2)\n",
    "\n",
    "    fig.tight_layout()\n",
    "\n",
    "    plt.show()\n",
    "\n",
    "\n",
    "plot_bars_for_high_openness_probability(means, medians, model_name=\"E5-Large\")"
   ]
  },
  {
   "cell_type": "markdown",
   "metadata": {},
   "source": [
    "## `all-MiniLM-L6-v2`\n"
   ]
  },
  {
   "cell_type": "code",
   "execution_count": null,
   "metadata": {},
   "outputs": [
    {
     "name": "stdout",
     "output_type": "stream",
     "text": [
      "Mean values:\n",
      "                 average_opn_proba_0  average_opn_proba_1\n",
      "community                                                \n",
      "Metal                       0.688614             0.311386\n",
      "classicalmusic              0.716958             0.283042\n",
      "electronicmusic             0.684451             0.315549\n",
      "hiphopheads                 0.681755             0.318245\n",
      "indieheads                  0.689712             0.310288\n",
      "\n",
      "Median values:\n",
      "                 average_opn_proba_0  average_opn_proba_1\n",
      "community                                                \n",
      "Metal                       0.688207             0.311793\n",
      "classicalmusic              0.713479             0.286521\n",
      "electronicmusic             0.682555             0.317445\n",
      "hiphopheads                 0.680303             0.319697\n",
      "indieheads                  0.688481             0.311519\n"
     ]
    }
   ],
   "source": [
    "mean_values = df.groupby(\"community\")[[\"average_opn_proba_0\"]].mean()\n",
    "median_values = df.groupby(\"community\")[[\"average_opn_proba_0\"]].median()\n",
    "\n",
    "print(\"Mean values:\")\n",
    "print(mean_values)\n",
    "\n",
    "print(\"\\nMedian values:\")\n",
    "print(median_values)"
   ]
  },
  {
   "cell_type": "code",
   "execution_count": 48,
   "metadata": {},
   "outputs": [
    {
     "data": {
      "image/png": "[encoded data removed]",
      "text/plain": [
       "<Figure size 640x480 with 1 Axes>"
      ]
     },
     "metadata": {},
     "output_type": "display_data"
    }
   ],
   "source": [
    "means = [0.688614, 0.716958, 0.684451, 0.681755, 0.689712]\n",
    "medians = [0.688207, 0.713479, 0.682555, 0.680303, 0.688481]\n",
    "plot_bars_for_high_openness_probability(means, medians, model_name=\"MiniLM-L6\")"
   ]
  },
  {
   "cell_type": "code",
   "execution_count": 23,
   "metadata": {},
   "outputs": [
    {
     "data": {
      "image/png": "[encoded data removed]",
      "text/plain": [
       "<Figure size 1200x600 with 1 Axes>"
      ]
     },
     "metadata": {},
     "output_type": "display_data"
    }
   ],
   "source": [
    "import pandas as pd\n",
    "import matplotlib.pyplot as plt\n",
    "\n",
    "\n",
    "def draw_proba_box_plot(class_name: str):\n",
    "    plt.figure(figsize=(12, 6))\n",
    "\n",
    "    bp = plt.boxplot(\n",
    "        [df[df[\"community\"] == c][class_name] for c in df[\"community\"].unique()],\n",
    "        notch=True,\n",
    "        vert=False,\n",
    "        labels=df[\"community\"].unique(),\n",
    "        patch_artist=True,\n",
    "    )\n",
    "\n",
    "    for box, color in zip(\n",
    "        bp[\"boxes\"], [\"skyblue\", \"lightgreen\", \"orange\", \"pink\", \"purple\"]\n",
    "    ):\n",
    "        box.set_facecolor(color)\n",
    "\n",
    "    plt.xlabel(class_name)\n",
    "    plt.ylabel(\"Community\")\n",
    "    plt.title(f\"Box Plots of {class_name} by Community by: `intfloat/e5-large-v2`\")\n",
    "    plt.xticks(rotation=45, ha=\"right\")\n",
    "    plt.grid(axis=\"y\", linestyle=\"--\", alpha=0.7)\n",
    "    plt.tight_layout()\n",
    "    plt.show()\n",
    "\n",
    "\n",
    "draw_proba_box_plot(\"probability_for_high_openness\")"
   ]
  },
  {
   "cell_type": "code",
   "execution_count": 26,
   "metadata": {},
   "outputs": [
    {
     "name": "stdout",
     "output_type": "stream",
     "text": [
      "Example of the dataframe we have now:\n"
     ]
    },
    {
     "data": {
      "text/html": [
       "<div>\n",
       "<style scoped>\n",
       "    .dataframe tbody tr th:only-of-type {\n",
       "        vertical-align: middle;\n",
       "    }\n",
       "\n",
       "    .dataframe tbody tr th {\n",
       "        vertical-align: top;\n",
       "    }\n",
       "\n",
       "    .dataframe thead th {\n",
       "        text-align: right;\n",
       "    }\n",
       "</style>\n",
       "<table border=\"1\" class=\"dataframe\">\n",
       "  <thead>\n",
       "    <tr style=\"text-align: right;\">\n",
       "      <th></th>\n",
       "      <th>community</th>\n",
       "      <th>user_name</th>\n",
       "      <th>user_texts</th>\n",
       "      <th>#_of_long_texts</th>\n",
       "      <th>vector</th>\n",
       "      <th>probability_for_high_openness</th>\n",
       "    </tr>\n",
       "  </thead>\n",
       "  <tbody>\n",
       "    <tr>\n",
       "      <th>0</th>\n",
       "      <td>classicalmusic</td>\n",
       "      <td>Radaxen</td>\n",
       "      <td>I remember doing this with WC3 Dota 1 Lifestea...</td>\n",
       "      <td>339</td>\n",
       "      <td>[-0.0013457498280331492, -0.06375082582235336,...</td>\n",
       "      <td>0.740002</td>\n",
       "    </tr>\n",
       "    <tr>\n",
       "      <th>1</th>\n",
       "      <td>classicalmusic</td>\n",
       "      <td>Radaxen</td>\n",
       "      <td>Why not? Though there's no AD in League.  I ki...</td>\n",
       "      <td>339</td>\n",
       "      <td>[0.018474051728844643, -0.01666010357439518, 0...</td>\n",
       "      <td>0.740002</td>\n",
       "    </tr>\n",
       "    <tr>\n",
       "      <th>2</th>\n",
       "      <td>classicalmusic</td>\n",
       "      <td>Radaxen</td>\n",
       "      <td>Haha I was kind of joking. That aside, why mos...</td>\n",
       "      <td>339</td>\n",
       "      <td>[-0.008903076872229576, -0.05069487541913986, ...</td>\n",
       "      <td>0.740002</td>\n",
       "    </tr>\n",
       "    <tr>\n",
       "      <th>3</th>\n",
       "      <td>classicalmusic</td>\n",
       "      <td>Radaxen</td>\n",
       "      <td>Mana is often a less limiting factor, unless y...</td>\n",
       "      <td>339</td>\n",
       "      <td>[0.04738666117191315, -0.053208597004413605, 0...</td>\n",
       "      <td>0.740002</td>\n",
       "    </tr>\n",
       "    <tr>\n",
       "      <th>4</th>\n",
       "      <td>classicalmusic</td>\n",
       "      <td>Radaxen</td>\n",
       "      <td>It's first pick worthy, but late in first phas...</td>\n",
       "      <td>339</td>\n",
       "      <td>[0.007831799797713757, -0.0637780949473381, 0....</td>\n",
       "      <td>0.740002</td>\n",
       "    </tr>\n",
       "  </tbody>\n",
       "</table>\n",
       "</div>"
      ],
      "text/plain": [
       "        community user_name  \\\n",
       "0  classicalmusic   Radaxen   \n",
       "1  classicalmusic   Radaxen   \n",
       "2  classicalmusic   Radaxen   \n",
       "3  classicalmusic   Radaxen   \n",
       "4  classicalmusic   Radaxen   \n",
       "\n",
       "                                          user_texts #_of_long_texts  \\\n",
       "0  I remember doing this with WC3 Dota 1 Lifestea...             339   \n",
       "1  Why not? Though there's no AD in League.  I ki...             339   \n",
       "2  Haha I was kind of joking. That aside, why mos...             339   \n",
       "3  Mana is often a less limiting factor, unless y...             339   \n",
       "4  It's first pick worthy, but late in first phas...             339   \n",
       "\n",
       "                                              vector  \\\n",
       "0  [-0.0013457498280331492, -0.06375082582235336,...   \n",
       "1  [0.018474051728844643, -0.01666010357439518, 0...   \n",
       "2  [-0.008903076872229576, -0.05069487541913986, ...   \n",
       "3  [0.04738666117191315, -0.053208597004413605, 0...   \n",
       "4  [0.007831799797713757, -0.0637780949473381, 0....   \n",
       "\n",
       "   probability_for_high_openness  \n",
       "0                       0.740002  \n",
       "1                       0.740002  \n",
       "2                       0.740002  \n",
       "3                       0.740002  \n",
       "4                       0.740002  "
      ]
     },
     "execution_count": 26,
     "metadata": {},
     "output_type": "execute_result"
    }
   ],
   "source": [
    "print(\"Example of the dataframe we have now:\")\n",
    "df.head()"
   ]
  },
  {
   "cell_type": "markdown",
   "metadata": {},
   "source": [
    "# Statistical Tests\n"
   ]
  },
  {
   "cell_type": "markdown",
   "metadata": {},
   "source": [
    "## ANOVA\n",
    "\n",
    "Now that we have ~1K of probability-for-openness score per musical genre community, <br>\n",
    "we want to understand how significant are the differences between the groups' scores. To do so, we will use the ANOVA test. <br>\n",
    "ANOVA compares the variance between-groups means to the variance within-groups. If the variance between-groups is larger than the within-groups, it suggests that there are differences in means among the groups.\n"
   ]
  },
  {
   "cell_type": "code",
   "execution_count": 33,
   "metadata": {},
   "outputs": [],
   "source": [
    "data_for_stat_tests = [\n",
    "    classicalmusic_df[\"probability_for_high_openness\"],\n",
    "    electronicmusic_df[\"probability_for_high_openness\"],\n",
    "    hiphopheads_df[\"probability_for_high_openness\"],\n",
    "    indieheads_df[\"probability_for_high_openness\"],\n",
    "    metal_df[\"probability_for_high_openness\"],\n",
    "]\n",
    "group_names = [\"classical\", \"electronic\", \"hiphop\", \"indie\", \"metal\"]"
   ]
  },
  {
   "cell_type": "code",
   "execution_count": 31,
   "metadata": {},
   "outputs": [
    {
     "name": "stdout",
     "output_type": "stream",
     "text": [
      "F-value: 34146.72215408668\n",
      "P-value: 0.0\n"
     ]
    }
   ],
   "source": [
    "import scipy.stats as stats\n",
    "\n",
    "classicalmusic_df = df[df[\"community\"] == \"classicalmusic\"]\n",
    "electronicmusic_df = df[df[\"community\"] == \"electronicmusic\"]\n",
    "hiphopheads_df = df[df[\"community\"] == \"hiphopheads\"]\n",
    "indieheads_df = df[df[\"community\"] == \"indieheads\"]\n",
    "metal_df = df[df[\"community\"] == \"Metal\"]\n",
    "\n",
    "fvalue, pvalue = stats.f_oneway(*data_for_stat_tests)\n",
    "print(\"F-value:\", fvalue)\n",
    "print(\"P-value:\", pvalue)"
   ]
  },
  {
   "cell_type": "markdown",
   "metadata": {},
   "source": [
    "## T-Test\n"
   ]
  },
  {
   "cell_type": "code",
   "execution_count": 35,
   "metadata": {},
   "outputs": [
    {
     "name": "stdout",
     "output_type": "stream",
     "text": [
      "T-Test between classical & electronic: t = 205.48290669055226, p = 0.0\n",
      "T-Test between classical & hiphop: t = 342.92535900277437, p = 0.0\n",
      "T-Test between classical & indie: t = 179.0118692895719, p = 0.0\n",
      "T-Test between classical & metal: t = 138.86641848064556, p = 0.0\n",
      "T-Test between electronic & hiphop: t = 125.23021606477582, p = 0.0\n",
      "T-Test between electronic & indie: t = -8.87600026512204, p = 6.991808507829022e-19\n",
      "T-Test between electronic & metal: t = -63.86321503388399, p = 0.0\n",
      "T-Test between hiphop & indie: t = -121.54328546157592, p = 0.0\n",
      "T-Test between hiphop & metal: t = -186.2508059935515, p = 0.0\n",
      "T-Test between indie & metal: t = -49.07711429118278, p = 0.0\n"
     ]
    }
   ],
   "source": [
    "from scipy import stats\n",
    "\n",
    "\n",
    "for i in range(len(data_for_stat_tests)):\n",
    "    for j in range(i + 1, len(data_for_stat_tests)):\n",
    "        t_stat, p_val = stats.ttest_ind(\n",
    "            data_for_stat_tests[i], data_for_stat_tests[j])\n",
    "        print(\n",
    "            f\"T-Test between {group_names[i]} & {group_names[j]}: t = {t_stat}, p = {p_val}\"\n",
    "        )"
   ]
  },
  {
   "cell_type": "markdown",
   "metadata": {},
   "source": [
    "#### Visuzlize the T-Test results\n"
   ]
  },
  {
   "cell_type": "code",
   "execution_count": 37,
   "metadata": {},
   "outputs": [
    {
     "data": {
      "image/png": "[encoded data removed]",
      "text/plain": [
       "<Figure size 1000x800 with 2 Axes>"
      ]
     },
     "metadata": {},
     "output_type": "display_data"
    }
   ],
   "source": [
    "import matplotlib.pyplot as plt\n",
    "import numpy as np\n",
    "\n",
    "# Assuming t_stats is your t-statistics\n",
    "t_stats = np.array(\n",
    "    [\n",
    "        [0, 205.48, 342.92, 179.01, 138.86],\n",
    "        [0, 0, 125.23, -8.87, -63.86],\n",
    "        [0, 0, 0, -121.54, -186.25],\n",
    "        [0, 0, 0, 0, -49.07],\n",
    "        [0, 0, 0, 0, 0],\n",
    "    ]\n",
    ")\n",
    "\n",
    "labels = [\"classical\", \"electronic\", \"hiphop\", \"indie\", \"metal\"]\n",
    "\n",
    "plt.figure(figsize=(10, 8))\n",
    "plt.imshow(t_stats, cmap=\"coolwarm\")\n",
    "plt.colorbar(label=\"T-statistics\")\n",
    "plt.xticks(np.arange(len(labels)), labels, rotation=45)\n",
    "plt.yticks(np.arange(len(labels)), labels)\n",
    "plt.title(\"T-statistics for each pair of groups\")\n",
    "plt.show()"
   ]
  }
 ],
 "metadata": {
  "kernelspec": {
   "display_name": ".venv",
   "language": "python",
   "name": "python3"
  },
  "language_info": {
   "codemirror_mode": {
    "name": "ipython",
    "version": 3
   },
   "file_extension": ".py",
   "mimetype": "text/x-python",
   "name": "python",
   "nbconvert_exporter": "python",
   "pygments_lexer": "ipython3",
   "version": "3.11.7"
  }
 },
 "nbformat": 4,
 "nbformat_minor": 2
}
