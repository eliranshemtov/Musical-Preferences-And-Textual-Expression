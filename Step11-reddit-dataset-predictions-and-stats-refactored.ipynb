{
 "cells": [
  {
   "cell_type": "markdown",
   "metadata": {},
   "source": [
    "# Back to the Reddit dataset for all traits\n",
    "with models trained by GPT-3.5 generated dataset <br>\n",
    "and similarity threshold == 0.95 <br>\n",
    "In this notebook we'll analyze our Reddit-dataset and predict the probability for each personality trait for every musical genre. <br>\n",
    "Those predictions will be followed by statistical tests"
   ]
  },
  {
   "cell_type": "markdown",
   "metadata": {},
   "source": [
    "## (1) Filter out short texts\n",
    "\n",
    "To effectively use the model, we need to use only long-enough texts. <br>\n",
    "We set the threshold as the average length of texts used to train the model, which is **40** tokens.\n"
   ]
  },
  {
   "cell_type": "markdown",
   "metadata": {},
   "source": [
    "### 1.1 AVG Length of posts per community\n"
   ]
  },
  {
   "cell_type": "code",
   "execution_count": 1,
   "metadata": {
    "notebookRunGroups": {
     "groupValue": "12"
    },
    "tags": []
   },
   "outputs": [
    {
     "name": "stdout",
     "output_type": "stream",
     "text": [
      "[ Median | AVG ] number of posts left per user after filtering all posts shorter than 40 tokens: \n",
      "indieheads [ 35.0 | 84.467 ]\n",
      "hiphopheads [ 82.0 | 121.983 ]\n",
      "Metal [ 53.5 | 103.118 ]\n",
      "electronicmusic [ 43.0 | 97.761 ]\n",
      "classicalmusic [ 117.0 | 172.252 ]\n"
     ]
    }
   ],
   "source": [
    "import os\n",
    "import json\n",
    "import statistics\n",
    "\n",
    "directory = \"./data/detailed_filtered_data\"\n",
    "threshold = 40\n",
    "\n",
    "print(\n",
    "    \"[ Median | AVG ] number of posts left per user after filtering all posts shorter than 40 tokens: \"\n",
    ")\n",
    "for root, dirs, files in os.walk(directory):\n",
    "    for folder in dirs:\n",
    "        counter_in_genre = []\n",
    "        folder_path = os.path.join(root, folder)\n",
    "        for file in os.listdir(folder_path):\n",
    "            if file.endswith(\".json\"):\n",
    "                file_path = os.path.join(folder_path, file)\n",
    "                with open(file_path, \"r\") as json_file:\n",
    "                    data = json.load(json_file)\n",
    "                    counter = 0\n",
    "                    for vector_file_name in data.keys():\n",
    "                        for sub in data.get(vector_file_name, {}).get(\"submissions\"):\n",
    "                            if len(sub.get(\"title\", \"\").split()) >= threshold:\n",
    "                                counter += 1\n",
    "                            if len(sub.get(\"body\", \"\").split()) >= threshold:\n",
    "                                counter += 1\n",
    "                        for comment in data.get(vector_file_name, {}).get(\"comments\"):\n",
    "                            if len(comment.get(\"body\", \"\").split()) >= threshold:\n",
    "                                counter += 1\n",
    "                    counter_in_genre.append(counter)\n",
    "        if counter_in_genre:\n",
    "            print(\n",
    "                folder,\n",
    "                \"[\",\n",
    "                statistics.median(counter_in_genre),\n",
    "                \"|\",\n",
    "                statistics.mean(counter_in_genre),\n",
    "                \"]\",\n",
    "            )"
   ]
  },
  {
   "cell_type": "markdown",
   "metadata": {},
   "source": [
    "### 1.2 Process the data as a DataFrame\n",
    " & Filter out short texts\n"
   ]
  },
  {
   "cell_type": "code",
   "execution_count": 2,
   "metadata": {
    "notebookRunGroups": {
     "groupValue": "12"
    }
   },
   "outputs": [
    {
     "name": "stderr",
     "output_type": "stream",
     "text": [
      "100%|██████████| 1000/1000 [00:01<00:00, 665.60it/s]\n",
      "100%|██████████| 1000/1000 [00:00<00:00, 1031.31it/s]\n",
      "100%|██████████| 1000/1000 [00:01<00:00, 753.77it/s]\n",
      "100%|██████████| 1000/1000 [00:00<00:00, 1084.64it/s]\n",
      "100%|██████████| 1000/1000 [00:01<00:00, 878.96it/s]"
     ]
    },
    {
     "name": "stdout",
     "output_type": "stream",
     "text": [
      "Done processing texts :)\n"
     ]
    },
    {
     "name": "stderr",
     "output_type": "stream",
     "text": [
      "\n"
     ]
    }
   ],
   "source": [
    "import pandas as pd\n",
    "import os\n",
    "import json\n",
    "from tqdm import tqdm\n",
    "\n",
    "df = pd.DataFrame(columns=[\"community\", \"user_name\", \"user_texts\", \"#_of_long_texts\"])\n",
    "\n",
    "\n",
    "def process_files(community, df):\n",
    "    threshold = 40\n",
    "    directory = f\"./data/detailed_filtered_data/texts/{community}\"\n",
    "    for filename in tqdm(os.listdir(directory)):\n",
    "        if filename.endswith(\".json\"):\n",
    "            user_texts = []\n",
    "            with open(os.path.join(directory, filename), \"r\") as f:\n",
    "                data = json.load(f)\n",
    "                for key in data:\n",
    "                    for submission in data[key].get(\"submissions\", []):\n",
    "                        title = submission.get(\"title\", \"\")\n",
    "                        body = submission.get(\"body\", \"\")\n",
    "                        if len(title.split()) >= threshold:\n",
    "                            user_texts.append(title)\n",
    "                        if len(body.split()) >= threshold:\n",
    "                            user_texts.append(body)\n",
    "                    for submission in data[key].get(\"comments\", []):\n",
    "                        body = submission.get(\"body\", \"\")\n",
    "                        if len(body.split()) >= threshold:\n",
    "                            user_texts.append(body)\n",
    "            if len(user_texts) == 0:\n",
    "                continue\n",
    "            user_name = filename.split(\".json\")[0]\n",
    "            new_row = pd.DataFrame(\n",
    "                {\n",
    "                    \"community\": community,\n",
    "                    \"user_name\": [user_name],\n",
    "                    \"user_texts\": [user_texts],\n",
    "                    \"#_of_long_texts\": [len(user_texts)],\n",
    "                }\n",
    "            )\n",
    "            df = pd.concat([df, new_row], ignore_index=True)\n",
    "    return df\n",
    "\n",
    "\n",
    "communities = [\n",
    "    \"classicalmusic\",\n",
    "    \"electronicmusic\",\n",
    "    \"hiphopheads\",\n",
    "    \"indieheads\",\n",
    "    \"Metal\",\n",
    "]\n",
    "\n",
    "for vector_file_name in communities:\n",
    "    df = pd.concat([df, process_files(vector_file_name, df)])\n",
    "print(\"Done processing texts :)\")"
   ]
  },
  {
   "cell_type": "markdown",
   "metadata": {},
   "source": [
    "### 1.3 De-Duplication\n"
   ]
  },
  {
   "cell_type": "code",
   "execution_count": 3,
   "metadata": {
    "notebookRunGroups": {
     "groupValue": "12"
    }
   },
   "outputs": [
    {
     "name": "stdout",
     "output_type": "stream",
     "text": [
      "After dedeuplication there are 575,816 unique texts in total\n"
     ]
    }
   ],
   "source": [
    "def deduplicate_texts(df):\n",
    "    exploded_df = df.explode(\"user_texts\")\n",
    "    exploded_df = exploded_df.drop_duplicates(subset=\"user_texts\")\n",
    "    return exploded_df\n",
    "\n",
    "\n",
    "df = deduplicate_texts(df)\n",
    "print(\"After dedeuplication there are\", format(len(df), \",\"), \"unique texts in total\")"
   ]
  },
  {
   "cell_type": "code",
   "execution_count": 4,
   "metadata": {
    "notebookRunGroups": {
     "groupValue": "12"
    }
   },
   "outputs": [
    {
     "name": "stdout",
     "output_type": "stream",
     "text": [
      "Number of texts left after deduplication per community: \n",
      "Classicalmusic: 170,251 \n",
      "Electronicmusic: 97,063 \n",
      "Hiphopheads: 121,538 \n",
      "Indieheads: 84,314 \n",
      "Metal: 102,650\n"
     ]
    }
   ],
   "source": [
    "classicalmusic_df = df[df[\"community\"] == \"classicalmusic\"]\n",
    "electronicmusic_df = df[df[\"community\"] == \"electronicmusic\"]\n",
    "hiphopheads_df = df[df[\"community\"] == \"hiphopheads\"]\n",
    "indieheads_df = df[df[\"community\"] == \"indieheads\"]\n",
    "metal_df = df[df[\"community\"] == \"Metal\"]\n",
    "\n",
    "communities_dfs = [\n",
    "    classicalmusic_df,\n",
    "    electronicmusic_df,\n",
    "    hiphopheads_df,\n",
    "    indieheads_df,\n",
    "    metal_df,\n",
    "]\n",
    "\n",
    "print(\n",
    "    \"Number of texts left after deduplication per community:\",\n",
    "    \"\\nClassicalmusic:\",\n",
    "    format(len(classicalmusic_df), \",\"),\n",
    "    \"\\nElectronicmusic:\",\n",
    "    format(len(electronicmusic_df), \",\"),\n",
    "    \"\\nHiphopheads:\",\n",
    "    format(len(hiphopheads_df), \",\"),\n",
    "    \"\\nIndieheads:\",\n",
    "    format(len(indieheads_df), \",\"),\n",
    "    \"\\nMetal:\",\n",
    "    format(len(metal_df), \",\"),\n",
    ")"
   ]
  },
  {
   "cell_type": "code",
   "execution_count": 5,
   "metadata": {
    "notebookRunGroups": {
     "groupValue": "12"
    }
   },
   "outputs": [
    {
     "name": "stdout",
     "output_type": "stream",
     "text": [
      "Median and Mean of texts-count per user in each community after deduplication:\n",
      "classicalmusic: Median = 118.5  | Mean = 173.37\n",
      "electronicmusic: Median = 60.5  | Mean = 109.55\n",
      "hiphopheads: Median = 83.0  | Mean = 122.39\n",
      "indieheads: Median = 52.0  | Mean = 96.8\n",
      "metal: Median = 58.0  | Mean = 107.94\n"
     ]
    }
   ],
   "source": [
    "classicalmusic_counts = classicalmusic_df[\"user_name\"].value_counts()\n",
    "electronicmusic_counts = electronicmusic_df[\"user_name\"].value_counts()\n",
    "hiphopheads_counts = hiphopheads_df[\"user_name\"].value_counts()\n",
    "indieheads_counts = indieheads_df[\"user_name\"].value_counts()\n",
    "metal_counts = metal_df[\"user_name\"].value_counts()\n",
    "\n",
    "\n",
    "print(\"Median and Mean of texts-count per user in each community after deduplication:\")\n",
    "print(\n",
    "    \"classicalmusic: Median =\",\n",
    "    classicalmusic_counts.median(),\n",
    "    \" | Mean =\",\n",
    "    round(classicalmusic_counts.mean(), 2),\n",
    ")\n",
    "print(\n",
    "    \"electronicmusic: Median =\",\n",
    "    electronicmusic_counts.median(),\n",
    "    \" | Mean =\",\n",
    "    round(electronicmusic_counts.mean(), 2),\n",
    ")\n",
    "print(\n",
    "    \"hiphopheads: Median =\",\n",
    "    hiphopheads_counts.median(),\n",
    "    \" | Mean =\",\n",
    "    round(hiphopheads_counts.mean(), 2),\n",
    ")\n",
    "print(\n",
    "    \"indieheads: Median =\",\n",
    "    indieheads_counts.median(),\n",
    "    \" | Mean =\",\n",
    "    round(indieheads_counts.mean(), 2),\n",
    ")\n",
    "print(\n",
    "    \"metal: Median =\", metal_counts.median(), \" | Mean =\", round(metal_counts.mean(), 2)\n",
    ")"
   ]
  },
  {
   "cell_type": "markdown",
   "metadata": {},
   "source": [
    "## (2) Vectorize all Redditors texts\n"
   ]
  },
  {
   "cell_type": "markdown",
   "metadata": {},
   "source": [
    "### 2.1 Vectorize\n"
   ]
  },
  {
   "cell_type": "markdown",
   "metadata": {},
   "source": [
    "#### 2.1.1 Vectorization method"
   ]
  },
  {
   "cell_type": "code",
   "execution_count": 6,
   "metadata": {},
   "outputs": [],
   "source": [
    "from sentence_transformers import SentenceTransformer\n",
    "from typing import List, Union\n",
    "from torch import Tensor\n",
    "from numpy import ndarray\n",
    "\n",
    "\n",
    "def vectorize_text(\n",
    "    text, model: SentenceTransformer, batch_size=12, show_progress_bar=False\n",
    ") -> Union[List[Tensor], ndarray, Tensor]:\n",
    "    return model.encode(\n",
    "        text, show_progress_bar=show_progress_bar, batch_size=batch_size\n",
    "    )"
   ]
  },
  {
   "cell_type": "markdown",
   "metadata": {},
   "source": [
    "#### 2.1.2 Vectorize & persist or reload\n"
   ]
  },
  {
   "cell_type": "code",
   "execution_count": 9,
   "metadata": {},
   "outputs": [],
   "source": [
    "import h5py\n",
    "import numpy as np\n",
    "from tqdm import tqdm\n",
    "import os\n",
    "\n",
    "model = SentenceTransformer(\"intfloat/e5-large-v2\")\n",
    "\n",
    "\n",
    "def vectorize_or_load_community_data(community_name: str, df: pd.DataFrame):\n",
    "    file_path = f\"data/detailed_filtered_data/vectors/{community_name}.h5\"\n",
    "    if os.path.exists(file_path):\n",
    "        print(f\"Loading vectors for {community_name} from file\")\n",
    "        with h5py.File(file_path, \"r\") as f:\n",
    "            dataset = f[\"vectors\"]\n",
    "            df[\"vector\"] = dataset[:].tolist()\n",
    "    else:\n",
    "        print(f\"Vectorizing texts for {community_name}...\")\n",
    "        compression = \"lzf\"\n",
    "        estimated_rows = len(df)\n",
    "\n",
    "        with h5py.File(file_path, \"a\") as f:\n",
    "            if \"vectors\" not in f:\n",
    "                dataset = f.create_dataset(\n",
    "                    \"vectors\",\n",
    "                    (estimated_rows, model.get_sentence_embedding_dimension()),\n",
    "                    dtype=np.float32,\n",
    "                    compression=compression,\n",
    "                )\n",
    "                print(\"Dataset shape:\", dataset.shape)\n",
    "            else:\n",
    "                dataset = f[\"vectors\"]\n",
    "\n",
    "            i = 0\n",
    "            progress_bar = tqdm(total=estimated_rows, desc=\"Vectorizing texts\")\n",
    "            for _, row in df.iterrows():\n",
    "                vector = vectorize_text(row[\"user_texts\"], model)\n",
    "                dataset[i] = vector\n",
    "                i += 1\n",
    "                progress_bar.update(1)\n",
    "            progress_bar.close()\n",
    "\n"
   ]
  },
  {
   "cell_type": "code",
   "execution_count": 10,
   "metadata": {},
   "outputs": [
    {
     "name": "stdout",
     "output_type": "stream",
     "text": [
      "Loading vectors for classical from file\n",
      "Loading vectors for electronic from file\n",
      "Loading vectors for hiphopheads from file\n",
      "Loading vectors for indieheads from file\n",
      "Loading vectors for metal from file\n"
     ]
    }
   ],
   "source": [
    "community_names = [\"classical\", \"electronic\", \"hiphopheads\", \"indieheads\", \"metal\"]\n",
    "for community_name, df in zip(community_names, communities_dfs):\n",
    "    vectorize_or_load_community_data(community_name, df)\n",
    "df = pd.concat(communities_dfs, ignore_index=True)"
   ]
  },
  {
   "cell_type": "markdown",
   "metadata": {},
   "source": [
    "### 2.4 Show Sample\n"
   ]
  },
  {
   "cell_type": "code",
   "execution_count": 12,
   "metadata": {
    "notebookRunGroups": {
     "groupValue": "12"
    }
   },
   "outputs": [
    {
     "data": {
      "text/html": [
       "<div>\n",
       "<style scoped>\n",
       "    .dataframe tbody tr th:only-of-type {\n",
       "        vertical-align: middle;\n",
       "    }\n",
       "\n",
       "    .dataframe tbody tr th {\n",
       "        vertical-align: top;\n",
       "    }\n",
       "\n",
       "    .dataframe thead th {\n",
       "        text-align: right;\n",
       "    }\n",
       "</style>\n",
       "<table border=\"1\" class=\"dataframe\">\n",
       "  <thead>\n",
       "    <tr style=\"text-align: right;\">\n",
       "      <th></th>\n",
       "      <th>community</th>\n",
       "      <th>user_name</th>\n",
       "      <th>user_texts</th>\n",
       "      <th>#_of_long_texts</th>\n",
       "      <th>vector</th>\n",
       "    </tr>\n",
       "  </thead>\n",
       "  <tbody>\n",
       "    <tr>\n",
       "      <th>0</th>\n",
       "      <td>classicalmusic</td>\n",
       "      <td>Radaxen</td>\n",
       "      <td>I remember doing this with WC3 Dota 1 Lifestea...</td>\n",
       "      <td>339</td>\n",
       "      <td>[-0.0013457498280331492, -0.06375082582235336,...</td>\n",
       "    </tr>\n",
       "    <tr>\n",
       "      <th>1</th>\n",
       "      <td>classicalmusic</td>\n",
       "      <td>Radaxen</td>\n",
       "      <td>Why not? Though there's no AD in League.  I ki...</td>\n",
       "      <td>339</td>\n",
       "      <td>[0.018474051728844643, -0.01666010357439518, 0...</td>\n",
       "    </tr>\n",
       "    <tr>\n",
       "      <th>2</th>\n",
       "      <td>classicalmusic</td>\n",
       "      <td>Radaxen</td>\n",
       "      <td>Haha I was kind of joking. That aside, why mos...</td>\n",
       "      <td>339</td>\n",
       "      <td>[-0.008903076872229576, -0.05069487541913986, ...</td>\n",
       "    </tr>\n",
       "    <tr>\n",
       "      <th>3</th>\n",
       "      <td>classicalmusic</td>\n",
       "      <td>Radaxen</td>\n",
       "      <td>Mana is often a less limiting factor, unless y...</td>\n",
       "      <td>339</td>\n",
       "      <td>[0.04738666117191315, -0.053208597004413605, 0...</td>\n",
       "    </tr>\n",
       "    <tr>\n",
       "      <th>4</th>\n",
       "      <td>classicalmusic</td>\n",
       "      <td>Radaxen</td>\n",
       "      <td>It's first pick worthy, but late in first phas...</td>\n",
       "      <td>339</td>\n",
       "      <td>[0.007831799797713757, -0.0637780949473381, 0....</td>\n",
       "    </tr>\n",
       "  </tbody>\n",
       "</table>\n",
       "</div>"
      ],
      "text/plain": [
       "        community user_name  \\\n",
       "0  classicalmusic   Radaxen   \n",
       "1  classicalmusic   Radaxen   \n",
       "2  classicalmusic   Radaxen   \n",
       "3  classicalmusic   Radaxen   \n",
       "4  classicalmusic   Radaxen   \n",
       "\n",
       "                                          user_texts #_of_long_texts  \\\n",
       "0  I remember doing this with WC3 Dota 1 Lifestea...             339   \n",
       "1  Why not? Though there's no AD in League.  I ki...             339   \n",
       "2  Haha I was kind of joking. That aside, why mos...             339   \n",
       "3  Mana is often a less limiting factor, unless y...             339   \n",
       "4  It's first pick worthy, but late in first phas...             339   \n",
       "\n",
       "                                              vector  \n",
       "0  [-0.0013457498280331492, -0.06375082582235336,...  \n",
       "1  [0.018474051728844643, -0.01666010357439518, 0...  \n",
       "2  [-0.008903076872229576, -0.05069487541913986, ...  \n",
       "3  [0.04738666117191315, -0.053208597004413605, 0...  \n",
       "4  [0.007831799797713757, -0.0637780949473381, 0....  "
      ]
     },
     "execution_count": 12,
     "metadata": {},
     "output_type": "execute_result"
    }
   ],
   "source": [
    "df.head()"
   ]
  },
  {
   "cell_type": "markdown",
   "metadata": {},
   "source": [
    "## (3) Back to Logistic regression\n"
   ]
  },
  {
   "cell_type": "markdown",
   "metadata": {},
   "source": [
    "### 3.1 Load the traits models\n",
    "\n",
    "Since the models trained by GPT-generated-dataset performed best against the Bard's unseen data, We chose them to move on with\n"
   ]
  },
  {
   "cell_type": "code",
   "execution_count": 13,
   "metadata": {},
   "outputs": [],
   "source": [
    "import pickle\n",
    "from sklearn.linear_model import LogisticRegression\n",
    "\n",
    "traits_and_models = {\"opn\": None, \"ext\": None}\n",
    "\n",
    "for trait in traits_and_models.keys():\n",
    "    with open(f\"models/step-10/gpt_{trait}.pkl\", \"rb\") as f:\n",
    "        traits_and_models[trait] = pickle.load(f)"
   ]
  },
  {
   "cell_type": "markdown",
   "metadata": {},
   "source": [
    "### 3.2 Predict-Probablily\n",
    "\n",
    "Use the model to Predict-Probablily for every user texts to be in high vs low trait classes, and then <br>\n",
    "Calculate the average predicted probability for every user's trait classes (high vs low trait (out of the Big Five))\n"
   ]
  },
  {
   "cell_type": "code",
   "execution_count": 14,
   "metadata": {
    "notebookRunGroups": {
     "groupValue": "1"
    }
   },
   "outputs": [],
   "source": [
    "import numpy as np\n",
    "\n",
    "\n",
    "def predict_trait_probab(trait: str, df: pd.DataFrame, model: LogisticRegression):\n",
    "    df[f\"{trait}_proba\"] = df[\"vector\"].apply(\n",
    "        lambda x: model.predict_proba(np.array(x).reshape(1, -1))\n",
    "    )\n",
    "    average_trait_proba = df.groupby(\"user_name\")[f\"{trait}_proba\"].apply(\n",
    "        lambda x: x.apply(lambda y: y[0][0]).mean()\n",
    "    )\n",
    "    df[f\"proba_for_high_{trait}\"] = df[\"user_name\"].map(average_trait_proba)\n",
    "    df = df.drop(columns=[f\"{trait}_proba\"])\n",
    "    return df"
   ]
  },
  {
   "cell_type": "code",
   "execution_count": 15,
   "metadata": {},
   "outputs": [
    {
     "data": {
      "text/html": [
       "<div>\n",
       "<style scoped>\n",
       "    .dataframe tbody tr th:only-of-type {\n",
       "        vertical-align: middle;\n",
       "    }\n",
       "\n",
       "    .dataframe tbody tr th {\n",
       "        vertical-align: top;\n",
       "    }\n",
       "\n",
       "    .dataframe thead th {\n",
       "        text-align: right;\n",
       "    }\n",
       "</style>\n",
       "<table border=\"1\" class=\"dataframe\">\n",
       "  <thead>\n",
       "    <tr style=\"text-align: right;\">\n",
       "      <th></th>\n",
       "      <th>community</th>\n",
       "      <th>user_name</th>\n",
       "      <th>#_of_long_texts</th>\n",
       "      <th>proba_for_high_opn</th>\n",
       "      <th>proba_for_high_ext</th>\n",
       "    </tr>\n",
       "  </thead>\n",
       "  <tbody>\n",
       "    <tr>\n",
       "      <th>0</th>\n",
       "      <td>classicalmusic</td>\n",
       "      <td>Radaxen</td>\n",
       "      <td>339</td>\n",
       "      <td>0.423429</td>\n",
       "      <td>0.471958</td>\n",
       "    </tr>\n",
       "    <tr>\n",
       "      <th>339</th>\n",
       "      <td>classicalmusic</td>\n",
       "      <td>diskoalafied</td>\n",
       "      <td>52</td>\n",
       "      <td>0.441590</td>\n",
       "      <td>0.413815</td>\n",
       "    </tr>\n",
       "    <tr>\n",
       "      <th>170251</th>\n",
       "      <td>electronicmusic</td>\n",
       "      <td>headphase</td>\n",
       "      <td>305</td>\n",
       "      <td>0.411137</td>\n",
       "      <td>0.525291</td>\n",
       "    </tr>\n",
       "    <tr>\n",
       "      <th>170553</th>\n",
       "      <td>electronicmusic</td>\n",
       "      <td>MarvAlbertNBAjam</td>\n",
       "      <td>146</td>\n",
       "      <td>0.438118</td>\n",
       "      <td>0.579137</td>\n",
       "    </tr>\n",
       "    <tr>\n",
       "      <th>267314</th>\n",
       "      <td>hiphopheads</td>\n",
       "      <td>thanks_bruh</td>\n",
       "      <td>50</td>\n",
       "      <td>0.422216</td>\n",
       "      <td>0.482296</td>\n",
       "    </tr>\n",
       "    <tr>\n",
       "      <th>267364</th>\n",
       "      <td>hiphopheads</td>\n",
       "      <td>acasovoycayendo</td>\n",
       "      <td>145</td>\n",
       "      <td>0.420888</td>\n",
       "      <td>0.537052</td>\n",
       "    </tr>\n",
       "    <tr>\n",
       "      <th>388852</th>\n",
       "      <td>indieheads</td>\n",
       "      <td>simco1974</td>\n",
       "      <td>1</td>\n",
       "      <td>0.511495</td>\n",
       "      <td>0.443740</td>\n",
       "    </tr>\n",
       "    <tr>\n",
       "      <th>388853</th>\n",
       "      <td>indieheads</td>\n",
       "      <td>GeorgeTaylorG</td>\n",
       "      <td>12</td>\n",
       "      <td>0.445206</td>\n",
       "      <td>0.483947</td>\n",
       "    </tr>\n",
       "    <tr>\n",
       "      <th>473166</th>\n",
       "      <td>Metal</td>\n",
       "      <td>sam1oq</td>\n",
       "      <td>309</td>\n",
       "      <td>0.404776</td>\n",
       "      <td>0.463136</td>\n",
       "    </tr>\n",
       "    <tr>\n",
       "      <th>473475</th>\n",
       "      <td>Metal</td>\n",
       "      <td>feckineejit</td>\n",
       "      <td>111</td>\n",
       "      <td>0.400082</td>\n",
       "      <td>0.513688</td>\n",
       "    </tr>\n",
       "  </tbody>\n",
       "</table>\n",
       "</div>"
      ],
      "text/plain": [
       "              community         user_name #_of_long_texts  proba_for_high_opn  \\\n",
       "0        classicalmusic           Radaxen             339            0.423429   \n",
       "339      classicalmusic      diskoalafied              52            0.441590   \n",
       "170251  electronicmusic         headphase             305            0.411137   \n",
       "170553  electronicmusic  MarvAlbertNBAjam             146            0.438118   \n",
       "267314      hiphopheads       thanks_bruh              50            0.422216   \n",
       "267364      hiphopheads   acasovoycayendo             145            0.420888   \n",
       "388852       indieheads         simco1974               1            0.511495   \n",
       "388853       indieheads     GeorgeTaylorG              12            0.445206   \n",
       "473166            Metal            sam1oq             309            0.404776   \n",
       "473475            Metal       feckineejit             111            0.400082   \n",
       "\n",
       "        proba_for_high_ext  \n",
       "0                 0.471958  \n",
       "339               0.413815  \n",
       "170251            0.525291  \n",
       "170553            0.579137  \n",
       "267314            0.482296  \n",
       "267364            0.537052  \n",
       "388852            0.443740  \n",
       "388853            0.483947  \n",
       "473166            0.463136  \n",
       "473475            0.513688  "
      ]
     },
     "execution_count": 15,
     "metadata": {},
     "output_type": "execute_result"
    }
   ],
   "source": [
    "for trait, model in traits_and_models.items():\n",
    "    df = predict_trait_probab(trait, df, model)\n",
    "\n",
    "df = df.drop_duplicates(subset=\"user_name\")\n",
    "df = df.drop(columns=[\"user_texts\", \"vector\"])\n",
    "df.groupby(\"community\").head(2)"
   ]
  },
  {
   "cell_type": "markdown",
   "metadata": {},
   "source": [
    "## (4) Analyze predictions\n",
    "\n",
    "AVG and Median probability for every personality trait Per Genre, <br>\n",
    "followed by bar chart and box plot (for each trait)\n"
   ]
  },
  {
   "cell_type": "code",
   "execution_count": 16,
   "metadata": {},
   "outputs": [],
   "source": [
    "import matplotlib.pyplot as plt\n",
    "import numpy as np\n",
    "\n",
    "\n",
    "def plot_bars_for_high_trait_probability(means: list[float], medians: list[float], trait: str):\n",
    "    labels = [\"Metal\", \"Classical\", \"Electronic\", \"HipHop\", \"Indie\"]\n",
    "    x = np.arange(len(labels))\n",
    "    width = 0.35\n",
    "\n",
    "    fig, ax = plt.subplots()\n",
    "    rects1 = ax.bar(x - width / 2, means, width, label=\"Mean\")\n",
    "    rects2 = ax.bar(x + width / 2, medians, width, label=\"Median\")\n",
    "\n",
    "    ax.set_ylabel(\"Scores\")\n",
    "    ax.set_title(f\"Probability For High {trait}\")\n",
    "    ax.set_xticks(x)\n",
    "    ax.set_xticklabels(labels)\n",
    "    ax.legend()\n",
    "\n",
    "    def autolabel(rects):\n",
    "        for rect in rects:\n",
    "            height = rect.get_height()\n",
    "            ax.annotate(\n",
    "                \"{:.3f}\".format(height),\n",
    "                xy=(rect.get_x() + rect.get_width() / 2, height / 2),\n",
    "                xytext=(0, 0),  # no offset\n",
    "                textcoords=\"offset points\",\n",
    "                ha=\"center\",\n",
    "                va=\"center\",\n",
    "                rotation=90,\n",
    "            )\n",
    "    autolabel(rects1)\n",
    "    autolabel(rects2)\n",
    "    fig.tight_layout()\n",
    "    plt.show()"
   ]
  },
  {
   "cell_type": "code",
   "execution_count": 17,
   "metadata": {},
   "outputs": [],
   "source": [
    "import pandas as pd\n",
    "import matplotlib.pyplot as plt\n",
    "\n",
    "\n",
    "def draw_proba_box_plot(class_name: str):\n",
    "    plt.figure(figsize=(12, 6))\n",
    "\n",
    "    bp = plt.boxplot(\n",
    "        [df[df[\"community\"] == c][class_name] for c in df[\"community\"].unique()],\n",
    "        notch=True,\n",
    "        vert=False,\n",
    "        labels=df[\"community\"].unique(),\n",
    "        patch_artist=True,\n",
    "    )\n",
    "\n",
    "    for box, color in zip(\n",
    "        bp[\"boxes\"], [\"skyblue\", \"lightgreen\", \"orange\", \"pink\", \"purple\"]\n",
    "    ):\n",
    "        box.set_facecolor(color)\n",
    "\n",
    "    plt.xlabel(class_name)\n",
    "    plt.ylabel(\"Community\")\n",
    "    plt.title(f\"Box Plots of {class_name} by Community by: `intfloat/e5-large-v2`\")\n",
    "    plt.xticks(rotation=45, ha=\"right\")\n",
    "    plt.grid(axis=\"y\", linestyle=\"--\", alpha=0.7)\n",
    "    plt.tight_layout()\n",
    "    plt.show()"
   ]
  },
  {
   "cell_type": "code",
   "execution_count": 18,
   "metadata": {},
   "outputs": [
    {
     "name": "stdout",
     "output_type": "stream",
     "text": [
      "opn statistics:\n",
      "Mean values:\n",
      "community\n",
      "Metal              0.437629\n",
      "classicalmusic     0.444930\n",
      "electronicmusic    0.443111\n",
      "hiphopheads        0.418848\n",
      "indieheads         0.439702\n",
      "Name: proba_for_high_opn, dtype: float64\n",
      "\n",
      "Median values:\n",
      "community\n",
      "Metal              0.433077\n",
      "classicalmusic     0.439991\n",
      "electronicmusic    0.435327\n",
      "hiphopheads        0.414559\n",
      "indieheads         0.434058\n",
      "Name: proba_for_high_opn, dtype: float64\n"
     ]
    },
    {
     "data": {
      "image/png": "[encoded data removed]",
      "text/plain": [
       "<Figure size 640x480 with 1 Axes>"
      ]
     },
     "metadata": {},
     "output_type": "display_data"
    },
    {
     "data": {
      "image/png": "[encoded data removed]",
      "text/plain": [
       "<Figure size 1200x600 with 1 Axes>"
      ]
     },
     "metadata": {},
     "output_type": "display_data"
    },
    {
     "name": "stdout",
     "output_type": "stream",
     "text": [
      "ext statistics:\n",
      "Mean values:\n",
      "community\n",
      "Metal              0.508919\n",
      "classicalmusic     0.480231\n",
      "electronicmusic    0.524614\n",
      "hiphopheads        0.522556\n",
      "indieheads         0.511897\n",
      "Name: proba_for_high_ext, dtype: float64\n",
      "\n",
      "Median values:\n",
      "community\n",
      "Metal              0.510583\n",
      "classicalmusic     0.480781\n",
      "electronicmusic    0.523318\n",
      "hiphopheads        0.523584\n",
      "indieheads         0.513194\n",
      "Name: proba_for_high_ext, dtype: float64\n"
     ]
    },
    {
     "data": {
      "image/png": "[encoded data removed]",
      "text/plain": [
       "<Figure size 640x480 with 1 Axes>"
      ]
     },
     "metadata": {},
     "output_type": "display_data"
    },
    {
     "data": {
      "image/png": "[encoded data removed]",
      "text/plain": [
       "<Figure size 1200x600 with 1 Axes>"
      ]
     },
     "metadata": {},
     "output_type": "display_data"
    }
   ],
   "source": [
    "for trait in traits_and_models.keys():\n",
    "    print(f\"{trait} statistics:\")\n",
    "    column_name = f\"proba_for_high_{trait}\"\n",
    "    mean_values = df.groupby(\"community\")[column_name].mean()\n",
    "    median_values = df.groupby(\"community\")[column_name].median()\n",
    "    print(\"Mean values:\")\n",
    "    print(mean_values)\n",
    "    print(\"\\nMedian values:\")\n",
    "    print(median_values)\n",
    "    plot_bars_for_high_trait_probability(mean_values, median_values, trait)\n",
    "    draw_proba_box_plot(column_name)"
   ]
  },
  {
   "cell_type": "code",
   "execution_count": 19,
   "metadata": {},
   "outputs": [
    {
     "name": "stdout",
     "output_type": "stream",
     "text": [
      "Example of the dataframe we have now:\n"
     ]
    },
    {
     "data": {
      "text/html": [
       "<div>\n",
       "<style scoped>\n",
       "    .dataframe tbody tr th:only-of-type {\n",
       "        vertical-align: middle;\n",
       "    }\n",
       "\n",
       "    .dataframe tbody tr th {\n",
       "        vertical-align: top;\n",
       "    }\n",
       "\n",
       "    .dataframe thead th {\n",
       "        text-align: right;\n",
       "    }\n",
       "</style>\n",
       "<table border=\"1\" class=\"dataframe\">\n",
       "  <thead>\n",
       "    <tr style=\"text-align: right;\">\n",
       "      <th></th>\n",
       "      <th>community</th>\n",
       "      <th>user_name</th>\n",
       "      <th>#_of_long_texts</th>\n",
       "      <th>proba_for_high_opn</th>\n",
       "      <th>proba_for_high_ext</th>\n",
       "    </tr>\n",
       "  </thead>\n",
       "  <tbody>\n",
       "    <tr>\n",
       "      <th>0</th>\n",
       "      <td>classicalmusic</td>\n",
       "      <td>Radaxen</td>\n",
       "      <td>339</td>\n",
       "      <td>0.423429</td>\n",
       "      <td>0.471958</td>\n",
       "    </tr>\n",
       "    <tr>\n",
       "      <th>339</th>\n",
       "      <td>classicalmusic</td>\n",
       "      <td>diskoalafied</td>\n",
       "      <td>52</td>\n",
       "      <td>0.441590</td>\n",
       "      <td>0.413815</td>\n",
       "    </tr>\n",
       "    <tr>\n",
       "      <th>391</th>\n",
       "      <td>classicalmusic</td>\n",
       "      <td>MantisTobogan-MD</td>\n",
       "      <td>176</td>\n",
       "      <td>0.501400</td>\n",
       "      <td>0.488187</td>\n",
       "    </tr>\n",
       "    <tr>\n",
       "      <th>566</th>\n",
       "      <td>classicalmusic</td>\n",
       "      <td>Sommiel</td>\n",
       "      <td>43</td>\n",
       "      <td>0.446392</td>\n",
       "      <td>0.505100</td>\n",
       "    </tr>\n",
       "    <tr>\n",
       "      <th>609</th>\n",
       "      <td>classicalmusic</td>\n",
       "      <td>Dangerous_Number_642</td>\n",
       "      <td>20</td>\n",
       "      <td>0.494970</td>\n",
       "      <td>0.464831</td>\n",
       "    </tr>\n",
       "  </tbody>\n",
       "</table>\n",
       "</div>"
      ],
      "text/plain": [
       "          community             user_name #_of_long_texts  proba_for_high_opn  \\\n",
       "0    classicalmusic               Radaxen             339            0.423429   \n",
       "339  classicalmusic          diskoalafied              52            0.441590   \n",
       "391  classicalmusic      MantisTobogan-MD             176            0.501400   \n",
       "566  classicalmusic               Sommiel              43            0.446392   \n",
       "609  classicalmusic  Dangerous_Number_642              20            0.494970   \n",
       "\n",
       "     proba_for_high_ext  \n",
       "0              0.471958  \n",
       "339            0.413815  \n",
       "391            0.488187  \n",
       "566            0.505100  \n",
       "609            0.464831  "
      ]
     },
     "execution_count": 19,
     "metadata": {},
     "output_type": "execute_result"
    }
   ],
   "source": [
    "print(\"Example of the dataframe we have now:\")\n",
    "df.head()"
   ]
  },
  {
   "cell_type": "markdown",
   "metadata": {},
   "source": [
    "## (5) Statistical Tests\n"
   ]
  },
  {
   "cell_type": "code",
   "execution_count": 20,
   "metadata": {},
   "outputs": [],
   "source": [
    "# Preps\n",
    "group_names = [\"classical\", \"electronic\", \"hiphop\", \"indie\", \"metal\"]\n",
    "classicalmusic_df = df[df[\"community\"] == \"classicalmusic\"]\n",
    "electronicmusic_df = df[df[\"community\"] == \"electronicmusic\"]\n",
    "hiphopheads_df = df[df[\"community\"] == \"hiphopheads\"]\n",
    "indieheads_df = df[df[\"community\"] == \"indieheads\"]\n",
    "metal_df = df[df[\"community\"] == \"Metal\"]"
   ]
  },
  {
   "cell_type": "markdown",
   "metadata": {},
   "source": [
    "### 5.1 ANOVA\n",
    "\n",
    "Now that we have ~1K of probability-for-openness score per musical genre community, <br>\n",
    "we want to understand how significant are the differences between the groups' scores. To do so, we will use the ANOVA test. <br>\n",
    "ANOVA compares the variance between-groups means to the variance within-groups. If the variance between-groups is larger than the within-groups, it suggests that there are differences in means among the groups.\n"
   ]
  },
  {
   "cell_type": "code",
   "execution_count": 21,
   "metadata": {},
   "outputs": [
    {
     "name": "stdout",
     "output_type": "stream",
     "text": [
      "[opn] | F-value: 82.7337820365974\n",
      "[opn] | P-value: 5.730209044728592e-68 which is 0.0000000000 when taking only the 10 first digits after the decimal point\n",
      "[ext] | F-value: 258.37967195156705\n",
      "[ext] | P-value: 7.185767178763123e-201 which is 0.0000000000 when taking only the 10 first digits after the decimal point\n"
     ]
    }
   ],
   "source": [
    "import scipy.stats as stats\n",
    "\n",
    "for trait in traits_and_models.keys():\n",
    "    column_name = f\"proba_for_high_{trait}\"\n",
    "    data = [\n",
    "        classicalmusic_df[column_name],\n",
    "        electronicmusic_df[column_name],\n",
    "        hiphopheads_df[column_name],\n",
    "        indieheads_df[column_name],\n",
    "        metal_df[column_name],\n",
    "    ]\n",
    "    fvalue, pvalue = stats.f_oneway(*data)\n",
    "    print(f\"[{trait}] | F-value:\", fvalue)\n",
    "    print(\n",
    "        f\"[{trait}] | P-value: {pvalue} which is {format(pvalue, '.10f')} when taking only the 10 first digits after the decimal point\"\n",
    "    )"
   ]
  },
  {
   "cell_type": "markdown",
   "metadata": {},
   "source": [
    "### 5.2 T-Test & Cohen's D Test\n",
    "\n",
    "**T-Test**: The T-Test is a statistical hypothesis test where the test statistic follows a score's t-distribution under the null hypothesis. It is used to determine whether there is a significant difference between the means of two groups. <br>\n",
    "\n",
    "**Cohen's d**: Cohen's D is an effect size used to indicate the standardized difference between two means. It's often used in the analysis of t-tests and is considered a good measure of effect size for these tests. It's defined as the difference between two means divided by a standard deviation for the data.\n",
    "\n",
    "_Note_: A D value of 0.2 is considered a 'small' effect size, 0.5 represents a 'medium' effect size and 0.8 a 'large' effect size. This is just a rule of thumb. The interpretation of d depends on the context.\n"
   ]
  },
  {
   "cell_type": "code",
   "execution_count": 24,
   "metadata": {},
   "outputs": [],
   "source": [
    "from scipy import stats\n",
    "import pingouin as pg\n",
    "from tabulate import tabulate\n",
    "from IPython.display import display, HTML\n",
    "\n",
    "\n",
    "def calculate_cohens_d_and_t_test(data, group_names, second_part_title):\n",
    "    results = []\n",
    "\n",
    "    for i in range(len(data)):\n",
    "        for j in range(i + 1, len(data)):\n",
    "            t_stat, p_val = stats.ttest_ind(data[i], data[j])\n",
    "            effect_size = pg.compute_effsize(data[i], data[j])\n",
    "\n",
    "            # Append the results to the list just for nice tabular representation\n",
    "            results.append(\n",
    "                [\n",
    "                    group_names[i],\n",
    "                    group_names[j],\n",
    "                    len(data[i]),\n",
    "                    len(data[j]),\n",
    "                    format(t_stat, \".10f\"),\n",
    "                    format(p_val, \".10f\"),\n",
    "                    format(effect_size, \".10f\"),\n",
    "                ]\n",
    "            )\n",
    "\n",
    "    table_headers = [\n",
    "        \"Genre 1\",\n",
    "        \"Genre 2\",\n",
    "        \"Genre 1 # Of Samples\",\n",
    "        \"Genre 2 # Of Samples\",\n",
    "        \"t-statistic\",\n",
    "        \"p-value\",\n",
    "        \"Effect Size\",\n",
    "    ]\n",
    "    table = tabulate(results, headers=table_headers, tablefmt=\"fancy_grid\")\n",
    "    display(\n",
    "        HTML(\n",
    "            f\"<h1 style='font-size: 50px;'>T & Cohen's D Tests | {second_part_title} </h1>\"\n",
    "        )\n",
    "    )\n",
    "    print(table)\n",
    "\n",
    "\n",
    "def filter_data_and_print_stats(\n",
    "    min_posts, column_name, title_suffix\n",
    "):\n",
    "    data = [\n",
    "        classicalmusic_df[\n",
    "            classicalmusic_df[\"#_of_long_texts\"].astype(int) >= min_posts\n",
    "        ][column_name],\n",
    "        electronicmusic_df[\n",
    "            electronicmusic_df[\"#_of_long_texts\"].astype(int) >= min_posts\n",
    "        ][column_name],\n",
    "        hiphopheads_df[hiphopheads_df[\"#_of_long_texts\"].astype(int) >= min_posts][\n",
    "            column_name\n",
    "        ],\n",
    "        indieheads_df[indieheads_df[\"#_of_long_texts\"].astype(int) >= min_posts][\n",
    "            column_name\n",
    "        ],\n",
    "        metal_df[metal_df[\"#_of_long_texts\"].astype(int) >= min_posts][column_name],\n",
    "    ]\n",
    "    title = f\"{min_posts} =< Users' long posts {title_suffix}\"\n",
    "    calculate_cohens_d_and_t_test(data, group_names, title)"
   ]
  },
  {
   "cell_type": "code",
   "execution_count": 25,
   "metadata": {},
   "outputs": [
    {
     "data": {
      "text/html": [
       "<h1 style='font-size: 50px;'>T & Cohen's D Tests | 10 =< Users' long posts | opn </h1>"
      ],
      "text/plain": [
       "<IPython.core.display.HTML object>"
      ]
     },
     "metadata": {},
     "output_type": "display_data"
    },
    {
     "name": "stdout",
     "output_type": "stream",
     "text": [
      "╒════════════╤════════════╤════════════════════════╤════════════════════════╤═══════════════╤═════════════╤═══════════════╕\n",
      "│ Genre 1    │ Genre 2    │   Genre 1 # Of Samples │   Genre 2 # Of Samples │   t-statistic │     p-value │   Effect Size │\n",
      "╞════════════╪════════════╪════════════════════════╪════════════════════════╪═══════════════╪═════════════╪═══════════════╡\n",
      "│ classical  │ electronic │                    870 │                    700 │      3.53578  │ 0.000418402 │    0.179525   │\n",
      "├────────────┼────────────┼────────────────────────┼────────────────────────┼───────────────┼─────────────┼───────────────┤\n",
      "│ classical  │ hiphop     │                    870 │                    912 │     19.8564   │ 0           │    0.941015   │\n",
      "├────────────┼────────────┼────────────────────────┼────────────────────────┼───────────────┼─────────────┼───────────────┤\n",
      "│ classical  │ indie      │                    870 │                    692 │      5.98211  │ 2.7e-09     │    0.304707   │\n",
      "├────────────┼────────────┼────────────────────────┼────────────────────────┼───────────────┼─────────────┼───────────────┤\n",
      "│ classical  │ metal      │                    870 │                    784 │      6.21551  │ 6e-10       │    0.306074   │\n",
      "├────────────┼────────────┼────────────────────────┼────────────────────────┼───────────────┼─────────────┼───────────────┤\n",
      "│ electronic │ hiphop     │                    700 │                    912 │     13.745    │ 0           │    0.690686   │\n",
      "├────────────┼────────────┼────────────────────────┼────────────────────────┼───────────────┼─────────────┼───────────────┤\n",
      "│ electronic │ indie      │                    700 │                    692 │      2.10439  │ 0.035524    │    0.112809   │\n",
      "├────────────┼────────────┼────────────────────────┼────────────────────────┼───────────────┼─────────────┼───────────────┤\n",
      "│ electronic │ metal      │                    700 │                    784 │      2.10199  │ 0.0357222   │    0.109305   │\n",
      "├────────────┼────────────┼────────────────────────┼────────────────────────┼───────────────┼─────────────┼───────────────┤\n",
      "│ hiphop     │ indie      │                    912 │                    692 │    -11.4812   │ 0           │   -0.578812   │\n",
      "├────────────┼────────────┼────────────────────────┼────────────────────────┼───────────────┼─────────────┼───────────────┤\n",
      "│ hiphop     │ metal      │                    912 │                    784 │    -12.4056   │ 0           │   -0.604192   │\n",
      "├────────────┼────────────┼────────────────────────┼────────────────────────┼───────────────┼─────────────┼───────────────┤\n",
      "│ indie      │ metal      │                    692 │                    784 │     -0.142987 │ 0.88632     │   -0.00745811 │\n",
      "╘════════════╧════════════╧════════════════════════╧════════════════════════╧═══════════════╧═════════════╧═══════════════╛\n"
     ]
    },
    {
     "data": {
      "text/html": [
       "<h1 style='font-size: 50px;'>T & Cohen's D Tests | 50 =< Users' long posts | opn </h1>"
      ],
      "text/plain": [
       "<IPython.core.display.HTML object>"
      ]
     },
     "metadata": {},
     "output_type": "display_data"
    },
    {
     "name": "stdout",
     "output_type": "stream",
     "text": [
      "╒════════════╤════════════╤════════════════════════╤════════════════════════╤═══════════════╤═══════════╤═══════════════╕\n",
      "│ Genre 1    │ Genre 2    │   Genre 1 # Of Samples │   Genre 2 # Of Samples │   t-statistic │   p-value │   Effect Size │\n",
      "╞════════════╪════════════╪════════════════════════╪════════════════════════╪═══════════════╪═══════════╪═══════════════╡\n",
      "│ classical  │ electronic │                    695 │                    478 │       5.12146 │ 3.542e-07 │     0.304324  │\n",
      "├────────────┼────────────┼────────────────────────┼────────────────────────┼───────────────┼───────────┼───────────────┤\n",
      "│ classical  │ hiphop     │                    695 │                    659 │      19.7651  │ 0         │     1.07467   │\n",
      "├────────────┼────────────┼────────────────────────┼────────────────────────┼───────────────┼───────────┼───────────────┤\n",
      "│ classical  │ indie      │                    695 │                    447 │       8.36556 │ 0         │     0.507203  │\n",
      "├────────────┼────────────┼────────────────────────┼────────────────────────┼───────────────┼───────────┼───────────────┤\n",
      "│ classical  │ metal      │                    695 │                    523 │       6.89597 │ 0         │     0.399186  │\n",
      "├────────────┼────────────┼────────────────────────┼────────────────────────┼───────────────┼───────────┼───────────────┤\n",
      "│ electronic │ hiphop     │                    478 │                    659 │      12.062   │ 0         │     0.724673  │\n",
      "├────────────┼────────────┼────────────────────────┼────────────────────────┼───────────────┼───────────┼───────────────┤\n",
      "│ electronic │ indie      │                    478 │                    447 │       2.87496 │ 0.0041336 │     0.189163  │\n",
      "├────────────┼────────────┼────────────────────────┼────────────────────────┼───────────────┼───────────┼───────────────┤\n",
      "│ electronic │ metal      │                    478 │                    523 │       1.24452 │ 0.213599  │     0.0787509 │\n",
      "├────────────┼────────────┼────────────────────────┼────────────────────────┼───────────────┼───────────┼───────────────┤\n",
      "│ hiphop     │ indie      │                    659 │                    447 │      -8.69808 │ 0         │    -0.532972  │\n",
      "├────────────┼────────────┼────────────────────────┼────────────────────────┼───────────────┼───────────┼───────────────┤\n",
      "│ hiphop     │ metal      │                    659 │                    523 │     -11.5172  │ 0         │    -0.674471  │\n",
      "├────────────┼────────────┼────────────────────────┼────────────────────────┼───────────────┼───────────┼───────────────┤\n",
      "│ indie      │ metal      │                    447 │                    523 │      -1.84772 │ 0.0649483 │    -0.119019  │\n",
      "╘════════════╧════════════╧════════════════════════╧════════════════════════╧═══════════════╧═══════════╧═══════════════╛\n"
     ]
    },
    {
     "data": {
      "text/html": [
       "<h1 style='font-size: 50px;'>T & Cohen's D Tests | 100 =< Users' long posts | opn </h1>"
      ],
      "text/plain": [
       "<IPython.core.display.HTML object>"
      ]
     },
     "metadata": {},
     "output_type": "display_data"
    },
    {
     "name": "stdout",
     "output_type": "stream",
     "text": [
      "╒════════════╤════════════╤════════════════════════╤════════════════════════╤═══════════════╤════════════╤═══════════════╕\n",
      "│ Genre 1    │ Genre 2    │   Genre 1 # Of Samples │   Genre 2 # Of Samples │   t-statistic │    p-value │   Effect Size │\n",
      "╞════════════╪════════════╪════════════════════════╪════════════════════════╪═══════════════╪════════════╪═══════════════╡\n",
      "│ classical  │ electronic │                    549 │                    336 │       4.84816 │ 1.4721e-06 │     0.335809  │\n",
      "├────────────┼────────────┼────────────────────────┼────────────────────────┼───────────────┼────────────┼───────────────┤\n",
      "│ classical  │ hiphop     │                    549 │                    440 │      17.4158  │ 0          │     1.11437   │\n",
      "├────────────┼────────────┼────────────────────────┼────────────────────────┼───────────────┼────────────┼───────────────┤\n",
      "│ classical  │ indie      │                    549 │                    306 │       7.91942 │ 0          │     0.564975  │\n",
      "├────────────┼────────────┼────────────────────────┼────────────────────────┼───────────────┼────────────┼───────────────┤\n",
      "│ classical  │ metal      │                    549 │                    341 │       6.2775  │ 5e-10      │     0.432831  │\n",
      "├────────────┼────────────┼────────────────────────┼────────────────────────┼───────────────┼────────────┼───────────────┤\n",
      "│ electronic │ hiphop     │                    336 │                    440 │      10.2062  │ 0          │     0.739434  │\n",
      "├────────────┼────────────┼────────────────────────┼────────────────────────┼───────────────┼────────────┼───────────────┤\n",
      "│ electronic │ indie      │                    336 │                    306 │       2.71282 │ 0.00685075 │     0.214367  │\n",
      "├────────────┼────────────┼────────────────────────┼────────────────────────┼───────────────┼────────────┼───────────────┤\n",
      "│ electronic │ metal      │                    336 │                    341 │       1.10498 │ 0.269561   │     0.0849381 │\n",
      "├────────────┼────────────┼────────────────────────┼────────────────────────┼───────────────┼────────────┼───────────────┤\n",
      "│ hiphop     │ indie      │                    440 │                    306 │      -7.04102 │ 0          │    -0.524104  │\n",
      "├────────────┼────────────┼────────────────────────┼────────────────────────┼───────────────┼────────────┼───────────────┤\n",
      "│ hiphop     │ metal      │                    440 │                    341 │      -9.32599 │ 0          │    -0.672848  │\n",
      "├────────────┼────────────┼────────────────────────┼────────────────────────┼───────────────┼────────────┼───────────────┤\n",
      "│ indie      │ metal      │                    306 │                    341 │      -1.71762 │ 0.0863451  │    -0.135252  │\n",
      "╘════════════╧════════════╧════════════════════════╧════════════════════════╧═══════════════╧════════════╧═══════════════╛\n"
     ]
    },
    {
     "data": {
      "text/html": [
       "<h1 style='font-size: 50px;'>T & Cohen's D Tests | 10 =< Users' long posts | ext </h1>"
      ],
      "text/plain": [
       "<IPython.core.display.HTML object>"
      ]
     },
     "metadata": {},
     "output_type": "display_data"
    },
    {
     "name": "stdout",
     "output_type": "stream",
     "text": [
      "╒════════════╤════════════╤════════════════════════╤════════════════════════╤═══════════════╤═══════════╤═══════════════╕\n",
      "│ Genre 1    │ Genre 2    │   Genre 1 # Of Samples │   Genre 2 # Of Samples │   t-statistic │   p-value │   Effect Size │\n",
      "╞════════════╪════════════╪════════════════════════╪════════════════════════╪═══════════════╪═══════════╪═══════════════╡\n",
      "│ classical  │ electronic │                    870 │                    700 │    -29.0617   │  0        │    -1.47558   │\n",
      "├────────────┼────────────┼────────────────────────┼────────────────────────┼───────────────┼───────────┼───────────────┤\n",
      "│ classical  │ hiphop     │                    870 │                    912 │    -31.8243   │  0        │    -1.50819   │\n",
      "├────────────┼────────────┼────────────────────────┼────────────────────────┼───────────────┼───────────┼───────────────┤\n",
      "│ classical  │ indie      │                    870 │                    692 │    -19.3582   │  0        │    -0.986035  │\n",
      "├────────────┼────────────┼────────────────────────┼────────────────────────┼───────────────┼───────────┼───────────────┤\n",
      "│ classical  │ metal      │                    870 │                    784 │    -19.9936   │  0        │    -0.984556  │\n",
      "├────────────┼────────────┼────────────────────────┼────────────────────────┼───────────────┼───────────┼───────────────┤\n",
      "│ electronic │ hiphop     │                    700 │                    912 │      0.362601 │  0.716951 │     0.0182207 │\n",
      "├────────────┼────────────┼────────────────────────┼────────────────────────┼───────────────┼───────────┼───────────────┤\n",
      "│ electronic │ indie      │                    700 │                    692 │      8.27771  │  0        │     0.443739  │\n",
      "├────────────┼────────────┼────────────────────────┼────────────────────────┼───────────────┼───────────┼───────────────┤\n",
      "│ electronic │ metal      │                    700 │                    784 │      9.74273  │  0        │     0.50663   │\n",
      "├────────────┼────────────┼────────────────────────┼────────────────────────┼───────────────┼───────────┼───────────────┤\n",
      "│ hiphop     │ indie      │                    912 │                    692 │      8.76828  │  0        │     0.442045  │\n",
      "├────────────┼────────────┼────────────────────────┼────────────────────────┼───────────────┼───────────┼───────────────┤\n",
      "│ hiphop     │ metal      │                    912 │                    784 │     10.3447   │  0        │     0.50382   │\n",
      "├────────────┼────────────┼────────────────────────┼────────────────────────┼───────────────┼───────────┼───────────────┤\n",
      "│ indie      │ metal      │                    692 │                    784 │      0.766143 │  0.443714 │     0.0399615 │\n",
      "╘════════════╧════════════╧════════════════════════╧════════════════════════╧═══════════════╧═══════════╧═══════════════╛\n"
     ]
    },
    {
     "data": {
      "text/html": [
       "<h1 style='font-size: 50px;'>T & Cohen's D Tests | 50 =< Users' long posts | ext </h1>"
      ],
      "text/plain": [
       "<IPython.core.display.HTML object>"
      ]
     },
     "metadata": {},
     "output_type": "display_data"
    },
    {
     "name": "stdout",
     "output_type": "stream",
     "text": [
      "╒════════════╤════════════╤════════════════════════╤════════════════════════╤═══════════════╤═══════════╤═══════════════╕\n",
      "│ Genre 1    │ Genre 2    │   Genre 1 # Of Samples │   Genre 2 # Of Samples │   t-statistic │   p-value │   Effect Size │\n",
      "╞════════════╪════════════╪════════════════════════╪════════════════════════╪═══════════════╪═══════════╪═══════════════╡\n",
      "│ classical  │ electronic │                    695 │                    478 │    -25.5225   │  0        │    -1.51658   │\n",
      "├────────────┼────────────┼────────────────────────┼────────────────────────┼───────────────┼───────────┼───────────────┤\n",
      "│ classical  │ hiphop     │                    695 │                    659 │    -28.288    │  0        │    -1.53807   │\n",
      "├────────────┼────────────┼────────────────────────┼────────────────────────┼───────────────┼───────────┼───────────────┤\n",
      "│ classical  │ indie      │                    695 │                    447 │    -16.9923   │  0        │    -1.03024   │\n",
      "├────────────┼────────────┼────────────────────────┼────────────────────────┼───────────────┼───────────┼───────────────┤\n",
      "│ classical  │ metal      │                    695 │                    523 │    -17.6628   │  0        │    -1.02245   │\n",
      "├────────────┼────────────┼────────────────────────┼────────────────────────┼───────────────┼───────────┼───────────────┤\n",
      "│ electronic │ hiphop     │                    478 │                    659 │      0.383852 │  0.70116  │     0.0230615 │\n",
      "├────────────┼────────────┼────────────────────────┼────────────────────────┼───────────────┼───────────┼───────────────┤\n",
      "│ electronic │ indie      │                    478 │                    447 │      7.49047  │  0        │     0.492847  │\n",
      "├────────────┼────────────┼────────────────────────┼────────────────────────┼───────────────┼───────────┼───────────────┤\n",
      "│ electronic │ metal      │                    478 │                    523 │      8.23959  │  0        │     0.521384  │\n",
      "├────────────┼────────────┼────────────────────────┼────────────────────────┼───────────────┼───────────┼───────────────┤\n",
      "│ hiphop     │ indie      │                    659 │                    447 │      7.83416  │  0        │     0.480036  │\n",
      "├────────────┼────────────┼────────────────────────┼────────────────────────┼───────────────┼───────────┼───────────────┤\n",
      "│ hiphop     │ metal      │                    659 │                    523 │      8.67341  │  0        │     0.507932  │\n",
      "├────────────┼────────────┼────────────────────────┼────────────────────────┼───────────────┼───────────┼───────────────┤\n",
      "│ indie      │ metal      │                    447 │                    523 │      0.36662  │  0.713983 │     0.0236155 │\n",
      "╘════════════╧════════════╧════════════════════════╧════════════════════════╧═══════════════╧═══════════╧═══════════════╛\n"
     ]
    },
    {
     "data": {
      "text/html": [
       "<h1 style='font-size: 50px;'>T & Cohen's D Tests | 100 =< Users' long posts | ext </h1>"
      ],
      "text/plain": [
       "<IPython.core.display.HTML object>"
      ]
     },
     "metadata": {},
     "output_type": "display_data"
    },
    {
     "name": "stdout",
     "output_type": "stream",
     "text": [
      "╒════════════╤════════════╤════════════════════════╤════════════════════════╤═══════════════╤═══════════╤═══════════════╕\n",
      "│ Genre 1    │ Genre 2    │   Genre 1 # Of Samples │   Genre 2 # Of Samples │   t-statistic │   p-value │   Effect Size │\n",
      "╞════════════╪════════════╪════════════════════════╪════════════════════════╪═══════════════╪═══════════╪═══════════════╡\n",
      "│ classical  │ electronic │                    549 │                    336 │    -21.8877   │  0        │    -1.51606   │\n",
      "├────────────┼────────────┼────────────────────────┼────────────────────────┼───────────────┼───────────┼───────────────┤\n",
      "│ classical  │ hiphop     │                    549 │                    440 │    -23.6221   │  0        │    -1.51149   │\n",
      "├────────────┼────────────┼────────────────────────┼────────────────────────┼───────────────┼───────────┼───────────────┤\n",
      "│ classical  │ indie      │                    549 │                    306 │    -14.5501   │  0        │    -1.03801   │\n",
      "├────────────┼────────────┼────────────────────────┼────────────────────────┼───────────────┼───────────┼───────────────┤\n",
      "│ classical  │ metal      │                    549 │                    341 │    -14.3404   │  0        │    -0.988762  │\n",
      "├────────────┼────────────┼────────────────────────┼────────────────────────┼───────────────┼───────────┼───────────────┤\n",
      "│ electronic │ hiphop     │                    336 │                    440 │      0.743692 │  0.457288 │     0.0538801 │\n",
      "├────────────┼────────────┼────────────────────────┼────────────────────────┼───────────────┼───────────┼───────────────┤\n",
      "│ electronic │ indie      │                    336 │                    306 │      6.19071  │  1.1e-09  │     0.48919   │\n",
      "├────────────┼────────────┼────────────────────────┼────────────────────────┼───────────────┼───────────┼───────────────┤\n",
      "│ electronic │ metal      │                    336 │                    341 │      7.21841  │  0        │     0.554867  │\n",
      "├────────────┼────────────┼────────────────────────┼────────────────────────┼───────────────┼───────────┼───────────────┤\n",
      "│ hiphop     │ indie      │                    440 │                    306 │      6.04668  │  2.3e-09  │     0.45009   │\n",
      "├────────────┼────────────┼────────────────────────┼────────────────────────┼───────────────┼───────────┼───────────────┤\n",
      "│ hiphop     │ metal      │                    440 │                    341 │      7.16265  │  0        │     0.516768  │\n",
      "├────────────┼────────────┼────────────────────────┼────────────────────────┼───────────────┼───────────┼───────────────┤\n",
      "│ indie      │ metal      │                    306 │                    341 │      0.777944 │  0.436888 │     0.0612579 │\n",
      "╘════════════╧════════════╧════════════════════════╧════════════════════════╧═══════════════╧═══════════╧═══════════════╛\n"
     ]
    }
   ],
   "source": [
    "for trait in traits_and_models.keys():\n",
    "    column_name = f\"proba_for_high_{trait}\"\n",
    "    filter_data_and_print_stats(10, column_name, f\"| {trait}\")\n",
    "    filter_data_and_print_stats(50, column_name, f\"| {trait}\")\n",
    "    filter_data_and_print_stats(100, column_name, f\"| {trait}\")"
   ]
  }
 ],
 "metadata": {
  "kernelspec": {
   "display_name": ".venv",
   "language": "python",
   "name": "python3"
  },
  "language_info": {
   "codemirror_mode": {
    "name": "ipython",
    "version": 3
   },
   "file_extension": ".py",
   "mimetype": "text/x-python",
   "name": "python",
   "nbconvert_exporter": "python",
   "pygments_lexer": "ipython3",
   "version": "3.11.7"
  }
 },
 "nbformat": 4,
 "nbformat_minor": 2
}
